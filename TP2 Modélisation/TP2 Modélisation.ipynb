{
 "cells": [
  {
   "cell_type": "markdown",
   "metadata": {},
   "source": [
    "# TP5 : Court-circuit triphasé d'un alternateur\n",
    "## Partie Manipulation\n",
    "\n",
    "**Auteurs:** Wadii Sougrati & Mohammed Amine Yousfi  \n",
    "**Date:** Mars 2025\n",
    "\n",
    "Ce notebook implémente la partie manipulation du TP2 sur le court-circuit triphasé d'un alternateur. L'objectif est de déterminer l'évolution temporelle des grandeurs d'un alternateur à rotor bobiné avec amortisseurs lors d'un court-circuit triphasé au stator."
   ]
  },
  {
   "cell_type": "code",
   "execution_count": null,
   "metadata": {},
   "outputs": [],
   "source": []
  },
  {
   "cell_type": "code",
   "execution_count": 14,
   "metadata": {},
   "outputs": [],
   "source": [
    "import numpy as np\n",
    "import sympy as sp\n",
    "import matplotlib.pyplot as plt\n",
    "from scipy import signal\n",
    "\n",
    "# Définition des symboles pour le calcul symbolique\n",
    "Rs, Ls, Rr, Lpr, Ra, Lpa, Mra, Msr, Msa, p = sp.symbols('R_s L_s R_r L_{pr} R_a L_{pa} M_{ra} M_{sr} M_{sa} p')\n",
    "\n",
    "# Valeurs numériques\n",
    "# Valeurs nominales\n",
    "Vsn = 230      # Tension nominale [V]\n",
    "fsn = 50       # Fréquence nominale [Hz]\n",
    "Isn = 15.0     # Courant nominal [A]\n",
    "Nn = 1500      # Vitesse nominale [tr/min]\n",
    "cos_phi = -0.8  # Facteur de puissance (convention générateur)\n",
    "\n",
    "# Valeurs des résistances et inductances\n",
    "Rs_val = 2.90e-1   # Résistance statorique [Ω]\n",
    "Ls_val = 4.96e-2   # Inductance cyclique statorique [H]\n",
    "Rr_val = 2.00      # Résistance rotorique [Ω]\n",
    "Lpr_val = 1.00     # Inductance propre rotorique [H]\n",
    "Ra_val = 1.80      # Résistance amortisseurs [Ω]\n",
    "Lpa_val = 2.00e-2  # Inductance propre amortisseurs [H]\n",
    "Mra_val = 1.40e-1  # Inductance mutuelle rotor/amortisseur d'axe d [H]\n",
    "Msr_val = 1.75e-1  # Inductance mutuelle stator/rotor [H]\n",
    "Msa_val = 2.50e-2  # Inductance mutuelle stator/amortisseurs [H]\n",
    "\n",
    "# Nombre de paires de pôles (pour une machine à 1500 tr/min à 50 Hz)\n",
    "p_poles = 2\n",
    "\n",
    "# Vitesse angulaire nominale\n",
    "Omega0 = 2*np.pi*fsn  # [rad/s]\n",
    "\n",
    "# Coefficient de frottement (pour le calcul du couple mécanique)\n",
    "f_coeff = 0.1"
   ]
  },
  {
   "cell_type": "markdown",
   "metadata": {},
   "source": [
    "1. Détermination du point de repos,"
   ]
  },
  {
   "cell_type": "code",
   "execution_count": 18,
   "metadata": {},
   "outputs": [
    {
     "name": "stdout",
     "output_type": "stream",
     "text": [
      "Matrice M(p) définie symboliquement\n",
      "Dimensions:  (5, 5)\n"
     ]
    },
    {
     "data": {
      "text/latex": [
       "$\\displaystyle \\left[\\begin{matrix}L_{s} p + R_{s} & - 314.159265358979 L_{s} & M_{sr} p & M_{sa} p & - 314.159265358979 M_{sa}\\\\314.159265358979 L_{s} & L_{s} p + R_{s} & 314.159265358979 M_{sr} & 314.159265358979 M_{sa} & M_{sa} p\\\\1.5 M_{sr} p & 0 & L_{pr} p + R_{r} & M_{ra} p & 0\\\\1.5 M_{sa} p & 0 & M_{ra} p & L_{pa} p + R_{a} & 0\\\\0 & 1.5 M_{sa} p & 0 & 0 & L_{pa} p + R_{a}\\end{matrix}\\right]$"
      ],
      "text/plain": [
       "Matrix([\n",
       "[         L_s*p + R_s, -314.159265358979*L_s,                M_{sr}*p,                M_{sa}*p, -314.159265358979*M_{sa}],\n",
       "[314.159265358979*L_s,           L_s*p + R_s, 314.159265358979*M_{sr}, 314.159265358979*M_{sa},                 M_{sa}*p],\n",
       "[        1.5*M_{sr}*p,                     0,          L_{pr}*p + R_r,                M_{ra}*p,                        0],\n",
       "[        1.5*M_{sa}*p,                     0,                M_{ra}*p,          L_{pa}*p + R_a,                        0],\n",
       "[                   0,          1.5*M_{sa}*p,                       0,                       0,           L_{pa}*p + R_a]])"
      ]
     },
     "metadata": {},
     "output_type": "display_data"
    }
   ],
   "source": [
    "# Définition de la matrice des résistances [R]\n",
    "R = sp.Matrix([\n",
    "    [Rs, 0, 0, 0, 0],\n",
    "    [0, Rs, 0, 0, 0],\n",
    "    [0, 0, Rr, 0, 0],\n",
    "    [0, 0, 0, Ra, 0],\n",
    "    [0, 0, 0, 0, Ra]\n",
    "])\n",
    "\n",
    "# Définition de la matrice des inductances [L]\n",
    "L = sp.Matrix([\n",
    "    [Ls, 0, Msr, Msa, 0],\n",
    "    [0, Ls, 0, 0, Msa],\n",
    "    [3/2*Msr, 0, Lpr, Mra, 0],\n",
    "    [3/2*Msa, 0, Mra, Lpa, 0],\n",
    "    [0, 3/2*Msa, 0, 0, Lpa]\n",
    "])\n",
    "\n",
    "# Définition de la matrice des pulsations [omega0]\n",
    "omega0 = sp.Matrix([\n",
    "    [0, -Omega0, 0, 0, 0],\n",
    "    [Omega0, 0, 0, 0, 0],\n",
    "    [0, 0, 0, 0, 0],\n",
    "    [0, 0, 0, 0, 0],\n",
    "    [0, 0, 0, 0, 0]\n",
    "])\n",
    "\n",
    "# Calcul de la matrice M(p) = R + omega0*L + p*L\n",
    "M_p = R + omega0 * L + p * L\n",
    "\n",
    "# Substitution des valeurs numériques\n",
    "M_p_num = M_p.subs({\n",
    "    Rs: Rs_val, \n",
    "    Ls: Ls_val, \n",
    "    Rr: Rr_val, \n",
    "    Lpr: Lpr_val, \n",
    "    Ra: Ra_val, \n",
    "    Lpa: Lpa_val, \n",
    "    Mra: Mra_val, \n",
    "    Msr: Msr_val, \n",
    "    Msa: Msa_val\n",
    "})\n",
    "\n",
    "print(\"Matrice M(p) définie symboliquement\")\n",
    "print(\"Dimensions: \", M_p.shape)\n",
    "display(M_p)"
   ]
  },
  {
   "cell_type": "code",
   "execution_count": 19,
   "metadata": {},
   "outputs": [
    {
     "data": {
      "text/latex": [
       "$\\displaystyle \\left[\\begin{matrix}0.0496 p + 0.29 & -15.5822995618054 & 0.175 p & 0.025 p & -7.85398163397448\\\\15.5822995618054 & 0.0496 p + 0.29 & 54.9778714378214 & 7.85398163397448 & 0.025 p\\\\0.2625 p & 0 & 1.0 p + 2.0 & 0.14 p & 0\\\\0.0375 p & 0 & 0.14 p & 0.02 p + 1.8 & 0\\\\0 & 0.0375 p & 0 & 0 & 0.02 p + 1.8\\end{matrix}\\right]$"
      ],
      "text/plain": [
       "Matrix([\n",
       "[ 0.0496*p + 0.29, -15.5822995618054,          0.175*p,          0.025*p, -7.85398163397448],\n",
       "[15.5822995618054,   0.0496*p + 0.29, 54.9778714378214, 7.85398163397448,           0.025*p],\n",
       "[        0.2625*p,                 0,      1.0*p + 2.0,           0.14*p,                 0],\n",
       "[        0.0375*p,                 0,           0.14*p,     0.02*p + 1.8,                 0],\n",
       "[               0,          0.0375*p,                0,                0,      0.02*p + 1.8]])"
      ]
     },
     "execution_count": 19,
     "metadata": {},
     "output_type": "execute_result"
    }
   ],
   "source": [
    "M_p_num"
   ]
  },
  {
   "cell_type": "markdown",
   "metadata": {},
   "source": [
    "2. Détermination de la matrice [M (p)] des variations,"
   ]
  },
  {
   "cell_type": "code",
   "execution_count": 27,
   "metadata": {},
   "outputs": [
    {
     "name": "stdout",
     "output_type": "stream",
     "text": [
      "Courants statoriques: Isd0 = 9.00 A, Isq0 = -12.00 A\n",
      "Tensions statoriques: Vsd0 = 189.60 V, Vsq0 = 136.76 V\n",
      "Amplitude de la tension statorique: Vs = 233.77 V\n",
      "Courant rotorique: Ir0 = -0.05 A\n",
      "Flux: Phisd0 = 0.4376 Wb, Phisq0 = -0.5952 Wb\n",
      "      Phir0 = 1.5250 Wb, Phid0 = 0.2180 Wb, Phiq0 = -0.3000 Wb\n",
      "Couple électromagnétique: Ce0 = 0.32 N.m\n",
      "Couple mécanique: Cm0 = 31.73 N.m\n",
      "\n"
     ]
    }
   ],
   "source": [
    "phi = np.arccos(cos_phi)  # [rad]\n",
    "\n",
    "# Calcul des courants statoriques en régime permanent\n",
    "Isd0 = Isn * np.sin(phi)\n",
    "Isq0 = Isn * np.cos(phi)\n",
    "\n",
    "# Calcul des tensions statoriques en régime permanent\n",
    "Vsd0 = Rs_val * Isd0 - Omega0 * Ls_val * Isq0\n",
    "Vsq0 = Rs_val * Isq0 + Omega0 * Ls_val * Isd0\n",
    "\n",
    "# Amplitude de la tension statorique\n",
    "Vs = np.sqrt(Vsd0**2 + Vsq0**2)\n",
    "\n",
    "# Calcul du courant rotorique en régime permanent\n",
    "# En régime permanent, le courant dans les amortisseurs est nul\n",
    "Id0 = 0\n",
    "Iq0 = 0\n",
    "\n",
    "# Pour le courant rotorique, on utilise les équations du régime permanent\n",
    "# Vr0 = Rr*Ir0 (tension constante)\n",
    "# Flux rotorique = Msr*Isd0 + Lr*Ir0 + Mra*Id0\n",
    "# On simplifie en supposant que Ir0 est faible\n",
    "Ir0 = -0.05  # Approximation\n",
    "\n",
    "# Calcul des flux en régime permanent\n",
    "Phisd0 = Ls_val * Isd0 + Msr_val * Ir0 + Msa_val * Id0\n",
    "Phisq0 = Ls_val * Isq0 + Msa_val * Iq0\n",
    "Phir0 = Msr_val * Isd0 + Lpr_val * Ir0 + Mra_val * Id0\n",
    "Phid0 = Msa_val * Isd0 + Mra_val * Ir0 + Lpa_val * Id0\n",
    "Phiq0 = Msa_val * Isq0 + Lpa_val * Iq0\n",
    "\n",
    "# Calcul du couple électromagnétique en régime permanent\n",
    "Ce0 = 1.5 * p_poles * ((Phisd0 * Isq0) - (Phisq0 * Isd0))\n",
    "\n",
    "# Calcul du couple mécanique en régime permanent\n",
    "Cm0 = Ce0 + f_coeff * Omega0\n",
    "\n",
    "# Affichage des résultats\n",
    "print(f\"Courants statoriques: Isd0 = {Isd0:.2f} A, Isq0 = {Isq0:.2f} A\")\n",
    "print(f\"Tensions statoriques: Vsd0 = {Vsd0:.2f} V, Vsq0 = {Vsq0:.2f} V\")\n",
    "print(f\"Amplitude de la tension statorique: Vs = {Vs:.2f} V\")\n",
    "print(f\"Courant rotorique: Ir0 = {Ir0:.2f} A\")\n",
    "print(f\"Flux: Phisd0 = {Phisd0:.4f} Wb, Phisq0 = {Phisq0:.4f} Wb\")\n",
    "print(f\"      Phir0 = {Phir0:.4f} Wb, Phid0 = {Phid0:.4f} Wb, Phiq0 = {Phiq0:.4f} Wb\")\n",
    "print(f\"Couple électromagnétique: Ce0 = {Ce0:.2f} N.m\")\n",
    "print(f\"Couple mécanique: Cm0 = {Cm0:.2f} N.m\\n\")"
   ]
  },
  {
   "cell_type": "code",
   "execution_count": 28,
   "metadata": {},
   "outputs": [
    {
     "data": {
      "text/plain": [
       "np.float64(143.13022325108355)"
      ]
     },
     "execution_count": 28,
     "metadata": {},
     "output_type": "execute_result"
    }
   ],
   "source": [
    "phi*180/3.14159"
   ]
  },
  {
   "cell_type": "markdown",
   "metadata": {},
   "source": [
    "3. Détermination des fonctions de transferts Hi j (p) par inversion de [M (p)] (5),"
   ]
  },
  {
   "cell_type": "code",
   "execution_count": 29,
   "metadata": {},
   "outputs": [
    {
     "name": "stdout",
     "output_type": "stream",
     "text": [
      "Déterminant de M(p) pour p=0: \n"
     ]
    },
    {
     "data": {
      "text/latex": [
       "$\\displaystyle 5.82076609134674 \\cdot 10^{-11} L_{s}^{4} R_{s} p^{2} - 2.91038304567337 \\cdot 10^{-11} L_{s}^{3} M_{sa}^{2} p^{3} + 5.82076609134674 \\cdot 10^{-11} L_{s}^{3} R_{s}^{2} p + L_{s}^{2} L_{pa}^{2} L_{pr} p^{5} + 98696.0440108936 L_{s}^{2} L_{pa}^{2} L_{pr} p^{3} + L_{s}^{2} L_{pa}^{2} R_{r} p^{4} + 98696.0440108936 L_{s}^{2} L_{pa}^{2} R_{r} p^{2} + 2 L_{s}^{2} L_{pa} L_{pr} R_{a} p^{4} + 197392.088021787 L_{s}^{2} L_{pa} L_{pr} R_{a} p^{2} - L_{s}^{2} L_{pa} M_{ra}^{2} p^{5} - 98696.0440108936 L_{s}^{2} L_{pa} M_{ra}^{2} p^{3} - 2.91038304567337 \\cdot 10^{-11} L_{s}^{2} L_{pa} M_{sa}^{2} p^{3} + 2 L_{s}^{2} L_{pa} R_{a} R_{r} p^{3} + 197392.088021787 L_{s}^{2} L_{pa} R_{a} R_{r} p - 5.82076609134674 \\cdot 10^{-11} L_{s}^{2} L_{pr} M_{sa}^{2} p^{3} + L_{s}^{2} L_{pr} R_{a}^{2} p^{3} + 98696.0440108936 L_{s}^{2} L_{pr} R_{a}^{2} p - L_{s}^{2} M_{ra}^{2} R_{a} p^{4} - 98696.0440108936 L_{s}^{2} M_{ra}^{2} R_{a} p^{2} - 2.91038304567337 \\cdot 10^{-11} L_{s}^{2} M_{sa}^{2} R_{a} p^{2} - 5.82076609134674 \\cdot 10^{-11} L_{s}^{2} M_{sa}^{2} R_{r} p^{2} - 5.82076609134674 \\cdot 10^{-11} L_{s}^{2} M_{sa}^{2} R_{s} p^{2} + L_{s}^{2} R_{a}^{2} R_{r} p^{2} + 98696.0440108936 L_{s}^{2} R_{a}^{2} R_{r} + 2 L_{s} L_{pa}^{2} L_{pr} R_{s} p^{4} - 1.5 L_{s} L_{pa}^{2} M_{sr}^{2} p^{5} - 148044.06601634 L_{s} L_{pa}^{2} M_{sr}^{2} p^{3} + 2 L_{s} L_{pa}^{2} R_{r} R_{s} p^{3} - 3.0 L_{s} L_{pa} L_{pr} M_{sa}^{2} p^{5} - 296088.132032681 L_{s} L_{pa} L_{pr} M_{sa}^{2} p^{3} + 4 L_{s} L_{pa} L_{pr} R_{a} R_{s} p^{3} - 2 L_{s} L_{pa} M_{ra}^{2} R_{s} p^{4} + 3.0 L_{s} L_{pa} M_{ra} M_{sa} M_{sr} p^{5} + 296088.132032681 L_{s} L_{pa} M_{ra} M_{sa} M_{sr} p^{3} - 3.0 L_{s} L_{pa} M_{sa}^{2} R_{r} p^{4} - 296088.132032681 L_{s} L_{pa} M_{sa}^{2} R_{r} p^{2} - 5.82076609134674 \\cdot 10^{-11} L_{s} L_{pa} M_{sa}^{2} R_{s} p^{2} - 3.0 L_{s} L_{pa} M_{sr}^{2} R_{a} p^{4} - 296088.132032681 L_{s} L_{pa} M_{sr}^{2} R_{a} p^{2} + 4 L_{s} L_{pa} R_{a} R_{r} R_{s} p^{2} - 3.0 L_{s} L_{pr} M_{sa}^{2} R_{a} p^{4} - 296088.132032681 L_{s} L_{pr} M_{sa}^{2} R_{a} p^{2} + 2 L_{s} L_{pr} R_{a}^{2} R_{s} p^{2} + 1.5 L_{s} M_{ra}^{2} M_{sa}^{2} p^{5} + 148044.06601634 L_{s} M_{ra}^{2} M_{sa}^{2} p^{3} - 2 L_{s} M_{ra}^{2} R_{a} R_{s} p^{3} + 3.0 L_{s} M_{ra} M_{sa} M_{sr} R_{a} p^{4} + 296088.132032681 L_{s} M_{ra} M_{sa} M_{sr} R_{a} p^{2} - 5.82076609134674 \\cdot 10^{-11} L_{s} M_{sa}^{4} p^{3} - 5.82076609134674 \\cdot 10^{-11} L_{s} M_{sa}^{2} M_{sr}^{2} p^{3} - 3.0 L_{s} M_{sa}^{2} R_{a} R_{r} p^{3} - 296088.132032681 L_{s} M_{sa}^{2} R_{a} R_{r} p - 5.82076609134674 \\cdot 10^{-11} L_{s} M_{sa}^{2} R_{a} R_{s} p - 1.5 L_{s} M_{sr}^{2} R_{a}^{2} p^{3} - 148044.06601634 L_{s} M_{sr}^{2} R_{a}^{2} p + 2 L_{s} R_{a}^{2} R_{r} R_{s} p + L_{pa}^{2} L_{pr} R_{s}^{2} p^{3} - 1.5 L_{pa}^{2} M_{sr}^{2} R_{s} p^{4} + L_{pa}^{2} R_{r} R_{s}^{2} p^{2} - 3.0 L_{pa} L_{pr} M_{sa}^{2} R_{s} p^{4} + 2 L_{pa} L_{pr} R_{a} R_{s}^{2} p^{2} - L_{pa} M_{ra}^{2} R_{s}^{2} p^{3} + 3.0 L_{pa} M_{ra} M_{sa} M_{sr} R_{s} p^{4} + 2.25 L_{pa} M_{sa}^{2} M_{sr}^{2} p^{5} + 222066.099024511 L_{pa} M_{sa}^{2} M_{sr}^{2} p^{3} - 3.0 L_{pa} M_{sa}^{2} R_{r} R_{s} p^{3} - 3.0 L_{pa} M_{sr}^{2} R_{a} R_{s} p^{3} + 2 L_{pa} R_{a} R_{r} R_{s}^{2} p + 2.25 L_{pr} M_{sa}^{4} p^{5} + 222066.099024511 L_{pr} M_{sa}^{4} p^{3} - 3.0 L_{pr} M_{sa}^{2} R_{a} R_{s} p^{3} + L_{pr} R_{a}^{2} R_{s}^{2} p + 1.5 M_{ra}^{2} M_{sa}^{2} R_{s} p^{4} - M_{ra}^{2} R_{a} R_{s}^{2} p^{2} - 4.5 M_{ra} M_{sa}^{3} M_{sr} p^{5} - 444132.198049021 M_{ra} M_{sa}^{3} M_{sr} p^{3} + 3.0 M_{ra} M_{sa} M_{sr} R_{a} R_{s} p^{3} + 2.25 M_{sa}^{4} R_{r} p^{4} + 222066.099024511 M_{sa}^{4} R_{r} p^{2} + 2.25 M_{sa}^{2} M_{sr}^{2} R_{a} p^{4} + 222066.099024511 M_{sa}^{2} M_{sr}^{2} R_{a} p^{2} - 3.0 M_{sa}^{2} R_{a} R_{r} R_{s} p^{2} - 1.5 M_{sr}^{2} R_{a}^{2} R_{s} p^{2} + R_{a}^{2} R_{r} R_{s}^{2}$"
      ],
      "text/plain": [
       "5.82076609134674e-11*L_s**4*R_s*p**2 - 2.91038304567337e-11*L_s**3*M_{sa}**2*p**3 + 5.82076609134674e-11*L_s**3*R_s**2*p + L_s**2*L_{pa}**2*L_{pr}*p**5 + 98696.0440108936*L_s**2*L_{pa}**2*L_{pr}*p**3 + L_s**2*L_{pa}**2*R_r*p**4 + 98696.0440108936*L_s**2*L_{pa}**2*R_r*p**2 + 2*L_s**2*L_{pa}*L_{pr}*R_a*p**4 + 197392.088021787*L_s**2*L_{pa}*L_{pr}*R_a*p**2 - L_s**2*L_{pa}*M_{ra}**2*p**5 - 98696.0440108936*L_s**2*L_{pa}*M_{ra}**2*p**3 - 2.91038304567337e-11*L_s**2*L_{pa}*M_{sa}**2*p**3 + 2*L_s**2*L_{pa}*R_a*R_r*p**3 + 197392.088021787*L_s**2*L_{pa}*R_a*R_r*p - 5.82076609134674e-11*L_s**2*L_{pr}*M_{sa}**2*p**3 + L_s**2*L_{pr}*R_a**2*p**3 + 98696.0440108936*L_s**2*L_{pr}*R_a**2*p - L_s**2*M_{ra}**2*R_a*p**4 - 98696.0440108936*L_s**2*M_{ra}**2*R_a*p**2 - 2.91038304567337e-11*L_s**2*M_{sa}**2*R_a*p**2 - 5.82076609134674e-11*L_s**2*M_{sa}**2*R_r*p**2 - 5.82076609134674e-11*L_s**2*M_{sa}**2*R_s*p**2 + L_s**2*R_a**2*R_r*p**2 + 98696.0440108936*L_s**2*R_a**2*R_r + 2*L_s*L_{pa}**2*L_{pr}*R_s*p**4 - 1.5*L_s*L_{pa}**2*M_{sr}**2*p**5 - 148044.06601634*L_s*L_{pa}**2*M_{sr}**2*p**3 + 2*L_s*L_{pa}**2*R_r*R_s*p**3 - 3.0*L_s*L_{pa}*L_{pr}*M_{sa}**2*p**5 - 296088.132032681*L_s*L_{pa}*L_{pr}*M_{sa}**2*p**3 + 4*L_s*L_{pa}*L_{pr}*R_a*R_s*p**3 - 2*L_s*L_{pa}*M_{ra}**2*R_s*p**4 + 3.0*L_s*L_{pa}*M_{ra}*M_{sa}*M_{sr}*p**5 + 296088.132032681*L_s*L_{pa}*M_{ra}*M_{sa}*M_{sr}*p**3 - 3.0*L_s*L_{pa}*M_{sa}**2*R_r*p**4 - 296088.132032681*L_s*L_{pa}*M_{sa}**2*R_r*p**2 - 5.82076609134674e-11*L_s*L_{pa}*M_{sa}**2*R_s*p**2 - 3.0*L_s*L_{pa}*M_{sr}**2*R_a*p**4 - 296088.132032681*L_s*L_{pa}*M_{sr}**2*R_a*p**2 + 4*L_s*L_{pa}*R_a*R_r*R_s*p**2 - 3.0*L_s*L_{pr}*M_{sa}**2*R_a*p**4 - 296088.132032681*L_s*L_{pr}*M_{sa}**2*R_a*p**2 + 2*L_s*L_{pr}*R_a**2*R_s*p**2 + 1.5*L_s*M_{ra}**2*M_{sa}**2*p**5 + 148044.06601634*L_s*M_{ra}**2*M_{sa}**2*p**3 - 2*L_s*M_{ra}**2*R_a*R_s*p**3 + 3.0*L_s*M_{ra}*M_{sa}*M_{sr}*R_a*p**4 + 296088.132032681*L_s*M_{ra}*M_{sa}*M_{sr}*R_a*p**2 - 5.82076609134674e-11*L_s*M_{sa}**4*p**3 - 5.82076609134674e-11*L_s*M_{sa}**2*M_{sr}**2*p**3 - 3.0*L_s*M_{sa}**2*R_a*R_r*p**3 - 296088.132032681*L_s*M_{sa}**2*R_a*R_r*p - 5.82076609134674e-11*L_s*M_{sa}**2*R_a*R_s*p - 1.5*L_s*M_{sr}**2*R_a**2*p**3 - 148044.06601634*L_s*M_{sr}**2*R_a**2*p + 2*L_s*R_a**2*R_r*R_s*p + L_{pa}**2*L_{pr}*R_s**2*p**3 - 1.5*L_{pa}**2*M_{sr}**2*R_s*p**4 + L_{pa}**2*R_r*R_s**2*p**2 - 3.0*L_{pa}*L_{pr}*M_{sa}**2*R_s*p**4 + 2*L_{pa}*L_{pr}*R_a*R_s**2*p**2 - L_{pa}*M_{ra}**2*R_s**2*p**3 + 3.0*L_{pa}*M_{ra}*M_{sa}*M_{sr}*R_s*p**4 + 2.25*L_{pa}*M_{sa}**2*M_{sr}**2*p**5 + 222066.099024511*L_{pa}*M_{sa}**2*M_{sr}**2*p**3 - 3.0*L_{pa}*M_{sa}**2*R_r*R_s*p**3 - 3.0*L_{pa}*M_{sr}**2*R_a*R_s*p**3 + 2*L_{pa}*R_a*R_r*R_s**2*p + 2.25*L_{pr}*M_{sa}**4*p**5 + 222066.099024511*L_{pr}*M_{sa}**4*p**3 - 3.0*L_{pr}*M_{sa}**2*R_a*R_s*p**3 + L_{pr}*R_a**2*R_s**2*p + 1.5*M_{ra}**2*M_{sa}**2*R_s*p**4 - M_{ra}**2*R_a*R_s**2*p**2 - 4.5*M_{ra}*M_{sa}**3*M_{sr}*p**5 - 444132.198049021*M_{ra}*M_{sa}**3*M_{sr}*p**3 + 3.0*M_{ra}*M_{sa}*M_{sr}*R_a*R_s*p**3 + 2.25*M_{sa}**4*R_r*p**4 + 222066.099024511*M_{sa}**4*R_r*p**2 + 2.25*M_{sa}**2*M_{sr}**2*R_a*p**4 + 222066.099024511*M_{sa}**2*M_{sr}**2*R_a*p**2 - 3.0*M_{sa}**2*R_a*R_r*R_s*p**2 - 1.5*M_{sr}**2*R_a**2*R_s*p**2 + R_a**2*R_r*R_s**2"
      ]
     },
     "metadata": {},
     "output_type": "display_data"
    },
    {
     "name": "stdout",
     "output_type": "stream",
     "text": [
      "Fonctions de transfert:\n"
     ]
    },
    {
     "data": {
      "text/latex": [
       "$\\displaystyle \\frac{L_{s} L_{pa}^{2} L_{pr} p^{4} + L_{s} L_{pa}^{2} R_{r} p^{3} + 2 L_{s} L_{pa} L_{pr} R_{a} p^{3} - L_{s} L_{pa} M_{ra}^{2} p^{4} + 2 L_{s} L_{pa} R_{a} R_{r} p^{2} + L_{s} L_{pr} R_{a}^{2} p^{2} - L_{s} M_{ra}^{2} R_{a} p^{3} + L_{s} R_{a}^{2} R_{r} p + L_{pa}^{2} L_{pr} R_{s} p^{3} + L_{pa}^{2} R_{r} R_{s} p^{2} - 1.5 L_{pa} L_{pr} M_{sa}^{2} p^{4} + 2 L_{pa} L_{pr} R_{a} R_{s} p^{2} - L_{pa} M_{ra}^{2} R_{s} p^{3} - 1.5 L_{pa} M_{sa}^{2} R_{r} p^{3} + 2 L_{pa} R_{a} R_{r} R_{s} p - 1.5 L_{pr} M_{sa}^{2} R_{a} p^{3} + L_{pr} R_{a}^{2} R_{s} p + 1.5 M_{ra}^{2} M_{sa}^{2} p^{4} - M_{ra}^{2} R_{a} R_{s} p^{2} - 1.5 M_{sa}^{2} R_{a} R_{r} p^{2} + R_{a}^{2} R_{r} R_{s}}{5.82076609134674 \\cdot 10^{-11} L_{s}^{4} R_{s} p^{2} - 2.91038304567337 \\cdot 10^{-11} L_{s}^{3} M_{sa}^{2} p^{3} + 5.82076609134674 \\cdot 10^{-11} L_{s}^{3} R_{s}^{2} p + L_{s}^{2} L_{pa}^{2} L_{pr} p^{5} + 98696.0440108936 L_{s}^{2} L_{pa}^{2} L_{pr} p^{3} + L_{s}^{2} L_{pa}^{2} R_{r} p^{4} + 98696.0440108936 L_{s}^{2} L_{pa}^{2} R_{r} p^{2} + 2 L_{s}^{2} L_{pa} L_{pr} R_{a} p^{4} + 197392.088021787 L_{s}^{2} L_{pa} L_{pr} R_{a} p^{2} - L_{s}^{2} L_{pa} M_{ra}^{2} p^{5} - 98696.0440108936 L_{s}^{2} L_{pa} M_{ra}^{2} p^{3} - 2.91038304567337 \\cdot 10^{-11} L_{s}^{2} L_{pa} M_{sa}^{2} p^{3} + 2 L_{s}^{2} L_{pa} R_{a} R_{r} p^{3} + 197392.088021787 L_{s}^{2} L_{pa} R_{a} R_{r} p - 5.82076609134674 \\cdot 10^{-11} L_{s}^{2} L_{pr} M_{sa}^{2} p^{3} + L_{s}^{2} L_{pr} R_{a}^{2} p^{3} + 98696.0440108936 L_{s}^{2} L_{pr} R_{a}^{2} p - L_{s}^{2} M_{ra}^{2} R_{a} p^{4} - 98696.0440108936 L_{s}^{2} M_{ra}^{2} R_{a} p^{2} - 2.91038304567337 \\cdot 10^{-11} L_{s}^{2} M_{sa}^{2} R_{a} p^{2} - 5.82076609134674 \\cdot 10^{-11} L_{s}^{2} M_{sa}^{2} R_{r} p^{2} - 5.82076609134674 \\cdot 10^{-11} L_{s}^{2} M_{sa}^{2} R_{s} p^{2} + L_{s}^{2} R_{a}^{2} R_{r} p^{2} + 98696.0440108936 L_{s}^{2} R_{a}^{2} R_{r} + 2 L_{s} L_{pa}^{2} L_{pr} R_{s} p^{4} - 1.5 L_{s} L_{pa}^{2} M_{sr}^{2} p^{5} - 148044.06601634 L_{s} L_{pa}^{2} M_{sr}^{2} p^{3} + 2 L_{s} L_{pa}^{2} R_{r} R_{s} p^{3} - 3.0 L_{s} L_{pa} L_{pr} M_{sa}^{2} p^{5} - 296088.132032681 L_{s} L_{pa} L_{pr} M_{sa}^{2} p^{3} + 4 L_{s} L_{pa} L_{pr} R_{a} R_{s} p^{3} - 2 L_{s} L_{pa} M_{ra}^{2} R_{s} p^{4} + 3.0 L_{s} L_{pa} M_{ra} M_{sa} M_{sr} p^{5} + 296088.132032681 L_{s} L_{pa} M_{ra} M_{sa} M_{sr} p^{3} - 3.0 L_{s} L_{pa} M_{sa}^{2} R_{r} p^{4} - 296088.132032681 L_{s} L_{pa} M_{sa}^{2} R_{r} p^{2} - 5.82076609134674 \\cdot 10^{-11} L_{s} L_{pa} M_{sa}^{2} R_{s} p^{2} - 3.0 L_{s} L_{pa} M_{sr}^{2} R_{a} p^{4} - 296088.132032681 L_{s} L_{pa} M_{sr}^{2} R_{a} p^{2} + 4 L_{s} L_{pa} R_{a} R_{r} R_{s} p^{2} - 3.0 L_{s} L_{pr} M_{sa}^{2} R_{a} p^{4} - 296088.132032681 L_{s} L_{pr} M_{sa}^{2} R_{a} p^{2} + 2 L_{s} L_{pr} R_{a}^{2} R_{s} p^{2} + 1.5 L_{s} M_{ra}^{2} M_{sa}^{2} p^{5} + 148044.06601634 L_{s} M_{ra}^{2} M_{sa}^{2} p^{3} - 2 L_{s} M_{ra}^{2} R_{a} R_{s} p^{3} + 3.0 L_{s} M_{ra} M_{sa} M_{sr} R_{a} p^{4} + 296088.132032681 L_{s} M_{ra} M_{sa} M_{sr} R_{a} p^{2} - 5.82076609134674 \\cdot 10^{-11} L_{s} M_{sa}^{4} p^{3} - 5.82076609134674 \\cdot 10^{-11} L_{s} M_{sa}^{2} M_{sr}^{2} p^{3} - 3.0 L_{s} M_{sa}^{2} R_{a} R_{r} p^{3} - 296088.132032681 L_{s} M_{sa}^{2} R_{a} R_{r} p - 5.82076609134674 \\cdot 10^{-11} L_{s} M_{sa}^{2} R_{a} R_{s} p - 1.5 L_{s} M_{sr}^{2} R_{a}^{2} p^{3} - 148044.06601634 L_{s} M_{sr}^{2} R_{a}^{2} p + 2 L_{s} R_{a}^{2} R_{r} R_{s} p + L_{pa}^{2} L_{pr} R_{s}^{2} p^{3} - 1.5 L_{pa}^{2} M_{sr}^{2} R_{s} p^{4} + L_{pa}^{2} R_{r} R_{s}^{2} p^{2} - 3.0 L_{pa} L_{pr} M_{sa}^{2} R_{s} p^{4} + 2 L_{pa} L_{pr} R_{a} R_{s}^{2} p^{2} - L_{pa} M_{ra}^{2} R_{s}^{2} p^{3} + 3.0 L_{pa} M_{ra} M_{sa} M_{sr} R_{s} p^{4} + 2.25 L_{pa} M_{sa}^{2} M_{sr}^{2} p^{5} + 222066.099024511 L_{pa} M_{sa}^{2} M_{sr}^{2} p^{3} - 3.0 L_{pa} M_{sa}^{2} R_{r} R_{s} p^{3} - 3.0 L_{pa} M_{sr}^{2} R_{a} R_{s} p^{3} + 2 L_{pa} R_{a} R_{r} R_{s}^{2} p + 2.25 L_{pr} M_{sa}^{4} p^{5} + 222066.099024511 L_{pr} M_{sa}^{4} p^{3} - 3.0 L_{pr} M_{sa}^{2} R_{a} R_{s} p^{3} + L_{pr} R_{a}^{2} R_{s}^{2} p + 1.5 M_{ra}^{2} M_{sa}^{2} R_{s} p^{4} - M_{ra}^{2} R_{a} R_{s}^{2} p^{2} - 4.5 M_{ra} M_{sa}^{3} M_{sr} p^{5} - 444132.198049021 M_{ra} M_{sa}^{3} M_{sr} p^{3} + 3.0 M_{ra} M_{sa} M_{sr} R_{a} R_{s} p^{3} + 2.25 M_{sa}^{4} R_{r} p^{4} + 222066.099024511 M_{sa}^{4} R_{r} p^{2} + 2.25 M_{sa}^{2} M_{sr}^{2} R_{a} p^{4} + 222066.099024511 M_{sa}^{2} M_{sr}^{2} R_{a} p^{2} - 3.0 M_{sa}^{2} R_{a} R_{r} R_{s} p^{2} - 1.5 M_{sr}^{2} R_{a}^{2} R_{s} p^{2} + R_{a}^{2} R_{r} R_{s}^{2}}$"
      ],
      "text/plain": [
       "(L_s*L_{pa}**2*L_{pr}*p**4 + L_s*L_{pa}**2*R_r*p**3 + 2*L_s*L_{pa}*L_{pr}*R_a*p**3 - L_s*L_{pa}*M_{ra}**2*p**4 + 2*L_s*L_{pa}*R_a*R_r*p**2 + L_s*L_{pr}*R_a**2*p**2 - L_s*M_{ra}**2*R_a*p**3 + L_s*R_a**2*R_r*p + L_{pa}**2*L_{pr}*R_s*p**3 + L_{pa}**2*R_r*R_s*p**2 - 1.5*L_{pa}*L_{pr}*M_{sa}**2*p**4 + 2*L_{pa}*L_{pr}*R_a*R_s*p**2 - L_{pa}*M_{ra}**2*R_s*p**3 - 1.5*L_{pa}*M_{sa}**2*R_r*p**3 + 2*L_{pa}*R_a*R_r*R_s*p - 1.5*L_{pr}*M_{sa}**2*R_a*p**3 + L_{pr}*R_a**2*R_s*p + 1.5*M_{ra}**2*M_{sa}**2*p**4 - M_{ra}**2*R_a*R_s*p**2 - 1.5*M_{sa}**2*R_a*R_r*p**2 + R_a**2*R_r*R_s)/(5.82076609134674e-11*L_s**4*R_s*p**2 - 2.91038304567337e-11*L_s**3*M_{sa}**2*p**3 + 5.82076609134674e-11*L_s**3*R_s**2*p + L_s**2*L_{pa}**2*L_{pr}*p**5 + 98696.0440108936*L_s**2*L_{pa}**2*L_{pr}*p**3 + L_s**2*L_{pa}**2*R_r*p**4 + 98696.0440108936*L_s**2*L_{pa}**2*R_r*p**2 + 2*L_s**2*L_{pa}*L_{pr}*R_a*p**4 + 197392.088021787*L_s**2*L_{pa}*L_{pr}*R_a*p**2 - L_s**2*L_{pa}*M_{ra}**2*p**5 - 98696.0440108936*L_s**2*L_{pa}*M_{ra}**2*p**3 - 2.91038304567337e-11*L_s**2*L_{pa}*M_{sa}**2*p**3 + 2*L_s**2*L_{pa}*R_a*R_r*p**3 + 197392.088021787*L_s**2*L_{pa}*R_a*R_r*p - 5.82076609134674e-11*L_s**2*L_{pr}*M_{sa}**2*p**3 + L_s**2*L_{pr}*R_a**2*p**3 + 98696.0440108936*L_s**2*L_{pr}*R_a**2*p - L_s**2*M_{ra}**2*R_a*p**4 - 98696.0440108936*L_s**2*M_{ra}**2*R_a*p**2 - 2.91038304567337e-11*L_s**2*M_{sa}**2*R_a*p**2 - 5.82076609134674e-11*L_s**2*M_{sa}**2*R_r*p**2 - 5.82076609134674e-11*L_s**2*M_{sa}**2*R_s*p**2 + L_s**2*R_a**2*R_r*p**2 + 98696.0440108936*L_s**2*R_a**2*R_r + 2*L_s*L_{pa}**2*L_{pr}*R_s*p**4 - 1.5*L_s*L_{pa}**2*M_{sr}**2*p**5 - 148044.06601634*L_s*L_{pa}**2*M_{sr}**2*p**3 + 2*L_s*L_{pa}**2*R_r*R_s*p**3 - 3.0*L_s*L_{pa}*L_{pr}*M_{sa}**2*p**5 - 296088.132032681*L_s*L_{pa}*L_{pr}*M_{sa}**2*p**3 + 4*L_s*L_{pa}*L_{pr}*R_a*R_s*p**3 - 2*L_s*L_{pa}*M_{ra}**2*R_s*p**4 + 3.0*L_s*L_{pa}*M_{ra}*M_{sa}*M_{sr}*p**5 + 296088.132032681*L_s*L_{pa}*M_{ra}*M_{sa}*M_{sr}*p**3 - 3.0*L_s*L_{pa}*M_{sa}**2*R_r*p**4 - 296088.132032681*L_s*L_{pa}*M_{sa}**2*R_r*p**2 - 5.82076609134674e-11*L_s*L_{pa}*M_{sa}**2*R_s*p**2 - 3.0*L_s*L_{pa}*M_{sr}**2*R_a*p**4 - 296088.132032681*L_s*L_{pa}*M_{sr}**2*R_a*p**2 + 4*L_s*L_{pa}*R_a*R_r*R_s*p**2 - 3.0*L_s*L_{pr}*M_{sa}**2*R_a*p**4 - 296088.132032681*L_s*L_{pr}*M_{sa}**2*R_a*p**2 + 2*L_s*L_{pr}*R_a**2*R_s*p**2 + 1.5*L_s*M_{ra}**2*M_{sa}**2*p**5 + 148044.06601634*L_s*M_{ra}**2*M_{sa}**2*p**3 - 2*L_s*M_{ra}**2*R_a*R_s*p**3 + 3.0*L_s*M_{ra}*M_{sa}*M_{sr}*R_a*p**4 + 296088.132032681*L_s*M_{ra}*M_{sa}*M_{sr}*R_a*p**2 - 5.82076609134674e-11*L_s*M_{sa}**4*p**3 - 5.82076609134674e-11*L_s*M_{sa}**2*M_{sr}**2*p**3 - 3.0*L_s*M_{sa}**2*R_a*R_r*p**3 - 296088.132032681*L_s*M_{sa}**2*R_a*R_r*p - 5.82076609134674e-11*L_s*M_{sa}**2*R_a*R_s*p - 1.5*L_s*M_{sr}**2*R_a**2*p**3 - 148044.06601634*L_s*M_{sr}**2*R_a**2*p + 2*L_s*R_a**2*R_r*R_s*p + L_{pa}**2*L_{pr}*R_s**2*p**3 - 1.5*L_{pa}**2*M_{sr}**2*R_s*p**4 + L_{pa}**2*R_r*R_s**2*p**2 - 3.0*L_{pa}*L_{pr}*M_{sa}**2*R_s*p**4 + 2*L_{pa}*L_{pr}*R_a*R_s**2*p**2 - L_{pa}*M_{ra}**2*R_s**2*p**3 + 3.0*L_{pa}*M_{ra}*M_{sa}*M_{sr}*R_s*p**4 + 2.25*L_{pa}*M_{sa}**2*M_{sr}**2*p**5 + 222066.099024511*L_{pa}*M_{sa}**2*M_{sr}**2*p**3 - 3.0*L_{pa}*M_{sa}**2*R_r*R_s*p**3 - 3.0*L_{pa}*M_{sr}**2*R_a*R_s*p**3 + 2*L_{pa}*R_a*R_r*R_s**2*p + 2.25*L_{pr}*M_{sa}**4*p**5 + 222066.099024511*L_{pr}*M_{sa}**4*p**3 - 3.0*L_{pr}*M_{sa}**2*R_a*R_s*p**3 + L_{pr}*R_a**2*R_s**2*p + 1.5*M_{ra}**2*M_{sa}**2*R_s*p**4 - M_{ra}**2*R_a*R_s**2*p**2 - 4.5*M_{ra}*M_{sa}**3*M_{sr}*p**5 - 444132.198049021*M_{ra}*M_{sa}**3*M_{sr}*p**3 + 3.0*M_{ra}*M_{sa}*M_{sr}*R_a*R_s*p**3 + 2.25*M_{sa}**4*R_r*p**4 + 222066.099024511*M_{sa}**4*R_r*p**2 + 2.25*M_{sa}**2*M_{sr}**2*R_a*p**4 + 222066.099024511*M_{sa}**2*M_{sr}**2*R_a*p**2 - 3.0*M_{sa}**2*R_a*R_r*R_s*p**2 - 1.5*M_{sr}**2*R_a**2*R_s*p**2 + R_a**2*R_r*R_s**2)"
      ]
     },
     "metadata": {},
     "output_type": "display_data"
    },
    {
     "data": {
      "text/latex": [
       "$\\displaystyle \\frac{- 314.159265358979 L_{s} L_{pa}^{2} L_{pr} p^{3} - 314.159265358979 L_{s} L_{pa}^{2} R_{r} p^{2} - 628.318530717959 L_{s} L_{pa} L_{pr} R_{a} p^{2} + 314.159265358979 L_{s} L_{pa} M_{ra}^{2} p^{3} - 628.318530717959 L_{s} L_{pa} R_{a} R_{r} p - 314.159265358979 L_{s} L_{pr} R_{a}^{2} p + 314.159265358979 L_{s} M_{ra}^{2} R_{a} p^{2} - 314.159265358979 L_{s} R_{a}^{2} R_{r} + 471.238898038469 L_{pa}^{2} M_{sr}^{2} p^{3} + 471.238898038469 L_{pa} L_{pr} M_{sa}^{2} p^{3} - 942.477796076938 L_{pa} M_{ra} M_{sa} M_{sr} p^{3} + 471.238898038469 L_{pa} M_{sa}^{2} R_{r} p^{2} + 942.477796076938 L_{pa} M_{sr}^{2} R_{a} p^{2} + 471.238898038469 L_{pr} M_{sa}^{2} R_{a} p^{2} - 942.477796076938 M_{ra} M_{sa} M_{sr} R_{a} p^{2} + 471.238898038469 M_{sa}^{2} R_{a} R_{r} p + 471.238898038469 M_{sr}^{2} R_{a}^{2} p}{5.82076609134674 \\cdot 10^{-11} L_{s}^{4} R_{s} p^{2} - 2.91038304567337 \\cdot 10^{-11} L_{s}^{3} M_{sa}^{2} p^{3} + 5.82076609134674 \\cdot 10^{-11} L_{s}^{3} R_{s}^{2} p + L_{s}^{2} L_{pa}^{2} L_{pr} p^{5} + 98696.0440108936 L_{s}^{2} L_{pa}^{2} L_{pr} p^{3} + L_{s}^{2} L_{pa}^{2} R_{r} p^{4} + 98696.0440108936 L_{s}^{2} L_{pa}^{2} R_{r} p^{2} + 2 L_{s}^{2} L_{pa} L_{pr} R_{a} p^{4} + 197392.088021787 L_{s}^{2} L_{pa} L_{pr} R_{a} p^{2} - L_{s}^{2} L_{pa} M_{ra}^{2} p^{5} - 98696.0440108936 L_{s}^{2} L_{pa} M_{ra}^{2} p^{3} - 2.91038304567337 \\cdot 10^{-11} L_{s}^{2} L_{pa} M_{sa}^{2} p^{3} + 2 L_{s}^{2} L_{pa} R_{a} R_{r} p^{3} + 197392.088021787 L_{s}^{2} L_{pa} R_{a} R_{r} p - 5.82076609134674 \\cdot 10^{-11} L_{s}^{2} L_{pr} M_{sa}^{2} p^{3} + L_{s}^{2} L_{pr} R_{a}^{2} p^{3} + 98696.0440108936 L_{s}^{2} L_{pr} R_{a}^{2} p - L_{s}^{2} M_{ra}^{2} R_{a} p^{4} - 98696.0440108936 L_{s}^{2} M_{ra}^{2} R_{a} p^{2} - 2.91038304567337 \\cdot 10^{-11} L_{s}^{2} M_{sa}^{2} R_{a} p^{2} - 5.82076609134674 \\cdot 10^{-11} L_{s}^{2} M_{sa}^{2} R_{r} p^{2} - 5.82076609134674 \\cdot 10^{-11} L_{s}^{2} M_{sa}^{2} R_{s} p^{2} + L_{s}^{2} R_{a}^{2} R_{r} p^{2} + 98696.0440108936 L_{s}^{2} R_{a}^{2} R_{r} + 2 L_{s} L_{pa}^{2} L_{pr} R_{s} p^{4} - 1.5 L_{s} L_{pa}^{2} M_{sr}^{2} p^{5} - 148044.06601634 L_{s} L_{pa}^{2} M_{sr}^{2} p^{3} + 2 L_{s} L_{pa}^{2} R_{r} R_{s} p^{3} - 3.0 L_{s} L_{pa} L_{pr} M_{sa}^{2} p^{5} - 296088.132032681 L_{s} L_{pa} L_{pr} M_{sa}^{2} p^{3} + 4 L_{s} L_{pa} L_{pr} R_{a} R_{s} p^{3} - 2 L_{s} L_{pa} M_{ra}^{2} R_{s} p^{4} + 3.0 L_{s} L_{pa} M_{ra} M_{sa} M_{sr} p^{5} + 296088.132032681 L_{s} L_{pa} M_{ra} M_{sa} M_{sr} p^{3} - 3.0 L_{s} L_{pa} M_{sa}^{2} R_{r} p^{4} - 296088.132032681 L_{s} L_{pa} M_{sa}^{2} R_{r} p^{2} - 5.82076609134674 \\cdot 10^{-11} L_{s} L_{pa} M_{sa}^{2} R_{s} p^{2} - 3.0 L_{s} L_{pa} M_{sr}^{2} R_{a} p^{4} - 296088.132032681 L_{s} L_{pa} M_{sr}^{2} R_{a} p^{2} + 4 L_{s} L_{pa} R_{a} R_{r} R_{s} p^{2} - 3.0 L_{s} L_{pr} M_{sa}^{2} R_{a} p^{4} - 296088.132032681 L_{s} L_{pr} M_{sa}^{2} R_{a} p^{2} + 2 L_{s} L_{pr} R_{a}^{2} R_{s} p^{2} + 1.5 L_{s} M_{ra}^{2} M_{sa}^{2} p^{5} + 148044.06601634 L_{s} M_{ra}^{2} M_{sa}^{2} p^{3} - 2 L_{s} M_{ra}^{2} R_{a} R_{s} p^{3} + 3.0 L_{s} M_{ra} M_{sa} M_{sr} R_{a} p^{4} + 296088.132032681 L_{s} M_{ra} M_{sa} M_{sr} R_{a} p^{2} - 5.82076609134674 \\cdot 10^{-11} L_{s} M_{sa}^{4} p^{3} - 5.82076609134674 \\cdot 10^{-11} L_{s} M_{sa}^{2} M_{sr}^{2} p^{3} - 3.0 L_{s} M_{sa}^{2} R_{a} R_{r} p^{3} - 296088.132032681 L_{s} M_{sa}^{2} R_{a} R_{r} p - 5.82076609134674 \\cdot 10^{-11} L_{s} M_{sa}^{2} R_{a} R_{s} p - 1.5 L_{s} M_{sr}^{2} R_{a}^{2} p^{3} - 148044.06601634 L_{s} M_{sr}^{2} R_{a}^{2} p + 2 L_{s} R_{a}^{2} R_{r} R_{s} p + L_{pa}^{2} L_{pr} R_{s}^{2} p^{3} - 1.5 L_{pa}^{2} M_{sr}^{2} R_{s} p^{4} + L_{pa}^{2} R_{r} R_{s}^{2} p^{2} - 3.0 L_{pa} L_{pr} M_{sa}^{2} R_{s} p^{4} + 2 L_{pa} L_{pr} R_{a} R_{s}^{2} p^{2} - L_{pa} M_{ra}^{2} R_{s}^{2} p^{3} + 3.0 L_{pa} M_{ra} M_{sa} M_{sr} R_{s} p^{4} + 2.25 L_{pa} M_{sa}^{2} M_{sr}^{2} p^{5} + 222066.099024511 L_{pa} M_{sa}^{2} M_{sr}^{2} p^{3} - 3.0 L_{pa} M_{sa}^{2} R_{r} R_{s} p^{3} - 3.0 L_{pa} M_{sr}^{2} R_{a} R_{s} p^{3} + 2 L_{pa} R_{a} R_{r} R_{s}^{2} p + 2.25 L_{pr} M_{sa}^{4} p^{5} + 222066.099024511 L_{pr} M_{sa}^{4} p^{3} - 3.0 L_{pr} M_{sa}^{2} R_{a} R_{s} p^{3} + L_{pr} R_{a}^{2} R_{s}^{2} p + 1.5 M_{ra}^{2} M_{sa}^{2} R_{s} p^{4} - M_{ra}^{2} R_{a} R_{s}^{2} p^{2} - 4.5 M_{ra} M_{sa}^{3} M_{sr} p^{5} - 444132.198049021 M_{ra} M_{sa}^{3} M_{sr} p^{3} + 3.0 M_{ra} M_{sa} M_{sr} R_{a} R_{s} p^{3} + 2.25 M_{sa}^{4} R_{r} p^{4} + 222066.099024511 M_{sa}^{4} R_{r} p^{2} + 2.25 M_{sa}^{2} M_{sr}^{2} R_{a} p^{4} + 222066.099024511 M_{sa}^{2} M_{sr}^{2} R_{a} p^{2} - 3.0 M_{sa}^{2} R_{a} R_{r} R_{s} p^{2} - 1.5 M_{sr}^{2} R_{a}^{2} R_{s} p^{2} + R_{a}^{2} R_{r} R_{s}^{2}}$"
      ],
      "text/plain": [
       "(-314.159265358979*L_s*L_{pa}**2*L_{pr}*p**3 - 314.159265358979*L_s*L_{pa}**2*R_r*p**2 - 628.318530717959*L_s*L_{pa}*L_{pr}*R_a*p**2 + 314.159265358979*L_s*L_{pa}*M_{ra}**2*p**3 - 628.318530717959*L_s*L_{pa}*R_a*R_r*p - 314.159265358979*L_s*L_{pr}*R_a**2*p + 314.159265358979*L_s*M_{ra}**2*R_a*p**2 - 314.159265358979*L_s*R_a**2*R_r + 471.238898038469*L_{pa}**2*M_{sr}**2*p**3 + 471.238898038469*L_{pa}*L_{pr}*M_{sa}**2*p**3 - 942.477796076938*L_{pa}*M_{ra}*M_{sa}*M_{sr}*p**3 + 471.238898038469*L_{pa}*M_{sa}**2*R_r*p**2 + 942.477796076938*L_{pa}*M_{sr}**2*R_a*p**2 + 471.238898038469*L_{pr}*M_{sa}**2*R_a*p**2 - 942.477796076938*M_{ra}*M_{sa}*M_{sr}*R_a*p**2 + 471.238898038469*M_{sa}**2*R_a*R_r*p + 471.238898038469*M_{sr}**2*R_a**2*p)/(5.82076609134674e-11*L_s**4*R_s*p**2 - 2.91038304567337e-11*L_s**3*M_{sa}**2*p**3 + 5.82076609134674e-11*L_s**3*R_s**2*p + L_s**2*L_{pa}**2*L_{pr}*p**5 + 98696.0440108936*L_s**2*L_{pa}**2*L_{pr}*p**3 + L_s**2*L_{pa}**2*R_r*p**4 + 98696.0440108936*L_s**2*L_{pa}**2*R_r*p**2 + 2*L_s**2*L_{pa}*L_{pr}*R_a*p**4 + 197392.088021787*L_s**2*L_{pa}*L_{pr}*R_a*p**2 - L_s**2*L_{pa}*M_{ra}**2*p**5 - 98696.0440108936*L_s**2*L_{pa}*M_{ra}**2*p**3 - 2.91038304567337e-11*L_s**2*L_{pa}*M_{sa}**2*p**3 + 2*L_s**2*L_{pa}*R_a*R_r*p**3 + 197392.088021787*L_s**2*L_{pa}*R_a*R_r*p - 5.82076609134674e-11*L_s**2*L_{pr}*M_{sa}**2*p**3 + L_s**2*L_{pr}*R_a**2*p**3 + 98696.0440108936*L_s**2*L_{pr}*R_a**2*p - L_s**2*M_{ra}**2*R_a*p**4 - 98696.0440108936*L_s**2*M_{ra}**2*R_a*p**2 - 2.91038304567337e-11*L_s**2*M_{sa}**2*R_a*p**2 - 5.82076609134674e-11*L_s**2*M_{sa}**2*R_r*p**2 - 5.82076609134674e-11*L_s**2*M_{sa}**2*R_s*p**2 + L_s**2*R_a**2*R_r*p**2 + 98696.0440108936*L_s**2*R_a**2*R_r + 2*L_s*L_{pa}**2*L_{pr}*R_s*p**4 - 1.5*L_s*L_{pa}**2*M_{sr}**2*p**5 - 148044.06601634*L_s*L_{pa}**2*M_{sr}**2*p**3 + 2*L_s*L_{pa}**2*R_r*R_s*p**3 - 3.0*L_s*L_{pa}*L_{pr}*M_{sa}**2*p**5 - 296088.132032681*L_s*L_{pa}*L_{pr}*M_{sa}**2*p**3 + 4*L_s*L_{pa}*L_{pr}*R_a*R_s*p**3 - 2*L_s*L_{pa}*M_{ra}**2*R_s*p**4 + 3.0*L_s*L_{pa}*M_{ra}*M_{sa}*M_{sr}*p**5 + 296088.132032681*L_s*L_{pa}*M_{ra}*M_{sa}*M_{sr}*p**3 - 3.0*L_s*L_{pa}*M_{sa}**2*R_r*p**4 - 296088.132032681*L_s*L_{pa}*M_{sa}**2*R_r*p**2 - 5.82076609134674e-11*L_s*L_{pa}*M_{sa}**2*R_s*p**2 - 3.0*L_s*L_{pa}*M_{sr}**2*R_a*p**4 - 296088.132032681*L_s*L_{pa}*M_{sr}**2*R_a*p**2 + 4*L_s*L_{pa}*R_a*R_r*R_s*p**2 - 3.0*L_s*L_{pr}*M_{sa}**2*R_a*p**4 - 296088.132032681*L_s*L_{pr}*M_{sa}**2*R_a*p**2 + 2*L_s*L_{pr}*R_a**2*R_s*p**2 + 1.5*L_s*M_{ra}**2*M_{sa}**2*p**5 + 148044.06601634*L_s*M_{ra}**2*M_{sa}**2*p**3 - 2*L_s*M_{ra}**2*R_a*R_s*p**3 + 3.0*L_s*M_{ra}*M_{sa}*M_{sr}*R_a*p**4 + 296088.132032681*L_s*M_{ra}*M_{sa}*M_{sr}*R_a*p**2 - 5.82076609134674e-11*L_s*M_{sa}**4*p**3 - 5.82076609134674e-11*L_s*M_{sa}**2*M_{sr}**2*p**3 - 3.0*L_s*M_{sa}**2*R_a*R_r*p**3 - 296088.132032681*L_s*M_{sa}**2*R_a*R_r*p - 5.82076609134674e-11*L_s*M_{sa}**2*R_a*R_s*p - 1.5*L_s*M_{sr}**2*R_a**2*p**3 - 148044.06601634*L_s*M_{sr}**2*R_a**2*p + 2*L_s*R_a**2*R_r*R_s*p + L_{pa}**2*L_{pr}*R_s**2*p**3 - 1.5*L_{pa}**2*M_{sr}**2*R_s*p**4 + L_{pa}**2*R_r*R_s**2*p**2 - 3.0*L_{pa}*L_{pr}*M_{sa}**2*R_s*p**4 + 2*L_{pa}*L_{pr}*R_a*R_s**2*p**2 - L_{pa}*M_{ra}**2*R_s**2*p**3 + 3.0*L_{pa}*M_{ra}*M_{sa}*M_{sr}*R_s*p**4 + 2.25*L_{pa}*M_{sa}**2*M_{sr}**2*p**5 + 222066.099024511*L_{pa}*M_{sa}**2*M_{sr}**2*p**3 - 3.0*L_{pa}*M_{sa}**2*R_r*R_s*p**3 - 3.0*L_{pa}*M_{sr}**2*R_a*R_s*p**3 + 2*L_{pa}*R_a*R_r*R_s**2*p + 2.25*L_{pr}*M_{sa}**4*p**5 + 222066.099024511*L_{pr}*M_{sa}**4*p**3 - 3.0*L_{pr}*M_{sa}**2*R_a*R_s*p**3 + L_{pr}*R_a**2*R_s**2*p + 1.5*M_{ra}**2*M_{sa}**2*R_s*p**4 - M_{ra}**2*R_a*R_s**2*p**2 - 4.5*M_{ra}*M_{sa}**3*M_{sr}*p**5 - 444132.198049021*M_{ra}*M_{sa}**3*M_{sr}*p**3 + 3.0*M_{ra}*M_{sa}*M_{sr}*R_a*R_s*p**3 + 2.25*M_{sa}**4*R_r*p**4 + 222066.099024511*M_{sa}**4*R_r*p**2 + 2.25*M_{sa}**2*M_{sr}**2*R_a*p**4 + 222066.099024511*M_{sa}**2*M_{sr}**2*R_a*p**2 - 3.0*M_{sa}**2*R_a*R_r*R_s*p**2 - 1.5*M_{sr}**2*R_a**2*R_s*p**2 + R_a**2*R_r*R_s**2)"
      ]
     },
     "metadata": {},
     "output_type": "display_data"
    },
    {
     "data": {
      "text/latex": [
       "$\\displaystyle \\frac{314.159265358979 L_{s} L_{pa}^{2} L_{pr} p^{3} + 314.159265358979 L_{s} L_{pa}^{2} R_{r} p^{2} + 628.318530717959 L_{s} L_{pa} L_{pr} R_{a} p^{2} - 314.159265358979 L_{s} L_{pa} M_{ra}^{2} p^{3} + 628.318530717959 L_{s} L_{pa} R_{a} R_{r} p + 314.159265358979 L_{s} L_{pr} R_{a}^{2} p - 314.159265358979 L_{s} M_{ra}^{2} R_{a} p^{2} + 314.159265358979 L_{s} R_{a}^{2} R_{r} - 471.238898038469 L_{pa} L_{pr} M_{sa}^{2} p^{3} - 471.238898038469 L_{pa} M_{sa}^{2} R_{r} p^{2} - 471.238898038469 L_{pr} M_{sa}^{2} R_{a} p^{2} + 471.238898038469 M_{ra}^{2} M_{sa}^{2} p^{3} - 471.238898038469 M_{sa}^{2} R_{a} R_{r} p}{5.82076609134674 \\cdot 10^{-11} L_{s}^{4} R_{s} p^{2} - 2.91038304567337 \\cdot 10^{-11} L_{s}^{3} M_{sa}^{2} p^{3} + 5.82076609134674 \\cdot 10^{-11} L_{s}^{3} R_{s}^{2} p + L_{s}^{2} L_{pa}^{2} L_{pr} p^{5} + 98696.0440108936 L_{s}^{2} L_{pa}^{2} L_{pr} p^{3} + L_{s}^{2} L_{pa}^{2} R_{r} p^{4} + 98696.0440108936 L_{s}^{2} L_{pa}^{2} R_{r} p^{2} + 2 L_{s}^{2} L_{pa} L_{pr} R_{a} p^{4} + 197392.088021787 L_{s}^{2} L_{pa} L_{pr} R_{a} p^{2} - L_{s}^{2} L_{pa} M_{ra}^{2} p^{5} - 98696.0440108936 L_{s}^{2} L_{pa} M_{ra}^{2} p^{3} - 2.91038304567337 \\cdot 10^{-11} L_{s}^{2} L_{pa} M_{sa}^{2} p^{3} + 2 L_{s}^{2} L_{pa} R_{a} R_{r} p^{3} + 197392.088021787 L_{s}^{2} L_{pa} R_{a} R_{r} p - 5.82076609134674 \\cdot 10^{-11} L_{s}^{2} L_{pr} M_{sa}^{2} p^{3} + L_{s}^{2} L_{pr} R_{a}^{2} p^{3} + 98696.0440108936 L_{s}^{2} L_{pr} R_{a}^{2} p - L_{s}^{2} M_{ra}^{2} R_{a} p^{4} - 98696.0440108936 L_{s}^{2} M_{ra}^{2} R_{a} p^{2} - 2.91038304567337 \\cdot 10^{-11} L_{s}^{2} M_{sa}^{2} R_{a} p^{2} - 5.82076609134674 \\cdot 10^{-11} L_{s}^{2} M_{sa}^{2} R_{r} p^{2} - 5.82076609134674 \\cdot 10^{-11} L_{s}^{2} M_{sa}^{2} R_{s} p^{2} + L_{s}^{2} R_{a}^{2} R_{r} p^{2} + 98696.0440108936 L_{s}^{2} R_{a}^{2} R_{r} + 2 L_{s} L_{pa}^{2} L_{pr} R_{s} p^{4} - 1.5 L_{s} L_{pa}^{2} M_{sr}^{2} p^{5} - 148044.06601634 L_{s} L_{pa}^{2} M_{sr}^{2} p^{3} + 2 L_{s} L_{pa}^{2} R_{r} R_{s} p^{3} - 3.0 L_{s} L_{pa} L_{pr} M_{sa}^{2} p^{5} - 296088.132032681 L_{s} L_{pa} L_{pr} M_{sa}^{2} p^{3} + 4 L_{s} L_{pa} L_{pr} R_{a} R_{s} p^{3} - 2 L_{s} L_{pa} M_{ra}^{2} R_{s} p^{4} + 3.0 L_{s} L_{pa} M_{ra} M_{sa} M_{sr} p^{5} + 296088.132032681 L_{s} L_{pa} M_{ra} M_{sa} M_{sr} p^{3} - 3.0 L_{s} L_{pa} M_{sa}^{2} R_{r} p^{4} - 296088.132032681 L_{s} L_{pa} M_{sa}^{2} R_{r} p^{2} - 5.82076609134674 \\cdot 10^{-11} L_{s} L_{pa} M_{sa}^{2} R_{s} p^{2} - 3.0 L_{s} L_{pa} M_{sr}^{2} R_{a} p^{4} - 296088.132032681 L_{s} L_{pa} M_{sr}^{2} R_{a} p^{2} + 4 L_{s} L_{pa} R_{a} R_{r} R_{s} p^{2} - 3.0 L_{s} L_{pr} M_{sa}^{2} R_{a} p^{4} - 296088.132032681 L_{s} L_{pr} M_{sa}^{2} R_{a} p^{2} + 2 L_{s} L_{pr} R_{a}^{2} R_{s} p^{2} + 1.5 L_{s} M_{ra}^{2} M_{sa}^{2} p^{5} + 148044.06601634 L_{s} M_{ra}^{2} M_{sa}^{2} p^{3} - 2 L_{s} M_{ra}^{2} R_{a} R_{s} p^{3} + 3.0 L_{s} M_{ra} M_{sa} M_{sr} R_{a} p^{4} + 296088.132032681 L_{s} M_{ra} M_{sa} M_{sr} R_{a} p^{2} - 5.82076609134674 \\cdot 10^{-11} L_{s} M_{sa}^{4} p^{3} - 5.82076609134674 \\cdot 10^{-11} L_{s} M_{sa}^{2} M_{sr}^{2} p^{3} - 3.0 L_{s} M_{sa}^{2} R_{a} R_{r} p^{3} - 296088.132032681 L_{s} M_{sa}^{2} R_{a} R_{r} p - 5.82076609134674 \\cdot 10^{-11} L_{s} M_{sa}^{2} R_{a} R_{s} p - 1.5 L_{s} M_{sr}^{2} R_{a}^{2} p^{3} - 148044.06601634 L_{s} M_{sr}^{2} R_{a}^{2} p + 2 L_{s} R_{a}^{2} R_{r} R_{s} p + L_{pa}^{2} L_{pr} R_{s}^{2} p^{3} - 1.5 L_{pa}^{2} M_{sr}^{2} R_{s} p^{4} + L_{pa}^{2} R_{r} R_{s}^{2} p^{2} - 3.0 L_{pa} L_{pr} M_{sa}^{2} R_{s} p^{4} + 2 L_{pa} L_{pr} R_{a} R_{s}^{2} p^{2} - L_{pa} M_{ra}^{2} R_{s}^{2} p^{3} + 3.0 L_{pa} M_{ra} M_{sa} M_{sr} R_{s} p^{4} + 2.25 L_{pa} M_{sa}^{2} M_{sr}^{2} p^{5} + 222066.099024511 L_{pa} M_{sa}^{2} M_{sr}^{2} p^{3} - 3.0 L_{pa} M_{sa}^{2} R_{r} R_{s} p^{3} - 3.0 L_{pa} M_{sr}^{2} R_{a} R_{s} p^{3} + 2 L_{pa} R_{a} R_{r} R_{s}^{2} p + 2.25 L_{pr} M_{sa}^{4} p^{5} + 222066.099024511 L_{pr} M_{sa}^{4} p^{3} - 3.0 L_{pr} M_{sa}^{2} R_{a} R_{s} p^{3} + L_{pr} R_{a}^{2} R_{s}^{2} p + 1.5 M_{ra}^{2} M_{sa}^{2} R_{s} p^{4} - M_{ra}^{2} R_{a} R_{s}^{2} p^{2} - 4.5 M_{ra} M_{sa}^{3} M_{sr} p^{5} - 444132.198049021 M_{ra} M_{sa}^{3} M_{sr} p^{3} + 3.0 M_{ra} M_{sa} M_{sr} R_{a} R_{s} p^{3} + 2.25 M_{sa}^{4} R_{r} p^{4} + 222066.099024511 M_{sa}^{4} R_{r} p^{2} + 2.25 M_{sa}^{2} M_{sr}^{2} R_{a} p^{4} + 222066.099024511 M_{sa}^{2} M_{sr}^{2} R_{a} p^{2} - 3.0 M_{sa}^{2} R_{a} R_{r} R_{s} p^{2} - 1.5 M_{sr}^{2} R_{a}^{2} R_{s} p^{2} + R_{a}^{2} R_{r} R_{s}^{2}}$"
      ],
      "text/plain": [
       "(314.159265358979*L_s*L_{pa}**2*L_{pr}*p**3 + 314.159265358979*L_s*L_{pa}**2*R_r*p**2 + 628.318530717959*L_s*L_{pa}*L_{pr}*R_a*p**2 - 314.159265358979*L_s*L_{pa}*M_{ra}**2*p**3 + 628.318530717959*L_s*L_{pa}*R_a*R_r*p + 314.159265358979*L_s*L_{pr}*R_a**2*p - 314.159265358979*L_s*M_{ra}**2*R_a*p**2 + 314.159265358979*L_s*R_a**2*R_r - 471.238898038469*L_{pa}*L_{pr}*M_{sa}**2*p**3 - 471.238898038469*L_{pa}*M_{sa}**2*R_r*p**2 - 471.238898038469*L_{pr}*M_{sa}**2*R_a*p**2 + 471.238898038469*M_{ra}**2*M_{sa}**2*p**3 - 471.238898038469*M_{sa}**2*R_a*R_r*p)/(5.82076609134674e-11*L_s**4*R_s*p**2 - 2.91038304567337e-11*L_s**3*M_{sa}**2*p**3 + 5.82076609134674e-11*L_s**3*R_s**2*p + L_s**2*L_{pa}**2*L_{pr}*p**5 + 98696.0440108936*L_s**2*L_{pa}**2*L_{pr}*p**3 + L_s**2*L_{pa}**2*R_r*p**4 + 98696.0440108936*L_s**2*L_{pa}**2*R_r*p**2 + 2*L_s**2*L_{pa}*L_{pr}*R_a*p**4 + 197392.088021787*L_s**2*L_{pa}*L_{pr}*R_a*p**2 - L_s**2*L_{pa}*M_{ra}**2*p**5 - 98696.0440108936*L_s**2*L_{pa}*M_{ra}**2*p**3 - 2.91038304567337e-11*L_s**2*L_{pa}*M_{sa}**2*p**3 + 2*L_s**2*L_{pa}*R_a*R_r*p**3 + 197392.088021787*L_s**2*L_{pa}*R_a*R_r*p - 5.82076609134674e-11*L_s**2*L_{pr}*M_{sa}**2*p**3 + L_s**2*L_{pr}*R_a**2*p**3 + 98696.0440108936*L_s**2*L_{pr}*R_a**2*p - L_s**2*M_{ra}**2*R_a*p**4 - 98696.0440108936*L_s**2*M_{ra}**2*R_a*p**2 - 2.91038304567337e-11*L_s**2*M_{sa}**2*R_a*p**2 - 5.82076609134674e-11*L_s**2*M_{sa}**2*R_r*p**2 - 5.82076609134674e-11*L_s**2*M_{sa}**2*R_s*p**2 + L_s**2*R_a**2*R_r*p**2 + 98696.0440108936*L_s**2*R_a**2*R_r + 2*L_s*L_{pa}**2*L_{pr}*R_s*p**4 - 1.5*L_s*L_{pa}**2*M_{sr}**2*p**5 - 148044.06601634*L_s*L_{pa}**2*M_{sr}**2*p**3 + 2*L_s*L_{pa}**2*R_r*R_s*p**3 - 3.0*L_s*L_{pa}*L_{pr}*M_{sa}**2*p**5 - 296088.132032681*L_s*L_{pa}*L_{pr}*M_{sa}**2*p**3 + 4*L_s*L_{pa}*L_{pr}*R_a*R_s*p**3 - 2*L_s*L_{pa}*M_{ra}**2*R_s*p**4 + 3.0*L_s*L_{pa}*M_{ra}*M_{sa}*M_{sr}*p**5 + 296088.132032681*L_s*L_{pa}*M_{ra}*M_{sa}*M_{sr}*p**3 - 3.0*L_s*L_{pa}*M_{sa}**2*R_r*p**4 - 296088.132032681*L_s*L_{pa}*M_{sa}**2*R_r*p**2 - 5.82076609134674e-11*L_s*L_{pa}*M_{sa}**2*R_s*p**2 - 3.0*L_s*L_{pa}*M_{sr}**2*R_a*p**4 - 296088.132032681*L_s*L_{pa}*M_{sr}**2*R_a*p**2 + 4*L_s*L_{pa}*R_a*R_r*R_s*p**2 - 3.0*L_s*L_{pr}*M_{sa}**2*R_a*p**4 - 296088.132032681*L_s*L_{pr}*M_{sa}**2*R_a*p**2 + 2*L_s*L_{pr}*R_a**2*R_s*p**2 + 1.5*L_s*M_{ra}**2*M_{sa}**2*p**5 + 148044.06601634*L_s*M_{ra}**2*M_{sa}**2*p**3 - 2*L_s*M_{ra}**2*R_a*R_s*p**3 + 3.0*L_s*M_{ra}*M_{sa}*M_{sr}*R_a*p**4 + 296088.132032681*L_s*M_{ra}*M_{sa}*M_{sr}*R_a*p**2 - 5.82076609134674e-11*L_s*M_{sa}**4*p**3 - 5.82076609134674e-11*L_s*M_{sa}**2*M_{sr}**2*p**3 - 3.0*L_s*M_{sa}**2*R_a*R_r*p**3 - 296088.132032681*L_s*M_{sa}**2*R_a*R_r*p - 5.82076609134674e-11*L_s*M_{sa}**2*R_a*R_s*p - 1.5*L_s*M_{sr}**2*R_a**2*p**3 - 148044.06601634*L_s*M_{sr}**2*R_a**2*p + 2*L_s*R_a**2*R_r*R_s*p + L_{pa}**2*L_{pr}*R_s**2*p**3 - 1.5*L_{pa}**2*M_{sr}**2*R_s*p**4 + L_{pa}**2*R_r*R_s**2*p**2 - 3.0*L_{pa}*L_{pr}*M_{sa}**2*R_s*p**4 + 2*L_{pa}*L_{pr}*R_a*R_s**2*p**2 - L_{pa}*M_{ra}**2*R_s**2*p**3 + 3.0*L_{pa}*M_{ra}*M_{sa}*M_{sr}*R_s*p**4 + 2.25*L_{pa}*M_{sa}**2*M_{sr}**2*p**5 + 222066.099024511*L_{pa}*M_{sa}**2*M_{sr}**2*p**3 - 3.0*L_{pa}*M_{sa}**2*R_r*R_s*p**3 - 3.0*L_{pa}*M_{sr}**2*R_a*R_s*p**3 + 2*L_{pa}*R_a*R_r*R_s**2*p + 2.25*L_{pr}*M_{sa}**4*p**5 + 222066.099024511*L_{pr}*M_{sa}**4*p**3 - 3.0*L_{pr}*M_{sa}**2*R_a*R_s*p**3 + L_{pr}*R_a**2*R_s**2*p + 1.5*M_{ra}**2*M_{sa}**2*R_s*p**4 - M_{ra}**2*R_a*R_s**2*p**2 - 4.5*M_{ra}*M_{sa}**3*M_{sr}*p**5 - 444132.198049021*M_{ra}*M_{sa}**3*M_{sr}*p**3 + 3.0*M_{ra}*M_{sa}*M_{sr}*R_a*R_s*p**3 + 2.25*M_{sa}**4*R_r*p**4 + 222066.099024511*M_{sa}**4*R_r*p**2 + 2.25*M_{sa}**2*M_{sr}**2*R_a*p**4 + 222066.099024511*M_{sa}**2*M_{sr}**2*R_a*p**2 - 3.0*M_{sa}**2*R_a*R_r*R_s*p**2 - 1.5*M_{sr}**2*R_a**2*R_s*p**2 + R_a**2*R_r*R_s**2)"
      ]
     },
     "metadata": {},
     "output_type": "display_data"
    },
    {
     "data": {
      "text/latex": [
       "$\\displaystyle \\frac{L_{s} L_{pa}^{2} L_{pr} p^{4} + L_{s} L_{pa}^{2} R_{r} p^{3} + 2 L_{s} L_{pa} L_{pr} R_{a} p^{3} - L_{s} L_{pa} M_{ra}^{2} p^{4} + 2 L_{s} L_{pa} R_{a} R_{r} p^{2} + L_{s} L_{pr} R_{a}^{2} p^{2} - L_{s} M_{ra}^{2} R_{a} p^{3} + L_{s} R_{a}^{2} R_{r} p + L_{pa}^{2} L_{pr} R_{s} p^{3} - 1.5 L_{pa}^{2} M_{sr}^{2} p^{4} + L_{pa}^{2} R_{r} R_{s} p^{2} - 1.5 L_{pa} L_{pr} M_{sa}^{2} p^{4} + 2 L_{pa} L_{pr} R_{a} R_{s} p^{2} - L_{pa} M_{ra}^{2} R_{s} p^{3} + 3.0 L_{pa} M_{ra} M_{sa} M_{sr} p^{4} - 1.5 L_{pa} M_{sa}^{2} R_{r} p^{3} - 3.0 L_{pa} M_{sr}^{2} R_{a} p^{3} + 2 L_{pa} R_{a} R_{r} R_{s} p - 1.5 L_{pr} M_{sa}^{2} R_{a} p^{3} + L_{pr} R_{a}^{2} R_{s} p - M_{ra}^{2} R_{a} R_{s} p^{2} + 3.0 M_{ra} M_{sa} M_{sr} R_{a} p^{3} - 1.5 M_{sa}^{2} R_{a} R_{r} p^{2} - 1.5 M_{sr}^{2} R_{a}^{2} p^{2} + R_{a}^{2} R_{r} R_{s}}{5.82076609134674 \\cdot 10^{-11} L_{s}^{4} R_{s} p^{2} - 2.91038304567337 \\cdot 10^{-11} L_{s}^{3} M_{sa}^{2} p^{3} + 5.82076609134674 \\cdot 10^{-11} L_{s}^{3} R_{s}^{2} p + L_{s}^{2} L_{pa}^{2} L_{pr} p^{5} + 98696.0440108936 L_{s}^{2} L_{pa}^{2} L_{pr} p^{3} + L_{s}^{2} L_{pa}^{2} R_{r} p^{4} + 98696.0440108936 L_{s}^{2} L_{pa}^{2} R_{r} p^{2} + 2 L_{s}^{2} L_{pa} L_{pr} R_{a} p^{4} + 197392.088021787 L_{s}^{2} L_{pa} L_{pr} R_{a} p^{2} - L_{s}^{2} L_{pa} M_{ra}^{2} p^{5} - 98696.0440108936 L_{s}^{2} L_{pa} M_{ra}^{2} p^{3} - 2.91038304567337 \\cdot 10^{-11} L_{s}^{2} L_{pa} M_{sa}^{2} p^{3} + 2 L_{s}^{2} L_{pa} R_{a} R_{r} p^{3} + 197392.088021787 L_{s}^{2} L_{pa} R_{a} R_{r} p - 5.82076609134674 \\cdot 10^{-11} L_{s}^{2} L_{pr} M_{sa}^{2} p^{3} + L_{s}^{2} L_{pr} R_{a}^{2} p^{3} + 98696.0440108936 L_{s}^{2} L_{pr} R_{a}^{2} p - L_{s}^{2} M_{ra}^{2} R_{a} p^{4} - 98696.0440108936 L_{s}^{2} M_{ra}^{2} R_{a} p^{2} - 2.91038304567337 \\cdot 10^{-11} L_{s}^{2} M_{sa}^{2} R_{a} p^{2} - 5.82076609134674 \\cdot 10^{-11} L_{s}^{2} M_{sa}^{2} R_{r} p^{2} - 5.82076609134674 \\cdot 10^{-11} L_{s}^{2} M_{sa}^{2} R_{s} p^{2} + L_{s}^{2} R_{a}^{2} R_{r} p^{2} + 98696.0440108936 L_{s}^{2} R_{a}^{2} R_{r} + 2 L_{s} L_{pa}^{2} L_{pr} R_{s} p^{4} - 1.5 L_{s} L_{pa}^{2} M_{sr}^{2} p^{5} - 148044.06601634 L_{s} L_{pa}^{2} M_{sr}^{2} p^{3} + 2 L_{s} L_{pa}^{2} R_{r} R_{s} p^{3} - 3.0 L_{s} L_{pa} L_{pr} M_{sa}^{2} p^{5} - 296088.132032681 L_{s} L_{pa} L_{pr} M_{sa}^{2} p^{3} + 4 L_{s} L_{pa} L_{pr} R_{a} R_{s} p^{3} - 2 L_{s} L_{pa} M_{ra}^{2} R_{s} p^{4} + 3.0 L_{s} L_{pa} M_{ra} M_{sa} M_{sr} p^{5} + 296088.132032681 L_{s} L_{pa} M_{ra} M_{sa} M_{sr} p^{3} - 3.0 L_{s} L_{pa} M_{sa}^{2} R_{r} p^{4} - 296088.132032681 L_{s} L_{pa} M_{sa}^{2} R_{r} p^{2} - 5.82076609134674 \\cdot 10^{-11} L_{s} L_{pa} M_{sa}^{2} R_{s} p^{2} - 3.0 L_{s} L_{pa} M_{sr}^{2} R_{a} p^{4} - 296088.132032681 L_{s} L_{pa} M_{sr}^{2} R_{a} p^{2} + 4 L_{s} L_{pa} R_{a} R_{r} R_{s} p^{2} - 3.0 L_{s} L_{pr} M_{sa}^{2} R_{a} p^{4} - 296088.132032681 L_{s} L_{pr} M_{sa}^{2} R_{a} p^{2} + 2 L_{s} L_{pr} R_{a}^{2} R_{s} p^{2} + 1.5 L_{s} M_{ra}^{2} M_{sa}^{2} p^{5} + 148044.06601634 L_{s} M_{ra}^{2} M_{sa}^{2} p^{3} - 2 L_{s} M_{ra}^{2} R_{a} R_{s} p^{3} + 3.0 L_{s} M_{ra} M_{sa} M_{sr} R_{a} p^{4} + 296088.132032681 L_{s} M_{ra} M_{sa} M_{sr} R_{a} p^{2} - 5.82076609134674 \\cdot 10^{-11} L_{s} M_{sa}^{4} p^{3} - 5.82076609134674 \\cdot 10^{-11} L_{s} M_{sa}^{2} M_{sr}^{2} p^{3} - 3.0 L_{s} M_{sa}^{2} R_{a} R_{r} p^{3} - 296088.132032681 L_{s} M_{sa}^{2} R_{a} R_{r} p - 5.82076609134674 \\cdot 10^{-11} L_{s} M_{sa}^{2} R_{a} R_{s} p - 1.5 L_{s} M_{sr}^{2} R_{a}^{2} p^{3} - 148044.06601634 L_{s} M_{sr}^{2} R_{a}^{2} p + 2 L_{s} R_{a}^{2} R_{r} R_{s} p + L_{pa}^{2} L_{pr} R_{s}^{2} p^{3} - 1.5 L_{pa}^{2} M_{sr}^{2} R_{s} p^{4} + L_{pa}^{2} R_{r} R_{s}^{2} p^{2} - 3.0 L_{pa} L_{pr} M_{sa}^{2} R_{s} p^{4} + 2 L_{pa} L_{pr} R_{a} R_{s}^{2} p^{2} - L_{pa} M_{ra}^{2} R_{s}^{2} p^{3} + 3.0 L_{pa} M_{ra} M_{sa} M_{sr} R_{s} p^{4} + 2.25 L_{pa} M_{sa}^{2} M_{sr}^{2} p^{5} + 222066.099024511 L_{pa} M_{sa}^{2} M_{sr}^{2} p^{3} - 3.0 L_{pa} M_{sa}^{2} R_{r} R_{s} p^{3} - 3.0 L_{pa} M_{sr}^{2} R_{a} R_{s} p^{3} + 2 L_{pa} R_{a} R_{r} R_{s}^{2} p + 2.25 L_{pr} M_{sa}^{4} p^{5} + 222066.099024511 L_{pr} M_{sa}^{4} p^{3} - 3.0 L_{pr} M_{sa}^{2} R_{a} R_{s} p^{3} + L_{pr} R_{a}^{2} R_{s}^{2} p + 1.5 M_{ra}^{2} M_{sa}^{2} R_{s} p^{4} - M_{ra}^{2} R_{a} R_{s}^{2} p^{2} - 4.5 M_{ra} M_{sa}^{3} M_{sr} p^{5} - 444132.198049021 M_{ra} M_{sa}^{3} M_{sr} p^{3} + 3.0 M_{ra} M_{sa} M_{sr} R_{a} R_{s} p^{3} + 2.25 M_{sa}^{4} R_{r} p^{4} + 222066.099024511 M_{sa}^{4} R_{r} p^{2} + 2.25 M_{sa}^{2} M_{sr}^{2} R_{a} p^{4} + 222066.099024511 M_{sa}^{2} M_{sr}^{2} R_{a} p^{2} - 3.0 M_{sa}^{2} R_{a} R_{r} R_{s} p^{2} - 1.5 M_{sr}^{2} R_{a}^{2} R_{s} p^{2} + R_{a}^{2} R_{r} R_{s}^{2}}$"
      ],
      "text/plain": [
       "(L_s*L_{pa}**2*L_{pr}*p**4 + L_s*L_{pa}**2*R_r*p**3 + 2*L_s*L_{pa}*L_{pr}*R_a*p**3 - L_s*L_{pa}*M_{ra}**2*p**4 + 2*L_s*L_{pa}*R_a*R_r*p**2 + L_s*L_{pr}*R_a**2*p**2 - L_s*M_{ra}**2*R_a*p**3 + L_s*R_a**2*R_r*p + L_{pa}**2*L_{pr}*R_s*p**3 - 1.5*L_{pa}**2*M_{sr}**2*p**4 + L_{pa}**2*R_r*R_s*p**2 - 1.5*L_{pa}*L_{pr}*M_{sa}**2*p**4 + 2*L_{pa}*L_{pr}*R_a*R_s*p**2 - L_{pa}*M_{ra}**2*R_s*p**3 + 3.0*L_{pa}*M_{ra}*M_{sa}*M_{sr}*p**4 - 1.5*L_{pa}*M_{sa}**2*R_r*p**3 - 3.0*L_{pa}*M_{sr}**2*R_a*p**3 + 2*L_{pa}*R_a*R_r*R_s*p - 1.5*L_{pr}*M_{sa}**2*R_a*p**3 + L_{pr}*R_a**2*R_s*p - M_{ra}**2*R_a*R_s*p**2 + 3.0*M_{ra}*M_{sa}*M_{sr}*R_a*p**3 - 1.5*M_{sa}**2*R_a*R_r*p**2 - 1.5*M_{sr}**2*R_a**2*p**2 + R_a**2*R_r*R_s)/(5.82076609134674e-11*L_s**4*R_s*p**2 - 2.91038304567337e-11*L_s**3*M_{sa}**2*p**3 + 5.82076609134674e-11*L_s**3*R_s**2*p + L_s**2*L_{pa}**2*L_{pr}*p**5 + 98696.0440108936*L_s**2*L_{pa}**2*L_{pr}*p**3 + L_s**2*L_{pa}**2*R_r*p**4 + 98696.0440108936*L_s**2*L_{pa}**2*R_r*p**2 + 2*L_s**2*L_{pa}*L_{pr}*R_a*p**4 + 197392.088021787*L_s**2*L_{pa}*L_{pr}*R_a*p**2 - L_s**2*L_{pa}*M_{ra}**2*p**5 - 98696.0440108936*L_s**2*L_{pa}*M_{ra}**2*p**3 - 2.91038304567337e-11*L_s**2*L_{pa}*M_{sa}**2*p**3 + 2*L_s**2*L_{pa}*R_a*R_r*p**3 + 197392.088021787*L_s**2*L_{pa}*R_a*R_r*p - 5.82076609134674e-11*L_s**2*L_{pr}*M_{sa}**2*p**3 + L_s**2*L_{pr}*R_a**2*p**3 + 98696.0440108936*L_s**2*L_{pr}*R_a**2*p - L_s**2*M_{ra}**2*R_a*p**4 - 98696.0440108936*L_s**2*M_{ra}**2*R_a*p**2 - 2.91038304567337e-11*L_s**2*M_{sa}**2*R_a*p**2 - 5.82076609134674e-11*L_s**2*M_{sa}**2*R_r*p**2 - 5.82076609134674e-11*L_s**2*M_{sa}**2*R_s*p**2 + L_s**2*R_a**2*R_r*p**2 + 98696.0440108936*L_s**2*R_a**2*R_r + 2*L_s*L_{pa}**2*L_{pr}*R_s*p**4 - 1.5*L_s*L_{pa}**2*M_{sr}**2*p**5 - 148044.06601634*L_s*L_{pa}**2*M_{sr}**2*p**3 + 2*L_s*L_{pa}**2*R_r*R_s*p**3 - 3.0*L_s*L_{pa}*L_{pr}*M_{sa}**2*p**5 - 296088.132032681*L_s*L_{pa}*L_{pr}*M_{sa}**2*p**3 + 4*L_s*L_{pa}*L_{pr}*R_a*R_s*p**3 - 2*L_s*L_{pa}*M_{ra}**2*R_s*p**4 + 3.0*L_s*L_{pa}*M_{ra}*M_{sa}*M_{sr}*p**5 + 296088.132032681*L_s*L_{pa}*M_{ra}*M_{sa}*M_{sr}*p**3 - 3.0*L_s*L_{pa}*M_{sa}**2*R_r*p**4 - 296088.132032681*L_s*L_{pa}*M_{sa}**2*R_r*p**2 - 5.82076609134674e-11*L_s*L_{pa}*M_{sa}**2*R_s*p**2 - 3.0*L_s*L_{pa}*M_{sr}**2*R_a*p**4 - 296088.132032681*L_s*L_{pa}*M_{sr}**2*R_a*p**2 + 4*L_s*L_{pa}*R_a*R_r*R_s*p**2 - 3.0*L_s*L_{pr}*M_{sa}**2*R_a*p**4 - 296088.132032681*L_s*L_{pr}*M_{sa}**2*R_a*p**2 + 2*L_s*L_{pr}*R_a**2*R_s*p**2 + 1.5*L_s*M_{ra}**2*M_{sa}**2*p**5 + 148044.06601634*L_s*M_{ra}**2*M_{sa}**2*p**3 - 2*L_s*M_{ra}**2*R_a*R_s*p**3 + 3.0*L_s*M_{ra}*M_{sa}*M_{sr}*R_a*p**4 + 296088.132032681*L_s*M_{ra}*M_{sa}*M_{sr}*R_a*p**2 - 5.82076609134674e-11*L_s*M_{sa}**4*p**3 - 5.82076609134674e-11*L_s*M_{sa}**2*M_{sr}**2*p**3 - 3.0*L_s*M_{sa}**2*R_a*R_r*p**3 - 296088.132032681*L_s*M_{sa}**2*R_a*R_r*p - 5.82076609134674e-11*L_s*M_{sa}**2*R_a*R_s*p - 1.5*L_s*M_{sr}**2*R_a**2*p**3 - 148044.06601634*L_s*M_{sr}**2*R_a**2*p + 2*L_s*R_a**2*R_r*R_s*p + L_{pa}**2*L_{pr}*R_s**2*p**3 - 1.5*L_{pa}**2*M_{sr}**2*R_s*p**4 + L_{pa}**2*R_r*R_s**2*p**2 - 3.0*L_{pa}*L_{pr}*M_{sa}**2*R_s*p**4 + 2*L_{pa}*L_{pr}*R_a*R_s**2*p**2 - L_{pa}*M_{ra}**2*R_s**2*p**3 + 3.0*L_{pa}*M_{ra}*M_{sa}*M_{sr}*R_s*p**4 + 2.25*L_{pa}*M_{sa}**2*M_{sr}**2*p**5 + 222066.099024511*L_{pa}*M_{sa}**2*M_{sr}**2*p**3 - 3.0*L_{pa}*M_{sa}**2*R_r*R_s*p**3 - 3.0*L_{pa}*M_{sr}**2*R_a*R_s*p**3 + 2*L_{pa}*R_a*R_r*R_s**2*p + 2.25*L_{pr}*M_{sa}**4*p**5 + 222066.099024511*L_{pr}*M_{sa}**4*p**3 - 3.0*L_{pr}*M_{sa}**2*R_a*R_s*p**3 + L_{pr}*R_a**2*R_s**2*p + 1.5*M_{ra}**2*M_{sa}**2*R_s*p**4 - M_{ra}**2*R_a*R_s**2*p**2 - 4.5*M_{ra}*M_{sa}**3*M_{sr}*p**5 - 444132.198049021*M_{ra}*M_{sa}**3*M_{sr}*p**3 + 3.0*M_{ra}*M_{sa}*M_{sr}*R_a*R_s*p**3 + 2.25*M_{sa}**4*R_r*p**4 + 222066.099024511*M_{sa}**4*R_r*p**2 + 2.25*M_{sa}**2*M_{sr}**2*R_a*p**4 + 222066.099024511*M_{sa}**2*M_{sr}**2*R_a*p**2 - 3.0*M_{sa}**2*R_a*R_r*R_s*p**2 - 1.5*M_{sr}**2*R_a**2*R_s*p**2 + R_a**2*R_r*R_s**2)"
      ]
     },
     "metadata": {},
     "output_type": "display_data"
    },
    {
     "data": {
      "text/latex": [
       "$\\displaystyle \\frac{- L_{s} L_{pa}^{2} M_{sr} p^{4} - 98696.0440108936 L_{s} L_{pa}^{2} M_{sr} p^{2} + L_{s} L_{pa} M_{ra} M_{sa} p^{4} + 98696.0440108936 L_{s} L_{pa} M_{ra} M_{sa} p^{2} - 2 L_{s} L_{pa} M_{sr} R_{a} p^{3} - 197392.088021787 L_{s} L_{pa} M_{sr} R_{a} p + L_{s} M_{ra} M_{sa} R_{a} p^{3} + 98696.0440108936 L_{s} M_{ra} M_{sa} R_{a} p - L_{s} M_{sr} R_{a}^{2} p^{2} - 98696.0440108936 L_{s} M_{sr} R_{a}^{2} - L_{pa}^{2} M_{sr} R_{s} p^{3} + L_{pa} M_{ra} M_{sa} R_{s} p^{3} + 1.5 L_{pa} M_{sa}^{2} M_{sr} p^{4} + 148044.06601634 L_{pa} M_{sa}^{2} M_{sr} p^{2} - 2 L_{pa} M_{sr} R_{a} R_{s} p^{2} - 1.5 M_{ra} M_{sa}^{3} p^{4} - 148044.06601634 M_{ra} M_{sa}^{3} p^{2} + M_{ra} M_{sa} R_{a} R_{s} p^{2} + 1.5 M_{sa}^{2} M_{sr} R_{a} p^{3} + 148044.06601634 M_{sa}^{2} M_{sr} R_{a} p - M_{sr} R_{a}^{2} R_{s} p}{5.82076609134674 \\cdot 10^{-11} L_{s}^{4} R_{s} p^{2} - 2.91038304567337 \\cdot 10^{-11} L_{s}^{3} M_{sa}^{2} p^{3} + 5.82076609134674 \\cdot 10^{-11} L_{s}^{3} R_{s}^{2} p + L_{s}^{2} L_{pa}^{2} L_{pr} p^{5} + 98696.0440108936 L_{s}^{2} L_{pa}^{2} L_{pr} p^{3} + L_{s}^{2} L_{pa}^{2} R_{r} p^{4} + 98696.0440108936 L_{s}^{2} L_{pa}^{2} R_{r} p^{2} + 2 L_{s}^{2} L_{pa} L_{pr} R_{a} p^{4} + 197392.088021787 L_{s}^{2} L_{pa} L_{pr} R_{a} p^{2} - L_{s}^{2} L_{pa} M_{ra}^{2} p^{5} - 98696.0440108936 L_{s}^{2} L_{pa} M_{ra}^{2} p^{3} - 2.91038304567337 \\cdot 10^{-11} L_{s}^{2} L_{pa} M_{sa}^{2} p^{3} + 2 L_{s}^{2} L_{pa} R_{a} R_{r} p^{3} + 197392.088021787 L_{s}^{2} L_{pa} R_{a} R_{r} p - 5.82076609134674 \\cdot 10^{-11} L_{s}^{2} L_{pr} M_{sa}^{2} p^{3} + L_{s}^{2} L_{pr} R_{a}^{2} p^{3} + 98696.0440108936 L_{s}^{2} L_{pr} R_{a}^{2} p - L_{s}^{2} M_{ra}^{2} R_{a} p^{4} - 98696.0440108936 L_{s}^{2} M_{ra}^{2} R_{a} p^{2} - 2.91038304567337 \\cdot 10^{-11} L_{s}^{2} M_{sa}^{2} R_{a} p^{2} - 5.82076609134674 \\cdot 10^{-11} L_{s}^{2} M_{sa}^{2} R_{r} p^{2} - 5.82076609134674 \\cdot 10^{-11} L_{s}^{2} M_{sa}^{2} R_{s} p^{2} + L_{s}^{2} R_{a}^{2} R_{r} p^{2} + 98696.0440108936 L_{s}^{2} R_{a}^{2} R_{r} + 2 L_{s} L_{pa}^{2} L_{pr} R_{s} p^{4} - 1.5 L_{s} L_{pa}^{2} M_{sr}^{2} p^{5} - 148044.06601634 L_{s} L_{pa}^{2} M_{sr}^{2} p^{3} + 2 L_{s} L_{pa}^{2} R_{r} R_{s} p^{3} - 3.0 L_{s} L_{pa} L_{pr} M_{sa}^{2} p^{5} - 296088.132032681 L_{s} L_{pa} L_{pr} M_{sa}^{2} p^{3} + 4 L_{s} L_{pa} L_{pr} R_{a} R_{s} p^{3} - 2 L_{s} L_{pa} M_{ra}^{2} R_{s} p^{4} + 3.0 L_{s} L_{pa} M_{ra} M_{sa} M_{sr} p^{5} + 296088.132032681 L_{s} L_{pa} M_{ra} M_{sa} M_{sr} p^{3} - 3.0 L_{s} L_{pa} M_{sa}^{2} R_{r} p^{4} - 296088.132032681 L_{s} L_{pa} M_{sa}^{2} R_{r} p^{2} - 5.82076609134674 \\cdot 10^{-11} L_{s} L_{pa} M_{sa}^{2} R_{s} p^{2} - 3.0 L_{s} L_{pa} M_{sr}^{2} R_{a} p^{4} - 296088.132032681 L_{s} L_{pa} M_{sr}^{2} R_{a} p^{2} + 4 L_{s} L_{pa} R_{a} R_{r} R_{s} p^{2} - 3.0 L_{s} L_{pr} M_{sa}^{2} R_{a} p^{4} - 296088.132032681 L_{s} L_{pr} M_{sa}^{2} R_{a} p^{2} + 2 L_{s} L_{pr} R_{a}^{2} R_{s} p^{2} + 1.5 L_{s} M_{ra}^{2} M_{sa}^{2} p^{5} + 148044.06601634 L_{s} M_{ra}^{2} M_{sa}^{2} p^{3} - 2 L_{s} M_{ra}^{2} R_{a} R_{s} p^{3} + 3.0 L_{s} M_{ra} M_{sa} M_{sr} R_{a} p^{4} + 296088.132032681 L_{s} M_{ra} M_{sa} M_{sr} R_{a} p^{2} - 5.82076609134674 \\cdot 10^{-11} L_{s} M_{sa}^{4} p^{3} - 5.82076609134674 \\cdot 10^{-11} L_{s} M_{sa}^{2} M_{sr}^{2} p^{3} - 3.0 L_{s} M_{sa}^{2} R_{a} R_{r} p^{3} - 296088.132032681 L_{s} M_{sa}^{2} R_{a} R_{r} p - 5.82076609134674 \\cdot 10^{-11} L_{s} M_{sa}^{2} R_{a} R_{s} p - 1.5 L_{s} M_{sr}^{2} R_{a}^{2} p^{3} - 148044.06601634 L_{s} M_{sr}^{2} R_{a}^{2} p + 2 L_{s} R_{a}^{2} R_{r} R_{s} p + L_{pa}^{2} L_{pr} R_{s}^{2} p^{3} - 1.5 L_{pa}^{2} M_{sr}^{2} R_{s} p^{4} + L_{pa}^{2} R_{r} R_{s}^{2} p^{2} - 3.0 L_{pa} L_{pr} M_{sa}^{2} R_{s} p^{4} + 2 L_{pa} L_{pr} R_{a} R_{s}^{2} p^{2} - L_{pa} M_{ra}^{2} R_{s}^{2} p^{3} + 3.0 L_{pa} M_{ra} M_{sa} M_{sr} R_{s} p^{4} + 2.25 L_{pa} M_{sa}^{2} M_{sr}^{2} p^{5} + 222066.099024511 L_{pa} M_{sa}^{2} M_{sr}^{2} p^{3} - 3.0 L_{pa} M_{sa}^{2} R_{r} R_{s} p^{3} - 3.0 L_{pa} M_{sr}^{2} R_{a} R_{s} p^{3} + 2 L_{pa} R_{a} R_{r} R_{s}^{2} p + 2.25 L_{pr} M_{sa}^{4} p^{5} + 222066.099024511 L_{pr} M_{sa}^{4} p^{3} - 3.0 L_{pr} M_{sa}^{2} R_{a} R_{s} p^{3} + L_{pr} R_{a}^{2} R_{s}^{2} p + 1.5 M_{ra}^{2} M_{sa}^{2} R_{s} p^{4} - M_{ra}^{2} R_{a} R_{s}^{2} p^{2} - 4.5 M_{ra} M_{sa}^{3} M_{sr} p^{5} - 444132.198049021 M_{ra} M_{sa}^{3} M_{sr} p^{3} + 3.0 M_{ra} M_{sa} M_{sr} R_{a} R_{s} p^{3} + 2.25 M_{sa}^{4} R_{r} p^{4} + 222066.099024511 M_{sa}^{4} R_{r} p^{2} + 2.25 M_{sa}^{2} M_{sr}^{2} R_{a} p^{4} + 222066.099024511 M_{sa}^{2} M_{sr}^{2} R_{a} p^{2} - 3.0 M_{sa}^{2} R_{a} R_{r} R_{s} p^{2} - 1.5 M_{sr}^{2} R_{a}^{2} R_{s} p^{2} + R_{a}^{2} R_{r} R_{s}^{2}}$"
      ],
      "text/plain": [
       "(-L_s*L_{pa}**2*M_{sr}*p**4 - 98696.0440108936*L_s*L_{pa}**2*M_{sr}*p**2 + L_s*L_{pa}*M_{ra}*M_{sa}*p**4 + 98696.0440108936*L_s*L_{pa}*M_{ra}*M_{sa}*p**2 - 2*L_s*L_{pa}*M_{sr}*R_a*p**3 - 197392.088021787*L_s*L_{pa}*M_{sr}*R_a*p + L_s*M_{ra}*M_{sa}*R_a*p**3 + 98696.0440108936*L_s*M_{ra}*M_{sa}*R_a*p - L_s*M_{sr}*R_a**2*p**2 - 98696.0440108936*L_s*M_{sr}*R_a**2 - L_{pa}**2*M_{sr}*R_s*p**3 + L_{pa}*M_{ra}*M_{sa}*R_s*p**3 + 1.5*L_{pa}*M_{sa}**2*M_{sr}*p**4 + 148044.06601634*L_{pa}*M_{sa}**2*M_{sr}*p**2 - 2*L_{pa}*M_{sr}*R_a*R_s*p**2 - 1.5*M_{ra}*M_{sa}**3*p**4 - 148044.06601634*M_{ra}*M_{sa}**3*p**2 + M_{ra}*M_{sa}*R_a*R_s*p**2 + 1.5*M_{sa}**2*M_{sr}*R_a*p**3 + 148044.06601634*M_{sa}**2*M_{sr}*R_a*p - M_{sr}*R_a**2*R_s*p)/(5.82076609134674e-11*L_s**4*R_s*p**2 - 2.91038304567337e-11*L_s**3*M_{sa}**2*p**3 + 5.82076609134674e-11*L_s**3*R_s**2*p + L_s**2*L_{pa}**2*L_{pr}*p**5 + 98696.0440108936*L_s**2*L_{pa}**2*L_{pr}*p**3 + L_s**2*L_{pa}**2*R_r*p**4 + 98696.0440108936*L_s**2*L_{pa}**2*R_r*p**2 + 2*L_s**2*L_{pa}*L_{pr}*R_a*p**4 + 197392.088021787*L_s**2*L_{pa}*L_{pr}*R_a*p**2 - L_s**2*L_{pa}*M_{ra}**2*p**5 - 98696.0440108936*L_s**2*L_{pa}*M_{ra}**2*p**3 - 2.91038304567337e-11*L_s**2*L_{pa}*M_{sa}**2*p**3 + 2*L_s**2*L_{pa}*R_a*R_r*p**3 + 197392.088021787*L_s**2*L_{pa}*R_a*R_r*p - 5.82076609134674e-11*L_s**2*L_{pr}*M_{sa}**2*p**3 + L_s**2*L_{pr}*R_a**2*p**3 + 98696.0440108936*L_s**2*L_{pr}*R_a**2*p - L_s**2*M_{ra}**2*R_a*p**4 - 98696.0440108936*L_s**2*M_{ra}**2*R_a*p**2 - 2.91038304567337e-11*L_s**2*M_{sa}**2*R_a*p**2 - 5.82076609134674e-11*L_s**2*M_{sa}**2*R_r*p**2 - 5.82076609134674e-11*L_s**2*M_{sa}**2*R_s*p**2 + L_s**2*R_a**2*R_r*p**2 + 98696.0440108936*L_s**2*R_a**2*R_r + 2*L_s*L_{pa}**2*L_{pr}*R_s*p**4 - 1.5*L_s*L_{pa}**2*M_{sr}**2*p**5 - 148044.06601634*L_s*L_{pa}**2*M_{sr}**2*p**3 + 2*L_s*L_{pa}**2*R_r*R_s*p**3 - 3.0*L_s*L_{pa}*L_{pr}*M_{sa}**2*p**5 - 296088.132032681*L_s*L_{pa}*L_{pr}*M_{sa}**2*p**3 + 4*L_s*L_{pa}*L_{pr}*R_a*R_s*p**3 - 2*L_s*L_{pa}*M_{ra}**2*R_s*p**4 + 3.0*L_s*L_{pa}*M_{ra}*M_{sa}*M_{sr}*p**5 + 296088.132032681*L_s*L_{pa}*M_{ra}*M_{sa}*M_{sr}*p**3 - 3.0*L_s*L_{pa}*M_{sa}**2*R_r*p**4 - 296088.132032681*L_s*L_{pa}*M_{sa}**2*R_r*p**2 - 5.82076609134674e-11*L_s*L_{pa}*M_{sa}**2*R_s*p**2 - 3.0*L_s*L_{pa}*M_{sr}**2*R_a*p**4 - 296088.132032681*L_s*L_{pa}*M_{sr}**2*R_a*p**2 + 4*L_s*L_{pa}*R_a*R_r*R_s*p**2 - 3.0*L_s*L_{pr}*M_{sa}**2*R_a*p**4 - 296088.132032681*L_s*L_{pr}*M_{sa}**2*R_a*p**2 + 2*L_s*L_{pr}*R_a**2*R_s*p**2 + 1.5*L_s*M_{ra}**2*M_{sa}**2*p**5 + 148044.06601634*L_s*M_{ra}**2*M_{sa}**2*p**3 - 2*L_s*M_{ra}**2*R_a*R_s*p**3 + 3.0*L_s*M_{ra}*M_{sa}*M_{sr}*R_a*p**4 + 296088.132032681*L_s*M_{ra}*M_{sa}*M_{sr}*R_a*p**2 - 5.82076609134674e-11*L_s*M_{sa}**4*p**3 - 5.82076609134674e-11*L_s*M_{sa}**2*M_{sr}**2*p**3 - 3.0*L_s*M_{sa}**2*R_a*R_r*p**3 - 296088.132032681*L_s*M_{sa}**2*R_a*R_r*p - 5.82076609134674e-11*L_s*M_{sa}**2*R_a*R_s*p - 1.5*L_s*M_{sr}**2*R_a**2*p**3 - 148044.06601634*L_s*M_{sr}**2*R_a**2*p + 2*L_s*R_a**2*R_r*R_s*p + L_{pa}**2*L_{pr}*R_s**2*p**3 - 1.5*L_{pa}**2*M_{sr}**2*R_s*p**4 + L_{pa}**2*R_r*R_s**2*p**2 - 3.0*L_{pa}*L_{pr}*M_{sa}**2*R_s*p**4 + 2*L_{pa}*L_{pr}*R_a*R_s**2*p**2 - L_{pa}*M_{ra}**2*R_s**2*p**3 + 3.0*L_{pa}*M_{ra}*M_{sa}*M_{sr}*R_s*p**4 + 2.25*L_{pa}*M_{sa}**2*M_{sr}**2*p**5 + 222066.099024511*L_{pa}*M_{sa}**2*M_{sr}**2*p**3 - 3.0*L_{pa}*M_{sa}**2*R_r*R_s*p**3 - 3.0*L_{pa}*M_{sr}**2*R_a*R_s*p**3 + 2*L_{pa}*R_a*R_r*R_s**2*p + 2.25*L_{pr}*M_{sa}**4*p**5 + 222066.099024511*L_{pr}*M_{sa}**4*p**3 - 3.0*L_{pr}*M_{sa}**2*R_a*R_s*p**3 + L_{pr}*R_a**2*R_s**2*p + 1.5*M_{ra}**2*M_{sa}**2*R_s*p**4 - M_{ra}**2*R_a*R_s**2*p**2 - 4.5*M_{ra}*M_{sa}**3*M_{sr}*p**5 - 444132.198049021*M_{ra}*M_{sa}**3*M_{sr}*p**3 + 3.0*M_{ra}*M_{sa}*M_{sr}*R_a*R_s*p**3 + 2.25*M_{sa}**4*R_r*p**4 + 222066.099024511*M_{sa}**4*R_r*p**2 + 2.25*M_{sa}**2*M_{sr}**2*R_a*p**4 + 222066.099024511*M_{sa}**2*M_{sr}**2*R_a*p**2 - 3.0*M_{sa}**2*R_a*R_r*R_s*p**2 - 1.5*M_{sr}**2*R_a**2*R_s*p**2 + R_a**2*R_r*R_s**2)"
      ]
     },
     "metadata": {},
     "output_type": "display_data"
    },
    {
     "data": {
      "text/latex": [
       "$\\displaystyle \\frac{- 314.159265358979 L_{pa}^{2} M_{sr} R_{s} p^{2} + 314.159265358979 L_{pa} M_{ra} M_{sa} R_{s} p^{2} - 628.318530717959 L_{pa} M_{sr} R_{a} R_{s} p + 314.159265358979 M_{ra} M_{sa} R_{a} R_{s} p - 314.159265358979 M_{sr} R_{a}^{2} R_{s}}{5.82076609134674 \\cdot 10^{-11} L_{s}^{4} R_{s} p^{2} - 2.91038304567337 \\cdot 10^{-11} L_{s}^{3} M_{sa}^{2} p^{3} + 5.82076609134674 \\cdot 10^{-11} L_{s}^{3} R_{s}^{2} p + L_{s}^{2} L_{pa}^{2} L_{pr} p^{5} + 98696.0440108936 L_{s}^{2} L_{pa}^{2} L_{pr} p^{3} + L_{s}^{2} L_{pa}^{2} R_{r} p^{4} + 98696.0440108936 L_{s}^{2} L_{pa}^{2} R_{r} p^{2} + 2 L_{s}^{2} L_{pa} L_{pr} R_{a} p^{4} + 197392.088021787 L_{s}^{2} L_{pa} L_{pr} R_{a} p^{2} - L_{s}^{2} L_{pa} M_{ra}^{2} p^{5} - 98696.0440108936 L_{s}^{2} L_{pa} M_{ra}^{2} p^{3} - 2.91038304567337 \\cdot 10^{-11} L_{s}^{2} L_{pa} M_{sa}^{2} p^{3} + 2 L_{s}^{2} L_{pa} R_{a} R_{r} p^{3} + 197392.088021787 L_{s}^{2} L_{pa} R_{a} R_{r} p - 5.82076609134674 \\cdot 10^{-11} L_{s}^{2} L_{pr} M_{sa}^{2} p^{3} + L_{s}^{2} L_{pr} R_{a}^{2} p^{3} + 98696.0440108936 L_{s}^{2} L_{pr} R_{a}^{2} p - L_{s}^{2} M_{ra}^{2} R_{a} p^{4} - 98696.0440108936 L_{s}^{2} M_{ra}^{2} R_{a} p^{2} - 2.91038304567337 \\cdot 10^{-11} L_{s}^{2} M_{sa}^{2} R_{a} p^{2} - 5.82076609134674 \\cdot 10^{-11} L_{s}^{2} M_{sa}^{2} R_{r} p^{2} - 5.82076609134674 \\cdot 10^{-11} L_{s}^{2} M_{sa}^{2} R_{s} p^{2} + L_{s}^{2} R_{a}^{2} R_{r} p^{2} + 98696.0440108936 L_{s}^{2} R_{a}^{2} R_{r} + 2 L_{s} L_{pa}^{2} L_{pr} R_{s} p^{4} - 1.5 L_{s} L_{pa}^{2} M_{sr}^{2} p^{5} - 148044.06601634 L_{s} L_{pa}^{2} M_{sr}^{2} p^{3} + 2 L_{s} L_{pa}^{2} R_{r} R_{s} p^{3} - 3.0 L_{s} L_{pa} L_{pr} M_{sa}^{2} p^{5} - 296088.132032681 L_{s} L_{pa} L_{pr} M_{sa}^{2} p^{3} + 4 L_{s} L_{pa} L_{pr} R_{a} R_{s} p^{3} - 2 L_{s} L_{pa} M_{ra}^{2} R_{s} p^{4} + 3.0 L_{s} L_{pa} M_{ra} M_{sa} M_{sr} p^{5} + 296088.132032681 L_{s} L_{pa} M_{ra} M_{sa} M_{sr} p^{3} - 3.0 L_{s} L_{pa} M_{sa}^{2} R_{r} p^{4} - 296088.132032681 L_{s} L_{pa} M_{sa}^{2} R_{r} p^{2} - 5.82076609134674 \\cdot 10^{-11} L_{s} L_{pa} M_{sa}^{2} R_{s} p^{2} - 3.0 L_{s} L_{pa} M_{sr}^{2} R_{a} p^{4} - 296088.132032681 L_{s} L_{pa} M_{sr}^{2} R_{a} p^{2} + 4 L_{s} L_{pa} R_{a} R_{r} R_{s} p^{2} - 3.0 L_{s} L_{pr} M_{sa}^{2} R_{a} p^{4} - 296088.132032681 L_{s} L_{pr} M_{sa}^{2} R_{a} p^{2} + 2 L_{s} L_{pr} R_{a}^{2} R_{s} p^{2} + 1.5 L_{s} M_{ra}^{2} M_{sa}^{2} p^{5} + 148044.06601634 L_{s} M_{ra}^{2} M_{sa}^{2} p^{3} - 2 L_{s} M_{ra}^{2} R_{a} R_{s} p^{3} + 3.0 L_{s} M_{ra} M_{sa} M_{sr} R_{a} p^{4} + 296088.132032681 L_{s} M_{ra} M_{sa} M_{sr} R_{a} p^{2} - 5.82076609134674 \\cdot 10^{-11} L_{s} M_{sa}^{4} p^{3} - 5.82076609134674 \\cdot 10^{-11} L_{s} M_{sa}^{2} M_{sr}^{2} p^{3} - 3.0 L_{s} M_{sa}^{2} R_{a} R_{r} p^{3} - 296088.132032681 L_{s} M_{sa}^{2} R_{a} R_{r} p - 5.82076609134674 \\cdot 10^{-11} L_{s} M_{sa}^{2} R_{a} R_{s} p - 1.5 L_{s} M_{sr}^{2} R_{a}^{2} p^{3} - 148044.06601634 L_{s} M_{sr}^{2} R_{a}^{2} p + 2 L_{s} R_{a}^{2} R_{r} R_{s} p + L_{pa}^{2} L_{pr} R_{s}^{2} p^{3} - 1.5 L_{pa}^{2} M_{sr}^{2} R_{s} p^{4} + L_{pa}^{2} R_{r} R_{s}^{2} p^{2} - 3.0 L_{pa} L_{pr} M_{sa}^{2} R_{s} p^{4} + 2 L_{pa} L_{pr} R_{a} R_{s}^{2} p^{2} - L_{pa} M_{ra}^{2} R_{s}^{2} p^{3} + 3.0 L_{pa} M_{ra} M_{sa} M_{sr} R_{s} p^{4} + 2.25 L_{pa} M_{sa}^{2} M_{sr}^{2} p^{5} + 222066.099024511 L_{pa} M_{sa}^{2} M_{sr}^{2} p^{3} - 3.0 L_{pa} M_{sa}^{2} R_{r} R_{s} p^{3} - 3.0 L_{pa} M_{sr}^{2} R_{a} R_{s} p^{3} + 2 L_{pa} R_{a} R_{r} R_{s}^{2} p + 2.25 L_{pr} M_{sa}^{4} p^{5} + 222066.099024511 L_{pr} M_{sa}^{4} p^{3} - 3.0 L_{pr} M_{sa}^{2} R_{a} R_{s} p^{3} + L_{pr} R_{a}^{2} R_{s}^{2} p + 1.5 M_{ra}^{2} M_{sa}^{2} R_{s} p^{4} - M_{ra}^{2} R_{a} R_{s}^{2} p^{2} - 4.5 M_{ra} M_{sa}^{3} M_{sr} p^{5} - 444132.198049021 M_{ra} M_{sa}^{3} M_{sr} p^{3} + 3.0 M_{ra} M_{sa} M_{sr} R_{a} R_{s} p^{3} + 2.25 M_{sa}^{4} R_{r} p^{4} + 222066.099024511 M_{sa}^{4} R_{r} p^{2} + 2.25 M_{sa}^{2} M_{sr}^{2} R_{a} p^{4} + 222066.099024511 M_{sa}^{2} M_{sr}^{2} R_{a} p^{2} - 3.0 M_{sa}^{2} R_{a} R_{r} R_{s} p^{2} - 1.5 M_{sr}^{2} R_{a}^{2} R_{s} p^{2} + R_{a}^{2} R_{r} R_{s}^{2}}$"
      ],
      "text/plain": [
       "(-314.159265358979*L_{pa}**2*M_{sr}*R_s*p**2 + 314.159265358979*L_{pa}*M_{ra}*M_{sa}*R_s*p**2 - 628.318530717959*L_{pa}*M_{sr}*R_a*R_s*p + 314.159265358979*M_{ra}*M_{sa}*R_a*R_s*p - 314.159265358979*M_{sr}*R_a**2*R_s)/(5.82076609134674e-11*L_s**4*R_s*p**2 - 2.91038304567337e-11*L_s**3*M_{sa}**2*p**3 + 5.82076609134674e-11*L_s**3*R_s**2*p + L_s**2*L_{pa}**2*L_{pr}*p**5 + 98696.0440108936*L_s**2*L_{pa}**2*L_{pr}*p**3 + L_s**2*L_{pa}**2*R_r*p**4 + 98696.0440108936*L_s**2*L_{pa}**2*R_r*p**2 + 2*L_s**2*L_{pa}*L_{pr}*R_a*p**4 + 197392.088021787*L_s**2*L_{pa}*L_{pr}*R_a*p**2 - L_s**2*L_{pa}*M_{ra}**2*p**5 - 98696.0440108936*L_s**2*L_{pa}*M_{ra}**2*p**3 - 2.91038304567337e-11*L_s**2*L_{pa}*M_{sa}**2*p**3 + 2*L_s**2*L_{pa}*R_a*R_r*p**3 + 197392.088021787*L_s**2*L_{pa}*R_a*R_r*p - 5.82076609134674e-11*L_s**2*L_{pr}*M_{sa}**2*p**3 + L_s**2*L_{pr}*R_a**2*p**3 + 98696.0440108936*L_s**2*L_{pr}*R_a**2*p - L_s**2*M_{ra}**2*R_a*p**4 - 98696.0440108936*L_s**2*M_{ra}**2*R_a*p**2 - 2.91038304567337e-11*L_s**2*M_{sa}**2*R_a*p**2 - 5.82076609134674e-11*L_s**2*M_{sa}**2*R_r*p**2 - 5.82076609134674e-11*L_s**2*M_{sa}**2*R_s*p**2 + L_s**2*R_a**2*R_r*p**2 + 98696.0440108936*L_s**2*R_a**2*R_r + 2*L_s*L_{pa}**2*L_{pr}*R_s*p**4 - 1.5*L_s*L_{pa}**2*M_{sr}**2*p**5 - 148044.06601634*L_s*L_{pa}**2*M_{sr}**2*p**3 + 2*L_s*L_{pa}**2*R_r*R_s*p**3 - 3.0*L_s*L_{pa}*L_{pr}*M_{sa}**2*p**5 - 296088.132032681*L_s*L_{pa}*L_{pr}*M_{sa}**2*p**3 + 4*L_s*L_{pa}*L_{pr}*R_a*R_s*p**3 - 2*L_s*L_{pa}*M_{ra}**2*R_s*p**4 + 3.0*L_s*L_{pa}*M_{ra}*M_{sa}*M_{sr}*p**5 + 296088.132032681*L_s*L_{pa}*M_{ra}*M_{sa}*M_{sr}*p**3 - 3.0*L_s*L_{pa}*M_{sa}**2*R_r*p**4 - 296088.132032681*L_s*L_{pa}*M_{sa}**2*R_r*p**2 - 5.82076609134674e-11*L_s*L_{pa}*M_{sa}**2*R_s*p**2 - 3.0*L_s*L_{pa}*M_{sr}**2*R_a*p**4 - 296088.132032681*L_s*L_{pa}*M_{sr}**2*R_a*p**2 + 4*L_s*L_{pa}*R_a*R_r*R_s*p**2 - 3.0*L_s*L_{pr}*M_{sa}**2*R_a*p**4 - 296088.132032681*L_s*L_{pr}*M_{sa}**2*R_a*p**2 + 2*L_s*L_{pr}*R_a**2*R_s*p**2 + 1.5*L_s*M_{ra}**2*M_{sa}**2*p**5 + 148044.06601634*L_s*M_{ra}**2*M_{sa}**2*p**3 - 2*L_s*M_{ra}**2*R_a*R_s*p**3 + 3.0*L_s*M_{ra}*M_{sa}*M_{sr}*R_a*p**4 + 296088.132032681*L_s*M_{ra}*M_{sa}*M_{sr}*R_a*p**2 - 5.82076609134674e-11*L_s*M_{sa}**4*p**3 - 5.82076609134674e-11*L_s*M_{sa}**2*M_{sr}**2*p**3 - 3.0*L_s*M_{sa}**2*R_a*R_r*p**3 - 296088.132032681*L_s*M_{sa}**2*R_a*R_r*p - 5.82076609134674e-11*L_s*M_{sa}**2*R_a*R_s*p - 1.5*L_s*M_{sr}**2*R_a**2*p**3 - 148044.06601634*L_s*M_{sr}**2*R_a**2*p + 2*L_s*R_a**2*R_r*R_s*p + L_{pa}**2*L_{pr}*R_s**2*p**3 - 1.5*L_{pa}**2*M_{sr}**2*R_s*p**4 + L_{pa}**2*R_r*R_s**2*p**2 - 3.0*L_{pa}*L_{pr}*M_{sa}**2*R_s*p**4 + 2*L_{pa}*L_{pr}*R_a*R_s**2*p**2 - L_{pa}*M_{ra}**2*R_s**2*p**3 + 3.0*L_{pa}*M_{ra}*M_{sa}*M_{sr}*R_s*p**4 + 2.25*L_{pa}*M_{sa}**2*M_{sr}**2*p**5 + 222066.099024511*L_{pa}*M_{sa}**2*M_{sr}**2*p**3 - 3.0*L_{pa}*M_{sa}**2*R_r*R_s*p**3 - 3.0*L_{pa}*M_{sr}**2*R_a*R_s*p**3 + 2*L_{pa}*R_a*R_r*R_s**2*p + 2.25*L_{pr}*M_{sa}**4*p**5 + 222066.099024511*L_{pr}*M_{sa}**4*p**3 - 3.0*L_{pr}*M_{sa}**2*R_a*R_s*p**3 + L_{pr}*R_a**2*R_s**2*p + 1.5*M_{ra}**2*M_{sa}**2*R_s*p**4 - M_{ra}**2*R_a*R_s**2*p**2 - 4.5*M_{ra}*M_{sa}**3*M_{sr}*p**5 - 444132.198049021*M_{ra}*M_{sa}**3*M_{sr}*p**3 + 3.0*M_{ra}*M_{sa}*M_{sr}*R_a*R_s*p**3 + 2.25*M_{sa}**4*R_r*p**4 + 222066.099024511*M_{sa}**4*R_r*p**2 + 2.25*M_{sa}**2*M_{sr}**2*R_a*p**4 + 222066.099024511*M_{sa}**2*M_{sr}**2*R_a*p**2 - 3.0*M_{sa}**2*R_a*R_r*R_s*p**2 - 1.5*M_{sr}**2*R_a**2*R_s*p**2 + R_a**2*R_r*R_s**2)"
      ]
     },
     "metadata": {},
     "output_type": "display_data"
    },
    {
     "data": {
      "text/latex": [
       "$\\displaystyle \\frac{- L_{s} L_{pa} L_{pr} M_{sa} p^{4} - 98696.0440108936 L_{s} L_{pa} L_{pr} M_{sa} p^{2} + L_{s} L_{pa} M_{ra} M_{sr} p^{4} + 98696.0440108936 L_{s} L_{pa} M_{ra} M_{sr} p^{2} - L_{s} L_{pa} M_{sa} R_{r} p^{3} - 98696.0440108936 L_{s} L_{pa} M_{sa} R_{r} p - L_{s} L_{pr} M_{sa} R_{a} p^{3} - 98696.0440108936 L_{s} L_{pr} M_{sa} R_{a} p + L_{s} M_{ra} M_{sr} R_{a} p^{3} + 98696.0440108936 L_{s} M_{ra} M_{sr} R_{a} p - L_{s} M_{sa} R_{a} R_{r} p^{2} - 98696.0440108936 L_{s} M_{sa} R_{a} R_{r} - L_{pa} L_{pr} M_{sa} R_{s} p^{3} + L_{pa} M_{ra} M_{sr} R_{s} p^{3} - L_{pa} M_{sa} R_{r} R_{s} p^{2} + 1.5 L_{pr} M_{sa}^{3} p^{4} + 148044.06601634 L_{pr} M_{sa}^{3} p^{2} - L_{pr} M_{sa} R_{a} R_{s} p^{2} - 1.5 M_{ra} M_{sa}^{2} M_{sr} p^{4} - 148044.06601634 M_{ra} M_{sa}^{2} M_{sr} p^{2} + M_{ra} M_{sr} R_{a} R_{s} p^{2} + 1.5 M_{sa}^{3} R_{r} p^{3} + 148044.06601634 M_{sa}^{3} R_{r} p - M_{sa} R_{a} R_{r} R_{s} p}{5.82076609134674 \\cdot 10^{-11} L_{s}^{4} R_{s} p^{2} - 2.91038304567337 \\cdot 10^{-11} L_{s}^{3} M_{sa}^{2} p^{3} + 5.82076609134674 \\cdot 10^{-11} L_{s}^{3} R_{s}^{2} p + L_{s}^{2} L_{pa}^{2} L_{pr} p^{5} + 98696.0440108936 L_{s}^{2} L_{pa}^{2} L_{pr} p^{3} + L_{s}^{2} L_{pa}^{2} R_{r} p^{4} + 98696.0440108936 L_{s}^{2} L_{pa}^{2} R_{r} p^{2} + 2 L_{s}^{2} L_{pa} L_{pr} R_{a} p^{4} + 197392.088021787 L_{s}^{2} L_{pa} L_{pr} R_{a} p^{2} - L_{s}^{2} L_{pa} M_{ra}^{2} p^{5} - 98696.0440108936 L_{s}^{2} L_{pa} M_{ra}^{2} p^{3} - 2.91038304567337 \\cdot 10^{-11} L_{s}^{2} L_{pa} M_{sa}^{2} p^{3} + 2 L_{s}^{2} L_{pa} R_{a} R_{r} p^{3} + 197392.088021787 L_{s}^{2} L_{pa} R_{a} R_{r} p - 5.82076609134674 \\cdot 10^{-11} L_{s}^{2} L_{pr} M_{sa}^{2} p^{3} + L_{s}^{2} L_{pr} R_{a}^{2} p^{3} + 98696.0440108936 L_{s}^{2} L_{pr} R_{a}^{2} p - L_{s}^{2} M_{ra}^{2} R_{a} p^{4} - 98696.0440108936 L_{s}^{2} M_{ra}^{2} R_{a} p^{2} - 2.91038304567337 \\cdot 10^{-11} L_{s}^{2} M_{sa}^{2} R_{a} p^{2} - 5.82076609134674 \\cdot 10^{-11} L_{s}^{2} M_{sa}^{2} R_{r} p^{2} - 5.82076609134674 \\cdot 10^{-11} L_{s}^{2} M_{sa}^{2} R_{s} p^{2} + L_{s}^{2} R_{a}^{2} R_{r} p^{2} + 98696.0440108936 L_{s}^{2} R_{a}^{2} R_{r} + 2 L_{s} L_{pa}^{2} L_{pr} R_{s} p^{4} - 1.5 L_{s} L_{pa}^{2} M_{sr}^{2} p^{5} - 148044.06601634 L_{s} L_{pa}^{2} M_{sr}^{2} p^{3} + 2 L_{s} L_{pa}^{2} R_{r} R_{s} p^{3} - 3.0 L_{s} L_{pa} L_{pr} M_{sa}^{2} p^{5} - 296088.132032681 L_{s} L_{pa} L_{pr} M_{sa}^{2} p^{3} + 4 L_{s} L_{pa} L_{pr} R_{a} R_{s} p^{3} - 2 L_{s} L_{pa} M_{ra}^{2} R_{s} p^{4} + 3.0 L_{s} L_{pa} M_{ra} M_{sa} M_{sr} p^{5} + 296088.132032681 L_{s} L_{pa} M_{ra} M_{sa} M_{sr} p^{3} - 3.0 L_{s} L_{pa} M_{sa}^{2} R_{r} p^{4} - 296088.132032681 L_{s} L_{pa} M_{sa}^{2} R_{r} p^{2} - 5.82076609134674 \\cdot 10^{-11} L_{s} L_{pa} M_{sa}^{2} R_{s} p^{2} - 3.0 L_{s} L_{pa} M_{sr}^{2} R_{a} p^{4} - 296088.132032681 L_{s} L_{pa} M_{sr}^{2} R_{a} p^{2} + 4 L_{s} L_{pa} R_{a} R_{r} R_{s} p^{2} - 3.0 L_{s} L_{pr} M_{sa}^{2} R_{a} p^{4} - 296088.132032681 L_{s} L_{pr} M_{sa}^{2} R_{a} p^{2} + 2 L_{s} L_{pr} R_{a}^{2} R_{s} p^{2} + 1.5 L_{s} M_{ra}^{2} M_{sa}^{2} p^{5} + 148044.06601634 L_{s} M_{ra}^{2} M_{sa}^{2} p^{3} - 2 L_{s} M_{ra}^{2} R_{a} R_{s} p^{3} + 3.0 L_{s} M_{ra} M_{sa} M_{sr} R_{a} p^{4} + 296088.132032681 L_{s} M_{ra} M_{sa} M_{sr} R_{a} p^{2} - 5.82076609134674 \\cdot 10^{-11} L_{s} M_{sa}^{4} p^{3} - 5.82076609134674 \\cdot 10^{-11} L_{s} M_{sa}^{2} M_{sr}^{2} p^{3} - 3.0 L_{s} M_{sa}^{2} R_{a} R_{r} p^{3} - 296088.132032681 L_{s} M_{sa}^{2} R_{a} R_{r} p - 5.82076609134674 \\cdot 10^{-11} L_{s} M_{sa}^{2} R_{a} R_{s} p - 1.5 L_{s} M_{sr}^{2} R_{a}^{2} p^{3} - 148044.06601634 L_{s} M_{sr}^{2} R_{a}^{2} p + 2 L_{s} R_{a}^{2} R_{r} R_{s} p + L_{pa}^{2} L_{pr} R_{s}^{2} p^{3} - 1.5 L_{pa}^{2} M_{sr}^{2} R_{s} p^{4} + L_{pa}^{2} R_{r} R_{s}^{2} p^{2} - 3.0 L_{pa} L_{pr} M_{sa}^{2} R_{s} p^{4} + 2 L_{pa} L_{pr} R_{a} R_{s}^{2} p^{2} - L_{pa} M_{ra}^{2} R_{s}^{2} p^{3} + 3.0 L_{pa} M_{ra} M_{sa} M_{sr} R_{s} p^{4} + 2.25 L_{pa} M_{sa}^{2} M_{sr}^{2} p^{5} + 222066.099024511 L_{pa} M_{sa}^{2} M_{sr}^{2} p^{3} - 3.0 L_{pa} M_{sa}^{2} R_{r} R_{s} p^{3} - 3.0 L_{pa} M_{sr}^{2} R_{a} R_{s} p^{3} + 2 L_{pa} R_{a} R_{r} R_{s}^{2} p + 2.25 L_{pr} M_{sa}^{4} p^{5} + 222066.099024511 L_{pr} M_{sa}^{4} p^{3} - 3.0 L_{pr} M_{sa}^{2} R_{a} R_{s} p^{3} + L_{pr} R_{a}^{2} R_{s}^{2} p + 1.5 M_{ra}^{2} M_{sa}^{2} R_{s} p^{4} - M_{ra}^{2} R_{a} R_{s}^{2} p^{2} - 4.5 M_{ra} M_{sa}^{3} M_{sr} p^{5} - 444132.198049021 M_{ra} M_{sa}^{3} M_{sr} p^{3} + 3.0 M_{ra} M_{sa} M_{sr} R_{a} R_{s} p^{3} + 2.25 M_{sa}^{4} R_{r} p^{4} + 222066.099024511 M_{sa}^{4} R_{r} p^{2} + 2.25 M_{sa}^{2} M_{sr}^{2} R_{a} p^{4} + 222066.099024511 M_{sa}^{2} M_{sr}^{2} R_{a} p^{2} - 3.0 M_{sa}^{2} R_{a} R_{r} R_{s} p^{2} - 1.5 M_{sr}^{2} R_{a}^{2} R_{s} p^{2} + R_{a}^{2} R_{r} R_{s}^{2}}$"
      ],
      "text/plain": [
       "(-L_s*L_{pa}*L_{pr}*M_{sa}*p**4 - 98696.0440108936*L_s*L_{pa}*L_{pr}*M_{sa}*p**2 + L_s*L_{pa}*M_{ra}*M_{sr}*p**4 + 98696.0440108936*L_s*L_{pa}*M_{ra}*M_{sr}*p**2 - L_s*L_{pa}*M_{sa}*R_r*p**3 - 98696.0440108936*L_s*L_{pa}*M_{sa}*R_r*p - L_s*L_{pr}*M_{sa}*R_a*p**3 - 98696.0440108936*L_s*L_{pr}*M_{sa}*R_a*p + L_s*M_{ra}*M_{sr}*R_a*p**3 + 98696.0440108936*L_s*M_{ra}*M_{sr}*R_a*p - L_s*M_{sa}*R_a*R_r*p**2 - 98696.0440108936*L_s*M_{sa}*R_a*R_r - L_{pa}*L_{pr}*M_{sa}*R_s*p**3 + L_{pa}*M_{ra}*M_{sr}*R_s*p**3 - L_{pa}*M_{sa}*R_r*R_s*p**2 + 1.5*L_{pr}*M_{sa}**3*p**4 + 148044.06601634*L_{pr}*M_{sa}**3*p**2 - L_{pr}*M_{sa}*R_a*R_s*p**2 - 1.5*M_{ra}*M_{sa}**2*M_{sr}*p**4 - 148044.06601634*M_{ra}*M_{sa}**2*M_{sr}*p**2 + M_{ra}*M_{sr}*R_a*R_s*p**2 + 1.5*M_{sa}**3*R_r*p**3 + 148044.06601634*M_{sa}**3*R_r*p - M_{sa}*R_a*R_r*R_s*p)/(5.82076609134674e-11*L_s**4*R_s*p**2 - 2.91038304567337e-11*L_s**3*M_{sa}**2*p**3 + 5.82076609134674e-11*L_s**3*R_s**2*p + L_s**2*L_{pa}**2*L_{pr}*p**5 + 98696.0440108936*L_s**2*L_{pa}**2*L_{pr}*p**3 + L_s**2*L_{pa}**2*R_r*p**4 + 98696.0440108936*L_s**2*L_{pa}**2*R_r*p**2 + 2*L_s**2*L_{pa}*L_{pr}*R_a*p**4 + 197392.088021787*L_s**2*L_{pa}*L_{pr}*R_a*p**2 - L_s**2*L_{pa}*M_{ra}**2*p**5 - 98696.0440108936*L_s**2*L_{pa}*M_{ra}**2*p**3 - 2.91038304567337e-11*L_s**2*L_{pa}*M_{sa}**2*p**3 + 2*L_s**2*L_{pa}*R_a*R_r*p**3 + 197392.088021787*L_s**2*L_{pa}*R_a*R_r*p - 5.82076609134674e-11*L_s**2*L_{pr}*M_{sa}**2*p**3 + L_s**2*L_{pr}*R_a**2*p**3 + 98696.0440108936*L_s**2*L_{pr}*R_a**2*p - L_s**2*M_{ra}**2*R_a*p**4 - 98696.0440108936*L_s**2*M_{ra}**2*R_a*p**2 - 2.91038304567337e-11*L_s**2*M_{sa}**2*R_a*p**2 - 5.82076609134674e-11*L_s**2*M_{sa}**2*R_r*p**2 - 5.82076609134674e-11*L_s**2*M_{sa}**2*R_s*p**2 + L_s**2*R_a**2*R_r*p**2 + 98696.0440108936*L_s**2*R_a**2*R_r + 2*L_s*L_{pa}**2*L_{pr}*R_s*p**4 - 1.5*L_s*L_{pa}**2*M_{sr}**2*p**5 - 148044.06601634*L_s*L_{pa}**2*M_{sr}**2*p**3 + 2*L_s*L_{pa}**2*R_r*R_s*p**3 - 3.0*L_s*L_{pa}*L_{pr}*M_{sa}**2*p**5 - 296088.132032681*L_s*L_{pa}*L_{pr}*M_{sa}**2*p**3 + 4*L_s*L_{pa}*L_{pr}*R_a*R_s*p**3 - 2*L_s*L_{pa}*M_{ra}**2*R_s*p**4 + 3.0*L_s*L_{pa}*M_{ra}*M_{sa}*M_{sr}*p**5 + 296088.132032681*L_s*L_{pa}*M_{ra}*M_{sa}*M_{sr}*p**3 - 3.0*L_s*L_{pa}*M_{sa}**2*R_r*p**4 - 296088.132032681*L_s*L_{pa}*M_{sa}**2*R_r*p**2 - 5.82076609134674e-11*L_s*L_{pa}*M_{sa}**2*R_s*p**2 - 3.0*L_s*L_{pa}*M_{sr}**2*R_a*p**4 - 296088.132032681*L_s*L_{pa}*M_{sr}**2*R_a*p**2 + 4*L_s*L_{pa}*R_a*R_r*R_s*p**2 - 3.0*L_s*L_{pr}*M_{sa}**2*R_a*p**4 - 296088.132032681*L_s*L_{pr}*M_{sa}**2*R_a*p**2 + 2*L_s*L_{pr}*R_a**2*R_s*p**2 + 1.5*L_s*M_{ra}**2*M_{sa}**2*p**5 + 148044.06601634*L_s*M_{ra}**2*M_{sa}**2*p**3 - 2*L_s*M_{ra}**2*R_a*R_s*p**3 + 3.0*L_s*M_{ra}*M_{sa}*M_{sr}*R_a*p**4 + 296088.132032681*L_s*M_{ra}*M_{sa}*M_{sr}*R_a*p**2 - 5.82076609134674e-11*L_s*M_{sa}**4*p**3 - 5.82076609134674e-11*L_s*M_{sa}**2*M_{sr}**2*p**3 - 3.0*L_s*M_{sa}**2*R_a*R_r*p**3 - 296088.132032681*L_s*M_{sa}**2*R_a*R_r*p - 5.82076609134674e-11*L_s*M_{sa}**2*R_a*R_s*p - 1.5*L_s*M_{sr}**2*R_a**2*p**3 - 148044.06601634*L_s*M_{sr}**2*R_a**2*p + 2*L_s*R_a**2*R_r*R_s*p + L_{pa}**2*L_{pr}*R_s**2*p**3 - 1.5*L_{pa}**2*M_{sr}**2*R_s*p**4 + L_{pa}**2*R_r*R_s**2*p**2 - 3.0*L_{pa}*L_{pr}*M_{sa}**2*R_s*p**4 + 2*L_{pa}*L_{pr}*R_a*R_s**2*p**2 - L_{pa}*M_{ra}**2*R_s**2*p**3 + 3.0*L_{pa}*M_{ra}*M_{sa}*M_{sr}*R_s*p**4 + 2.25*L_{pa}*M_{sa}**2*M_{sr}**2*p**5 + 222066.099024511*L_{pa}*M_{sa}**2*M_{sr}**2*p**3 - 3.0*L_{pa}*M_{sa}**2*R_r*R_s*p**3 - 3.0*L_{pa}*M_{sr}**2*R_a*R_s*p**3 + 2*L_{pa}*R_a*R_r*R_s**2*p + 2.25*L_{pr}*M_{sa}**4*p**5 + 222066.099024511*L_{pr}*M_{sa}**4*p**3 - 3.0*L_{pr}*M_{sa}**2*R_a*R_s*p**3 + L_{pr}*R_a**2*R_s**2*p + 1.5*M_{ra}**2*M_{sa}**2*R_s*p**4 - M_{ra}**2*R_a*R_s**2*p**2 - 4.5*M_{ra}*M_{sa}**3*M_{sr}*p**5 - 444132.198049021*M_{ra}*M_{sa}**3*M_{sr}*p**3 + 3.0*M_{ra}*M_{sa}*M_{sr}*R_a*R_s*p**3 + 2.25*M_{sa}**4*R_r*p**4 + 222066.099024511*M_{sa}**4*R_r*p**2 + 2.25*M_{sa}**2*M_{sr}**2*R_a*p**4 + 222066.099024511*M_{sa}**2*M_{sr}**2*R_a*p**2 - 3.0*M_{sa}**2*R_a*R_r*R_s*p**2 - 1.5*M_{sr}**2*R_a**2*R_s*p**2 + R_a**2*R_r*R_s**2)"
      ]
     },
     "metadata": {},
     "output_type": "display_data"
    },
    {
     "data": {
      "text/latex": [
       "$\\displaystyle \\frac{- 314.159265358979 L_{pa} L_{pr} M_{sa} R_{s} p^{2} + 314.159265358979 L_{pa} M_{ra} M_{sr} R_{s} p^{2} - 314.159265358979 L_{pa} M_{sa} R_{r} R_{s} p - 314.159265358979 L_{pr} M_{sa} R_{a} R_{s} p + 314.159265358979 M_{ra} M_{sr} R_{a} R_{s} p - 314.159265358979 M_{sa} R_{a} R_{r} R_{s}}{5.82076609134674 \\cdot 10^{-11} L_{s}^{4} R_{s} p^{2} - 2.91038304567337 \\cdot 10^{-11} L_{s}^{3} M_{sa}^{2} p^{3} + 5.82076609134674 \\cdot 10^{-11} L_{s}^{3} R_{s}^{2} p + L_{s}^{2} L_{pa}^{2} L_{pr} p^{5} + 98696.0440108936 L_{s}^{2} L_{pa}^{2} L_{pr} p^{3} + L_{s}^{2} L_{pa}^{2} R_{r} p^{4} + 98696.0440108936 L_{s}^{2} L_{pa}^{2} R_{r} p^{2} + 2 L_{s}^{2} L_{pa} L_{pr} R_{a} p^{4} + 197392.088021787 L_{s}^{2} L_{pa} L_{pr} R_{a} p^{2} - L_{s}^{2} L_{pa} M_{ra}^{2} p^{5} - 98696.0440108936 L_{s}^{2} L_{pa} M_{ra}^{2} p^{3} - 2.91038304567337 \\cdot 10^{-11} L_{s}^{2} L_{pa} M_{sa}^{2} p^{3} + 2 L_{s}^{2} L_{pa} R_{a} R_{r} p^{3} + 197392.088021787 L_{s}^{2} L_{pa} R_{a} R_{r} p - 5.82076609134674 \\cdot 10^{-11} L_{s}^{2} L_{pr} M_{sa}^{2} p^{3} + L_{s}^{2} L_{pr} R_{a}^{2} p^{3} + 98696.0440108936 L_{s}^{2} L_{pr} R_{a}^{2} p - L_{s}^{2} M_{ra}^{2} R_{a} p^{4} - 98696.0440108936 L_{s}^{2} M_{ra}^{2} R_{a} p^{2} - 2.91038304567337 \\cdot 10^{-11} L_{s}^{2} M_{sa}^{2} R_{a} p^{2} - 5.82076609134674 \\cdot 10^{-11} L_{s}^{2} M_{sa}^{2} R_{r} p^{2} - 5.82076609134674 \\cdot 10^{-11} L_{s}^{2} M_{sa}^{2} R_{s} p^{2} + L_{s}^{2} R_{a}^{2} R_{r} p^{2} + 98696.0440108936 L_{s}^{2} R_{a}^{2} R_{r} + 2 L_{s} L_{pa}^{2} L_{pr} R_{s} p^{4} - 1.5 L_{s} L_{pa}^{2} M_{sr}^{2} p^{5} - 148044.06601634 L_{s} L_{pa}^{2} M_{sr}^{2} p^{3} + 2 L_{s} L_{pa}^{2} R_{r} R_{s} p^{3} - 3.0 L_{s} L_{pa} L_{pr} M_{sa}^{2} p^{5} - 296088.132032681 L_{s} L_{pa} L_{pr} M_{sa}^{2} p^{3} + 4 L_{s} L_{pa} L_{pr} R_{a} R_{s} p^{3} - 2 L_{s} L_{pa} M_{ra}^{2} R_{s} p^{4} + 3.0 L_{s} L_{pa} M_{ra} M_{sa} M_{sr} p^{5} + 296088.132032681 L_{s} L_{pa} M_{ra} M_{sa} M_{sr} p^{3} - 3.0 L_{s} L_{pa} M_{sa}^{2} R_{r} p^{4} - 296088.132032681 L_{s} L_{pa} M_{sa}^{2} R_{r} p^{2} - 5.82076609134674 \\cdot 10^{-11} L_{s} L_{pa} M_{sa}^{2} R_{s} p^{2} - 3.0 L_{s} L_{pa} M_{sr}^{2} R_{a} p^{4} - 296088.132032681 L_{s} L_{pa} M_{sr}^{2} R_{a} p^{2} + 4 L_{s} L_{pa} R_{a} R_{r} R_{s} p^{2} - 3.0 L_{s} L_{pr} M_{sa}^{2} R_{a} p^{4} - 296088.132032681 L_{s} L_{pr} M_{sa}^{2} R_{a} p^{2} + 2 L_{s} L_{pr} R_{a}^{2} R_{s} p^{2} + 1.5 L_{s} M_{ra}^{2} M_{sa}^{2} p^{5} + 148044.06601634 L_{s} M_{ra}^{2} M_{sa}^{2} p^{3} - 2 L_{s} M_{ra}^{2} R_{a} R_{s} p^{3} + 3.0 L_{s} M_{ra} M_{sa} M_{sr} R_{a} p^{4} + 296088.132032681 L_{s} M_{ra} M_{sa} M_{sr} R_{a} p^{2} - 5.82076609134674 \\cdot 10^{-11} L_{s} M_{sa}^{4} p^{3} - 5.82076609134674 \\cdot 10^{-11} L_{s} M_{sa}^{2} M_{sr}^{2} p^{3} - 3.0 L_{s} M_{sa}^{2} R_{a} R_{r} p^{3} - 296088.132032681 L_{s} M_{sa}^{2} R_{a} R_{r} p - 5.82076609134674 \\cdot 10^{-11} L_{s} M_{sa}^{2} R_{a} R_{s} p - 1.5 L_{s} M_{sr}^{2} R_{a}^{2} p^{3} - 148044.06601634 L_{s} M_{sr}^{2} R_{a}^{2} p + 2 L_{s} R_{a}^{2} R_{r} R_{s} p + L_{pa}^{2} L_{pr} R_{s}^{2} p^{3} - 1.5 L_{pa}^{2} M_{sr}^{2} R_{s} p^{4} + L_{pa}^{2} R_{r} R_{s}^{2} p^{2} - 3.0 L_{pa} L_{pr} M_{sa}^{2} R_{s} p^{4} + 2 L_{pa} L_{pr} R_{a} R_{s}^{2} p^{2} - L_{pa} M_{ra}^{2} R_{s}^{2} p^{3} + 3.0 L_{pa} M_{ra} M_{sa} M_{sr} R_{s} p^{4} + 2.25 L_{pa} M_{sa}^{2} M_{sr}^{2} p^{5} + 222066.099024511 L_{pa} M_{sa}^{2} M_{sr}^{2} p^{3} - 3.0 L_{pa} M_{sa}^{2} R_{r} R_{s} p^{3} - 3.0 L_{pa} M_{sr}^{2} R_{a} R_{s} p^{3} + 2 L_{pa} R_{a} R_{r} R_{s}^{2} p + 2.25 L_{pr} M_{sa}^{4} p^{5} + 222066.099024511 L_{pr} M_{sa}^{4} p^{3} - 3.0 L_{pr} M_{sa}^{2} R_{a} R_{s} p^{3} + L_{pr} R_{a}^{2} R_{s}^{2} p + 1.5 M_{ra}^{2} M_{sa}^{2} R_{s} p^{4} - M_{ra}^{2} R_{a} R_{s}^{2} p^{2} - 4.5 M_{ra} M_{sa}^{3} M_{sr} p^{5} - 444132.198049021 M_{ra} M_{sa}^{3} M_{sr} p^{3} + 3.0 M_{ra} M_{sa} M_{sr} R_{a} R_{s} p^{3} + 2.25 M_{sa}^{4} R_{r} p^{4} + 222066.099024511 M_{sa}^{4} R_{r} p^{2} + 2.25 M_{sa}^{2} M_{sr}^{2} R_{a} p^{4} + 222066.099024511 M_{sa}^{2} M_{sr}^{2} R_{a} p^{2} - 3.0 M_{sa}^{2} R_{a} R_{r} R_{s} p^{2} - 1.5 M_{sr}^{2} R_{a}^{2} R_{s} p^{2} + R_{a}^{2} R_{r} R_{s}^{2}}$"
      ],
      "text/plain": [
       "(-314.159265358979*L_{pa}*L_{pr}*M_{sa}*R_s*p**2 + 314.159265358979*L_{pa}*M_{ra}*M_{sr}*R_s*p**2 - 314.159265358979*L_{pa}*M_{sa}*R_r*R_s*p - 314.159265358979*L_{pr}*M_{sa}*R_a*R_s*p + 314.159265358979*M_{ra}*M_{sr}*R_a*R_s*p - 314.159265358979*M_{sa}*R_a*R_r*R_s)/(5.82076609134674e-11*L_s**4*R_s*p**2 - 2.91038304567337e-11*L_s**3*M_{sa}**2*p**3 + 5.82076609134674e-11*L_s**3*R_s**2*p + L_s**2*L_{pa}**2*L_{pr}*p**5 + 98696.0440108936*L_s**2*L_{pa}**2*L_{pr}*p**3 + L_s**2*L_{pa}**2*R_r*p**4 + 98696.0440108936*L_s**2*L_{pa}**2*R_r*p**2 + 2*L_s**2*L_{pa}*L_{pr}*R_a*p**4 + 197392.088021787*L_s**2*L_{pa}*L_{pr}*R_a*p**2 - L_s**2*L_{pa}*M_{ra}**2*p**5 - 98696.0440108936*L_s**2*L_{pa}*M_{ra}**2*p**3 - 2.91038304567337e-11*L_s**2*L_{pa}*M_{sa}**2*p**3 + 2*L_s**2*L_{pa}*R_a*R_r*p**3 + 197392.088021787*L_s**2*L_{pa}*R_a*R_r*p - 5.82076609134674e-11*L_s**2*L_{pr}*M_{sa}**2*p**3 + L_s**2*L_{pr}*R_a**2*p**3 + 98696.0440108936*L_s**2*L_{pr}*R_a**2*p - L_s**2*M_{ra}**2*R_a*p**4 - 98696.0440108936*L_s**2*M_{ra}**2*R_a*p**2 - 2.91038304567337e-11*L_s**2*M_{sa}**2*R_a*p**2 - 5.82076609134674e-11*L_s**2*M_{sa}**2*R_r*p**2 - 5.82076609134674e-11*L_s**2*M_{sa}**2*R_s*p**2 + L_s**2*R_a**2*R_r*p**2 + 98696.0440108936*L_s**2*R_a**2*R_r + 2*L_s*L_{pa}**2*L_{pr}*R_s*p**4 - 1.5*L_s*L_{pa}**2*M_{sr}**2*p**5 - 148044.06601634*L_s*L_{pa}**2*M_{sr}**2*p**3 + 2*L_s*L_{pa}**2*R_r*R_s*p**3 - 3.0*L_s*L_{pa}*L_{pr}*M_{sa}**2*p**5 - 296088.132032681*L_s*L_{pa}*L_{pr}*M_{sa}**2*p**3 + 4*L_s*L_{pa}*L_{pr}*R_a*R_s*p**3 - 2*L_s*L_{pa}*M_{ra}**2*R_s*p**4 + 3.0*L_s*L_{pa}*M_{ra}*M_{sa}*M_{sr}*p**5 + 296088.132032681*L_s*L_{pa}*M_{ra}*M_{sa}*M_{sr}*p**3 - 3.0*L_s*L_{pa}*M_{sa}**2*R_r*p**4 - 296088.132032681*L_s*L_{pa}*M_{sa}**2*R_r*p**2 - 5.82076609134674e-11*L_s*L_{pa}*M_{sa}**2*R_s*p**2 - 3.0*L_s*L_{pa}*M_{sr}**2*R_a*p**4 - 296088.132032681*L_s*L_{pa}*M_{sr}**2*R_a*p**2 + 4*L_s*L_{pa}*R_a*R_r*R_s*p**2 - 3.0*L_s*L_{pr}*M_{sa}**2*R_a*p**4 - 296088.132032681*L_s*L_{pr}*M_{sa}**2*R_a*p**2 + 2*L_s*L_{pr}*R_a**2*R_s*p**2 + 1.5*L_s*M_{ra}**2*M_{sa}**2*p**5 + 148044.06601634*L_s*M_{ra}**2*M_{sa}**2*p**3 - 2*L_s*M_{ra}**2*R_a*R_s*p**3 + 3.0*L_s*M_{ra}*M_{sa}*M_{sr}*R_a*p**4 + 296088.132032681*L_s*M_{ra}*M_{sa}*M_{sr}*R_a*p**2 - 5.82076609134674e-11*L_s*M_{sa}**4*p**3 - 5.82076609134674e-11*L_s*M_{sa}**2*M_{sr}**2*p**3 - 3.0*L_s*M_{sa}**2*R_a*R_r*p**3 - 296088.132032681*L_s*M_{sa}**2*R_a*R_r*p - 5.82076609134674e-11*L_s*M_{sa}**2*R_a*R_s*p - 1.5*L_s*M_{sr}**2*R_a**2*p**3 - 148044.06601634*L_s*M_{sr}**2*R_a**2*p + 2*L_s*R_a**2*R_r*R_s*p + L_{pa}**2*L_{pr}*R_s**2*p**3 - 1.5*L_{pa}**2*M_{sr}**2*R_s*p**4 + L_{pa}**2*R_r*R_s**2*p**2 - 3.0*L_{pa}*L_{pr}*M_{sa}**2*R_s*p**4 + 2*L_{pa}*L_{pr}*R_a*R_s**2*p**2 - L_{pa}*M_{ra}**2*R_s**2*p**3 + 3.0*L_{pa}*M_{ra}*M_{sa}*M_{sr}*R_s*p**4 + 2.25*L_{pa}*M_{sa}**2*M_{sr}**2*p**5 + 222066.099024511*L_{pa}*M_{sa}**2*M_{sr}**2*p**3 - 3.0*L_{pa}*M_{sa}**2*R_r*R_s*p**3 - 3.0*L_{pa}*M_{sr}**2*R_a*R_s*p**3 + 2*L_{pa}*R_a*R_r*R_s**2*p + 2.25*L_{pr}*M_{sa}**4*p**5 + 222066.099024511*L_{pr}*M_{sa}**4*p**3 - 3.0*L_{pr}*M_{sa}**2*R_a*R_s*p**3 + L_{pr}*R_a**2*R_s**2*p + 1.5*M_{ra}**2*M_{sa}**2*R_s*p**4 - M_{ra}**2*R_a*R_s**2*p**2 - 4.5*M_{ra}*M_{sa}**3*M_{sr}*p**5 - 444132.198049021*M_{ra}*M_{sa}**3*M_{sr}*p**3 + 3.0*M_{ra}*M_{sa}*M_{sr}*R_a*R_s*p**3 + 2.25*M_{sa}**4*R_r*p**4 + 222066.099024511*M_{sa}**4*R_r*p**2 + 2.25*M_{sa}**2*M_{sr}**2*R_a*p**4 + 222066.099024511*M_{sa}**2*M_{sr}**2*R_a*p**2 - 3.0*M_{sa}**2*R_a*R_r*R_s*p**2 - 1.5*M_{sr}**2*R_a**2*R_s*p**2 + R_a**2*R_r*R_s**2)"
      ]
     },
     "metadata": {},
     "output_type": "display_data"
    },
    {
     "data": {
      "text/latex": [
       "$\\displaystyle \\frac{- L_{s} L_{pa} L_{pr} M_{sa} p^{4} - 98696.0440108936 L_{s} L_{pa} L_{pr} M_{sa} p^{2} - L_{s} L_{pa} M_{sa} R_{r} p^{3} - 98696.0440108936 L_{s} L_{pa} M_{sa} R_{r} p - L_{s} L_{pr} M_{sa} R_{a} p^{3} - 98696.0440108936 L_{s} L_{pr} M_{sa} R_{a} p + L_{s} M_{ra}^{2} M_{sa} p^{4} + 98696.0440108936 L_{s} M_{ra}^{2} M_{sa} p^{2} - L_{s} M_{sa} R_{a} R_{r} p^{2} - 98696.0440108936 L_{s} M_{sa} R_{a} R_{r} - L_{pa} L_{pr} M_{sa} R_{s} p^{3} + 1.5 L_{pa} M_{sa} M_{sr}^{2} p^{4} + 148044.06601634 L_{pa} M_{sa} M_{sr}^{2} p^{2} - L_{pa} M_{sa} R_{r} R_{s} p^{2} + 1.5 L_{pr} M_{sa}^{3} p^{4} + 148044.06601634 L_{pr} M_{sa}^{3} p^{2} - L_{pr} M_{sa} R_{a} R_{s} p^{2} + M_{ra}^{2} M_{sa} R_{s} p^{3} - 3.0 M_{ra} M_{sa}^{2} M_{sr} p^{4} - 296088.132032681 M_{ra} M_{sa}^{2} M_{sr} p^{2} + 1.5 M_{sa}^{3} R_{r} p^{3} + 148044.06601634 M_{sa}^{3} R_{r} p + 1.5 M_{sa} M_{sr}^{2} R_{a} p^{3} + 148044.06601634 M_{sa} M_{sr}^{2} R_{a} p - M_{sa} R_{a} R_{r} R_{s} p}{5.82076609134674 \\cdot 10^{-11} L_{s}^{4} R_{s} p^{2} - 2.91038304567337 \\cdot 10^{-11} L_{s}^{3} M_{sa}^{2} p^{3} + 5.82076609134674 \\cdot 10^{-11} L_{s}^{3} R_{s}^{2} p + L_{s}^{2} L_{pa}^{2} L_{pr} p^{5} + 98696.0440108936 L_{s}^{2} L_{pa}^{2} L_{pr} p^{3} + L_{s}^{2} L_{pa}^{2} R_{r} p^{4} + 98696.0440108936 L_{s}^{2} L_{pa}^{2} R_{r} p^{2} + 2 L_{s}^{2} L_{pa} L_{pr} R_{a} p^{4} + 197392.088021787 L_{s}^{2} L_{pa} L_{pr} R_{a} p^{2} - L_{s}^{2} L_{pa} M_{ra}^{2} p^{5} - 98696.0440108936 L_{s}^{2} L_{pa} M_{ra}^{2} p^{3} - 2.91038304567337 \\cdot 10^{-11} L_{s}^{2} L_{pa} M_{sa}^{2} p^{3} + 2 L_{s}^{2} L_{pa} R_{a} R_{r} p^{3} + 197392.088021787 L_{s}^{2} L_{pa} R_{a} R_{r} p - 5.82076609134674 \\cdot 10^{-11} L_{s}^{2} L_{pr} M_{sa}^{2} p^{3} + L_{s}^{2} L_{pr} R_{a}^{2} p^{3} + 98696.0440108936 L_{s}^{2} L_{pr} R_{a}^{2} p - L_{s}^{2} M_{ra}^{2} R_{a} p^{4} - 98696.0440108936 L_{s}^{2} M_{ra}^{2} R_{a} p^{2} - 2.91038304567337 \\cdot 10^{-11} L_{s}^{2} M_{sa}^{2} R_{a} p^{2} - 5.82076609134674 \\cdot 10^{-11} L_{s}^{2} M_{sa}^{2} R_{r} p^{2} - 5.82076609134674 \\cdot 10^{-11} L_{s}^{2} M_{sa}^{2} R_{s} p^{2} + L_{s}^{2} R_{a}^{2} R_{r} p^{2} + 98696.0440108936 L_{s}^{2} R_{a}^{2} R_{r} + 2 L_{s} L_{pa}^{2} L_{pr} R_{s} p^{4} - 1.5 L_{s} L_{pa}^{2} M_{sr}^{2} p^{5} - 148044.06601634 L_{s} L_{pa}^{2} M_{sr}^{2} p^{3} + 2 L_{s} L_{pa}^{2} R_{r} R_{s} p^{3} - 3.0 L_{s} L_{pa} L_{pr} M_{sa}^{2} p^{5} - 296088.132032681 L_{s} L_{pa} L_{pr} M_{sa}^{2} p^{3} + 4 L_{s} L_{pa} L_{pr} R_{a} R_{s} p^{3} - 2 L_{s} L_{pa} M_{ra}^{2} R_{s} p^{4} + 3.0 L_{s} L_{pa} M_{ra} M_{sa} M_{sr} p^{5} + 296088.132032681 L_{s} L_{pa} M_{ra} M_{sa} M_{sr} p^{3} - 3.0 L_{s} L_{pa} M_{sa}^{2} R_{r} p^{4} - 296088.132032681 L_{s} L_{pa} M_{sa}^{2} R_{r} p^{2} - 5.82076609134674 \\cdot 10^{-11} L_{s} L_{pa} M_{sa}^{2} R_{s} p^{2} - 3.0 L_{s} L_{pa} M_{sr}^{2} R_{a} p^{4} - 296088.132032681 L_{s} L_{pa} M_{sr}^{2} R_{a} p^{2} + 4 L_{s} L_{pa} R_{a} R_{r} R_{s} p^{2} - 3.0 L_{s} L_{pr} M_{sa}^{2} R_{a} p^{4} - 296088.132032681 L_{s} L_{pr} M_{sa}^{2} R_{a} p^{2} + 2 L_{s} L_{pr} R_{a}^{2} R_{s} p^{2} + 1.5 L_{s} M_{ra}^{2} M_{sa}^{2} p^{5} + 148044.06601634 L_{s} M_{ra}^{2} M_{sa}^{2} p^{3} - 2 L_{s} M_{ra}^{2} R_{a} R_{s} p^{3} + 3.0 L_{s} M_{ra} M_{sa} M_{sr} R_{a} p^{4} + 296088.132032681 L_{s} M_{ra} M_{sa} M_{sr} R_{a} p^{2} - 5.82076609134674 \\cdot 10^{-11} L_{s} M_{sa}^{4} p^{3} - 5.82076609134674 \\cdot 10^{-11} L_{s} M_{sa}^{2} M_{sr}^{2} p^{3} - 3.0 L_{s} M_{sa}^{2} R_{a} R_{r} p^{3} - 296088.132032681 L_{s} M_{sa}^{2} R_{a} R_{r} p - 5.82076609134674 \\cdot 10^{-11} L_{s} M_{sa}^{2} R_{a} R_{s} p - 1.5 L_{s} M_{sr}^{2} R_{a}^{2} p^{3} - 148044.06601634 L_{s} M_{sr}^{2} R_{a}^{2} p + 2 L_{s} R_{a}^{2} R_{r} R_{s} p + L_{pa}^{2} L_{pr} R_{s}^{2} p^{3} - 1.5 L_{pa}^{2} M_{sr}^{2} R_{s} p^{4} + L_{pa}^{2} R_{r} R_{s}^{2} p^{2} - 3.0 L_{pa} L_{pr} M_{sa}^{2} R_{s} p^{4} + 2 L_{pa} L_{pr} R_{a} R_{s}^{2} p^{2} - L_{pa} M_{ra}^{2} R_{s}^{2} p^{3} + 3.0 L_{pa} M_{ra} M_{sa} M_{sr} R_{s} p^{4} + 2.25 L_{pa} M_{sa}^{2} M_{sr}^{2} p^{5} + 222066.099024511 L_{pa} M_{sa}^{2} M_{sr}^{2} p^{3} - 3.0 L_{pa} M_{sa}^{2} R_{r} R_{s} p^{3} - 3.0 L_{pa} M_{sr}^{2} R_{a} R_{s} p^{3} + 2 L_{pa} R_{a} R_{r} R_{s}^{2} p + 2.25 L_{pr} M_{sa}^{4} p^{5} + 222066.099024511 L_{pr} M_{sa}^{4} p^{3} - 3.0 L_{pr} M_{sa}^{2} R_{a} R_{s} p^{3} + L_{pr} R_{a}^{2} R_{s}^{2} p + 1.5 M_{ra}^{2} M_{sa}^{2} R_{s} p^{4} - M_{ra}^{2} R_{a} R_{s}^{2} p^{2} - 4.5 M_{ra} M_{sa}^{3} M_{sr} p^{5} - 444132.198049021 M_{ra} M_{sa}^{3} M_{sr} p^{3} + 3.0 M_{ra} M_{sa} M_{sr} R_{a} R_{s} p^{3} + 2.25 M_{sa}^{4} R_{r} p^{4} + 222066.099024511 M_{sa}^{4} R_{r} p^{2} + 2.25 M_{sa}^{2} M_{sr}^{2} R_{a} p^{4} + 222066.099024511 M_{sa}^{2} M_{sr}^{2} R_{a} p^{2} - 3.0 M_{sa}^{2} R_{a} R_{r} R_{s} p^{2} - 1.5 M_{sr}^{2} R_{a}^{2} R_{s} p^{2} + R_{a}^{2} R_{r} R_{s}^{2}}$"
      ],
      "text/plain": [
       "(-L_s*L_{pa}*L_{pr}*M_{sa}*p**4 - 98696.0440108936*L_s*L_{pa}*L_{pr}*M_{sa}*p**2 - L_s*L_{pa}*M_{sa}*R_r*p**3 - 98696.0440108936*L_s*L_{pa}*M_{sa}*R_r*p - L_s*L_{pr}*M_{sa}*R_a*p**3 - 98696.0440108936*L_s*L_{pr}*M_{sa}*R_a*p + L_s*M_{ra}**2*M_{sa}*p**4 + 98696.0440108936*L_s*M_{ra}**2*M_{sa}*p**2 - L_s*M_{sa}*R_a*R_r*p**2 - 98696.0440108936*L_s*M_{sa}*R_a*R_r - L_{pa}*L_{pr}*M_{sa}*R_s*p**3 + 1.5*L_{pa}*M_{sa}*M_{sr}**2*p**4 + 148044.06601634*L_{pa}*M_{sa}*M_{sr}**2*p**2 - L_{pa}*M_{sa}*R_r*R_s*p**2 + 1.5*L_{pr}*M_{sa}**3*p**4 + 148044.06601634*L_{pr}*M_{sa}**3*p**2 - L_{pr}*M_{sa}*R_a*R_s*p**2 + M_{ra}**2*M_{sa}*R_s*p**3 - 3.0*M_{ra}*M_{sa}**2*M_{sr}*p**4 - 296088.132032681*M_{ra}*M_{sa}**2*M_{sr}*p**2 + 1.5*M_{sa}**3*R_r*p**3 + 148044.06601634*M_{sa}**3*R_r*p + 1.5*M_{sa}*M_{sr}**2*R_a*p**3 + 148044.06601634*M_{sa}*M_{sr}**2*R_a*p - M_{sa}*R_a*R_r*R_s*p)/(5.82076609134674e-11*L_s**4*R_s*p**2 - 2.91038304567337e-11*L_s**3*M_{sa}**2*p**3 + 5.82076609134674e-11*L_s**3*R_s**2*p + L_s**2*L_{pa}**2*L_{pr}*p**5 + 98696.0440108936*L_s**2*L_{pa}**2*L_{pr}*p**3 + L_s**2*L_{pa}**2*R_r*p**4 + 98696.0440108936*L_s**2*L_{pa}**2*R_r*p**2 + 2*L_s**2*L_{pa}*L_{pr}*R_a*p**4 + 197392.088021787*L_s**2*L_{pa}*L_{pr}*R_a*p**2 - L_s**2*L_{pa}*M_{ra}**2*p**5 - 98696.0440108936*L_s**2*L_{pa}*M_{ra}**2*p**3 - 2.91038304567337e-11*L_s**2*L_{pa}*M_{sa}**2*p**3 + 2*L_s**2*L_{pa}*R_a*R_r*p**3 + 197392.088021787*L_s**2*L_{pa}*R_a*R_r*p - 5.82076609134674e-11*L_s**2*L_{pr}*M_{sa}**2*p**3 + L_s**2*L_{pr}*R_a**2*p**3 + 98696.0440108936*L_s**2*L_{pr}*R_a**2*p - L_s**2*M_{ra}**2*R_a*p**4 - 98696.0440108936*L_s**2*M_{ra}**2*R_a*p**2 - 2.91038304567337e-11*L_s**2*M_{sa}**2*R_a*p**2 - 5.82076609134674e-11*L_s**2*M_{sa}**2*R_r*p**2 - 5.82076609134674e-11*L_s**2*M_{sa}**2*R_s*p**2 + L_s**2*R_a**2*R_r*p**2 + 98696.0440108936*L_s**2*R_a**2*R_r + 2*L_s*L_{pa}**2*L_{pr}*R_s*p**4 - 1.5*L_s*L_{pa}**2*M_{sr}**2*p**5 - 148044.06601634*L_s*L_{pa}**2*M_{sr}**2*p**3 + 2*L_s*L_{pa}**2*R_r*R_s*p**3 - 3.0*L_s*L_{pa}*L_{pr}*M_{sa}**2*p**5 - 296088.132032681*L_s*L_{pa}*L_{pr}*M_{sa}**2*p**3 + 4*L_s*L_{pa}*L_{pr}*R_a*R_s*p**3 - 2*L_s*L_{pa}*M_{ra}**2*R_s*p**4 + 3.0*L_s*L_{pa}*M_{ra}*M_{sa}*M_{sr}*p**5 + 296088.132032681*L_s*L_{pa}*M_{ra}*M_{sa}*M_{sr}*p**3 - 3.0*L_s*L_{pa}*M_{sa}**2*R_r*p**4 - 296088.132032681*L_s*L_{pa}*M_{sa}**2*R_r*p**2 - 5.82076609134674e-11*L_s*L_{pa}*M_{sa}**2*R_s*p**2 - 3.0*L_s*L_{pa}*M_{sr}**2*R_a*p**4 - 296088.132032681*L_s*L_{pa}*M_{sr}**2*R_a*p**2 + 4*L_s*L_{pa}*R_a*R_r*R_s*p**2 - 3.0*L_s*L_{pr}*M_{sa}**2*R_a*p**4 - 296088.132032681*L_s*L_{pr}*M_{sa}**2*R_a*p**2 + 2*L_s*L_{pr}*R_a**2*R_s*p**2 + 1.5*L_s*M_{ra}**2*M_{sa}**2*p**5 + 148044.06601634*L_s*M_{ra}**2*M_{sa}**2*p**3 - 2*L_s*M_{ra}**2*R_a*R_s*p**3 + 3.0*L_s*M_{ra}*M_{sa}*M_{sr}*R_a*p**4 + 296088.132032681*L_s*M_{ra}*M_{sa}*M_{sr}*R_a*p**2 - 5.82076609134674e-11*L_s*M_{sa}**4*p**3 - 5.82076609134674e-11*L_s*M_{sa}**2*M_{sr}**2*p**3 - 3.0*L_s*M_{sa}**2*R_a*R_r*p**3 - 296088.132032681*L_s*M_{sa}**2*R_a*R_r*p - 5.82076609134674e-11*L_s*M_{sa}**2*R_a*R_s*p - 1.5*L_s*M_{sr}**2*R_a**2*p**3 - 148044.06601634*L_s*M_{sr}**2*R_a**2*p + 2*L_s*R_a**2*R_r*R_s*p + L_{pa}**2*L_{pr}*R_s**2*p**3 - 1.5*L_{pa}**2*M_{sr}**2*R_s*p**4 + L_{pa}**2*R_r*R_s**2*p**2 - 3.0*L_{pa}*L_{pr}*M_{sa}**2*R_s*p**4 + 2*L_{pa}*L_{pr}*R_a*R_s**2*p**2 - L_{pa}*M_{ra}**2*R_s**2*p**3 + 3.0*L_{pa}*M_{ra}*M_{sa}*M_{sr}*R_s*p**4 + 2.25*L_{pa}*M_{sa}**2*M_{sr}**2*p**5 + 222066.099024511*L_{pa}*M_{sa}**2*M_{sr}**2*p**3 - 3.0*L_{pa}*M_{sa}**2*R_r*R_s*p**3 - 3.0*L_{pa}*M_{sr}**2*R_a*R_s*p**3 + 2*L_{pa}*R_a*R_r*R_s**2*p + 2.25*L_{pr}*M_{sa}**4*p**5 + 222066.099024511*L_{pr}*M_{sa}**4*p**3 - 3.0*L_{pr}*M_{sa}**2*R_a*R_s*p**3 + L_{pr}*R_a**2*R_s**2*p + 1.5*M_{ra}**2*M_{sa}**2*R_s*p**4 - M_{ra}**2*R_a*R_s**2*p**2 - 4.5*M_{ra}*M_{sa}**3*M_{sr}*p**5 - 444132.198049021*M_{ra}*M_{sa}**3*M_{sr}*p**3 + 3.0*M_{ra}*M_{sa}*M_{sr}*R_a*R_s*p**3 + 2.25*M_{sa}**4*R_r*p**4 + 222066.099024511*M_{sa}**4*R_r*p**2 + 2.25*M_{sa}**2*M_{sr}**2*R_a*p**4 + 222066.099024511*M_{sa}**2*M_{sr}**2*R_a*p**2 - 3.0*M_{sa}**2*R_a*R_r*R_s*p**2 - 1.5*M_{sr}**2*R_a**2*R_s*p**2 + R_a**2*R_r*R_s**2)"
      ]
     },
     "metadata": {},
     "output_type": "display_data"
    }
   ],
   "source": [
    "detM = M_p.det(method = 'berkowitz').expand()\n",
    "print(f\"Déterminant de M(p) pour p=0: \")\n",
    "display(detM)\n",
    "\n",
    "# Calcul de la matrice des cofacteurs pour p=0\n",
    " \n",
    "# Calcul de l'inverse de M(p)\n",
    "M_inv_p0=np.zeros_like(M_p)\n",
    "for i in range(5):\n",
    "    for j in range(5):\n",
    "        M_inv_p0[i,j] = M_p.cofactor(i, j, method='berkowitz').expand()/detM \n",
    "\n",
    "# Extraction des fonctions de transfert\n",
    "H_Sdd_p0 = M_inv_p0[0, 0]\n",
    "H_Sdq_p0 = M_inv_p0[0, 1]\n",
    "H_Sqd_p0 = M_inv_p0[1, 0]\n",
    "H_Sqq_p0 = M_inv_p0[1, 1]\n",
    "H_Rd_p0 = M_inv_p0[2, 0]\n",
    "H_Rq_p0 = M_inv_p0[2, 1]\n",
    "H_Add_p0 = M_inv_p0[3, 0]\n",
    "H_Adq_p0 = M_inv_p0[3, 1]\n",
    "H_Aqd_p0 = M_inv_p0[4, 0]\n",
    "H_Aqq_p0 = M_inv_p0[4, 1]\n",
    "\n",
    "print(\"Fonctions de transfert:\")\n",
    "\n",
    "display(H_Sdd_p0)\n",
    "display(H_Sdq_p0)\n",
    "display(H_Sqd_p0)\n",
    "display(H_Sqq_p0)\n",
    "display(H_Rd_p0)\n",
    "display(H_Rq_p0)\n",
    "display(H_Add_p0)\n",
    "display(H_Adq_p0)\n",
    "display(H_Aqq_p0)\n",
    "\n",
    "\n",
    "\n",
    "\n"
   ]
  },
  {
   "cell_type": "code",
   "execution_count": 30,
   "metadata": {},
   "outputs": [
    {
     "data": {
      "text/latex": [
       "$\\displaystyle 5.82076609134674 \\cdot 10^{-11} L_{s}^{4} R_{s} p^{2} - 2.91038304567337 \\cdot 10^{-11} L_{s}^{3} M_{sa}^{2} p^{3} + 5.82076609134674 \\cdot 10^{-11} L_{s}^{3} R_{s}^{2} p + L_{s}^{2} L_{pa}^{2} L_{pr} p^{5} + 98696.0440108936 L_{s}^{2} L_{pa}^{2} L_{pr} p^{3} + L_{s}^{2} L_{pa}^{2} R_{r} p^{4} + 98696.0440108936 L_{s}^{2} L_{pa}^{2} R_{r} p^{2} + 2 L_{s}^{2} L_{pa} L_{pr} R_{a} p^{4} + 197392.088021787 L_{s}^{2} L_{pa} L_{pr} R_{a} p^{2} - L_{s}^{2} L_{pa} M_{ra}^{2} p^{5} - 98696.0440108936 L_{s}^{2} L_{pa} M_{ra}^{2} p^{3} - 2.91038304567337 \\cdot 10^{-11} L_{s}^{2} L_{pa} M_{sa}^{2} p^{3} + 2 L_{s}^{2} L_{pa} R_{a} R_{r} p^{3} + 197392.088021787 L_{s}^{2} L_{pa} R_{a} R_{r} p - 5.82076609134674 \\cdot 10^{-11} L_{s}^{2} L_{pr} M_{sa}^{2} p^{3} + L_{s}^{2} L_{pr} R_{a}^{2} p^{3} + 98696.0440108936 L_{s}^{2} L_{pr} R_{a}^{2} p - L_{s}^{2} M_{ra}^{2} R_{a} p^{4} - 98696.0440108936 L_{s}^{2} M_{ra}^{2} R_{a} p^{2} - 2.91038304567337 \\cdot 10^{-11} L_{s}^{2} M_{sa}^{2} R_{a} p^{2} - 5.82076609134674 \\cdot 10^{-11} L_{s}^{2} M_{sa}^{2} R_{r} p^{2} - 5.82076609134674 \\cdot 10^{-11} L_{s}^{2} M_{sa}^{2} R_{s} p^{2} + L_{s}^{2} R_{a}^{2} R_{r} p^{2} + 98696.0440108936 L_{s}^{2} R_{a}^{2} R_{r} + 2 L_{s} L_{pa}^{2} L_{pr} R_{s} p^{4} - 1.5 L_{s} L_{pa}^{2} M_{sr}^{2} p^{5} - 148044.06601634 L_{s} L_{pa}^{2} M_{sr}^{2} p^{3} + 2 L_{s} L_{pa}^{2} R_{r} R_{s} p^{3} - 3.0 L_{s} L_{pa} L_{pr} M_{sa}^{2} p^{5} - 296088.132032681 L_{s} L_{pa} L_{pr} M_{sa}^{2} p^{3} + 4 L_{s} L_{pa} L_{pr} R_{a} R_{s} p^{3} - 2 L_{s} L_{pa} M_{ra}^{2} R_{s} p^{4} + 3.0 L_{s} L_{pa} M_{ra} M_{sa} M_{sr} p^{5} + 296088.132032681 L_{s} L_{pa} M_{ra} M_{sa} M_{sr} p^{3} - 3.0 L_{s} L_{pa} M_{sa}^{2} R_{r} p^{4} - 296088.132032681 L_{s} L_{pa} M_{sa}^{2} R_{r} p^{2} - 5.82076609134674 \\cdot 10^{-11} L_{s} L_{pa} M_{sa}^{2} R_{s} p^{2} - 3.0 L_{s} L_{pa} M_{sr}^{2} R_{a} p^{4} - 296088.132032681 L_{s} L_{pa} M_{sr}^{2} R_{a} p^{2} + 4 L_{s} L_{pa} R_{a} R_{r} R_{s} p^{2} - 3.0 L_{s} L_{pr} M_{sa}^{2} R_{a} p^{4} - 296088.132032681 L_{s} L_{pr} M_{sa}^{2} R_{a} p^{2} + 2 L_{s} L_{pr} R_{a}^{2} R_{s} p^{2} + 1.5 L_{s} M_{ra}^{2} M_{sa}^{2} p^{5} + 148044.06601634 L_{s} M_{ra}^{2} M_{sa}^{2} p^{3} - 2 L_{s} M_{ra}^{2} R_{a} R_{s} p^{3} + 3.0 L_{s} M_{ra} M_{sa} M_{sr} R_{a} p^{4} + 296088.132032681 L_{s} M_{ra} M_{sa} M_{sr} R_{a} p^{2} - 5.82076609134674 \\cdot 10^{-11} L_{s} M_{sa}^{4} p^{3} - 5.82076609134674 \\cdot 10^{-11} L_{s} M_{sa}^{2} M_{sr}^{2} p^{3} - 3.0 L_{s} M_{sa}^{2} R_{a} R_{r} p^{3} - 296088.132032681 L_{s} M_{sa}^{2} R_{a} R_{r} p - 5.82076609134674 \\cdot 10^{-11} L_{s} M_{sa}^{2} R_{a} R_{s} p - 1.5 L_{s} M_{sr}^{2} R_{a}^{2} p^{3} - 148044.06601634 L_{s} M_{sr}^{2} R_{a}^{2} p + 2 L_{s} R_{a}^{2} R_{r} R_{s} p + L_{pa}^{2} L_{pr} R_{s}^{2} p^{3} - 1.5 L_{pa}^{2} M_{sr}^{2} R_{s} p^{4} + L_{pa}^{2} R_{r} R_{s}^{2} p^{2} - 3.0 L_{pa} L_{pr} M_{sa}^{2} R_{s} p^{4} + 2 L_{pa} L_{pr} R_{a} R_{s}^{2} p^{2} - L_{pa} M_{ra}^{2} R_{s}^{2} p^{3} + 3.0 L_{pa} M_{ra} M_{sa} M_{sr} R_{s} p^{4} + 2.25 L_{pa} M_{sa}^{2} M_{sr}^{2} p^{5} + 222066.099024511 L_{pa} M_{sa}^{2} M_{sr}^{2} p^{3} - 3.0 L_{pa} M_{sa}^{2} R_{r} R_{s} p^{3} - 3.0 L_{pa} M_{sr}^{2} R_{a} R_{s} p^{3} + 2 L_{pa} R_{a} R_{r} R_{s}^{2} p + 2.25 L_{pr} M_{sa}^{4} p^{5} + 222066.099024511 L_{pr} M_{sa}^{4} p^{3} - 3.0 L_{pr} M_{sa}^{2} R_{a} R_{s} p^{3} + L_{pr} R_{a}^{2} R_{s}^{2} p + 1.5 M_{ra}^{2} M_{sa}^{2} R_{s} p^{4} - M_{ra}^{2} R_{a} R_{s}^{2} p^{2} - 4.5 M_{ra} M_{sa}^{3} M_{sr} p^{5} - 444132.198049021 M_{ra} M_{sa}^{3} M_{sr} p^{3} + 3.0 M_{ra} M_{sa} M_{sr} R_{a} R_{s} p^{3} + 2.25 M_{sa}^{4} R_{r} p^{4} + 222066.099024511 M_{sa}^{4} R_{r} p^{2} + 2.25 M_{sa}^{2} M_{sr}^{2} R_{a} p^{4} + 222066.099024511 M_{sa}^{2} M_{sr}^{2} R_{a} p^{2} - 3.0 M_{sa}^{2} R_{a} R_{r} R_{s} p^{2} - 1.5 M_{sr}^{2} R_{a}^{2} R_{s} p^{2} + R_{a}^{2} R_{r} R_{s}^{2}$"
      ],
      "text/plain": [
       "5.82076609134674e-11*L_s**4*R_s*p**2 - 2.91038304567337e-11*L_s**3*M_{sa}**2*p**3 + 5.82076609134674e-11*L_s**3*R_s**2*p + L_s**2*L_{pa}**2*L_{pr}*p**5 + 98696.0440108936*L_s**2*L_{pa}**2*L_{pr}*p**3 + L_s**2*L_{pa}**2*R_r*p**4 + 98696.0440108936*L_s**2*L_{pa}**2*R_r*p**2 + 2*L_s**2*L_{pa}*L_{pr}*R_a*p**4 + 197392.088021787*L_s**2*L_{pa}*L_{pr}*R_a*p**2 - L_s**2*L_{pa}*M_{ra}**2*p**5 - 98696.0440108936*L_s**2*L_{pa}*M_{ra}**2*p**3 - 2.91038304567337e-11*L_s**2*L_{pa}*M_{sa}**2*p**3 + 2*L_s**2*L_{pa}*R_a*R_r*p**3 + 197392.088021787*L_s**2*L_{pa}*R_a*R_r*p - 5.82076609134674e-11*L_s**2*L_{pr}*M_{sa}**2*p**3 + L_s**2*L_{pr}*R_a**2*p**3 + 98696.0440108936*L_s**2*L_{pr}*R_a**2*p - L_s**2*M_{ra}**2*R_a*p**4 - 98696.0440108936*L_s**2*M_{ra}**2*R_a*p**2 - 2.91038304567337e-11*L_s**2*M_{sa}**2*R_a*p**2 - 5.82076609134674e-11*L_s**2*M_{sa}**2*R_r*p**2 - 5.82076609134674e-11*L_s**2*M_{sa}**2*R_s*p**2 + L_s**2*R_a**2*R_r*p**2 + 98696.0440108936*L_s**2*R_a**2*R_r + 2*L_s*L_{pa}**2*L_{pr}*R_s*p**4 - 1.5*L_s*L_{pa}**2*M_{sr}**2*p**5 - 148044.06601634*L_s*L_{pa}**2*M_{sr}**2*p**3 + 2*L_s*L_{pa}**2*R_r*R_s*p**3 - 3.0*L_s*L_{pa}*L_{pr}*M_{sa}**2*p**5 - 296088.132032681*L_s*L_{pa}*L_{pr}*M_{sa}**2*p**3 + 4*L_s*L_{pa}*L_{pr}*R_a*R_s*p**3 - 2*L_s*L_{pa}*M_{ra}**2*R_s*p**4 + 3.0*L_s*L_{pa}*M_{ra}*M_{sa}*M_{sr}*p**5 + 296088.132032681*L_s*L_{pa}*M_{ra}*M_{sa}*M_{sr}*p**3 - 3.0*L_s*L_{pa}*M_{sa}**2*R_r*p**4 - 296088.132032681*L_s*L_{pa}*M_{sa}**2*R_r*p**2 - 5.82076609134674e-11*L_s*L_{pa}*M_{sa}**2*R_s*p**2 - 3.0*L_s*L_{pa}*M_{sr}**2*R_a*p**4 - 296088.132032681*L_s*L_{pa}*M_{sr}**2*R_a*p**2 + 4*L_s*L_{pa}*R_a*R_r*R_s*p**2 - 3.0*L_s*L_{pr}*M_{sa}**2*R_a*p**4 - 296088.132032681*L_s*L_{pr}*M_{sa}**2*R_a*p**2 + 2*L_s*L_{pr}*R_a**2*R_s*p**2 + 1.5*L_s*M_{ra}**2*M_{sa}**2*p**5 + 148044.06601634*L_s*M_{ra}**2*M_{sa}**2*p**3 - 2*L_s*M_{ra}**2*R_a*R_s*p**3 + 3.0*L_s*M_{ra}*M_{sa}*M_{sr}*R_a*p**4 + 296088.132032681*L_s*M_{ra}*M_{sa}*M_{sr}*R_a*p**2 - 5.82076609134674e-11*L_s*M_{sa}**4*p**3 - 5.82076609134674e-11*L_s*M_{sa}**2*M_{sr}**2*p**3 - 3.0*L_s*M_{sa}**2*R_a*R_r*p**3 - 296088.132032681*L_s*M_{sa}**2*R_a*R_r*p - 5.82076609134674e-11*L_s*M_{sa}**2*R_a*R_s*p - 1.5*L_s*M_{sr}**2*R_a**2*p**3 - 148044.06601634*L_s*M_{sr}**2*R_a**2*p + 2*L_s*R_a**2*R_r*R_s*p + L_{pa}**2*L_{pr}*R_s**2*p**3 - 1.5*L_{pa}**2*M_{sr}**2*R_s*p**4 + L_{pa}**2*R_r*R_s**2*p**2 - 3.0*L_{pa}*L_{pr}*M_{sa}**2*R_s*p**4 + 2*L_{pa}*L_{pr}*R_a*R_s**2*p**2 - L_{pa}*M_{ra}**2*R_s**2*p**3 + 3.0*L_{pa}*M_{ra}*M_{sa}*M_{sr}*R_s*p**4 + 2.25*L_{pa}*M_{sa}**2*M_{sr}**2*p**5 + 222066.099024511*L_{pa}*M_{sa}**2*M_{sr}**2*p**3 - 3.0*L_{pa}*M_{sa}**2*R_r*R_s*p**3 - 3.0*L_{pa}*M_{sr}**2*R_a*R_s*p**3 + 2*L_{pa}*R_a*R_r*R_s**2*p + 2.25*L_{pr}*M_{sa}**4*p**5 + 222066.099024511*L_{pr}*M_{sa}**4*p**3 - 3.0*L_{pr}*M_{sa}**2*R_a*R_s*p**3 + L_{pr}*R_a**2*R_s**2*p + 1.5*M_{ra}**2*M_{sa}**2*R_s*p**4 - M_{ra}**2*R_a*R_s**2*p**2 - 4.5*M_{ra}*M_{sa}**3*M_{sr}*p**5 - 444132.198049021*M_{ra}*M_{sa}**3*M_{sr}*p**3 + 3.0*M_{ra}*M_{sa}*M_{sr}*R_a*R_s*p**3 + 2.25*M_{sa}**4*R_r*p**4 + 222066.099024511*M_{sa}**4*R_r*p**2 + 2.25*M_{sa}**2*M_{sr}**2*R_a*p**4 + 222066.099024511*M_{sa}**2*M_{sr}**2*R_a*p**2 - 3.0*M_{sa}**2*R_a*R_r*R_s*p**2 - 1.5*M_{sr}**2*R_a**2*R_s*p**2 + R_a**2*R_r*R_s**2"
      ]
     },
     "execution_count": 30,
     "metadata": {},
     "output_type": "execute_result"
    }
   ],
   "source": [
    "detM"
   ]
  },
  {
   "cell_type": "markdown",
   "metadata": {},
   "source": [
    "3. Coefficients du polynôme dénominateur (du plus haut degré au plus bas):"
   ]
  },
  {
   "cell_type": "code",
   "execution_count": 31,
   "metadata": {},
   "outputs": [
    {
     "data": {
      "text/latex": [
       "$\\displaystyle 5.82076609134674 \\cdot 10^{-11} L_{s}^{4} R_{s} p^{2} - 2.91038304567337 \\cdot 10^{-11} L_{s}^{3} M_{sa}^{2} p^{3} + 5.82076609134674 \\cdot 10^{-11} L_{s}^{3} R_{s}^{2} p + L_{s}^{2} L_{pa}^{2} L_{pr} p^{5} + 98696.0440108936 L_{s}^{2} L_{pa}^{2} L_{pr} p^{3} + L_{s}^{2} L_{pa}^{2} R_{r} p^{4} + 98696.0440108936 L_{s}^{2} L_{pa}^{2} R_{r} p^{2} + 2 L_{s}^{2} L_{pa} L_{pr} R_{a} p^{4} + 197392.088021787 L_{s}^{2} L_{pa} L_{pr} R_{a} p^{2} - L_{s}^{2} L_{pa} M_{ra}^{2} p^{5} - 98696.0440108936 L_{s}^{2} L_{pa} M_{ra}^{2} p^{3} - 2.91038304567337 \\cdot 10^{-11} L_{s}^{2} L_{pa} M_{sa}^{2} p^{3} + 2 L_{s}^{2} L_{pa} R_{a} R_{r} p^{3} + 197392.088021787 L_{s}^{2} L_{pa} R_{a} R_{r} p - 5.82076609134674 \\cdot 10^{-11} L_{s}^{2} L_{pr} M_{sa}^{2} p^{3} + L_{s}^{2} L_{pr} R_{a}^{2} p^{3} + 98696.0440108936 L_{s}^{2} L_{pr} R_{a}^{2} p - L_{s}^{2} M_{ra}^{2} R_{a} p^{4} - 98696.0440108936 L_{s}^{2} M_{ra}^{2} R_{a} p^{2} - 2.91038304567337 \\cdot 10^{-11} L_{s}^{2} M_{sa}^{2} R_{a} p^{2} - 5.82076609134674 \\cdot 10^{-11} L_{s}^{2} M_{sa}^{2} R_{r} p^{2} - 5.82076609134674 \\cdot 10^{-11} L_{s}^{2} M_{sa}^{2} R_{s} p^{2} + L_{s}^{2} R_{a}^{2} R_{r} p^{2} + 98696.0440108936 L_{s}^{2} R_{a}^{2} R_{r} + 2 L_{s} L_{pa}^{2} L_{pr} R_{s} p^{4} - 1.5 L_{s} L_{pa}^{2} M_{sr}^{2} p^{5} - 148044.06601634 L_{s} L_{pa}^{2} M_{sr}^{2} p^{3} + 2 L_{s} L_{pa}^{2} R_{r} R_{s} p^{3} - 3.0 L_{s} L_{pa} L_{pr} M_{sa}^{2} p^{5} - 296088.132032681 L_{s} L_{pa} L_{pr} M_{sa}^{2} p^{3} + 4 L_{s} L_{pa} L_{pr} R_{a} R_{s} p^{3} - 2 L_{s} L_{pa} M_{ra}^{2} R_{s} p^{4} + 3.0 L_{s} L_{pa} M_{ra} M_{sa} M_{sr} p^{5} + 296088.132032681 L_{s} L_{pa} M_{ra} M_{sa} M_{sr} p^{3} - 3.0 L_{s} L_{pa} M_{sa}^{2} R_{r} p^{4} - 296088.132032681 L_{s} L_{pa} M_{sa}^{2} R_{r} p^{2} - 5.82076609134674 \\cdot 10^{-11} L_{s} L_{pa} M_{sa}^{2} R_{s} p^{2} - 3.0 L_{s} L_{pa} M_{sr}^{2} R_{a} p^{4} - 296088.132032681 L_{s} L_{pa} M_{sr}^{2} R_{a} p^{2} + 4 L_{s} L_{pa} R_{a} R_{r} R_{s} p^{2} - 3.0 L_{s} L_{pr} M_{sa}^{2} R_{a} p^{4} - 296088.132032681 L_{s} L_{pr} M_{sa}^{2} R_{a} p^{2} + 2 L_{s} L_{pr} R_{a}^{2} R_{s} p^{2} + 1.5 L_{s} M_{ra}^{2} M_{sa}^{2} p^{5} + 148044.06601634 L_{s} M_{ra}^{2} M_{sa}^{2} p^{3} - 2 L_{s} M_{ra}^{2} R_{a} R_{s} p^{3} + 3.0 L_{s} M_{ra} M_{sa} M_{sr} R_{a} p^{4} + 296088.132032681 L_{s} M_{ra} M_{sa} M_{sr} R_{a} p^{2} - 5.82076609134674 \\cdot 10^{-11} L_{s} M_{sa}^{4} p^{3} - 5.82076609134674 \\cdot 10^{-11} L_{s} M_{sa}^{2} M_{sr}^{2} p^{3} - 3.0 L_{s} M_{sa}^{2} R_{a} R_{r} p^{3} - 296088.132032681 L_{s} M_{sa}^{2} R_{a} R_{r} p - 5.82076609134674 \\cdot 10^{-11} L_{s} M_{sa}^{2} R_{a} R_{s} p - 1.5 L_{s} M_{sr}^{2} R_{a}^{2} p^{3} - 148044.06601634 L_{s} M_{sr}^{2} R_{a}^{2} p + 2 L_{s} R_{a}^{2} R_{r} R_{s} p + L_{pa}^{2} L_{pr} R_{s}^{2} p^{3} - 1.5 L_{pa}^{2} M_{sr}^{2} R_{s} p^{4} + L_{pa}^{2} R_{r} R_{s}^{2} p^{2} - 3.0 L_{pa} L_{pr} M_{sa}^{2} R_{s} p^{4} + 2 L_{pa} L_{pr} R_{a} R_{s}^{2} p^{2} - L_{pa} M_{ra}^{2} R_{s}^{2} p^{3} + 3.0 L_{pa} M_{ra} M_{sa} M_{sr} R_{s} p^{4} + 2.25 L_{pa} M_{sa}^{2} M_{sr}^{2} p^{5} + 222066.099024511 L_{pa} M_{sa}^{2} M_{sr}^{2} p^{3} - 3.0 L_{pa} M_{sa}^{2} R_{r} R_{s} p^{3} - 3.0 L_{pa} M_{sr}^{2} R_{a} R_{s} p^{3} + 2 L_{pa} R_{a} R_{r} R_{s}^{2} p + 2.25 L_{pr} M_{sa}^{4} p^{5} + 222066.099024511 L_{pr} M_{sa}^{4} p^{3} - 3.0 L_{pr} M_{sa}^{2} R_{a} R_{s} p^{3} + L_{pr} R_{a}^{2} R_{s}^{2} p + 1.5 M_{ra}^{2} M_{sa}^{2} R_{s} p^{4} - M_{ra}^{2} R_{a} R_{s}^{2} p^{2} - 4.5 M_{ra} M_{sa}^{3} M_{sr} p^{5} - 444132.198049021 M_{ra} M_{sa}^{3} M_{sr} p^{3} + 3.0 M_{ra} M_{sa} M_{sr} R_{a} R_{s} p^{3} + 2.25 M_{sa}^{4} R_{r} p^{4} + 222066.099024511 M_{sa}^{4} R_{r} p^{2} + 2.25 M_{sa}^{2} M_{sr}^{2} R_{a} p^{4} + 222066.099024511 M_{sa}^{2} M_{sr}^{2} R_{a} p^{2} - 3.0 M_{sa}^{2} R_{a} R_{r} R_{s} p^{2} - 1.5 M_{sr}^{2} R_{a}^{2} R_{s} p^{2} + R_{a}^{2} R_{r} R_{s}^{2}$"
      ],
      "text/plain": [
       "5.82076609134674e-11*L_s**4*R_s*p**2 - 2.91038304567337e-11*L_s**3*M_{sa}**2*p**3 + 5.82076609134674e-11*L_s**3*R_s**2*p + L_s**2*L_{pa}**2*L_{pr}*p**5 + 98696.0440108936*L_s**2*L_{pa}**2*L_{pr}*p**3 + L_s**2*L_{pa}**2*R_r*p**4 + 98696.0440108936*L_s**2*L_{pa}**2*R_r*p**2 + 2*L_s**2*L_{pa}*L_{pr}*R_a*p**4 + 197392.088021787*L_s**2*L_{pa}*L_{pr}*R_a*p**2 - L_s**2*L_{pa}*M_{ra}**2*p**5 - 98696.0440108936*L_s**2*L_{pa}*M_{ra}**2*p**3 - 2.91038304567337e-11*L_s**2*L_{pa}*M_{sa}**2*p**3 + 2*L_s**2*L_{pa}*R_a*R_r*p**3 + 197392.088021787*L_s**2*L_{pa}*R_a*R_r*p - 5.82076609134674e-11*L_s**2*L_{pr}*M_{sa}**2*p**3 + L_s**2*L_{pr}*R_a**2*p**3 + 98696.0440108936*L_s**2*L_{pr}*R_a**2*p - L_s**2*M_{ra}**2*R_a*p**4 - 98696.0440108936*L_s**2*M_{ra}**2*R_a*p**2 - 2.91038304567337e-11*L_s**2*M_{sa}**2*R_a*p**2 - 5.82076609134674e-11*L_s**2*M_{sa}**2*R_r*p**2 - 5.82076609134674e-11*L_s**2*M_{sa}**2*R_s*p**2 + L_s**2*R_a**2*R_r*p**2 + 98696.0440108936*L_s**2*R_a**2*R_r + 2*L_s*L_{pa}**2*L_{pr}*R_s*p**4 - 1.5*L_s*L_{pa}**2*M_{sr}**2*p**5 - 148044.06601634*L_s*L_{pa}**2*M_{sr}**2*p**3 + 2*L_s*L_{pa}**2*R_r*R_s*p**3 - 3.0*L_s*L_{pa}*L_{pr}*M_{sa}**2*p**5 - 296088.132032681*L_s*L_{pa}*L_{pr}*M_{sa}**2*p**3 + 4*L_s*L_{pa}*L_{pr}*R_a*R_s*p**3 - 2*L_s*L_{pa}*M_{ra}**2*R_s*p**4 + 3.0*L_s*L_{pa}*M_{ra}*M_{sa}*M_{sr}*p**5 + 296088.132032681*L_s*L_{pa}*M_{ra}*M_{sa}*M_{sr}*p**3 - 3.0*L_s*L_{pa}*M_{sa}**2*R_r*p**4 - 296088.132032681*L_s*L_{pa}*M_{sa}**2*R_r*p**2 - 5.82076609134674e-11*L_s*L_{pa}*M_{sa}**2*R_s*p**2 - 3.0*L_s*L_{pa}*M_{sr}**2*R_a*p**4 - 296088.132032681*L_s*L_{pa}*M_{sr}**2*R_a*p**2 + 4*L_s*L_{pa}*R_a*R_r*R_s*p**2 - 3.0*L_s*L_{pr}*M_{sa}**2*R_a*p**4 - 296088.132032681*L_s*L_{pr}*M_{sa}**2*R_a*p**2 + 2*L_s*L_{pr}*R_a**2*R_s*p**2 + 1.5*L_s*M_{ra}**2*M_{sa}**2*p**5 + 148044.06601634*L_s*M_{ra}**2*M_{sa}**2*p**3 - 2*L_s*M_{ra}**2*R_a*R_s*p**3 + 3.0*L_s*M_{ra}*M_{sa}*M_{sr}*R_a*p**4 + 296088.132032681*L_s*M_{ra}*M_{sa}*M_{sr}*R_a*p**2 - 5.82076609134674e-11*L_s*M_{sa}**4*p**3 - 5.82076609134674e-11*L_s*M_{sa}**2*M_{sr}**2*p**3 - 3.0*L_s*M_{sa}**2*R_a*R_r*p**3 - 296088.132032681*L_s*M_{sa}**2*R_a*R_r*p - 5.82076609134674e-11*L_s*M_{sa}**2*R_a*R_s*p - 1.5*L_s*M_{sr}**2*R_a**2*p**3 - 148044.06601634*L_s*M_{sr}**2*R_a**2*p + 2*L_s*R_a**2*R_r*R_s*p + L_{pa}**2*L_{pr}*R_s**2*p**3 - 1.5*L_{pa}**2*M_{sr}**2*R_s*p**4 + L_{pa}**2*R_r*R_s**2*p**2 - 3.0*L_{pa}*L_{pr}*M_{sa}**2*R_s*p**4 + 2*L_{pa}*L_{pr}*R_a*R_s**2*p**2 - L_{pa}*M_{ra}**2*R_s**2*p**3 + 3.0*L_{pa}*M_{ra}*M_{sa}*M_{sr}*R_s*p**4 + 2.25*L_{pa}*M_{sa}**2*M_{sr}**2*p**5 + 222066.099024511*L_{pa}*M_{sa}**2*M_{sr}**2*p**3 - 3.0*L_{pa}*M_{sa}**2*R_r*R_s*p**3 - 3.0*L_{pa}*M_{sr}**2*R_a*R_s*p**3 + 2*L_{pa}*R_a*R_r*R_s**2*p + 2.25*L_{pr}*M_{sa}**4*p**5 + 222066.099024511*L_{pr}*M_{sa}**4*p**3 - 3.0*L_{pr}*M_{sa}**2*R_a*R_s*p**3 + L_{pr}*R_a**2*R_s**2*p + 1.5*M_{ra}**2*M_{sa}**2*R_s*p**4 - M_{ra}**2*R_a*R_s**2*p**2 - 4.5*M_{ra}*M_{sa}**3*M_{sr}*p**5 - 444132.198049021*M_{ra}*M_{sa}**3*M_{sr}*p**3 + 3.0*M_{ra}*M_{sa}*M_{sr}*R_a*R_s*p**3 + 2.25*M_{sa}**4*R_r*p**4 + 222066.099024511*M_{sa}**4*R_r*p**2 + 2.25*M_{sa}**2*M_{sr}**2*R_a*p**4 + 222066.099024511*M_{sa}**2*M_{sr}**2*R_a*p**2 - 3.0*M_{sa}**2*R_a*R_r*R_s*p**2 - 1.5*M_{sr}**2*R_a**2*R_s*p**2 + R_a**2*R_r*R_s**2"
      ]
     },
     "metadata": {},
     "output_type": "display_data"
    },
    {
     "name": "stdout",
     "output_type": "stream",
     "text": [
      "5.94050000000537e-11*p**5 + 4.7519094999997e-7*p**4 + 0.000693452638494282*p**3 + 0.116979359934304*p**2 + 60.4822957626872*p + 1573.94119442728\n",
      "\n",
      "Pôles du système:\n",
      "[-6148.27411811977, -1735.73742093665, -27.2300835459843, -43.9663446582357 - 298.735161819253*I, -43.9663446582357 + 298.735161819253*I]\n"
     ]
    }
   ],
   "source": [
    "\n",
    "# Extraction des coefficients du polynôme dénominateur\n",
    "den_poly = detM\n",
    "display(detM)\n",
    "\n",
    "den_poly = den_poly.subs({\n",
    "    Rs: Rs_val, \n",
    "    Ls: Ls_val, \n",
    "    Rr: Rr_val, \n",
    "    Lpr: Lpr_val, \n",
    "    Ra: Ra_val,\n",
    "    Lpa: Lpa_val, \n",
    "    Mra: Mra_val, \n",
    "    Msr: Msr_val, \n",
    "    Msa: Msa_val\n",
    "})\n",
    "print(den_poly)\n",
    "poles=sp.solve(den_poly,p)\n",
    "\n",
    "\n",
    "\n",
    "print(\"\\nPôles du système:\")\n",
    "print(poles)\n",
    "\n"
   ]
  },
  {
   "cell_type": "markdown",
   "metadata": {},
   "source": [
    "On peut déduire que le système est stable, car tous les pôles ont une partie réelle négative.\n",
    "On observe des constantes de temps très rapides(1/9148 et 1/1735), mais aussi des constantes de temps plus lentes(1/27).\n",
    "Des oscillations apparaissent au début de la réponse, car certains pôles sont complexes conjugués."
   ]
  },
  {
   "cell_type": "markdown",
   "metadata": {},
   "source": [
    "5) Détermination des excitations ∆VSd (p) et ∆VSq (p)"
   ]
  },
  {
   "cell_type": "markdown",
   "metadata": {},
   "source": [
    "Lors du court-circuit triphasé, la tension aux bornes du stator chute brutalement à zéro.\n",
    "Pour simplifier l'analyse, on considère que le repère de Park est aligné avec la phase 𝑎 au moment du court-circuit. Cela signifie que l'axe direct d est orienté dans la direction de la phase 𝑎.\n",
    "Avant le court-circuit (pour t<0), la machine est en régime permanent. La composante directe 𝑉𝑠d est alors égale à la tension nominale 𝑉𝑆𝑛, tandis que la composante quadrature 𝑉𝑠𝑞 est nulle.\n",
    "Donc à t=0- on a : Vsd=Vsn et Vsq=0.\n",
    "et aprés le court circuit on a : Vsd=0 et Vsq=0.\n",
    "Donc on peut déduir que ∆VSd correspond a un echelon négative de -Vsn et Vsq=0.\n",
    "Donc ∆VSd(p)=-Vsn/p et ∆VSq(p)=0."
   ]
  },
  {
   "cell_type": "markdown",
   "metadata": {},
   "source": [
    "6) "
   ]
  },
  {
   "cell_type": "markdown",
   "metadata": {},
   "source": [
    "Après la mise en court-circuit du stator, tous les courants de la machine évoluent sous l’effet de la dynamique propre à l’alternateur. Cette dynamique est dictée par les pôles du système, qui sont : [-6148.27411811977, -1735.73742093665, -27.2300835459843, -43.9663446582357 - 298.735161819253*I, -43.9663446582357 + 298.735161819253*I].\n",
    "\n",
    "Chaque courant est donc une combinaison de décroissances exponentielles associées à ces pôles.\n",
    "L'expression générale d'un courant est : I(t)=A1​exp(-6148.27​t)+A2​exp(-1735.73​t)+A3​exp(-27.23​t)+exp(-43.97t)(A4​cos(298.74t)+A5​sin(298.74t))\n",
    "avec A1,A2,A3,A4 et A5 sont des canstente\n"
   ]
  },
  {
   "cell_type": "markdown",
   "metadata": {},
   "source": [
    "7)"
   ]
  },
  {
   "cell_type": "markdown",
   "metadata": {},
   "source": [
    "Après le court-circuit triphasé, la tension statorique chute brutalement à zéro. Cela entraîne une modification importante des flux et des courants dans la machine, ce qui impacte directement la production du couple électromagnétique Cm.\n",
    "Le couple électromagnétique s'exprime en fonction des flux et des courants statoriques. Lorsque les tensions s'annulent, les courants 𝐼𝑠𝑑 et 𝐼𝑠𝑞 commencent à décroître, tout comme les flux correspondants. Ainsi, le couple qui dépend directement de ces grandeurs décroît aussi.\n",
    "-Juste après le court-circuit :\n",
    "Le couple reste pratiquement au même niveau pendant quelques instants, car les courants n'ont pas encore beaucoup varié.\n",
    "-Pendant le transitoire :\n",
    "Ensuite, le couple décroît rapidement, suivant la dynamique des courants. Cette décroissance est caractérisée par :\n",
    "\n",
    "Une chute rapide initiale (due aux modes très rapides associés aux pôles −6148.27 et −1735.74.\n",
    "Puis une décroissance plus lente liée au pôle −27.23.\n",
    "Et une légère oscillation amortie (provenant des pôles complexes conjugués)."
   ]
  },
  {
   "cell_type": "markdown",
   "metadata": {},
   "source": []
  },
  {
   "cell_type": "markdown",
   "metadata": {},
   "source": [
    "**Conclusion**"
   ]
  },
  {
   "cell_type": "markdown",
   "metadata": {},
   "source": [
    "Ce TP nous a permis d’observer concrètement comment un alternateur réagit face à un court-circuit soudain. On a vu que les courants décroissent progressivement, certains très rapidement, d’autres plus lentement, et que de petites oscillations peuvent apparaître au début.\n",
    "Le couple électromagnétique suit cette même tendance : il chute rapidement avant de s’annuler. Cela reflète bien la disparition de l’énergie électromagnétique dans la machine.\n",
    "Au final, ce travail nous a permis de mieux comprendre les phénomènes transitoires dans une machine synchrone, et l’importance d’une bonne modélisation pour anticiper et maîtriser le comportement en cas de défaut."
   ]
  },
  {
   "cell_type": "code",
   "execution_count": null,
   "metadata": {},
   "outputs": [],
   "source": []
  },
  {
   "cell_type": "code",
   "execution_count": null,
   "metadata": {},
   "outputs": [],
   "source": []
  }
 ],
 "metadata": {
  "kernelspec": {
   "display_name": "Python 3 (ipykernel)",
   "language": "python",
   "name": "python3"
  },
  "language_info": {
   "codemirror_mode": {
    "name": "ipython",
    "version": 3
   },
   "file_extension": ".py",
   "mimetype": "text/x-python",
   "name": "python",
   "nbconvert_exporter": "python",
   "pygments_lexer": "ipython3",
   "version": "3.12.4"
  }
 },
 "nbformat": 4,
 "nbformat_minor": 4
}
