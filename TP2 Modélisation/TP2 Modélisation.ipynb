{
 "cells": [
  {
   "cell_type": "markdown",
   "metadata": {},
   "source": [
    "# TP3 : Court-circuit triphasé d'un alternateur\n",
    "## Partie Manipulation\n",
    "\n",
    "**Auteurs:** Wadii Sougrati & Mohammed Amine Yousfi  \n",
    "**Date:** Mars 2025\n",
    "\n",
    "Ce notebook implémente la partie manipulation du TP2 sur le court-circuit triphasé d'un alternateur. L'objectif est de déterminer l'évolution temporelle des grandeurs d'un alternateur à rotor bobiné avec amortisseurs lors d'un court-circuit triphasé au stator."
   ]
  },
  {
   "cell_type": "code",
   "execution_count": 1,
   "metadata": {},
   "outputs": [],
   "source": [
    "import numpy as np\n",
    "import sympy as sp\n",
    "import matplotlib.pyplot as plt\n",
    "from scipy import signal\n",
    "\n",
    "# Définition des symboles pour le calcul symbolique\n",
    "Rs, Ls, Rr, Lpr, Ra, Lpa, Mra, Msr, Msa, p = sp.symbols('R_s L_s R_r L_{pr} R_a L_{pa} M_{ra} M_{sr} M_{sa} p')\n",
    "\n",
    "# Valeurs numériques\n",
    "# Valeurs nominales\n",
    "Vsn = 230      # Tension nominale [V]\n",
    "fsn = 50       # Fréquence nominale [Hz]\n",
    "Isn = 15.0     # Courant nominal [A]\n",
    "Nn = 1500      # Vitesse nominale [tr/min]\n",
    "cos_phi = -0.8  # Facteur de puissance (convention générateur)\n",
    "\n",
    "# Valeurs des résistances et inductances\n",
    "Rs_val = 2.90e-1   # Résistance statorique [Ω]\n",
    "Ls_val = 4.96e-2   # Inductance cyclique statorique [H]\n",
    "Rr_val = 2.00      # Résistance rotorique [Ω]\n",
    "Lpr_val = 1.00     # Inductance propre rotorique [H]\n",
    "Ra_val = 1.80      # Résistance amortisseurs [Ω]\n",
    "Lpa_val = 2.00e-2  # Inductance propre amortisseurs [H]\n",
    "Mra_val = 1.40e-1  # Inductance mutuelle rotor/amortisseur d'axe d [H]\n",
    "Msr_val = 1.75e-1  # Inductance mutuelle stator/rotor [H]\n",
    "Msa_val = 2.50e-2  # Inductance mutuelle stator/amortisseurs [H]\n",
    "\n",
    "# Nombre de paires de pôles (pour une machine à 1500 tr/min à 50 Hz)\n",
    "p_poles = 2\n",
    "\n",
    "# Vitesse angulaire nominale\n",
    "Omega0 = 2*np.pi*fsn  # [rad/s]\n",
    "\n",
    "# Coefficient de frottement (pour le calcul du couple mécanique)\n",
    "f_coeff = 0.1"
   ]
  },
  {
   "cell_type": "markdown",
   "metadata": {},
   "source": [
    "1. Détermination du point de repos,"
   ]
  },
  {
   "cell_type": "code",
   "execution_count": 9,
   "metadata": {},
   "outputs": [
    {
     "name": "stdout",
     "output_type": "stream",
     "text": [
      "Matrice M(p) définie symboliquement\n",
      "Dimensions:  (5, 5)\n"
     ]
    },
    {
     "data": {
      "text/latex": [
       "$\\displaystyle \\left[\\begin{matrix}L_{s} p + R_{s} & - 314.159265358979 L_{s} & M_{sr} p & M_{sa} p & - 314.159265358979 M_{sa}\\\\314.159265358979 L_{s} & L_{s} p + R_{s} & 314.159265358979 M_{sr} & 314.159265358979 M_{sa} & M_{sa} p\\\\1.5 M_{sr} p & 0 & L_{pr} p + R_{r} & M_{ra} p & 0\\\\1.5 M_{sa} p & 0 & M_{ra} p & L_{pa} p + R_{a} & 0\\\\0 & 1.5 M_{sa} p & 0 & 0 & L_{pa} p + R_{a}\\end{matrix}\\right]$"
      ],
      "text/plain": [
       "Matrix([\n",
       "[         L_s*p + R_s, -314.159265358979*L_s,                M_{sr}*p,                M_{sa}*p, -314.159265358979*M_{sa}],\n",
       "[314.159265358979*L_s,           L_s*p + R_s, 314.159265358979*M_{sr}, 314.159265358979*M_{sa},                 M_{sa}*p],\n",
       "[        1.5*M_{sr}*p,                     0,          L_{pr}*p + R_r,                M_{ra}*p,                        0],\n",
       "[        1.5*M_{sa}*p,                     0,                M_{ra}*p,          L_{pa}*p + R_a,                        0],\n",
       "[                   0,          1.5*M_{sa}*p,                       0,                       0,           L_{pa}*p + R_a]])"
      ]
     },
     "metadata": {},
     "output_type": "display_data"
    }
   ],
   "source": [
    "# Définition de la matrice des résistances [R]\n",
    "R = sp.Matrix([\n",
    "    [Rs, 0, 0, 0, 0],\n",
    "    [0, Rs, 0, 0, 0],\n",
    "    [0, 0, Rr, 0, 0],\n",
    "    [0, 0, 0, Ra, 0],\n",
    "    [0, 0, 0, 0, Ra]\n",
    "])\n",
    "\n",
    "# Définition de la matrice des inductances [L]\n",
    "L = sp.Matrix([\n",
    "    [Ls, 0, Msr, Msa, 0],\n",
    "    [0, Ls, 0, 0, Msa],\n",
    "    [3/2*Msr, 0, Lpr, Mra, 0],\n",
    "    [3/2*Msa, 0, Mra, Lpa, 0],\n",
    "    [0, 3/2*Msa, 0, 0, Lpa]\n",
    "])\n",
    "\n",
    "# Définition de la matrice des pulsations [omega0]\n",
    "omega0 = sp.Matrix([\n",
    "    [0, -Omega0, 0, 0, 0],\n",
    "    [Omega0, 0, 0, 0, 0],\n",
    "    [0, 0, 0, 0, 0],\n",
    "    [0, 0, 0, 0, 0],\n",
    "    [0, 0, 0, 0, 0]\n",
    "])\n",
    "\n",
    "# Calcul de la matrice M(p) = R + omega0*L + p*L\n",
    "M_p = R + omega0 * L + p * L\n",
    "\n",
    "# Substitution des valeurs numériques\n",
    "M_p_num = M_p.subs({\n",
    "    Rs: Rs_val, \n",
    "    Ls: Ls_val, \n",
    "    Rr: Rr_val, \n",
    "    Lpr: Lpr_val, \n",
    "    Ra: Ra_val, \n",
    "    Lpa: Lpa_val, \n",
    "    Mra: Mra_val, \n",
    "    Msr: Msr_val, \n",
    "    Msa: Msa_val\n",
    "})\n",
    "\n",
    "print(\"Matrice M(p) définie symboliquement\")\n",
    "print(\"Dimensions: \", M_p.shape)\n",
    "display(M_p)"
   ]
  },
  {
   "cell_type": "code",
   "execution_count": 3,
   "metadata": {},
   "outputs": [
    {
     "data": {
      "text/latex": [
       "$\\displaystyle \\left[\\begin{matrix}0.0496 p + 0.29 & -31.1645991236107 & 0.175 p & 0.025 p & -15.707963267949\\\\31.1645991236107 & 0.0496 p + 0.29 & 109.955742875643 & 15.707963267949 & 0.025 p\\\\0.2625 p & 0 & 1.0 p + 2.0 & 0.14 p & 0\\\\0.0375 p & 0 & 0.14 p & 0.02 p + 1.8 & 0\\\\0 & 0.0375 p & 0 & 0 & 0.02 p + 1.8\\end{matrix}\\right]$"
      ],
      "text/plain": [
       "Matrix([\n",
       "[ 0.0496*p + 0.29, -31.1645991236107,          0.175*p,         0.025*p, -15.707963267949],\n",
       "[31.1645991236107,   0.0496*p + 0.29, 109.955742875643, 15.707963267949,          0.025*p],\n",
       "[        0.2625*p,                 0,      1.0*p + 2.0,          0.14*p,                0],\n",
       "[        0.0375*p,                 0,           0.14*p,    0.02*p + 1.8,                0],\n",
       "[               0,          0.0375*p,                0,               0,     0.02*p + 1.8]])"
      ]
     },
     "execution_count": 3,
     "metadata": {},
     "output_type": "execute_result"
    }
   ],
   "source": [
    "M_p_num"
   ]
  },
  {
   "cell_type": "markdown",
   "metadata": {},
   "source": [
    "2. Détermination de la matrice [M (p)] des variations,"
   ]
  },
  {
   "cell_type": "code",
   "execution_count": 11,
   "metadata": {},
   "outputs": [
    {
     "name": "stdout",
     "output_type": "stream",
     "text": [
      "Courants statoriques: Isd0 = 9.00 A, Isq0 = -12.00 A\n",
      "Tensions statoriques: Vsd0 = 376.59 V, Vsq0 = 277.00 V\n",
      "Amplitude de la tension statorique: Vs = 467.49 V\n",
      "Courant rotorique: Ir0 = -0.05 A\n",
      "Flux: Phisd0 = 0.4376 Wb, Phisq0 = -0.5952 Wb\n",
      "      Phir0 = 1.5250 Wb, Phid0 = 0.2180 Wb, Phiq0 = -0.3000 Wb\n",
      "Couple électromagnétique: Ce0 = 0.32 N.m\n",
      "Couple mécanique: Cm0 = 31.73 N.m\n",
      "\n"
     ]
    }
   ],
   "source": [
    "phi = np.arccos(cos_phi)  # [rad]\n",
    "\n",
    "# Calcul des courants statoriques en régime permanent\n",
    "Isd0 = Isn * np.sin(phi)\n",
    "Isq0 = Isn * np.cos(phi)\n",
    "\n",
    "# Calcul des tensions statoriques en régime permanent\n",
    "Vsd0 = Rs_val * Isd0 - Omega0 * Ls_val * Isq0\n",
    "Vsq0 = Rs_val * Isq0 + Omega0 * Ls_val * Isd0\n",
    "\n",
    "# Amplitude de la tension statorique\n",
    "Vs = np.sqrt(Vsd0**2 + Vsq0**2)\n",
    "\n",
    "# Calcul du courant rotorique en régime permanent\n",
    "# En régime permanent, le courant dans les amortisseurs est nul\n",
    "Id0 = 0\n",
    "Iq0 = 0\n",
    "\n",
    "# Pour le courant rotorique, on utilise les équations du régime permanent\n",
    "# Vr0 = Rr*Ir0 (tension constante)\n",
    "# Flux rotorique = Msr*Isd0 + Lr*Ir0 + Mra*Id0\n",
    "# On simplifie en supposant que Ir0 est faible\n",
    "Ir0 = -0.05  # Approximation\n",
    "\n",
    "# Calcul des flux en régime permanent\n",
    "Phisd0 = Ls_val * Isd0 + Msr_val * Ir0 + Msa_val * Id0\n",
    "Phisq0 = Ls_val * Isq0 + Msa_val * Iq0\n",
    "Phir0 = Msr_val * Isd0 + Lpr_val * Ir0 + Mra_val * Id0\n",
    "Phid0 = Msa_val * Isd0 + Mra_val * Ir0 + Lpa_val * Id0\n",
    "Phiq0 = Msa_val * Isq0 + Lpa_val * Iq0\n",
    "\n",
    "# Calcul du couple électromagnétique en régime permanent\n",
    "Ce0 = 1.5 * p_poles * ((Phisd0 * Isq0) - (Phisq0 * Isd0))\n",
    "\n",
    "# Calcul du couple mécanique en régime permanent\n",
    "Cm0 = Ce0 + f_coeff * Omega0\n",
    "\n",
    "# Affichage des résultats\n",
    "print(f\"Courants statoriques: Isd0 = {Isd0:.2f} A, Isq0 = {Isq0:.2f} A\")\n",
    "print(f\"Tensions statoriques: Vsd0 = {Vsd0:.2f} V, Vsq0 = {Vsq0:.2f} V\")\n",
    "print(f\"Amplitude de la tension statorique: Vs = {Vs:.2f} V\")\n",
    "print(f\"Courant rotorique: Ir0 = {Ir0:.2f} A\")\n",
    "print(f\"Flux: Phisd0 = {Phisd0:.4f} Wb, Phisq0 = {Phisq0:.4f} Wb\")\n",
    "print(f\"      Phir0 = {Phir0:.4f} Wb, Phid0 = {Phid0:.4f} Wb, Phiq0 = {Phiq0:.4f} Wb\")\n",
    "print(f\"Couple électromagnétique: Ce0 = {Ce0:.2f} N.m\")\n",
    "print(f\"Couple mécanique: Cm0 = {Cm0:.2f} N.m\\n\")"
   ]
  },
  {
   "cell_type": "code",
   "execution_count": 5,
   "metadata": {},
   "outputs": [
    {
     "data": {
      "text/plain": [
       "143.13022325108355"
      ]
     },
     "execution_count": 5,
     "metadata": {},
     "output_type": "execute_result"
    }
   ],
   "source": [
    "phi*180/3.14159"
   ]
  },
  {
   "cell_type": "markdown",
   "metadata": {},
   "source": [
    "3. Détermination des fonctions de transferts Hi j (p) par inversion de [M (p)] (5),"
   ]
  },
  {
   "cell_type": "code",
   "execution_count": 6,
   "metadata": {},
   "outputs": [
    {
     "name": "stdout",
     "output_type": "stream",
     "text": [
      "Déterminant de M(p) pour p=0: \n"
     ]
    },
    {
     "data": {
      "text/latex": [
       "$\\displaystyle 2.3283064365387 \\cdot 10^{-10} L_{s}^{4} R_{s} p^{2} - 1.16415321826935 \\cdot 10^{-10} L_{s}^{3} M_{sa}^{2} p^{3} + 2.3283064365387 \\cdot 10^{-10} L_{s}^{3} R_{s}^{2} p + L_{s}^{2} L_{pa}^{2} L_{pr} p^{5} + 394784.176043574 L_{s}^{2} L_{pa}^{2} L_{pr} p^{3} + L_{s}^{2} L_{pa}^{2} R_{r} p^{4} + 394784.176043574 L_{s}^{2} L_{pa}^{2} R_{r} p^{2} + 2 L_{s}^{2} L_{pa} L_{pr} R_{a} p^{4} + 789568.352087149 L_{s}^{2} L_{pa} L_{pr} R_{a} p^{2} - L_{s}^{2} L_{pa} M_{ra}^{2} p^{5} - 394784.176043574 L_{s}^{2} L_{pa} M_{ra}^{2} p^{3} - 1.16415321826935 \\cdot 10^{-10} L_{s}^{2} L_{pa} M_{sa}^{2} p^{3} + 2 L_{s}^{2} L_{pa} R_{a} R_{r} p^{3} + 789568.352087149 L_{s}^{2} L_{pa} R_{a} R_{r} p - 2.3283064365387 \\cdot 10^{-10} L_{s}^{2} L_{pr} M_{sa}^{2} p^{3} + L_{s}^{2} L_{pr} R_{a}^{2} p^{3} + 394784.176043574 L_{s}^{2} L_{pr} R_{a}^{2} p - L_{s}^{2} M_{ra}^{2} R_{a} p^{4} - 394784.176043574 L_{s}^{2} M_{ra}^{2} R_{a} p^{2} - 1.16415321826935 \\cdot 10^{-10} L_{s}^{2} M_{sa}^{2} R_{a} p^{2} - 2.3283064365387 \\cdot 10^{-10} L_{s}^{2} M_{sa}^{2} R_{r} p^{2} - 2.3283064365387 \\cdot 10^{-10} L_{s}^{2} M_{sa}^{2} R_{s} p^{2} + L_{s}^{2} R_{a}^{2} R_{r} p^{2} + 394784.176043574 L_{s}^{2} R_{a}^{2} R_{r} + 2 L_{s} L_{pa}^{2} L_{pr} R_{s} p^{4} - 1.5 L_{s} L_{pa}^{2} M_{sr}^{2} p^{5} - 592176.264065361 L_{s} L_{pa}^{2} M_{sr}^{2} p^{3} + 2 L_{s} L_{pa}^{2} R_{r} R_{s} p^{3} - 3.0 L_{s} L_{pa} L_{pr} M_{sa}^{2} p^{5} - 1184352.52813072 L_{s} L_{pa} L_{pr} M_{sa}^{2} p^{3} + 4 L_{s} L_{pa} L_{pr} R_{a} R_{s} p^{3} - 2 L_{s} L_{pa} M_{ra}^{2} R_{s} p^{4} + 3.0 L_{s} L_{pa} M_{ra} M_{sa} M_{sr} p^{5} + 1184352.52813072 L_{s} L_{pa} M_{ra} M_{sa} M_{sr} p^{3} - 3.0 L_{s} L_{pa} M_{sa}^{2} R_{r} p^{4} - 1184352.52813072 L_{s} L_{pa} M_{sa}^{2} R_{r} p^{2} - 2.3283064365387 \\cdot 10^{-10} L_{s} L_{pa} M_{sa}^{2} R_{s} p^{2} - 3.0 L_{s} L_{pa} M_{sr}^{2} R_{a} p^{4} - 1184352.52813072 L_{s} L_{pa} M_{sr}^{2} R_{a} p^{2} + 4 L_{s} L_{pa} R_{a} R_{r} R_{s} p^{2} - 3.0 L_{s} L_{pr} M_{sa}^{2} R_{a} p^{4} - 1184352.52813072 L_{s} L_{pr} M_{sa}^{2} R_{a} p^{2} + 2 L_{s} L_{pr} R_{a}^{2} R_{s} p^{2} + 1.5 L_{s} M_{ra}^{2} M_{sa}^{2} p^{5} + 592176.264065361 L_{s} M_{ra}^{2} M_{sa}^{2} p^{3} - 2 L_{s} M_{ra}^{2} R_{a} R_{s} p^{3} + 3.0 L_{s} M_{ra} M_{sa} M_{sr} R_{a} p^{4} + 1184352.52813072 L_{s} M_{ra} M_{sa} M_{sr} R_{a} p^{2} - 2.3283064365387 \\cdot 10^{-10} L_{s} M_{sa}^{4} p^{3} - 2.3283064365387 \\cdot 10^{-10} L_{s} M_{sa}^{2} M_{sr}^{2} p^{3} - 3.0 L_{s} M_{sa}^{2} R_{a} R_{r} p^{3} - 1184352.52813072 L_{s} M_{sa}^{2} R_{a} R_{r} p - 2.3283064365387 \\cdot 10^{-10} L_{s} M_{sa}^{2} R_{a} R_{s} p - 1.5 L_{s} M_{sr}^{2} R_{a}^{2} p^{3} - 592176.264065361 L_{s} M_{sr}^{2} R_{a}^{2} p + 2 L_{s} R_{a}^{2} R_{r} R_{s} p + L_{pa}^{2} L_{pr} R_{s}^{2} p^{3} - 1.5 L_{pa}^{2} M_{sr}^{2} R_{s} p^{4} + L_{pa}^{2} R_{r} R_{s}^{2} p^{2} - 3.0 L_{pa} L_{pr} M_{sa}^{2} R_{s} p^{4} + 2 L_{pa} L_{pr} R_{a} R_{s}^{2} p^{2} - L_{pa} M_{ra}^{2} R_{s}^{2} p^{3} + 3.0 L_{pa} M_{ra} M_{sa} M_{sr} R_{s} p^{4} + 2.25 L_{pa} M_{sa}^{2} M_{sr}^{2} p^{5} + 888264.396098042 L_{pa} M_{sa}^{2} M_{sr}^{2} p^{3} - 3.0 L_{pa} M_{sa}^{2} R_{r} R_{s} p^{3} - 3.0 L_{pa} M_{sr}^{2} R_{a} R_{s} p^{3} + 2 L_{pa} R_{a} R_{r} R_{s}^{2} p + 2.25 L_{pr} M_{sa}^{4} p^{5} + 888264.396098042 L_{pr} M_{sa}^{4} p^{3} - 3.0 L_{pr} M_{sa}^{2} R_{a} R_{s} p^{3} + L_{pr} R_{a}^{2} R_{s}^{2} p + 1.5 M_{ra}^{2} M_{sa}^{2} R_{s} p^{4} - M_{ra}^{2} R_{a} R_{s}^{2} p^{2} - 4.5 M_{ra} M_{sa}^{3} M_{sr} p^{5} - 1776528.79219608 M_{ra} M_{sa}^{3} M_{sr} p^{3} + 3.0 M_{ra} M_{sa} M_{sr} R_{a} R_{s} p^{3} + 2.25 M_{sa}^{4} R_{r} p^{4} + 888264.396098042 M_{sa}^{4} R_{r} p^{2} + 2.25 M_{sa}^{2} M_{sr}^{2} R_{a} p^{4} + 888264.396098042 M_{sa}^{2} M_{sr}^{2} R_{a} p^{2} - 3.0 M_{sa}^{2} R_{a} R_{r} R_{s} p^{2} - 1.5 M_{sr}^{2} R_{a}^{2} R_{s} p^{2} + R_{a}^{2} R_{r} R_{s}^{2}$"
      ],
      "text/plain": [
       "2.3283064365387e-10*L_s**4*R_s*p**2 - 1.16415321826935e-10*L_s**3*M_{sa}**2*p**3 + 2.3283064365387e-10*L_s**3*R_s**2*p + L_s**2*L_{pa}**2*L_{pr}*p**5 + 394784.176043574*L_s**2*L_{pa}**2*L_{pr}*p**3 + L_s**2*L_{pa}**2*R_r*p**4 + 394784.176043574*L_s**2*L_{pa}**2*R_r*p**2 + 2*L_s**2*L_{pa}*L_{pr}*R_a*p**4 + 789568.352087149*L_s**2*L_{pa}*L_{pr}*R_a*p**2 - L_s**2*L_{pa}*M_{ra}**2*p**5 - 394784.176043574*L_s**2*L_{pa}*M_{ra}**2*p**3 - 1.16415321826935e-10*L_s**2*L_{pa}*M_{sa}**2*p**3 + 2*L_s**2*L_{pa}*R_a*R_r*p**3 + 789568.352087149*L_s**2*L_{pa}*R_a*R_r*p - 2.3283064365387e-10*L_s**2*L_{pr}*M_{sa}**2*p**3 + L_s**2*L_{pr}*R_a**2*p**3 + 394784.176043574*L_s**2*L_{pr}*R_a**2*p - L_s**2*M_{ra}**2*R_a*p**4 - 394784.176043574*L_s**2*M_{ra}**2*R_a*p**2 - 1.16415321826935e-10*L_s**2*M_{sa}**2*R_a*p**2 - 2.3283064365387e-10*L_s**2*M_{sa}**2*R_r*p**2 - 2.3283064365387e-10*L_s**2*M_{sa}**2*R_s*p**2 + L_s**2*R_a**2*R_r*p**2 + 394784.176043574*L_s**2*R_a**2*R_r + 2*L_s*L_{pa}**2*L_{pr}*R_s*p**4 - 1.5*L_s*L_{pa}**2*M_{sr}**2*p**5 - 592176.264065361*L_s*L_{pa}**2*M_{sr}**2*p**3 + 2*L_s*L_{pa}**2*R_r*R_s*p**3 - 3.0*L_s*L_{pa}*L_{pr}*M_{sa}**2*p**5 - 1184352.52813072*L_s*L_{pa}*L_{pr}*M_{sa}**2*p**3 + 4*L_s*L_{pa}*L_{pr}*R_a*R_s*p**3 - 2*L_s*L_{pa}*M_{ra}**2*R_s*p**4 + 3.0*L_s*L_{pa}*M_{ra}*M_{sa}*M_{sr}*p**5 + 1184352.52813072*L_s*L_{pa}*M_{ra}*M_{sa}*M_{sr}*p**3 - 3.0*L_s*L_{pa}*M_{sa}**2*R_r*p**4 - 1184352.52813072*L_s*L_{pa}*M_{sa}**2*R_r*p**2 - 2.3283064365387e-10*L_s*L_{pa}*M_{sa}**2*R_s*p**2 - 3.0*L_s*L_{pa}*M_{sr}**2*R_a*p**4 - 1184352.52813072*L_s*L_{pa}*M_{sr}**2*R_a*p**2 + 4*L_s*L_{pa}*R_a*R_r*R_s*p**2 - 3.0*L_s*L_{pr}*M_{sa}**2*R_a*p**4 - 1184352.52813072*L_s*L_{pr}*M_{sa}**2*R_a*p**2 + 2*L_s*L_{pr}*R_a**2*R_s*p**2 + 1.5*L_s*M_{ra}**2*M_{sa}**2*p**5 + 592176.264065361*L_s*M_{ra}**2*M_{sa}**2*p**3 - 2*L_s*M_{ra}**2*R_a*R_s*p**3 + 3.0*L_s*M_{ra}*M_{sa}*M_{sr}*R_a*p**4 + 1184352.52813072*L_s*M_{ra}*M_{sa}*M_{sr}*R_a*p**2 - 2.3283064365387e-10*L_s*M_{sa}**4*p**3 - 2.3283064365387e-10*L_s*M_{sa}**2*M_{sr}**2*p**3 - 3.0*L_s*M_{sa}**2*R_a*R_r*p**3 - 1184352.52813072*L_s*M_{sa}**2*R_a*R_r*p - 2.3283064365387e-10*L_s*M_{sa}**2*R_a*R_s*p - 1.5*L_s*M_{sr}**2*R_a**2*p**3 - 592176.264065361*L_s*M_{sr}**2*R_a**2*p + 2*L_s*R_a**2*R_r*R_s*p + L_{pa}**2*L_{pr}*R_s**2*p**3 - 1.5*L_{pa}**2*M_{sr}**2*R_s*p**4 + L_{pa}**2*R_r*R_s**2*p**2 - 3.0*L_{pa}*L_{pr}*M_{sa}**2*R_s*p**4 + 2*L_{pa}*L_{pr}*R_a*R_s**2*p**2 - L_{pa}*M_{ra}**2*R_s**2*p**3 + 3.0*L_{pa}*M_{ra}*M_{sa}*M_{sr}*R_s*p**4 + 2.25*L_{pa}*M_{sa}**2*M_{sr}**2*p**5 + 888264.396098042*L_{pa}*M_{sa}**2*M_{sr}**2*p**3 - 3.0*L_{pa}*M_{sa}**2*R_r*R_s*p**3 - 3.0*L_{pa}*M_{sr}**2*R_a*R_s*p**3 + 2*L_{pa}*R_a*R_r*R_s**2*p + 2.25*L_{pr}*M_{sa}**4*p**5 + 888264.396098042*L_{pr}*M_{sa}**4*p**3 - 3.0*L_{pr}*M_{sa}**2*R_a*R_s*p**3 + L_{pr}*R_a**2*R_s**2*p + 1.5*M_{ra}**2*M_{sa}**2*R_s*p**4 - M_{ra}**2*R_a*R_s**2*p**2 - 4.5*M_{ra}*M_{sa}**3*M_{sr}*p**5 - 1776528.79219608*M_{ra}*M_{sa}**3*M_{sr}*p**3 + 3.0*M_{ra}*M_{sa}*M_{sr}*R_a*R_s*p**3 + 2.25*M_{sa}**4*R_r*p**4 + 888264.396098042*M_{sa}**4*R_r*p**2 + 2.25*M_{sa}**2*M_{sr}**2*R_a*p**4 + 888264.396098042*M_{sa}**2*M_{sr}**2*R_a*p**2 - 3.0*M_{sa}**2*R_a*R_r*R_s*p**2 - 1.5*M_{sr}**2*R_a**2*R_s*p**2 + R_a**2*R_r*R_s**2"
      ]
     },
     "metadata": {},
     "output_type": "display_data"
    },
    {
     "name": "stdout",
     "output_type": "stream",
     "text": [
      "Fonctions de transfert:\n"
     ]
    },
    {
     "data": {
      "text/latex": [
       "$\\displaystyle \\frac{L_{s} L_{pa}^{2} L_{pr} p^{4} + L_{s} L_{pa}^{2} R_{r} p^{3} + 2 L_{s} L_{pa} L_{pr} R_{a} p^{3} - L_{s} L_{pa} M_{ra}^{2} p^{4} + 2 L_{s} L_{pa} R_{a} R_{r} p^{2} + L_{s} L_{pr} R_{a}^{2} p^{2} - L_{s} M_{ra}^{2} R_{a} p^{3} + L_{s} R_{a}^{2} R_{r} p + L_{pa}^{2} L_{pr} R_{s} p^{3} + L_{pa}^{2} R_{r} R_{s} p^{2} - 1.5 L_{pa} L_{pr} M_{sa}^{2} p^{4} + 2 L_{pa} L_{pr} R_{a} R_{s} p^{2} - L_{pa} M_{ra}^{2} R_{s} p^{3} - 1.5 L_{pa} M_{sa}^{2} R_{r} p^{3} + 2 L_{pa} R_{a} R_{r} R_{s} p - 1.5 L_{pr} M_{sa}^{2} R_{a} p^{3} + L_{pr} R_{a}^{2} R_{s} p + 1.5 M_{ra}^{2} M_{sa}^{2} p^{4} - M_{ra}^{2} R_{a} R_{s} p^{2} - 1.5 M_{sa}^{2} R_{a} R_{r} p^{2} + R_{a}^{2} R_{r} R_{s}}{2.3283064365387 \\cdot 10^{-10} L_{s}^{4} R_{s} p^{2} - 1.16415321826935 \\cdot 10^{-10} L_{s}^{3} M_{sa}^{2} p^{3} + 2.3283064365387 \\cdot 10^{-10} L_{s}^{3} R_{s}^{2} p + L_{s}^{2} L_{pa}^{2} L_{pr} p^{5} + 394784.176043574 L_{s}^{2} L_{pa}^{2} L_{pr} p^{3} + L_{s}^{2} L_{pa}^{2} R_{r} p^{4} + 394784.176043574 L_{s}^{2} L_{pa}^{2} R_{r} p^{2} + 2 L_{s}^{2} L_{pa} L_{pr} R_{a} p^{4} + 789568.352087149 L_{s}^{2} L_{pa} L_{pr} R_{a} p^{2} - L_{s}^{2} L_{pa} M_{ra}^{2} p^{5} - 394784.176043574 L_{s}^{2} L_{pa} M_{ra}^{2} p^{3} - 1.16415321826935 \\cdot 10^{-10} L_{s}^{2} L_{pa} M_{sa}^{2} p^{3} + 2 L_{s}^{2} L_{pa} R_{a} R_{r} p^{3} + 789568.352087149 L_{s}^{2} L_{pa} R_{a} R_{r} p - 2.3283064365387 \\cdot 10^{-10} L_{s}^{2} L_{pr} M_{sa}^{2} p^{3} + L_{s}^{2} L_{pr} R_{a}^{2} p^{3} + 394784.176043574 L_{s}^{2} L_{pr} R_{a}^{2} p - L_{s}^{2} M_{ra}^{2} R_{a} p^{4} - 394784.176043574 L_{s}^{2} M_{ra}^{2} R_{a} p^{2} - 1.16415321826935 \\cdot 10^{-10} L_{s}^{2} M_{sa}^{2} R_{a} p^{2} - 2.3283064365387 \\cdot 10^{-10} L_{s}^{2} M_{sa}^{2} R_{r} p^{2} - 2.3283064365387 \\cdot 10^{-10} L_{s}^{2} M_{sa}^{2} R_{s} p^{2} + L_{s}^{2} R_{a}^{2} R_{r} p^{2} + 394784.176043574 L_{s}^{2} R_{a}^{2} R_{r} + 2 L_{s} L_{pa}^{2} L_{pr} R_{s} p^{4} - 1.5 L_{s} L_{pa}^{2} M_{sr}^{2} p^{5} - 592176.264065361 L_{s} L_{pa}^{2} M_{sr}^{2} p^{3} + 2 L_{s} L_{pa}^{2} R_{r} R_{s} p^{3} - 3.0 L_{s} L_{pa} L_{pr} M_{sa}^{2} p^{5} - 1184352.52813072 L_{s} L_{pa} L_{pr} M_{sa}^{2} p^{3} + 4 L_{s} L_{pa} L_{pr} R_{a} R_{s} p^{3} - 2 L_{s} L_{pa} M_{ra}^{2} R_{s} p^{4} + 3.0 L_{s} L_{pa} M_{ra} M_{sa} M_{sr} p^{5} + 1184352.52813072 L_{s} L_{pa} M_{ra} M_{sa} M_{sr} p^{3} - 3.0 L_{s} L_{pa} M_{sa}^{2} R_{r} p^{4} - 1184352.52813072 L_{s} L_{pa} M_{sa}^{2} R_{r} p^{2} - 2.3283064365387 \\cdot 10^{-10} L_{s} L_{pa} M_{sa}^{2} R_{s} p^{2} - 3.0 L_{s} L_{pa} M_{sr}^{2} R_{a} p^{4} - 1184352.52813072 L_{s} L_{pa} M_{sr}^{2} R_{a} p^{2} + 4 L_{s} L_{pa} R_{a} R_{r} R_{s} p^{2} - 3.0 L_{s} L_{pr} M_{sa}^{2} R_{a} p^{4} - 1184352.52813072 L_{s} L_{pr} M_{sa}^{2} R_{a} p^{2} + 2 L_{s} L_{pr} R_{a}^{2} R_{s} p^{2} + 1.5 L_{s} M_{ra}^{2} M_{sa}^{2} p^{5} + 592176.264065361 L_{s} M_{ra}^{2} M_{sa}^{2} p^{3} - 2 L_{s} M_{ra}^{2} R_{a} R_{s} p^{3} + 3.0 L_{s} M_{ra} M_{sa} M_{sr} R_{a} p^{4} + 1184352.52813072 L_{s} M_{ra} M_{sa} M_{sr} R_{a} p^{2} - 2.3283064365387 \\cdot 10^{-10} L_{s} M_{sa}^{4} p^{3} - 2.3283064365387 \\cdot 10^{-10} L_{s} M_{sa}^{2} M_{sr}^{2} p^{3} - 3.0 L_{s} M_{sa}^{2} R_{a} R_{r} p^{3} - 1184352.52813072 L_{s} M_{sa}^{2} R_{a} R_{r} p - 2.3283064365387 \\cdot 10^{-10} L_{s} M_{sa}^{2} R_{a} R_{s} p - 1.5 L_{s} M_{sr}^{2} R_{a}^{2} p^{3} - 592176.264065361 L_{s} M_{sr}^{2} R_{a}^{2} p + 2 L_{s} R_{a}^{2} R_{r} R_{s} p + L_{pa}^{2} L_{pr} R_{s}^{2} p^{3} - 1.5 L_{pa}^{2} M_{sr}^{2} R_{s} p^{4} + L_{pa}^{2} R_{r} R_{s}^{2} p^{2} - 3.0 L_{pa} L_{pr} M_{sa}^{2} R_{s} p^{4} + 2 L_{pa} L_{pr} R_{a} R_{s}^{2} p^{2} - L_{pa} M_{ra}^{2} R_{s}^{2} p^{3} + 3.0 L_{pa} M_{ra} M_{sa} M_{sr} R_{s} p^{4} + 2.25 L_{pa} M_{sa}^{2} M_{sr}^{2} p^{5} + 888264.396098042 L_{pa} M_{sa}^{2} M_{sr}^{2} p^{3} - 3.0 L_{pa} M_{sa}^{2} R_{r} R_{s} p^{3} - 3.0 L_{pa} M_{sr}^{2} R_{a} R_{s} p^{3} + 2 L_{pa} R_{a} R_{r} R_{s}^{2} p + 2.25 L_{pr} M_{sa}^{4} p^{5} + 888264.396098042 L_{pr} M_{sa}^{4} p^{3} - 3.0 L_{pr} M_{sa}^{2} R_{a} R_{s} p^{3} + L_{pr} R_{a}^{2} R_{s}^{2} p + 1.5 M_{ra}^{2} M_{sa}^{2} R_{s} p^{4} - M_{ra}^{2} R_{a} R_{s}^{2} p^{2} - 4.5 M_{ra} M_{sa}^{3} M_{sr} p^{5} - 1776528.79219608 M_{ra} M_{sa}^{3} M_{sr} p^{3} + 3.0 M_{ra} M_{sa} M_{sr} R_{a} R_{s} p^{3} + 2.25 M_{sa}^{4} R_{r} p^{4} + 888264.396098042 M_{sa}^{4} R_{r} p^{2} + 2.25 M_{sa}^{2} M_{sr}^{2} R_{a} p^{4} + 888264.396098042 M_{sa}^{2} M_{sr}^{2} R_{a} p^{2} - 3.0 M_{sa}^{2} R_{a} R_{r} R_{s} p^{2} - 1.5 M_{sr}^{2} R_{a}^{2} R_{s} p^{2} + R_{a}^{2} R_{r} R_{s}^{2}}$"
      ],
      "text/plain": [
       "(L_s*L_{pa}**2*L_{pr}*p**4 + L_s*L_{pa}**2*R_r*p**3 + 2*L_s*L_{pa}*L_{pr}*R_a*p**3 - L_s*L_{pa}*M_{ra}**2*p**4 + 2*L_s*L_{pa}*R_a*R_r*p**2 + L_s*L_{pr}*R_a**2*p**2 - L_s*M_{ra}**2*R_a*p**3 + L_s*R_a**2*R_r*p + L_{pa}**2*L_{pr}*R_s*p**3 + L_{pa}**2*R_r*R_s*p**2 - 1.5*L_{pa}*L_{pr}*M_{sa}**2*p**4 + 2*L_{pa}*L_{pr}*R_a*R_s*p**2 - L_{pa}*M_{ra}**2*R_s*p**3 - 1.5*L_{pa}*M_{sa}**2*R_r*p**3 + 2*L_{pa}*R_a*R_r*R_s*p - 1.5*L_{pr}*M_{sa}**2*R_a*p**3 + L_{pr}*R_a**2*R_s*p + 1.5*M_{ra}**2*M_{sa}**2*p**4 - M_{ra}**2*R_a*R_s*p**2 - 1.5*M_{sa}**2*R_a*R_r*p**2 + R_a**2*R_r*R_s)/(2.3283064365387e-10*L_s**4*R_s*p**2 - 1.16415321826935e-10*L_s**3*M_{sa}**2*p**3 + 2.3283064365387e-10*L_s**3*R_s**2*p + L_s**2*L_{pa}**2*L_{pr}*p**5 + 394784.176043574*L_s**2*L_{pa}**2*L_{pr}*p**3 + L_s**2*L_{pa}**2*R_r*p**4 + 394784.176043574*L_s**2*L_{pa}**2*R_r*p**2 + 2*L_s**2*L_{pa}*L_{pr}*R_a*p**4 + 789568.352087149*L_s**2*L_{pa}*L_{pr}*R_a*p**2 - L_s**2*L_{pa}*M_{ra}**2*p**5 - 394784.176043574*L_s**2*L_{pa}*M_{ra}**2*p**3 - 1.16415321826935e-10*L_s**2*L_{pa}*M_{sa}**2*p**3 + 2*L_s**2*L_{pa}*R_a*R_r*p**3 + 789568.352087149*L_s**2*L_{pa}*R_a*R_r*p - 2.3283064365387e-10*L_s**2*L_{pr}*M_{sa}**2*p**3 + L_s**2*L_{pr}*R_a**2*p**3 + 394784.176043574*L_s**2*L_{pr}*R_a**2*p - L_s**2*M_{ra}**2*R_a*p**4 - 394784.176043574*L_s**2*M_{ra}**2*R_a*p**2 - 1.16415321826935e-10*L_s**2*M_{sa}**2*R_a*p**2 - 2.3283064365387e-10*L_s**2*M_{sa}**2*R_r*p**2 - 2.3283064365387e-10*L_s**2*M_{sa}**2*R_s*p**2 + L_s**2*R_a**2*R_r*p**2 + 394784.176043574*L_s**2*R_a**2*R_r + 2*L_s*L_{pa}**2*L_{pr}*R_s*p**4 - 1.5*L_s*L_{pa}**2*M_{sr}**2*p**5 - 592176.264065361*L_s*L_{pa}**2*M_{sr}**2*p**3 + 2*L_s*L_{pa}**2*R_r*R_s*p**3 - 3.0*L_s*L_{pa}*L_{pr}*M_{sa}**2*p**5 - 1184352.52813072*L_s*L_{pa}*L_{pr}*M_{sa}**2*p**3 + 4*L_s*L_{pa}*L_{pr}*R_a*R_s*p**3 - 2*L_s*L_{pa}*M_{ra}**2*R_s*p**4 + 3.0*L_s*L_{pa}*M_{ra}*M_{sa}*M_{sr}*p**5 + 1184352.52813072*L_s*L_{pa}*M_{ra}*M_{sa}*M_{sr}*p**3 - 3.0*L_s*L_{pa}*M_{sa}**2*R_r*p**4 - 1184352.52813072*L_s*L_{pa}*M_{sa}**2*R_r*p**2 - 2.3283064365387e-10*L_s*L_{pa}*M_{sa}**2*R_s*p**2 - 3.0*L_s*L_{pa}*M_{sr}**2*R_a*p**4 - 1184352.52813072*L_s*L_{pa}*M_{sr}**2*R_a*p**2 + 4*L_s*L_{pa}*R_a*R_r*R_s*p**2 - 3.0*L_s*L_{pr}*M_{sa}**2*R_a*p**4 - 1184352.52813072*L_s*L_{pr}*M_{sa}**2*R_a*p**2 + 2*L_s*L_{pr}*R_a**2*R_s*p**2 + 1.5*L_s*M_{ra}**2*M_{sa}**2*p**5 + 592176.264065361*L_s*M_{ra}**2*M_{sa}**2*p**3 - 2*L_s*M_{ra}**2*R_a*R_s*p**3 + 3.0*L_s*M_{ra}*M_{sa}*M_{sr}*R_a*p**4 + 1184352.52813072*L_s*M_{ra}*M_{sa}*M_{sr}*R_a*p**2 - 2.3283064365387e-10*L_s*M_{sa}**4*p**3 - 2.3283064365387e-10*L_s*M_{sa}**2*M_{sr}**2*p**3 - 3.0*L_s*M_{sa}**2*R_a*R_r*p**3 - 1184352.52813072*L_s*M_{sa}**2*R_a*R_r*p - 2.3283064365387e-10*L_s*M_{sa}**2*R_a*R_s*p - 1.5*L_s*M_{sr}**2*R_a**2*p**3 - 592176.264065361*L_s*M_{sr}**2*R_a**2*p + 2*L_s*R_a**2*R_r*R_s*p + L_{pa}**2*L_{pr}*R_s**2*p**3 - 1.5*L_{pa}**2*M_{sr}**2*R_s*p**4 + L_{pa}**2*R_r*R_s**2*p**2 - 3.0*L_{pa}*L_{pr}*M_{sa}**2*R_s*p**4 + 2*L_{pa}*L_{pr}*R_a*R_s**2*p**2 - L_{pa}*M_{ra}**2*R_s**2*p**3 + 3.0*L_{pa}*M_{ra}*M_{sa}*M_{sr}*R_s*p**4 + 2.25*L_{pa}*M_{sa}**2*M_{sr}**2*p**5 + 888264.396098042*L_{pa}*M_{sa}**2*M_{sr}**2*p**3 - 3.0*L_{pa}*M_{sa}**2*R_r*R_s*p**3 - 3.0*L_{pa}*M_{sr}**2*R_a*R_s*p**3 + 2*L_{pa}*R_a*R_r*R_s**2*p + 2.25*L_{pr}*M_{sa}**4*p**5 + 888264.396098042*L_{pr}*M_{sa}**4*p**3 - 3.0*L_{pr}*M_{sa}**2*R_a*R_s*p**3 + L_{pr}*R_a**2*R_s**2*p + 1.5*M_{ra}**2*M_{sa}**2*R_s*p**4 - M_{ra}**2*R_a*R_s**2*p**2 - 4.5*M_{ra}*M_{sa}**3*M_{sr}*p**5 - 1776528.79219608*M_{ra}*M_{sa}**3*M_{sr}*p**3 + 3.0*M_{ra}*M_{sa}*M_{sr}*R_a*R_s*p**3 + 2.25*M_{sa}**4*R_r*p**4 + 888264.396098042*M_{sa}**4*R_r*p**2 + 2.25*M_{sa}**2*M_{sr}**2*R_a*p**4 + 888264.396098042*M_{sa}**2*M_{sr}**2*R_a*p**2 - 3.0*M_{sa}**2*R_a*R_r*R_s*p**2 - 1.5*M_{sr}**2*R_a**2*R_s*p**2 + R_a**2*R_r*R_s**2)"
      ]
     },
     "metadata": {},
     "output_type": "display_data"
    },
    {
     "data": {
      "text/latex": [
       "$\\displaystyle \\frac{- 628.318530717959 L_{s} L_{pa}^{2} L_{pr} p^{3} - 628.318530717959 L_{s} L_{pa}^{2} R_{r} p^{2} - 1256.63706143592 L_{s} L_{pa} L_{pr} R_{a} p^{2} + 628.318530717959 L_{s} L_{pa} M_{ra}^{2} p^{3} - 1256.63706143592 L_{s} L_{pa} R_{a} R_{r} p - 628.318530717959 L_{s} L_{pr} R_{a}^{2} p + 628.318530717959 L_{s} M_{ra}^{2} R_{a} p^{2} - 628.318530717959 L_{s} R_{a}^{2} R_{r} + 942.477796076938 L_{pa}^{2} M_{sr}^{2} p^{3} + 942.477796076938 L_{pa} L_{pr} M_{sa}^{2} p^{3} - 1884.95559215388 L_{pa} M_{ra} M_{sa} M_{sr} p^{3} + 942.477796076938 L_{pa} M_{sa}^{2} R_{r} p^{2} + 1884.95559215388 L_{pa} M_{sr}^{2} R_{a} p^{2} + 942.477796076938 L_{pr} M_{sa}^{2} R_{a} p^{2} - 1884.95559215388 M_{ra} M_{sa} M_{sr} R_{a} p^{2} + 942.477796076938 M_{sa}^{2} R_{a} R_{r} p + 942.477796076938 M_{sr}^{2} R_{a}^{2} p}{2.3283064365387 \\cdot 10^{-10} L_{s}^{4} R_{s} p^{2} - 1.16415321826935 \\cdot 10^{-10} L_{s}^{3} M_{sa}^{2} p^{3} + 2.3283064365387 \\cdot 10^{-10} L_{s}^{3} R_{s}^{2} p + L_{s}^{2} L_{pa}^{2} L_{pr} p^{5} + 394784.176043574 L_{s}^{2} L_{pa}^{2} L_{pr} p^{3} + L_{s}^{2} L_{pa}^{2} R_{r} p^{4} + 394784.176043574 L_{s}^{2} L_{pa}^{2} R_{r} p^{2} + 2 L_{s}^{2} L_{pa} L_{pr} R_{a} p^{4} + 789568.352087149 L_{s}^{2} L_{pa} L_{pr} R_{a} p^{2} - L_{s}^{2} L_{pa} M_{ra}^{2} p^{5} - 394784.176043574 L_{s}^{2} L_{pa} M_{ra}^{2} p^{3} - 1.16415321826935 \\cdot 10^{-10} L_{s}^{2} L_{pa} M_{sa}^{2} p^{3} + 2 L_{s}^{2} L_{pa} R_{a} R_{r} p^{3} + 789568.352087149 L_{s}^{2} L_{pa} R_{a} R_{r} p - 2.3283064365387 \\cdot 10^{-10} L_{s}^{2} L_{pr} M_{sa}^{2} p^{3} + L_{s}^{2} L_{pr} R_{a}^{2} p^{3} + 394784.176043574 L_{s}^{2} L_{pr} R_{a}^{2} p - L_{s}^{2} M_{ra}^{2} R_{a} p^{4} - 394784.176043574 L_{s}^{2} M_{ra}^{2} R_{a} p^{2} - 1.16415321826935 \\cdot 10^{-10} L_{s}^{2} M_{sa}^{2} R_{a} p^{2} - 2.3283064365387 \\cdot 10^{-10} L_{s}^{2} M_{sa}^{2} R_{r} p^{2} - 2.3283064365387 \\cdot 10^{-10} L_{s}^{2} M_{sa}^{2} R_{s} p^{2} + L_{s}^{2} R_{a}^{2} R_{r} p^{2} + 394784.176043574 L_{s}^{2} R_{a}^{2} R_{r} + 2 L_{s} L_{pa}^{2} L_{pr} R_{s} p^{4} - 1.5 L_{s} L_{pa}^{2} M_{sr}^{2} p^{5} - 592176.264065361 L_{s} L_{pa}^{2} M_{sr}^{2} p^{3} + 2 L_{s} L_{pa}^{2} R_{r} R_{s} p^{3} - 3.0 L_{s} L_{pa} L_{pr} M_{sa}^{2} p^{5} - 1184352.52813072 L_{s} L_{pa} L_{pr} M_{sa}^{2} p^{3} + 4 L_{s} L_{pa} L_{pr} R_{a} R_{s} p^{3} - 2 L_{s} L_{pa} M_{ra}^{2} R_{s} p^{4} + 3.0 L_{s} L_{pa} M_{ra} M_{sa} M_{sr} p^{5} + 1184352.52813072 L_{s} L_{pa} M_{ra} M_{sa} M_{sr} p^{3} - 3.0 L_{s} L_{pa} M_{sa}^{2} R_{r} p^{4} - 1184352.52813072 L_{s} L_{pa} M_{sa}^{2} R_{r} p^{2} - 2.3283064365387 \\cdot 10^{-10} L_{s} L_{pa} M_{sa}^{2} R_{s} p^{2} - 3.0 L_{s} L_{pa} M_{sr}^{2} R_{a} p^{4} - 1184352.52813072 L_{s} L_{pa} M_{sr}^{2} R_{a} p^{2} + 4 L_{s} L_{pa} R_{a} R_{r} R_{s} p^{2} - 3.0 L_{s} L_{pr} M_{sa}^{2} R_{a} p^{4} - 1184352.52813072 L_{s} L_{pr} M_{sa}^{2} R_{a} p^{2} + 2 L_{s} L_{pr} R_{a}^{2} R_{s} p^{2} + 1.5 L_{s} M_{ra}^{2} M_{sa}^{2} p^{5} + 592176.264065361 L_{s} M_{ra}^{2} M_{sa}^{2} p^{3} - 2 L_{s} M_{ra}^{2} R_{a} R_{s} p^{3} + 3.0 L_{s} M_{ra} M_{sa} M_{sr} R_{a} p^{4} + 1184352.52813072 L_{s} M_{ra} M_{sa} M_{sr} R_{a} p^{2} - 2.3283064365387 \\cdot 10^{-10} L_{s} M_{sa}^{4} p^{3} - 2.3283064365387 \\cdot 10^{-10} L_{s} M_{sa}^{2} M_{sr}^{2} p^{3} - 3.0 L_{s} M_{sa}^{2} R_{a} R_{r} p^{3} - 1184352.52813072 L_{s} M_{sa}^{2} R_{a} R_{r} p - 2.3283064365387 \\cdot 10^{-10} L_{s} M_{sa}^{2} R_{a} R_{s} p - 1.5 L_{s} M_{sr}^{2} R_{a}^{2} p^{3} - 592176.264065361 L_{s} M_{sr}^{2} R_{a}^{2} p + 2 L_{s} R_{a}^{2} R_{r} R_{s} p + L_{pa}^{2} L_{pr} R_{s}^{2} p^{3} - 1.5 L_{pa}^{2} M_{sr}^{2} R_{s} p^{4} + L_{pa}^{2} R_{r} R_{s}^{2} p^{2} - 3.0 L_{pa} L_{pr} M_{sa}^{2} R_{s} p^{4} + 2 L_{pa} L_{pr} R_{a} R_{s}^{2} p^{2} - L_{pa} M_{ra}^{2} R_{s}^{2} p^{3} + 3.0 L_{pa} M_{ra} M_{sa} M_{sr} R_{s} p^{4} + 2.25 L_{pa} M_{sa}^{2} M_{sr}^{2} p^{5} + 888264.396098042 L_{pa} M_{sa}^{2} M_{sr}^{2} p^{3} - 3.0 L_{pa} M_{sa}^{2} R_{r} R_{s} p^{3} - 3.0 L_{pa} M_{sr}^{2} R_{a} R_{s} p^{3} + 2 L_{pa} R_{a} R_{r} R_{s}^{2} p + 2.25 L_{pr} M_{sa}^{4} p^{5} + 888264.396098042 L_{pr} M_{sa}^{4} p^{3} - 3.0 L_{pr} M_{sa}^{2} R_{a} R_{s} p^{3} + L_{pr} R_{a}^{2} R_{s}^{2} p + 1.5 M_{ra}^{2} M_{sa}^{2} R_{s} p^{4} - M_{ra}^{2} R_{a} R_{s}^{2} p^{2} - 4.5 M_{ra} M_{sa}^{3} M_{sr} p^{5} - 1776528.79219608 M_{ra} M_{sa}^{3} M_{sr} p^{3} + 3.0 M_{ra} M_{sa} M_{sr} R_{a} R_{s} p^{3} + 2.25 M_{sa}^{4} R_{r} p^{4} + 888264.396098042 M_{sa}^{4} R_{r} p^{2} + 2.25 M_{sa}^{2} M_{sr}^{2} R_{a} p^{4} + 888264.396098042 M_{sa}^{2} M_{sr}^{2} R_{a} p^{2} - 3.0 M_{sa}^{2} R_{a} R_{r} R_{s} p^{2} - 1.5 M_{sr}^{2} R_{a}^{2} R_{s} p^{2} + R_{a}^{2} R_{r} R_{s}^{2}}$"
      ],
      "text/plain": [
       "(-628.318530717959*L_s*L_{pa}**2*L_{pr}*p**3 - 628.318530717959*L_s*L_{pa}**2*R_r*p**2 - 1256.63706143592*L_s*L_{pa}*L_{pr}*R_a*p**2 + 628.318530717959*L_s*L_{pa}*M_{ra}**2*p**3 - 1256.63706143592*L_s*L_{pa}*R_a*R_r*p - 628.318530717959*L_s*L_{pr}*R_a**2*p + 628.318530717959*L_s*M_{ra}**2*R_a*p**2 - 628.318530717959*L_s*R_a**2*R_r + 942.477796076938*L_{pa}**2*M_{sr}**2*p**3 + 942.477796076938*L_{pa}*L_{pr}*M_{sa}**2*p**3 - 1884.95559215388*L_{pa}*M_{ra}*M_{sa}*M_{sr}*p**3 + 942.477796076938*L_{pa}*M_{sa}**2*R_r*p**2 + 1884.95559215388*L_{pa}*M_{sr}**2*R_a*p**2 + 942.477796076938*L_{pr}*M_{sa}**2*R_a*p**2 - 1884.95559215388*M_{ra}*M_{sa}*M_{sr}*R_a*p**2 + 942.477796076938*M_{sa}**2*R_a*R_r*p + 942.477796076938*M_{sr}**2*R_a**2*p)/(2.3283064365387e-10*L_s**4*R_s*p**2 - 1.16415321826935e-10*L_s**3*M_{sa}**2*p**3 + 2.3283064365387e-10*L_s**3*R_s**2*p + L_s**2*L_{pa}**2*L_{pr}*p**5 + 394784.176043574*L_s**2*L_{pa}**2*L_{pr}*p**3 + L_s**2*L_{pa}**2*R_r*p**4 + 394784.176043574*L_s**2*L_{pa}**2*R_r*p**2 + 2*L_s**2*L_{pa}*L_{pr}*R_a*p**4 + 789568.352087149*L_s**2*L_{pa}*L_{pr}*R_a*p**2 - L_s**2*L_{pa}*M_{ra}**2*p**5 - 394784.176043574*L_s**2*L_{pa}*M_{ra}**2*p**3 - 1.16415321826935e-10*L_s**2*L_{pa}*M_{sa}**2*p**3 + 2*L_s**2*L_{pa}*R_a*R_r*p**3 + 789568.352087149*L_s**2*L_{pa}*R_a*R_r*p - 2.3283064365387e-10*L_s**2*L_{pr}*M_{sa}**2*p**3 + L_s**2*L_{pr}*R_a**2*p**3 + 394784.176043574*L_s**2*L_{pr}*R_a**2*p - L_s**2*M_{ra}**2*R_a*p**4 - 394784.176043574*L_s**2*M_{ra}**2*R_a*p**2 - 1.16415321826935e-10*L_s**2*M_{sa}**2*R_a*p**2 - 2.3283064365387e-10*L_s**2*M_{sa}**2*R_r*p**2 - 2.3283064365387e-10*L_s**2*M_{sa}**2*R_s*p**2 + L_s**2*R_a**2*R_r*p**2 + 394784.176043574*L_s**2*R_a**2*R_r + 2*L_s*L_{pa}**2*L_{pr}*R_s*p**4 - 1.5*L_s*L_{pa}**2*M_{sr}**2*p**5 - 592176.264065361*L_s*L_{pa}**2*M_{sr}**2*p**3 + 2*L_s*L_{pa}**2*R_r*R_s*p**3 - 3.0*L_s*L_{pa}*L_{pr}*M_{sa}**2*p**5 - 1184352.52813072*L_s*L_{pa}*L_{pr}*M_{sa}**2*p**3 + 4*L_s*L_{pa}*L_{pr}*R_a*R_s*p**3 - 2*L_s*L_{pa}*M_{ra}**2*R_s*p**4 + 3.0*L_s*L_{pa}*M_{ra}*M_{sa}*M_{sr}*p**5 + 1184352.52813072*L_s*L_{pa}*M_{ra}*M_{sa}*M_{sr}*p**3 - 3.0*L_s*L_{pa}*M_{sa}**2*R_r*p**4 - 1184352.52813072*L_s*L_{pa}*M_{sa}**2*R_r*p**2 - 2.3283064365387e-10*L_s*L_{pa}*M_{sa}**2*R_s*p**2 - 3.0*L_s*L_{pa}*M_{sr}**2*R_a*p**4 - 1184352.52813072*L_s*L_{pa}*M_{sr}**2*R_a*p**2 + 4*L_s*L_{pa}*R_a*R_r*R_s*p**2 - 3.0*L_s*L_{pr}*M_{sa}**2*R_a*p**4 - 1184352.52813072*L_s*L_{pr}*M_{sa}**2*R_a*p**2 + 2*L_s*L_{pr}*R_a**2*R_s*p**2 + 1.5*L_s*M_{ra}**2*M_{sa}**2*p**5 + 592176.264065361*L_s*M_{ra}**2*M_{sa}**2*p**3 - 2*L_s*M_{ra}**2*R_a*R_s*p**3 + 3.0*L_s*M_{ra}*M_{sa}*M_{sr}*R_a*p**4 + 1184352.52813072*L_s*M_{ra}*M_{sa}*M_{sr}*R_a*p**2 - 2.3283064365387e-10*L_s*M_{sa}**4*p**3 - 2.3283064365387e-10*L_s*M_{sa}**2*M_{sr}**2*p**3 - 3.0*L_s*M_{sa}**2*R_a*R_r*p**3 - 1184352.52813072*L_s*M_{sa}**2*R_a*R_r*p - 2.3283064365387e-10*L_s*M_{sa}**2*R_a*R_s*p - 1.5*L_s*M_{sr}**2*R_a**2*p**3 - 592176.264065361*L_s*M_{sr}**2*R_a**2*p + 2*L_s*R_a**2*R_r*R_s*p + L_{pa}**2*L_{pr}*R_s**2*p**3 - 1.5*L_{pa}**2*M_{sr}**2*R_s*p**4 + L_{pa}**2*R_r*R_s**2*p**2 - 3.0*L_{pa}*L_{pr}*M_{sa}**2*R_s*p**4 + 2*L_{pa}*L_{pr}*R_a*R_s**2*p**2 - L_{pa}*M_{ra}**2*R_s**2*p**3 + 3.0*L_{pa}*M_{ra}*M_{sa}*M_{sr}*R_s*p**4 + 2.25*L_{pa}*M_{sa}**2*M_{sr}**2*p**5 + 888264.396098042*L_{pa}*M_{sa}**2*M_{sr}**2*p**3 - 3.0*L_{pa}*M_{sa}**2*R_r*R_s*p**3 - 3.0*L_{pa}*M_{sr}**2*R_a*R_s*p**3 + 2*L_{pa}*R_a*R_r*R_s**2*p + 2.25*L_{pr}*M_{sa}**4*p**5 + 888264.396098042*L_{pr}*M_{sa}**4*p**3 - 3.0*L_{pr}*M_{sa}**2*R_a*R_s*p**3 + L_{pr}*R_a**2*R_s**2*p + 1.5*M_{ra}**2*M_{sa}**2*R_s*p**4 - M_{ra}**2*R_a*R_s**2*p**2 - 4.5*M_{ra}*M_{sa}**3*M_{sr}*p**5 - 1776528.79219608*M_{ra}*M_{sa}**3*M_{sr}*p**3 + 3.0*M_{ra}*M_{sa}*M_{sr}*R_a*R_s*p**3 + 2.25*M_{sa}**4*R_r*p**4 + 888264.396098042*M_{sa}**4*R_r*p**2 + 2.25*M_{sa}**2*M_{sr}**2*R_a*p**4 + 888264.396098042*M_{sa}**2*M_{sr}**2*R_a*p**2 - 3.0*M_{sa}**2*R_a*R_r*R_s*p**2 - 1.5*M_{sr}**2*R_a**2*R_s*p**2 + R_a**2*R_r*R_s**2)"
      ]
     },
     "metadata": {},
     "output_type": "display_data"
    },
    {
     "data": {
      "text/latex": [
       "$\\displaystyle \\frac{628.318530717959 L_{s} L_{pa}^{2} L_{pr} p^{3} + 628.318530717959 L_{s} L_{pa}^{2} R_{r} p^{2} + 1256.63706143592 L_{s} L_{pa} L_{pr} R_{a} p^{2} - 628.318530717959 L_{s} L_{pa} M_{ra}^{2} p^{3} + 1256.63706143592 L_{s} L_{pa} R_{a} R_{r} p + 628.318530717959 L_{s} L_{pr} R_{a}^{2} p - 628.318530717959 L_{s} M_{ra}^{2} R_{a} p^{2} + 628.318530717959 L_{s} R_{a}^{2} R_{r} - 942.477796076938 L_{pa} L_{pr} M_{sa}^{2} p^{3} - 942.477796076938 L_{pa} M_{sa}^{2} R_{r} p^{2} - 942.477796076938 L_{pr} M_{sa}^{2} R_{a} p^{2} + 942.477796076938 M_{ra}^{2} M_{sa}^{2} p^{3} - 942.477796076938 M_{sa}^{2} R_{a} R_{r} p}{2.3283064365387 \\cdot 10^{-10} L_{s}^{4} R_{s} p^{2} - 1.16415321826935 \\cdot 10^{-10} L_{s}^{3} M_{sa}^{2} p^{3} + 2.3283064365387 \\cdot 10^{-10} L_{s}^{3} R_{s}^{2} p + L_{s}^{2} L_{pa}^{2} L_{pr} p^{5} + 394784.176043574 L_{s}^{2} L_{pa}^{2} L_{pr} p^{3} + L_{s}^{2} L_{pa}^{2} R_{r} p^{4} + 394784.176043574 L_{s}^{2} L_{pa}^{2} R_{r} p^{2} + 2 L_{s}^{2} L_{pa} L_{pr} R_{a} p^{4} + 789568.352087149 L_{s}^{2} L_{pa} L_{pr} R_{a} p^{2} - L_{s}^{2} L_{pa} M_{ra}^{2} p^{5} - 394784.176043574 L_{s}^{2} L_{pa} M_{ra}^{2} p^{3} - 1.16415321826935 \\cdot 10^{-10} L_{s}^{2} L_{pa} M_{sa}^{2} p^{3} + 2 L_{s}^{2} L_{pa} R_{a} R_{r} p^{3} + 789568.352087149 L_{s}^{2} L_{pa} R_{a} R_{r} p - 2.3283064365387 \\cdot 10^{-10} L_{s}^{2} L_{pr} M_{sa}^{2} p^{3} + L_{s}^{2} L_{pr} R_{a}^{2} p^{3} + 394784.176043574 L_{s}^{2} L_{pr} R_{a}^{2} p - L_{s}^{2} M_{ra}^{2} R_{a} p^{4} - 394784.176043574 L_{s}^{2} M_{ra}^{2} R_{a} p^{2} - 1.16415321826935 \\cdot 10^{-10} L_{s}^{2} M_{sa}^{2} R_{a} p^{2} - 2.3283064365387 \\cdot 10^{-10} L_{s}^{2} M_{sa}^{2} R_{r} p^{2} - 2.3283064365387 \\cdot 10^{-10} L_{s}^{2} M_{sa}^{2} R_{s} p^{2} + L_{s}^{2} R_{a}^{2} R_{r} p^{2} + 394784.176043574 L_{s}^{2} R_{a}^{2} R_{r} + 2 L_{s} L_{pa}^{2} L_{pr} R_{s} p^{4} - 1.5 L_{s} L_{pa}^{2} M_{sr}^{2} p^{5} - 592176.264065361 L_{s} L_{pa}^{2} M_{sr}^{2} p^{3} + 2 L_{s} L_{pa}^{2} R_{r} R_{s} p^{3} - 3.0 L_{s} L_{pa} L_{pr} M_{sa}^{2} p^{5} - 1184352.52813072 L_{s} L_{pa} L_{pr} M_{sa}^{2} p^{3} + 4 L_{s} L_{pa} L_{pr} R_{a} R_{s} p^{3} - 2 L_{s} L_{pa} M_{ra}^{2} R_{s} p^{4} + 3.0 L_{s} L_{pa} M_{ra} M_{sa} M_{sr} p^{5} + 1184352.52813072 L_{s} L_{pa} M_{ra} M_{sa} M_{sr} p^{3} - 3.0 L_{s} L_{pa} M_{sa}^{2} R_{r} p^{4} - 1184352.52813072 L_{s} L_{pa} M_{sa}^{2} R_{r} p^{2} - 2.3283064365387 \\cdot 10^{-10} L_{s} L_{pa} M_{sa}^{2} R_{s} p^{2} - 3.0 L_{s} L_{pa} M_{sr}^{2} R_{a} p^{4} - 1184352.52813072 L_{s} L_{pa} M_{sr}^{2} R_{a} p^{2} + 4 L_{s} L_{pa} R_{a} R_{r} R_{s} p^{2} - 3.0 L_{s} L_{pr} M_{sa}^{2} R_{a} p^{4} - 1184352.52813072 L_{s} L_{pr} M_{sa}^{2} R_{a} p^{2} + 2 L_{s} L_{pr} R_{a}^{2} R_{s} p^{2} + 1.5 L_{s} M_{ra}^{2} M_{sa}^{2} p^{5} + 592176.264065361 L_{s} M_{ra}^{2} M_{sa}^{2} p^{3} - 2 L_{s} M_{ra}^{2} R_{a} R_{s} p^{3} + 3.0 L_{s} M_{ra} M_{sa} M_{sr} R_{a} p^{4} + 1184352.52813072 L_{s} M_{ra} M_{sa} M_{sr} R_{a} p^{2} - 2.3283064365387 \\cdot 10^{-10} L_{s} M_{sa}^{4} p^{3} - 2.3283064365387 \\cdot 10^{-10} L_{s} M_{sa}^{2} M_{sr}^{2} p^{3} - 3.0 L_{s} M_{sa}^{2} R_{a} R_{r} p^{3} - 1184352.52813072 L_{s} M_{sa}^{2} R_{a} R_{r} p - 2.3283064365387 \\cdot 10^{-10} L_{s} M_{sa}^{2} R_{a} R_{s} p - 1.5 L_{s} M_{sr}^{2} R_{a}^{2} p^{3} - 592176.264065361 L_{s} M_{sr}^{2} R_{a}^{2} p + 2 L_{s} R_{a}^{2} R_{r} R_{s} p + L_{pa}^{2} L_{pr} R_{s}^{2} p^{3} - 1.5 L_{pa}^{2} M_{sr}^{2} R_{s} p^{4} + L_{pa}^{2} R_{r} R_{s}^{2} p^{2} - 3.0 L_{pa} L_{pr} M_{sa}^{2} R_{s} p^{4} + 2 L_{pa} L_{pr} R_{a} R_{s}^{2} p^{2} - L_{pa} M_{ra}^{2} R_{s}^{2} p^{3} + 3.0 L_{pa} M_{ra} M_{sa} M_{sr} R_{s} p^{4} + 2.25 L_{pa} M_{sa}^{2} M_{sr}^{2} p^{5} + 888264.396098042 L_{pa} M_{sa}^{2} M_{sr}^{2} p^{3} - 3.0 L_{pa} M_{sa}^{2} R_{r} R_{s} p^{3} - 3.0 L_{pa} M_{sr}^{2} R_{a} R_{s} p^{3} + 2 L_{pa} R_{a} R_{r} R_{s}^{2} p + 2.25 L_{pr} M_{sa}^{4} p^{5} + 888264.396098042 L_{pr} M_{sa}^{4} p^{3} - 3.0 L_{pr} M_{sa}^{2} R_{a} R_{s} p^{3} + L_{pr} R_{a}^{2} R_{s}^{2} p + 1.5 M_{ra}^{2} M_{sa}^{2} R_{s} p^{4} - M_{ra}^{2} R_{a} R_{s}^{2} p^{2} - 4.5 M_{ra} M_{sa}^{3} M_{sr} p^{5} - 1776528.79219608 M_{ra} M_{sa}^{3} M_{sr} p^{3} + 3.0 M_{ra} M_{sa} M_{sr} R_{a} R_{s} p^{3} + 2.25 M_{sa}^{4} R_{r} p^{4} + 888264.396098042 M_{sa}^{4} R_{r} p^{2} + 2.25 M_{sa}^{2} M_{sr}^{2} R_{a} p^{4} + 888264.396098042 M_{sa}^{2} M_{sr}^{2} R_{a} p^{2} - 3.0 M_{sa}^{2} R_{a} R_{r} R_{s} p^{2} - 1.5 M_{sr}^{2} R_{a}^{2} R_{s} p^{2} + R_{a}^{2} R_{r} R_{s}^{2}}$"
      ],
      "text/plain": [
       "(628.318530717959*L_s*L_{pa}**2*L_{pr}*p**3 + 628.318530717959*L_s*L_{pa}**2*R_r*p**2 + 1256.63706143592*L_s*L_{pa}*L_{pr}*R_a*p**2 - 628.318530717959*L_s*L_{pa}*M_{ra}**2*p**3 + 1256.63706143592*L_s*L_{pa}*R_a*R_r*p + 628.318530717959*L_s*L_{pr}*R_a**2*p - 628.318530717959*L_s*M_{ra}**2*R_a*p**2 + 628.318530717959*L_s*R_a**2*R_r - 942.477796076938*L_{pa}*L_{pr}*M_{sa}**2*p**3 - 942.477796076938*L_{pa}*M_{sa}**2*R_r*p**2 - 942.477796076938*L_{pr}*M_{sa}**2*R_a*p**2 + 942.477796076938*M_{ra}**2*M_{sa}**2*p**3 - 942.477796076938*M_{sa}**2*R_a*R_r*p)/(2.3283064365387e-10*L_s**4*R_s*p**2 - 1.16415321826935e-10*L_s**3*M_{sa}**2*p**3 + 2.3283064365387e-10*L_s**3*R_s**2*p + L_s**2*L_{pa}**2*L_{pr}*p**5 + 394784.176043574*L_s**2*L_{pa}**2*L_{pr}*p**3 + L_s**2*L_{pa}**2*R_r*p**4 + 394784.176043574*L_s**2*L_{pa}**2*R_r*p**2 + 2*L_s**2*L_{pa}*L_{pr}*R_a*p**4 + 789568.352087149*L_s**2*L_{pa}*L_{pr}*R_a*p**2 - L_s**2*L_{pa}*M_{ra}**2*p**5 - 394784.176043574*L_s**2*L_{pa}*M_{ra}**2*p**3 - 1.16415321826935e-10*L_s**2*L_{pa}*M_{sa}**2*p**3 + 2*L_s**2*L_{pa}*R_a*R_r*p**3 + 789568.352087149*L_s**2*L_{pa}*R_a*R_r*p - 2.3283064365387e-10*L_s**2*L_{pr}*M_{sa}**2*p**3 + L_s**2*L_{pr}*R_a**2*p**3 + 394784.176043574*L_s**2*L_{pr}*R_a**2*p - L_s**2*M_{ra}**2*R_a*p**4 - 394784.176043574*L_s**2*M_{ra}**2*R_a*p**2 - 1.16415321826935e-10*L_s**2*M_{sa}**2*R_a*p**2 - 2.3283064365387e-10*L_s**2*M_{sa}**2*R_r*p**2 - 2.3283064365387e-10*L_s**2*M_{sa}**2*R_s*p**2 + L_s**2*R_a**2*R_r*p**2 + 394784.176043574*L_s**2*R_a**2*R_r + 2*L_s*L_{pa}**2*L_{pr}*R_s*p**4 - 1.5*L_s*L_{pa}**2*M_{sr}**2*p**5 - 592176.264065361*L_s*L_{pa}**2*M_{sr}**2*p**3 + 2*L_s*L_{pa}**2*R_r*R_s*p**3 - 3.0*L_s*L_{pa}*L_{pr}*M_{sa}**2*p**5 - 1184352.52813072*L_s*L_{pa}*L_{pr}*M_{sa}**2*p**3 + 4*L_s*L_{pa}*L_{pr}*R_a*R_s*p**3 - 2*L_s*L_{pa}*M_{ra}**2*R_s*p**4 + 3.0*L_s*L_{pa}*M_{ra}*M_{sa}*M_{sr}*p**5 + 1184352.52813072*L_s*L_{pa}*M_{ra}*M_{sa}*M_{sr}*p**3 - 3.0*L_s*L_{pa}*M_{sa}**2*R_r*p**4 - 1184352.52813072*L_s*L_{pa}*M_{sa}**2*R_r*p**2 - 2.3283064365387e-10*L_s*L_{pa}*M_{sa}**2*R_s*p**2 - 3.0*L_s*L_{pa}*M_{sr}**2*R_a*p**4 - 1184352.52813072*L_s*L_{pa}*M_{sr}**2*R_a*p**2 + 4*L_s*L_{pa}*R_a*R_r*R_s*p**2 - 3.0*L_s*L_{pr}*M_{sa}**2*R_a*p**4 - 1184352.52813072*L_s*L_{pr}*M_{sa}**2*R_a*p**2 + 2*L_s*L_{pr}*R_a**2*R_s*p**2 + 1.5*L_s*M_{ra}**2*M_{sa}**2*p**5 + 592176.264065361*L_s*M_{ra}**2*M_{sa}**2*p**3 - 2*L_s*M_{ra}**2*R_a*R_s*p**3 + 3.0*L_s*M_{ra}*M_{sa}*M_{sr}*R_a*p**4 + 1184352.52813072*L_s*M_{ra}*M_{sa}*M_{sr}*R_a*p**2 - 2.3283064365387e-10*L_s*M_{sa}**4*p**3 - 2.3283064365387e-10*L_s*M_{sa}**2*M_{sr}**2*p**3 - 3.0*L_s*M_{sa}**2*R_a*R_r*p**3 - 1184352.52813072*L_s*M_{sa}**2*R_a*R_r*p - 2.3283064365387e-10*L_s*M_{sa}**2*R_a*R_s*p - 1.5*L_s*M_{sr}**2*R_a**2*p**3 - 592176.264065361*L_s*M_{sr}**2*R_a**2*p + 2*L_s*R_a**2*R_r*R_s*p + L_{pa}**2*L_{pr}*R_s**2*p**3 - 1.5*L_{pa}**2*M_{sr}**2*R_s*p**4 + L_{pa}**2*R_r*R_s**2*p**2 - 3.0*L_{pa}*L_{pr}*M_{sa}**2*R_s*p**4 + 2*L_{pa}*L_{pr}*R_a*R_s**2*p**2 - L_{pa}*M_{ra}**2*R_s**2*p**3 + 3.0*L_{pa}*M_{ra}*M_{sa}*M_{sr}*R_s*p**4 + 2.25*L_{pa}*M_{sa}**2*M_{sr}**2*p**5 + 888264.396098042*L_{pa}*M_{sa}**2*M_{sr}**2*p**3 - 3.0*L_{pa}*M_{sa}**2*R_r*R_s*p**3 - 3.0*L_{pa}*M_{sr}**2*R_a*R_s*p**3 + 2*L_{pa}*R_a*R_r*R_s**2*p + 2.25*L_{pr}*M_{sa}**4*p**5 + 888264.396098042*L_{pr}*M_{sa}**4*p**3 - 3.0*L_{pr}*M_{sa}**2*R_a*R_s*p**3 + L_{pr}*R_a**2*R_s**2*p + 1.5*M_{ra}**2*M_{sa}**2*R_s*p**4 - M_{ra}**2*R_a*R_s**2*p**2 - 4.5*M_{ra}*M_{sa}**3*M_{sr}*p**5 - 1776528.79219608*M_{ra}*M_{sa}**3*M_{sr}*p**3 + 3.0*M_{ra}*M_{sa}*M_{sr}*R_a*R_s*p**3 + 2.25*M_{sa}**4*R_r*p**4 + 888264.396098042*M_{sa}**4*R_r*p**2 + 2.25*M_{sa}**2*M_{sr}**2*R_a*p**4 + 888264.396098042*M_{sa}**2*M_{sr}**2*R_a*p**2 - 3.0*M_{sa}**2*R_a*R_r*R_s*p**2 - 1.5*M_{sr}**2*R_a**2*R_s*p**2 + R_a**2*R_r*R_s**2)"
      ]
     },
     "metadata": {},
     "output_type": "display_data"
    },
    {
     "data": {
      "text/latex": [
       "$\\displaystyle \\frac{L_{s} L_{pa}^{2} L_{pr} p^{4} + L_{s} L_{pa}^{2} R_{r} p^{3} + 2 L_{s} L_{pa} L_{pr} R_{a} p^{3} - L_{s} L_{pa} M_{ra}^{2} p^{4} + 2 L_{s} L_{pa} R_{a} R_{r} p^{2} + L_{s} L_{pr} R_{a}^{2} p^{2} - L_{s} M_{ra}^{2} R_{a} p^{3} + L_{s} R_{a}^{2} R_{r} p + L_{pa}^{2} L_{pr} R_{s} p^{3} - 1.5 L_{pa}^{2} M_{sr}^{2} p^{4} + L_{pa}^{2} R_{r} R_{s} p^{2} - 1.5 L_{pa} L_{pr} M_{sa}^{2} p^{4} + 2 L_{pa} L_{pr} R_{a} R_{s} p^{2} - L_{pa} M_{ra}^{2} R_{s} p^{3} + 3.0 L_{pa} M_{ra} M_{sa} M_{sr} p^{4} - 1.5 L_{pa} M_{sa}^{2} R_{r} p^{3} - 3.0 L_{pa} M_{sr}^{2} R_{a} p^{3} + 2 L_{pa} R_{a} R_{r} R_{s} p - 1.5 L_{pr} M_{sa}^{2} R_{a} p^{3} + L_{pr} R_{a}^{2} R_{s} p - M_{ra}^{2} R_{a} R_{s} p^{2} + 3.0 M_{ra} M_{sa} M_{sr} R_{a} p^{3} - 1.5 M_{sa}^{2} R_{a} R_{r} p^{2} - 1.5 M_{sr}^{2} R_{a}^{2} p^{2} + R_{a}^{2} R_{r} R_{s}}{2.3283064365387 \\cdot 10^{-10} L_{s}^{4} R_{s} p^{2} - 1.16415321826935 \\cdot 10^{-10} L_{s}^{3} M_{sa}^{2} p^{3} + 2.3283064365387 \\cdot 10^{-10} L_{s}^{3} R_{s}^{2} p + L_{s}^{2} L_{pa}^{2} L_{pr} p^{5} + 394784.176043574 L_{s}^{2} L_{pa}^{2} L_{pr} p^{3} + L_{s}^{2} L_{pa}^{2} R_{r} p^{4} + 394784.176043574 L_{s}^{2} L_{pa}^{2} R_{r} p^{2} + 2 L_{s}^{2} L_{pa} L_{pr} R_{a} p^{4} + 789568.352087149 L_{s}^{2} L_{pa} L_{pr} R_{a} p^{2} - L_{s}^{2} L_{pa} M_{ra}^{2} p^{5} - 394784.176043574 L_{s}^{2} L_{pa} M_{ra}^{2} p^{3} - 1.16415321826935 \\cdot 10^{-10} L_{s}^{2} L_{pa} M_{sa}^{2} p^{3} + 2 L_{s}^{2} L_{pa} R_{a} R_{r} p^{3} + 789568.352087149 L_{s}^{2} L_{pa} R_{a} R_{r} p - 2.3283064365387 \\cdot 10^{-10} L_{s}^{2} L_{pr} M_{sa}^{2} p^{3} + L_{s}^{2} L_{pr} R_{a}^{2} p^{3} + 394784.176043574 L_{s}^{2} L_{pr} R_{a}^{2} p - L_{s}^{2} M_{ra}^{2} R_{a} p^{4} - 394784.176043574 L_{s}^{2} M_{ra}^{2} R_{a} p^{2} - 1.16415321826935 \\cdot 10^{-10} L_{s}^{2} M_{sa}^{2} R_{a} p^{2} - 2.3283064365387 \\cdot 10^{-10} L_{s}^{2} M_{sa}^{2} R_{r} p^{2} - 2.3283064365387 \\cdot 10^{-10} L_{s}^{2} M_{sa}^{2} R_{s} p^{2} + L_{s}^{2} R_{a}^{2} R_{r} p^{2} + 394784.176043574 L_{s}^{2} R_{a}^{2} R_{r} + 2 L_{s} L_{pa}^{2} L_{pr} R_{s} p^{4} - 1.5 L_{s} L_{pa}^{2} M_{sr}^{2} p^{5} - 592176.264065361 L_{s} L_{pa}^{2} M_{sr}^{2} p^{3} + 2 L_{s} L_{pa}^{2} R_{r} R_{s} p^{3} - 3.0 L_{s} L_{pa} L_{pr} M_{sa}^{2} p^{5} - 1184352.52813072 L_{s} L_{pa} L_{pr} M_{sa}^{2} p^{3} + 4 L_{s} L_{pa} L_{pr} R_{a} R_{s} p^{3} - 2 L_{s} L_{pa} M_{ra}^{2} R_{s} p^{4} + 3.0 L_{s} L_{pa} M_{ra} M_{sa} M_{sr} p^{5} + 1184352.52813072 L_{s} L_{pa} M_{ra} M_{sa} M_{sr} p^{3} - 3.0 L_{s} L_{pa} M_{sa}^{2} R_{r} p^{4} - 1184352.52813072 L_{s} L_{pa} M_{sa}^{2} R_{r} p^{2} - 2.3283064365387 \\cdot 10^{-10} L_{s} L_{pa} M_{sa}^{2} R_{s} p^{2} - 3.0 L_{s} L_{pa} M_{sr}^{2} R_{a} p^{4} - 1184352.52813072 L_{s} L_{pa} M_{sr}^{2} R_{a} p^{2} + 4 L_{s} L_{pa} R_{a} R_{r} R_{s} p^{2} - 3.0 L_{s} L_{pr} M_{sa}^{2} R_{a} p^{4} - 1184352.52813072 L_{s} L_{pr} M_{sa}^{2} R_{a} p^{2} + 2 L_{s} L_{pr} R_{a}^{2} R_{s} p^{2} + 1.5 L_{s} M_{ra}^{2} M_{sa}^{2} p^{5} + 592176.264065361 L_{s} M_{ra}^{2} M_{sa}^{2} p^{3} - 2 L_{s} M_{ra}^{2} R_{a} R_{s} p^{3} + 3.0 L_{s} M_{ra} M_{sa} M_{sr} R_{a} p^{4} + 1184352.52813072 L_{s} M_{ra} M_{sa} M_{sr} R_{a} p^{2} - 2.3283064365387 \\cdot 10^{-10} L_{s} M_{sa}^{4} p^{3} - 2.3283064365387 \\cdot 10^{-10} L_{s} M_{sa}^{2} M_{sr}^{2} p^{3} - 3.0 L_{s} M_{sa}^{2} R_{a} R_{r} p^{3} - 1184352.52813072 L_{s} M_{sa}^{2} R_{a} R_{r} p - 2.3283064365387 \\cdot 10^{-10} L_{s} M_{sa}^{2} R_{a} R_{s} p - 1.5 L_{s} M_{sr}^{2} R_{a}^{2} p^{3} - 592176.264065361 L_{s} M_{sr}^{2} R_{a}^{2} p + 2 L_{s} R_{a}^{2} R_{r} R_{s} p + L_{pa}^{2} L_{pr} R_{s}^{2} p^{3} - 1.5 L_{pa}^{2} M_{sr}^{2} R_{s} p^{4} + L_{pa}^{2} R_{r} R_{s}^{2} p^{2} - 3.0 L_{pa} L_{pr} M_{sa}^{2} R_{s} p^{4} + 2 L_{pa} L_{pr} R_{a} R_{s}^{2} p^{2} - L_{pa} M_{ra}^{2} R_{s}^{2} p^{3} + 3.0 L_{pa} M_{ra} M_{sa} M_{sr} R_{s} p^{4} + 2.25 L_{pa} M_{sa}^{2} M_{sr}^{2} p^{5} + 888264.396098042 L_{pa} M_{sa}^{2} M_{sr}^{2} p^{3} - 3.0 L_{pa} M_{sa}^{2} R_{r} R_{s} p^{3} - 3.0 L_{pa} M_{sr}^{2} R_{a} R_{s} p^{3} + 2 L_{pa} R_{a} R_{r} R_{s}^{2} p + 2.25 L_{pr} M_{sa}^{4} p^{5} + 888264.396098042 L_{pr} M_{sa}^{4} p^{3} - 3.0 L_{pr} M_{sa}^{2} R_{a} R_{s} p^{3} + L_{pr} R_{a}^{2} R_{s}^{2} p + 1.5 M_{ra}^{2} M_{sa}^{2} R_{s} p^{4} - M_{ra}^{2} R_{a} R_{s}^{2} p^{2} - 4.5 M_{ra} M_{sa}^{3} M_{sr} p^{5} - 1776528.79219608 M_{ra} M_{sa}^{3} M_{sr} p^{3} + 3.0 M_{ra} M_{sa} M_{sr} R_{a} R_{s} p^{3} + 2.25 M_{sa}^{4} R_{r} p^{4} + 888264.396098042 M_{sa}^{4} R_{r} p^{2} + 2.25 M_{sa}^{2} M_{sr}^{2} R_{a} p^{4} + 888264.396098042 M_{sa}^{2} M_{sr}^{2} R_{a} p^{2} - 3.0 M_{sa}^{2} R_{a} R_{r} R_{s} p^{2} - 1.5 M_{sr}^{2} R_{a}^{2} R_{s} p^{2} + R_{a}^{2} R_{r} R_{s}^{2}}$"
      ],
      "text/plain": [
       "(L_s*L_{pa}**2*L_{pr}*p**4 + L_s*L_{pa}**2*R_r*p**3 + 2*L_s*L_{pa}*L_{pr}*R_a*p**3 - L_s*L_{pa}*M_{ra}**2*p**4 + 2*L_s*L_{pa}*R_a*R_r*p**2 + L_s*L_{pr}*R_a**2*p**2 - L_s*M_{ra}**2*R_a*p**3 + L_s*R_a**2*R_r*p + L_{pa}**2*L_{pr}*R_s*p**3 - 1.5*L_{pa}**2*M_{sr}**2*p**4 + L_{pa}**2*R_r*R_s*p**2 - 1.5*L_{pa}*L_{pr}*M_{sa}**2*p**4 + 2*L_{pa}*L_{pr}*R_a*R_s*p**2 - L_{pa}*M_{ra}**2*R_s*p**3 + 3.0*L_{pa}*M_{ra}*M_{sa}*M_{sr}*p**4 - 1.5*L_{pa}*M_{sa}**2*R_r*p**3 - 3.0*L_{pa}*M_{sr}**2*R_a*p**3 + 2*L_{pa}*R_a*R_r*R_s*p - 1.5*L_{pr}*M_{sa}**2*R_a*p**3 + L_{pr}*R_a**2*R_s*p - M_{ra}**2*R_a*R_s*p**2 + 3.0*M_{ra}*M_{sa}*M_{sr}*R_a*p**3 - 1.5*M_{sa}**2*R_a*R_r*p**2 - 1.5*M_{sr}**2*R_a**2*p**2 + R_a**2*R_r*R_s)/(2.3283064365387e-10*L_s**4*R_s*p**2 - 1.16415321826935e-10*L_s**3*M_{sa}**2*p**3 + 2.3283064365387e-10*L_s**3*R_s**2*p + L_s**2*L_{pa}**2*L_{pr}*p**5 + 394784.176043574*L_s**2*L_{pa}**2*L_{pr}*p**3 + L_s**2*L_{pa}**2*R_r*p**4 + 394784.176043574*L_s**2*L_{pa}**2*R_r*p**2 + 2*L_s**2*L_{pa}*L_{pr}*R_a*p**4 + 789568.352087149*L_s**2*L_{pa}*L_{pr}*R_a*p**2 - L_s**2*L_{pa}*M_{ra}**2*p**5 - 394784.176043574*L_s**2*L_{pa}*M_{ra}**2*p**3 - 1.16415321826935e-10*L_s**2*L_{pa}*M_{sa}**2*p**3 + 2*L_s**2*L_{pa}*R_a*R_r*p**3 + 789568.352087149*L_s**2*L_{pa}*R_a*R_r*p - 2.3283064365387e-10*L_s**2*L_{pr}*M_{sa}**2*p**3 + L_s**2*L_{pr}*R_a**2*p**3 + 394784.176043574*L_s**2*L_{pr}*R_a**2*p - L_s**2*M_{ra}**2*R_a*p**4 - 394784.176043574*L_s**2*M_{ra}**2*R_a*p**2 - 1.16415321826935e-10*L_s**2*M_{sa}**2*R_a*p**2 - 2.3283064365387e-10*L_s**2*M_{sa}**2*R_r*p**2 - 2.3283064365387e-10*L_s**2*M_{sa}**2*R_s*p**2 + L_s**2*R_a**2*R_r*p**2 + 394784.176043574*L_s**2*R_a**2*R_r + 2*L_s*L_{pa}**2*L_{pr}*R_s*p**4 - 1.5*L_s*L_{pa}**2*M_{sr}**2*p**5 - 592176.264065361*L_s*L_{pa}**2*M_{sr}**2*p**3 + 2*L_s*L_{pa}**2*R_r*R_s*p**3 - 3.0*L_s*L_{pa}*L_{pr}*M_{sa}**2*p**5 - 1184352.52813072*L_s*L_{pa}*L_{pr}*M_{sa}**2*p**3 + 4*L_s*L_{pa}*L_{pr}*R_a*R_s*p**3 - 2*L_s*L_{pa}*M_{ra}**2*R_s*p**4 + 3.0*L_s*L_{pa}*M_{ra}*M_{sa}*M_{sr}*p**5 + 1184352.52813072*L_s*L_{pa}*M_{ra}*M_{sa}*M_{sr}*p**3 - 3.0*L_s*L_{pa}*M_{sa}**2*R_r*p**4 - 1184352.52813072*L_s*L_{pa}*M_{sa}**2*R_r*p**2 - 2.3283064365387e-10*L_s*L_{pa}*M_{sa}**2*R_s*p**2 - 3.0*L_s*L_{pa}*M_{sr}**2*R_a*p**4 - 1184352.52813072*L_s*L_{pa}*M_{sr}**2*R_a*p**2 + 4*L_s*L_{pa}*R_a*R_r*R_s*p**2 - 3.0*L_s*L_{pr}*M_{sa}**2*R_a*p**4 - 1184352.52813072*L_s*L_{pr}*M_{sa}**2*R_a*p**2 + 2*L_s*L_{pr}*R_a**2*R_s*p**2 + 1.5*L_s*M_{ra}**2*M_{sa}**2*p**5 + 592176.264065361*L_s*M_{ra}**2*M_{sa}**2*p**3 - 2*L_s*M_{ra}**2*R_a*R_s*p**3 + 3.0*L_s*M_{ra}*M_{sa}*M_{sr}*R_a*p**4 + 1184352.52813072*L_s*M_{ra}*M_{sa}*M_{sr}*R_a*p**2 - 2.3283064365387e-10*L_s*M_{sa}**4*p**3 - 2.3283064365387e-10*L_s*M_{sa}**2*M_{sr}**2*p**3 - 3.0*L_s*M_{sa}**2*R_a*R_r*p**3 - 1184352.52813072*L_s*M_{sa}**2*R_a*R_r*p - 2.3283064365387e-10*L_s*M_{sa}**2*R_a*R_s*p - 1.5*L_s*M_{sr}**2*R_a**2*p**3 - 592176.264065361*L_s*M_{sr}**2*R_a**2*p + 2*L_s*R_a**2*R_r*R_s*p + L_{pa}**2*L_{pr}*R_s**2*p**3 - 1.5*L_{pa}**2*M_{sr}**2*R_s*p**4 + L_{pa}**2*R_r*R_s**2*p**2 - 3.0*L_{pa}*L_{pr}*M_{sa}**2*R_s*p**4 + 2*L_{pa}*L_{pr}*R_a*R_s**2*p**2 - L_{pa}*M_{ra}**2*R_s**2*p**3 + 3.0*L_{pa}*M_{ra}*M_{sa}*M_{sr}*R_s*p**4 + 2.25*L_{pa}*M_{sa}**2*M_{sr}**2*p**5 + 888264.396098042*L_{pa}*M_{sa}**2*M_{sr}**2*p**3 - 3.0*L_{pa}*M_{sa}**2*R_r*R_s*p**3 - 3.0*L_{pa}*M_{sr}**2*R_a*R_s*p**3 + 2*L_{pa}*R_a*R_r*R_s**2*p + 2.25*L_{pr}*M_{sa}**4*p**5 + 888264.396098042*L_{pr}*M_{sa}**4*p**3 - 3.0*L_{pr}*M_{sa}**2*R_a*R_s*p**3 + L_{pr}*R_a**2*R_s**2*p + 1.5*M_{ra}**2*M_{sa}**2*R_s*p**4 - M_{ra}**2*R_a*R_s**2*p**2 - 4.5*M_{ra}*M_{sa}**3*M_{sr}*p**5 - 1776528.79219608*M_{ra}*M_{sa}**3*M_{sr}*p**3 + 3.0*M_{ra}*M_{sa}*M_{sr}*R_a*R_s*p**3 + 2.25*M_{sa}**4*R_r*p**4 + 888264.396098042*M_{sa}**4*R_r*p**2 + 2.25*M_{sa}**2*M_{sr}**2*R_a*p**4 + 888264.396098042*M_{sa}**2*M_{sr}**2*R_a*p**2 - 3.0*M_{sa}**2*R_a*R_r*R_s*p**2 - 1.5*M_{sr}**2*R_a**2*R_s*p**2 + R_a**2*R_r*R_s**2)"
      ]
     },
     "metadata": {},
     "output_type": "display_data"
    },
    {
     "data": {
      "text/latex": [
       "$\\displaystyle \\frac{- L_{s} L_{pa}^{2} M_{sr} p^{4} - 394784.176043574 L_{s} L_{pa}^{2} M_{sr} p^{2} + L_{s} L_{pa} M_{ra} M_{sa} p^{4} + 394784.176043574 L_{s} L_{pa} M_{ra} M_{sa} p^{2} - 2 L_{s} L_{pa} M_{sr} R_{a} p^{3} - 789568.352087149 L_{s} L_{pa} M_{sr} R_{a} p + L_{s} M_{ra} M_{sa} R_{a} p^{3} + 394784.176043574 L_{s} M_{ra} M_{sa} R_{a} p - L_{s} M_{sr} R_{a}^{2} p^{2} - 394784.176043574 L_{s} M_{sr} R_{a}^{2} - L_{pa}^{2} M_{sr} R_{s} p^{3} + L_{pa} M_{ra} M_{sa} R_{s} p^{3} + 1.5 L_{pa} M_{sa}^{2} M_{sr} p^{4} + 592176.264065361 L_{pa} M_{sa}^{2} M_{sr} p^{2} - 2 L_{pa} M_{sr} R_{a} R_{s} p^{2} - 1.5 M_{ra} M_{sa}^{3} p^{4} - 592176.264065361 M_{ra} M_{sa}^{3} p^{2} + M_{ra} M_{sa} R_{a} R_{s} p^{2} + 1.5 M_{sa}^{2} M_{sr} R_{a} p^{3} + 592176.264065361 M_{sa}^{2} M_{sr} R_{a} p - M_{sr} R_{a}^{2} R_{s} p}{2.3283064365387 \\cdot 10^{-10} L_{s}^{4} R_{s} p^{2} - 1.16415321826935 \\cdot 10^{-10} L_{s}^{3} M_{sa}^{2} p^{3} + 2.3283064365387 \\cdot 10^{-10} L_{s}^{3} R_{s}^{2} p + L_{s}^{2} L_{pa}^{2} L_{pr} p^{5} + 394784.176043574 L_{s}^{2} L_{pa}^{2} L_{pr} p^{3} + L_{s}^{2} L_{pa}^{2} R_{r} p^{4} + 394784.176043574 L_{s}^{2} L_{pa}^{2} R_{r} p^{2} + 2 L_{s}^{2} L_{pa} L_{pr} R_{a} p^{4} + 789568.352087149 L_{s}^{2} L_{pa} L_{pr} R_{a} p^{2} - L_{s}^{2} L_{pa} M_{ra}^{2} p^{5} - 394784.176043574 L_{s}^{2} L_{pa} M_{ra}^{2} p^{3} - 1.16415321826935 \\cdot 10^{-10} L_{s}^{2} L_{pa} M_{sa}^{2} p^{3} + 2 L_{s}^{2} L_{pa} R_{a} R_{r} p^{3} + 789568.352087149 L_{s}^{2} L_{pa} R_{a} R_{r} p - 2.3283064365387 \\cdot 10^{-10} L_{s}^{2} L_{pr} M_{sa}^{2} p^{3} + L_{s}^{2} L_{pr} R_{a}^{2} p^{3} + 394784.176043574 L_{s}^{2} L_{pr} R_{a}^{2} p - L_{s}^{2} M_{ra}^{2} R_{a} p^{4} - 394784.176043574 L_{s}^{2} M_{ra}^{2} R_{a} p^{2} - 1.16415321826935 \\cdot 10^{-10} L_{s}^{2} M_{sa}^{2} R_{a} p^{2} - 2.3283064365387 \\cdot 10^{-10} L_{s}^{2} M_{sa}^{2} R_{r} p^{2} - 2.3283064365387 \\cdot 10^{-10} L_{s}^{2} M_{sa}^{2} R_{s} p^{2} + L_{s}^{2} R_{a}^{2} R_{r} p^{2} + 394784.176043574 L_{s}^{2} R_{a}^{2} R_{r} + 2 L_{s} L_{pa}^{2} L_{pr} R_{s} p^{4} - 1.5 L_{s} L_{pa}^{2} M_{sr}^{2} p^{5} - 592176.264065361 L_{s} L_{pa}^{2} M_{sr}^{2} p^{3} + 2 L_{s} L_{pa}^{2} R_{r} R_{s} p^{3} - 3.0 L_{s} L_{pa} L_{pr} M_{sa}^{2} p^{5} - 1184352.52813072 L_{s} L_{pa} L_{pr} M_{sa}^{2} p^{3} + 4 L_{s} L_{pa} L_{pr} R_{a} R_{s} p^{3} - 2 L_{s} L_{pa} M_{ra}^{2} R_{s} p^{4} + 3.0 L_{s} L_{pa} M_{ra} M_{sa} M_{sr} p^{5} + 1184352.52813072 L_{s} L_{pa} M_{ra} M_{sa} M_{sr} p^{3} - 3.0 L_{s} L_{pa} M_{sa}^{2} R_{r} p^{4} - 1184352.52813072 L_{s} L_{pa} M_{sa}^{2} R_{r} p^{2} - 2.3283064365387 \\cdot 10^{-10} L_{s} L_{pa} M_{sa}^{2} R_{s} p^{2} - 3.0 L_{s} L_{pa} M_{sr}^{2} R_{a} p^{4} - 1184352.52813072 L_{s} L_{pa} M_{sr}^{2} R_{a} p^{2} + 4 L_{s} L_{pa} R_{a} R_{r} R_{s} p^{2} - 3.0 L_{s} L_{pr} M_{sa}^{2} R_{a} p^{4} - 1184352.52813072 L_{s} L_{pr} M_{sa}^{2} R_{a} p^{2} + 2 L_{s} L_{pr} R_{a}^{2} R_{s} p^{2} + 1.5 L_{s} M_{ra}^{2} M_{sa}^{2} p^{5} + 592176.264065361 L_{s} M_{ra}^{2} M_{sa}^{2} p^{3} - 2 L_{s} M_{ra}^{2} R_{a} R_{s} p^{3} + 3.0 L_{s} M_{ra} M_{sa} M_{sr} R_{a} p^{4} + 1184352.52813072 L_{s} M_{ra} M_{sa} M_{sr} R_{a} p^{2} - 2.3283064365387 \\cdot 10^{-10} L_{s} M_{sa}^{4} p^{3} - 2.3283064365387 \\cdot 10^{-10} L_{s} M_{sa}^{2} M_{sr}^{2} p^{3} - 3.0 L_{s} M_{sa}^{2} R_{a} R_{r} p^{3} - 1184352.52813072 L_{s} M_{sa}^{2} R_{a} R_{r} p - 2.3283064365387 \\cdot 10^{-10} L_{s} M_{sa}^{2} R_{a} R_{s} p - 1.5 L_{s} M_{sr}^{2} R_{a}^{2} p^{3} - 592176.264065361 L_{s} M_{sr}^{2} R_{a}^{2} p + 2 L_{s} R_{a}^{2} R_{r} R_{s} p + L_{pa}^{2} L_{pr} R_{s}^{2} p^{3} - 1.5 L_{pa}^{2} M_{sr}^{2} R_{s} p^{4} + L_{pa}^{2} R_{r} R_{s}^{2} p^{2} - 3.0 L_{pa} L_{pr} M_{sa}^{2} R_{s} p^{4} + 2 L_{pa} L_{pr} R_{a} R_{s}^{2} p^{2} - L_{pa} M_{ra}^{2} R_{s}^{2} p^{3} + 3.0 L_{pa} M_{ra} M_{sa} M_{sr} R_{s} p^{4} + 2.25 L_{pa} M_{sa}^{2} M_{sr}^{2} p^{5} + 888264.396098042 L_{pa} M_{sa}^{2} M_{sr}^{2} p^{3} - 3.0 L_{pa} M_{sa}^{2} R_{r} R_{s} p^{3} - 3.0 L_{pa} M_{sr}^{2} R_{a} R_{s} p^{3} + 2 L_{pa} R_{a} R_{r} R_{s}^{2} p + 2.25 L_{pr} M_{sa}^{4} p^{5} + 888264.396098042 L_{pr} M_{sa}^{4} p^{3} - 3.0 L_{pr} M_{sa}^{2} R_{a} R_{s} p^{3} + L_{pr} R_{a}^{2} R_{s}^{2} p + 1.5 M_{ra}^{2} M_{sa}^{2} R_{s} p^{4} - M_{ra}^{2} R_{a} R_{s}^{2} p^{2} - 4.5 M_{ra} M_{sa}^{3} M_{sr} p^{5} - 1776528.79219608 M_{ra} M_{sa}^{3} M_{sr} p^{3} + 3.0 M_{ra} M_{sa} M_{sr} R_{a} R_{s} p^{3} + 2.25 M_{sa}^{4} R_{r} p^{4} + 888264.396098042 M_{sa}^{4} R_{r} p^{2} + 2.25 M_{sa}^{2} M_{sr}^{2} R_{a} p^{4} + 888264.396098042 M_{sa}^{2} M_{sr}^{2} R_{a} p^{2} - 3.0 M_{sa}^{2} R_{a} R_{r} R_{s} p^{2} - 1.5 M_{sr}^{2} R_{a}^{2} R_{s} p^{2} + R_{a}^{2} R_{r} R_{s}^{2}}$"
      ],
      "text/plain": [
       "(-L_s*L_{pa}**2*M_{sr}*p**4 - 394784.176043574*L_s*L_{pa}**2*M_{sr}*p**2 + L_s*L_{pa}*M_{ra}*M_{sa}*p**4 + 394784.176043574*L_s*L_{pa}*M_{ra}*M_{sa}*p**2 - 2*L_s*L_{pa}*M_{sr}*R_a*p**3 - 789568.352087149*L_s*L_{pa}*M_{sr}*R_a*p + L_s*M_{ra}*M_{sa}*R_a*p**3 + 394784.176043574*L_s*M_{ra}*M_{sa}*R_a*p - L_s*M_{sr}*R_a**2*p**2 - 394784.176043574*L_s*M_{sr}*R_a**2 - L_{pa}**2*M_{sr}*R_s*p**3 + L_{pa}*M_{ra}*M_{sa}*R_s*p**3 + 1.5*L_{pa}*M_{sa}**2*M_{sr}*p**4 + 592176.264065361*L_{pa}*M_{sa}**2*M_{sr}*p**2 - 2*L_{pa}*M_{sr}*R_a*R_s*p**2 - 1.5*M_{ra}*M_{sa}**3*p**4 - 592176.264065361*M_{ra}*M_{sa}**3*p**2 + M_{ra}*M_{sa}*R_a*R_s*p**2 + 1.5*M_{sa}**2*M_{sr}*R_a*p**3 + 592176.264065361*M_{sa}**2*M_{sr}*R_a*p - M_{sr}*R_a**2*R_s*p)/(2.3283064365387e-10*L_s**4*R_s*p**2 - 1.16415321826935e-10*L_s**3*M_{sa}**2*p**3 + 2.3283064365387e-10*L_s**3*R_s**2*p + L_s**2*L_{pa}**2*L_{pr}*p**5 + 394784.176043574*L_s**2*L_{pa}**2*L_{pr}*p**3 + L_s**2*L_{pa}**2*R_r*p**4 + 394784.176043574*L_s**2*L_{pa}**2*R_r*p**2 + 2*L_s**2*L_{pa}*L_{pr}*R_a*p**4 + 789568.352087149*L_s**2*L_{pa}*L_{pr}*R_a*p**2 - L_s**2*L_{pa}*M_{ra}**2*p**5 - 394784.176043574*L_s**2*L_{pa}*M_{ra}**2*p**3 - 1.16415321826935e-10*L_s**2*L_{pa}*M_{sa}**2*p**3 + 2*L_s**2*L_{pa}*R_a*R_r*p**3 + 789568.352087149*L_s**2*L_{pa}*R_a*R_r*p - 2.3283064365387e-10*L_s**2*L_{pr}*M_{sa}**2*p**3 + L_s**2*L_{pr}*R_a**2*p**3 + 394784.176043574*L_s**2*L_{pr}*R_a**2*p - L_s**2*M_{ra}**2*R_a*p**4 - 394784.176043574*L_s**2*M_{ra}**2*R_a*p**2 - 1.16415321826935e-10*L_s**2*M_{sa}**2*R_a*p**2 - 2.3283064365387e-10*L_s**2*M_{sa}**2*R_r*p**2 - 2.3283064365387e-10*L_s**2*M_{sa}**2*R_s*p**2 + L_s**2*R_a**2*R_r*p**2 + 394784.176043574*L_s**2*R_a**2*R_r + 2*L_s*L_{pa}**2*L_{pr}*R_s*p**4 - 1.5*L_s*L_{pa}**2*M_{sr}**2*p**5 - 592176.264065361*L_s*L_{pa}**2*M_{sr}**2*p**3 + 2*L_s*L_{pa}**2*R_r*R_s*p**3 - 3.0*L_s*L_{pa}*L_{pr}*M_{sa}**2*p**5 - 1184352.52813072*L_s*L_{pa}*L_{pr}*M_{sa}**2*p**3 + 4*L_s*L_{pa}*L_{pr}*R_a*R_s*p**3 - 2*L_s*L_{pa}*M_{ra}**2*R_s*p**4 + 3.0*L_s*L_{pa}*M_{ra}*M_{sa}*M_{sr}*p**5 + 1184352.52813072*L_s*L_{pa}*M_{ra}*M_{sa}*M_{sr}*p**3 - 3.0*L_s*L_{pa}*M_{sa}**2*R_r*p**4 - 1184352.52813072*L_s*L_{pa}*M_{sa}**2*R_r*p**2 - 2.3283064365387e-10*L_s*L_{pa}*M_{sa}**2*R_s*p**2 - 3.0*L_s*L_{pa}*M_{sr}**2*R_a*p**4 - 1184352.52813072*L_s*L_{pa}*M_{sr}**2*R_a*p**2 + 4*L_s*L_{pa}*R_a*R_r*R_s*p**2 - 3.0*L_s*L_{pr}*M_{sa}**2*R_a*p**4 - 1184352.52813072*L_s*L_{pr}*M_{sa}**2*R_a*p**2 + 2*L_s*L_{pr}*R_a**2*R_s*p**2 + 1.5*L_s*M_{ra}**2*M_{sa}**2*p**5 + 592176.264065361*L_s*M_{ra}**2*M_{sa}**2*p**3 - 2*L_s*M_{ra}**2*R_a*R_s*p**3 + 3.0*L_s*M_{ra}*M_{sa}*M_{sr}*R_a*p**4 + 1184352.52813072*L_s*M_{ra}*M_{sa}*M_{sr}*R_a*p**2 - 2.3283064365387e-10*L_s*M_{sa}**4*p**3 - 2.3283064365387e-10*L_s*M_{sa}**2*M_{sr}**2*p**3 - 3.0*L_s*M_{sa}**2*R_a*R_r*p**3 - 1184352.52813072*L_s*M_{sa}**2*R_a*R_r*p - 2.3283064365387e-10*L_s*M_{sa}**2*R_a*R_s*p - 1.5*L_s*M_{sr}**2*R_a**2*p**3 - 592176.264065361*L_s*M_{sr}**2*R_a**2*p + 2*L_s*R_a**2*R_r*R_s*p + L_{pa}**2*L_{pr}*R_s**2*p**3 - 1.5*L_{pa}**2*M_{sr}**2*R_s*p**4 + L_{pa}**2*R_r*R_s**2*p**2 - 3.0*L_{pa}*L_{pr}*M_{sa}**2*R_s*p**4 + 2*L_{pa}*L_{pr}*R_a*R_s**2*p**2 - L_{pa}*M_{ra}**2*R_s**2*p**3 + 3.0*L_{pa}*M_{ra}*M_{sa}*M_{sr}*R_s*p**4 + 2.25*L_{pa}*M_{sa}**2*M_{sr}**2*p**5 + 888264.396098042*L_{pa}*M_{sa}**2*M_{sr}**2*p**3 - 3.0*L_{pa}*M_{sa}**2*R_r*R_s*p**3 - 3.0*L_{pa}*M_{sr}**2*R_a*R_s*p**3 + 2*L_{pa}*R_a*R_r*R_s**2*p + 2.25*L_{pr}*M_{sa}**4*p**5 + 888264.396098042*L_{pr}*M_{sa}**4*p**3 - 3.0*L_{pr}*M_{sa}**2*R_a*R_s*p**3 + L_{pr}*R_a**2*R_s**2*p + 1.5*M_{ra}**2*M_{sa}**2*R_s*p**4 - M_{ra}**2*R_a*R_s**2*p**2 - 4.5*M_{ra}*M_{sa}**3*M_{sr}*p**5 - 1776528.79219608*M_{ra}*M_{sa}**3*M_{sr}*p**3 + 3.0*M_{ra}*M_{sa}*M_{sr}*R_a*R_s*p**3 + 2.25*M_{sa}**4*R_r*p**4 + 888264.396098042*M_{sa}**4*R_r*p**2 + 2.25*M_{sa}**2*M_{sr}**2*R_a*p**4 + 888264.396098042*M_{sa}**2*M_{sr}**2*R_a*p**2 - 3.0*M_{sa}**2*R_a*R_r*R_s*p**2 - 1.5*M_{sr}**2*R_a**2*R_s*p**2 + R_a**2*R_r*R_s**2)"
      ]
     },
     "metadata": {},
     "output_type": "display_data"
    },
    {
     "data": {
      "text/latex": [
       "$\\displaystyle \\frac{- 628.318530717959 L_{pa}^{2} M_{sr} R_{s} p^{2} + 628.318530717959 L_{pa} M_{ra} M_{sa} R_{s} p^{2} - 1256.63706143592 L_{pa} M_{sr} R_{a} R_{s} p + 628.318530717959 M_{ra} M_{sa} R_{a} R_{s} p - 628.318530717959 M_{sr} R_{a}^{2} R_{s}}{2.3283064365387 \\cdot 10^{-10} L_{s}^{4} R_{s} p^{2} - 1.16415321826935 \\cdot 10^{-10} L_{s}^{3} M_{sa}^{2} p^{3} + 2.3283064365387 \\cdot 10^{-10} L_{s}^{3} R_{s}^{2} p + L_{s}^{2} L_{pa}^{2} L_{pr} p^{5} + 394784.176043574 L_{s}^{2} L_{pa}^{2} L_{pr} p^{3} + L_{s}^{2} L_{pa}^{2} R_{r} p^{4} + 394784.176043574 L_{s}^{2} L_{pa}^{2} R_{r} p^{2} + 2 L_{s}^{2} L_{pa} L_{pr} R_{a} p^{4} + 789568.352087149 L_{s}^{2} L_{pa} L_{pr} R_{a} p^{2} - L_{s}^{2} L_{pa} M_{ra}^{2} p^{5} - 394784.176043574 L_{s}^{2} L_{pa} M_{ra}^{2} p^{3} - 1.16415321826935 \\cdot 10^{-10} L_{s}^{2} L_{pa} M_{sa}^{2} p^{3} + 2 L_{s}^{2} L_{pa} R_{a} R_{r} p^{3} + 789568.352087149 L_{s}^{2} L_{pa} R_{a} R_{r} p - 2.3283064365387 \\cdot 10^{-10} L_{s}^{2} L_{pr} M_{sa}^{2} p^{3} + L_{s}^{2} L_{pr} R_{a}^{2} p^{3} + 394784.176043574 L_{s}^{2} L_{pr} R_{a}^{2} p - L_{s}^{2} M_{ra}^{2} R_{a} p^{4} - 394784.176043574 L_{s}^{2} M_{ra}^{2} R_{a} p^{2} - 1.16415321826935 \\cdot 10^{-10} L_{s}^{2} M_{sa}^{2} R_{a} p^{2} - 2.3283064365387 \\cdot 10^{-10} L_{s}^{2} M_{sa}^{2} R_{r} p^{2} - 2.3283064365387 \\cdot 10^{-10} L_{s}^{2} M_{sa}^{2} R_{s} p^{2} + L_{s}^{2} R_{a}^{2} R_{r} p^{2} + 394784.176043574 L_{s}^{2} R_{a}^{2} R_{r} + 2 L_{s} L_{pa}^{2} L_{pr} R_{s} p^{4} - 1.5 L_{s} L_{pa}^{2} M_{sr}^{2} p^{5} - 592176.264065361 L_{s} L_{pa}^{2} M_{sr}^{2} p^{3} + 2 L_{s} L_{pa}^{2} R_{r} R_{s} p^{3} - 3.0 L_{s} L_{pa} L_{pr} M_{sa}^{2} p^{5} - 1184352.52813072 L_{s} L_{pa} L_{pr} M_{sa}^{2} p^{3} + 4 L_{s} L_{pa} L_{pr} R_{a} R_{s} p^{3} - 2 L_{s} L_{pa} M_{ra}^{2} R_{s} p^{4} + 3.0 L_{s} L_{pa} M_{ra} M_{sa} M_{sr} p^{5} + 1184352.52813072 L_{s} L_{pa} M_{ra} M_{sa} M_{sr} p^{3} - 3.0 L_{s} L_{pa} M_{sa}^{2} R_{r} p^{4} - 1184352.52813072 L_{s} L_{pa} M_{sa}^{2} R_{r} p^{2} - 2.3283064365387 \\cdot 10^{-10} L_{s} L_{pa} M_{sa}^{2} R_{s} p^{2} - 3.0 L_{s} L_{pa} M_{sr}^{2} R_{a} p^{4} - 1184352.52813072 L_{s} L_{pa} M_{sr}^{2} R_{a} p^{2} + 4 L_{s} L_{pa} R_{a} R_{r} R_{s} p^{2} - 3.0 L_{s} L_{pr} M_{sa}^{2} R_{a} p^{4} - 1184352.52813072 L_{s} L_{pr} M_{sa}^{2} R_{a} p^{2} + 2 L_{s} L_{pr} R_{a}^{2} R_{s} p^{2} + 1.5 L_{s} M_{ra}^{2} M_{sa}^{2} p^{5} + 592176.264065361 L_{s} M_{ra}^{2} M_{sa}^{2} p^{3} - 2 L_{s} M_{ra}^{2} R_{a} R_{s} p^{3} + 3.0 L_{s} M_{ra} M_{sa} M_{sr} R_{a} p^{4} + 1184352.52813072 L_{s} M_{ra} M_{sa} M_{sr} R_{a} p^{2} - 2.3283064365387 \\cdot 10^{-10} L_{s} M_{sa}^{4} p^{3} - 2.3283064365387 \\cdot 10^{-10} L_{s} M_{sa}^{2} M_{sr}^{2} p^{3} - 3.0 L_{s} M_{sa}^{2} R_{a} R_{r} p^{3} - 1184352.52813072 L_{s} M_{sa}^{2} R_{a} R_{r} p - 2.3283064365387 \\cdot 10^{-10} L_{s} M_{sa}^{2} R_{a} R_{s} p - 1.5 L_{s} M_{sr}^{2} R_{a}^{2} p^{3} - 592176.264065361 L_{s} M_{sr}^{2} R_{a}^{2} p + 2 L_{s} R_{a}^{2} R_{r} R_{s} p + L_{pa}^{2} L_{pr} R_{s}^{2} p^{3} - 1.5 L_{pa}^{2} M_{sr}^{2} R_{s} p^{4} + L_{pa}^{2} R_{r} R_{s}^{2} p^{2} - 3.0 L_{pa} L_{pr} M_{sa}^{2} R_{s} p^{4} + 2 L_{pa} L_{pr} R_{a} R_{s}^{2} p^{2} - L_{pa} M_{ra}^{2} R_{s}^{2} p^{3} + 3.0 L_{pa} M_{ra} M_{sa} M_{sr} R_{s} p^{4} + 2.25 L_{pa} M_{sa}^{2} M_{sr}^{2} p^{5} + 888264.396098042 L_{pa} M_{sa}^{2} M_{sr}^{2} p^{3} - 3.0 L_{pa} M_{sa}^{2} R_{r} R_{s} p^{3} - 3.0 L_{pa} M_{sr}^{2} R_{a} R_{s} p^{3} + 2 L_{pa} R_{a} R_{r} R_{s}^{2} p + 2.25 L_{pr} M_{sa}^{4} p^{5} + 888264.396098042 L_{pr} M_{sa}^{4} p^{3} - 3.0 L_{pr} M_{sa}^{2} R_{a} R_{s} p^{3} + L_{pr} R_{a}^{2} R_{s}^{2} p + 1.5 M_{ra}^{2} M_{sa}^{2} R_{s} p^{4} - M_{ra}^{2} R_{a} R_{s}^{2} p^{2} - 4.5 M_{ra} M_{sa}^{3} M_{sr} p^{5} - 1776528.79219608 M_{ra} M_{sa}^{3} M_{sr} p^{3} + 3.0 M_{ra} M_{sa} M_{sr} R_{a} R_{s} p^{3} + 2.25 M_{sa}^{4} R_{r} p^{4} + 888264.396098042 M_{sa}^{4} R_{r} p^{2} + 2.25 M_{sa}^{2} M_{sr}^{2} R_{a} p^{4} + 888264.396098042 M_{sa}^{2} M_{sr}^{2} R_{a} p^{2} - 3.0 M_{sa}^{2} R_{a} R_{r} R_{s} p^{2} - 1.5 M_{sr}^{2} R_{a}^{2} R_{s} p^{2} + R_{a}^{2} R_{r} R_{s}^{2}}$"
      ],
      "text/plain": [
       "(-628.318530717959*L_{pa}**2*M_{sr}*R_s*p**2 + 628.318530717959*L_{pa}*M_{ra}*M_{sa}*R_s*p**2 - 1256.63706143592*L_{pa}*M_{sr}*R_a*R_s*p + 628.318530717959*M_{ra}*M_{sa}*R_a*R_s*p - 628.318530717959*M_{sr}*R_a**2*R_s)/(2.3283064365387e-10*L_s**4*R_s*p**2 - 1.16415321826935e-10*L_s**3*M_{sa}**2*p**3 + 2.3283064365387e-10*L_s**3*R_s**2*p + L_s**2*L_{pa}**2*L_{pr}*p**5 + 394784.176043574*L_s**2*L_{pa}**2*L_{pr}*p**3 + L_s**2*L_{pa}**2*R_r*p**4 + 394784.176043574*L_s**2*L_{pa}**2*R_r*p**2 + 2*L_s**2*L_{pa}*L_{pr}*R_a*p**4 + 789568.352087149*L_s**2*L_{pa}*L_{pr}*R_a*p**2 - L_s**2*L_{pa}*M_{ra}**2*p**5 - 394784.176043574*L_s**2*L_{pa}*M_{ra}**2*p**3 - 1.16415321826935e-10*L_s**2*L_{pa}*M_{sa}**2*p**3 + 2*L_s**2*L_{pa}*R_a*R_r*p**3 + 789568.352087149*L_s**2*L_{pa}*R_a*R_r*p - 2.3283064365387e-10*L_s**2*L_{pr}*M_{sa}**2*p**3 + L_s**2*L_{pr}*R_a**2*p**3 + 394784.176043574*L_s**2*L_{pr}*R_a**2*p - L_s**2*M_{ra}**2*R_a*p**4 - 394784.176043574*L_s**2*M_{ra}**2*R_a*p**2 - 1.16415321826935e-10*L_s**2*M_{sa}**2*R_a*p**2 - 2.3283064365387e-10*L_s**2*M_{sa}**2*R_r*p**2 - 2.3283064365387e-10*L_s**2*M_{sa}**2*R_s*p**2 + L_s**2*R_a**2*R_r*p**2 + 394784.176043574*L_s**2*R_a**2*R_r + 2*L_s*L_{pa}**2*L_{pr}*R_s*p**4 - 1.5*L_s*L_{pa}**2*M_{sr}**2*p**5 - 592176.264065361*L_s*L_{pa}**2*M_{sr}**2*p**3 + 2*L_s*L_{pa}**2*R_r*R_s*p**3 - 3.0*L_s*L_{pa}*L_{pr}*M_{sa}**2*p**5 - 1184352.52813072*L_s*L_{pa}*L_{pr}*M_{sa}**2*p**3 + 4*L_s*L_{pa}*L_{pr}*R_a*R_s*p**3 - 2*L_s*L_{pa}*M_{ra}**2*R_s*p**4 + 3.0*L_s*L_{pa}*M_{ra}*M_{sa}*M_{sr}*p**5 + 1184352.52813072*L_s*L_{pa}*M_{ra}*M_{sa}*M_{sr}*p**3 - 3.0*L_s*L_{pa}*M_{sa}**2*R_r*p**4 - 1184352.52813072*L_s*L_{pa}*M_{sa}**2*R_r*p**2 - 2.3283064365387e-10*L_s*L_{pa}*M_{sa}**2*R_s*p**2 - 3.0*L_s*L_{pa}*M_{sr}**2*R_a*p**4 - 1184352.52813072*L_s*L_{pa}*M_{sr}**2*R_a*p**2 + 4*L_s*L_{pa}*R_a*R_r*R_s*p**2 - 3.0*L_s*L_{pr}*M_{sa}**2*R_a*p**4 - 1184352.52813072*L_s*L_{pr}*M_{sa}**2*R_a*p**2 + 2*L_s*L_{pr}*R_a**2*R_s*p**2 + 1.5*L_s*M_{ra}**2*M_{sa}**2*p**5 + 592176.264065361*L_s*M_{ra}**2*M_{sa}**2*p**3 - 2*L_s*M_{ra}**2*R_a*R_s*p**3 + 3.0*L_s*M_{ra}*M_{sa}*M_{sr}*R_a*p**4 + 1184352.52813072*L_s*M_{ra}*M_{sa}*M_{sr}*R_a*p**2 - 2.3283064365387e-10*L_s*M_{sa}**4*p**3 - 2.3283064365387e-10*L_s*M_{sa}**2*M_{sr}**2*p**3 - 3.0*L_s*M_{sa}**2*R_a*R_r*p**3 - 1184352.52813072*L_s*M_{sa}**2*R_a*R_r*p - 2.3283064365387e-10*L_s*M_{sa}**2*R_a*R_s*p - 1.5*L_s*M_{sr}**2*R_a**2*p**3 - 592176.264065361*L_s*M_{sr}**2*R_a**2*p + 2*L_s*R_a**2*R_r*R_s*p + L_{pa}**2*L_{pr}*R_s**2*p**3 - 1.5*L_{pa}**2*M_{sr}**2*R_s*p**4 + L_{pa}**2*R_r*R_s**2*p**2 - 3.0*L_{pa}*L_{pr}*M_{sa}**2*R_s*p**4 + 2*L_{pa}*L_{pr}*R_a*R_s**2*p**2 - L_{pa}*M_{ra}**2*R_s**2*p**3 + 3.0*L_{pa}*M_{ra}*M_{sa}*M_{sr}*R_s*p**4 + 2.25*L_{pa}*M_{sa}**2*M_{sr}**2*p**5 + 888264.396098042*L_{pa}*M_{sa}**2*M_{sr}**2*p**3 - 3.0*L_{pa}*M_{sa}**2*R_r*R_s*p**3 - 3.0*L_{pa}*M_{sr}**2*R_a*R_s*p**3 + 2*L_{pa}*R_a*R_r*R_s**2*p + 2.25*L_{pr}*M_{sa}**4*p**5 + 888264.396098042*L_{pr}*M_{sa}**4*p**3 - 3.0*L_{pr}*M_{sa}**2*R_a*R_s*p**3 + L_{pr}*R_a**2*R_s**2*p + 1.5*M_{ra}**2*M_{sa}**2*R_s*p**4 - M_{ra}**2*R_a*R_s**2*p**2 - 4.5*M_{ra}*M_{sa}**3*M_{sr}*p**5 - 1776528.79219608*M_{ra}*M_{sa}**3*M_{sr}*p**3 + 3.0*M_{ra}*M_{sa}*M_{sr}*R_a*R_s*p**3 + 2.25*M_{sa}**4*R_r*p**4 + 888264.396098042*M_{sa}**4*R_r*p**2 + 2.25*M_{sa}**2*M_{sr}**2*R_a*p**4 + 888264.396098042*M_{sa}**2*M_{sr}**2*R_a*p**2 - 3.0*M_{sa}**2*R_a*R_r*R_s*p**2 - 1.5*M_{sr}**2*R_a**2*R_s*p**2 + R_a**2*R_r*R_s**2)"
      ]
     },
     "metadata": {},
     "output_type": "display_data"
    },
    {
     "data": {
      "text/latex": [
       "$\\displaystyle \\frac{- L_{s} L_{pa} L_{pr} M_{sa} p^{4} - 394784.176043574 L_{s} L_{pa} L_{pr} M_{sa} p^{2} + L_{s} L_{pa} M_{ra} M_{sr} p^{4} + 394784.176043574 L_{s} L_{pa} M_{ra} M_{sr} p^{2} - L_{s} L_{pa} M_{sa} R_{r} p^{3} - 394784.176043574 L_{s} L_{pa} M_{sa} R_{r} p - L_{s} L_{pr} M_{sa} R_{a} p^{3} - 394784.176043574 L_{s} L_{pr} M_{sa} R_{a} p + L_{s} M_{ra} M_{sr} R_{a} p^{3} + 394784.176043574 L_{s} M_{ra} M_{sr} R_{a} p - L_{s} M_{sa} R_{a} R_{r} p^{2} - 394784.176043574 L_{s} M_{sa} R_{a} R_{r} - L_{pa} L_{pr} M_{sa} R_{s} p^{3} + L_{pa} M_{ra} M_{sr} R_{s} p^{3} - L_{pa} M_{sa} R_{r} R_{s} p^{2} + 1.5 L_{pr} M_{sa}^{3} p^{4} + 592176.264065361 L_{pr} M_{sa}^{3} p^{2} - L_{pr} M_{sa} R_{a} R_{s} p^{2} - 1.5 M_{ra} M_{sa}^{2} M_{sr} p^{4} - 592176.264065361 M_{ra} M_{sa}^{2} M_{sr} p^{2} + M_{ra} M_{sr} R_{a} R_{s} p^{2} + 1.5 M_{sa}^{3} R_{r} p^{3} + 592176.264065361 M_{sa}^{3} R_{r} p - M_{sa} R_{a} R_{r} R_{s} p}{2.3283064365387 \\cdot 10^{-10} L_{s}^{4} R_{s} p^{2} - 1.16415321826935 \\cdot 10^{-10} L_{s}^{3} M_{sa}^{2} p^{3} + 2.3283064365387 \\cdot 10^{-10} L_{s}^{3} R_{s}^{2} p + L_{s}^{2} L_{pa}^{2} L_{pr} p^{5} + 394784.176043574 L_{s}^{2} L_{pa}^{2} L_{pr} p^{3} + L_{s}^{2} L_{pa}^{2} R_{r} p^{4} + 394784.176043574 L_{s}^{2} L_{pa}^{2} R_{r} p^{2} + 2 L_{s}^{2} L_{pa} L_{pr} R_{a} p^{4} + 789568.352087149 L_{s}^{2} L_{pa} L_{pr} R_{a} p^{2} - L_{s}^{2} L_{pa} M_{ra}^{2} p^{5} - 394784.176043574 L_{s}^{2} L_{pa} M_{ra}^{2} p^{3} - 1.16415321826935 \\cdot 10^{-10} L_{s}^{2} L_{pa} M_{sa}^{2} p^{3} + 2 L_{s}^{2} L_{pa} R_{a} R_{r} p^{3} + 789568.352087149 L_{s}^{2} L_{pa} R_{a} R_{r} p - 2.3283064365387 \\cdot 10^{-10} L_{s}^{2} L_{pr} M_{sa}^{2} p^{3} + L_{s}^{2} L_{pr} R_{a}^{2} p^{3} + 394784.176043574 L_{s}^{2} L_{pr} R_{a}^{2} p - L_{s}^{2} M_{ra}^{2} R_{a} p^{4} - 394784.176043574 L_{s}^{2} M_{ra}^{2} R_{a} p^{2} - 1.16415321826935 \\cdot 10^{-10} L_{s}^{2} M_{sa}^{2} R_{a} p^{2} - 2.3283064365387 \\cdot 10^{-10} L_{s}^{2} M_{sa}^{2} R_{r} p^{2} - 2.3283064365387 \\cdot 10^{-10} L_{s}^{2} M_{sa}^{2} R_{s} p^{2} + L_{s}^{2} R_{a}^{2} R_{r} p^{2} + 394784.176043574 L_{s}^{2} R_{a}^{2} R_{r} + 2 L_{s} L_{pa}^{2} L_{pr} R_{s} p^{4} - 1.5 L_{s} L_{pa}^{2} M_{sr}^{2} p^{5} - 592176.264065361 L_{s} L_{pa}^{2} M_{sr}^{2} p^{3} + 2 L_{s} L_{pa}^{2} R_{r} R_{s} p^{3} - 3.0 L_{s} L_{pa} L_{pr} M_{sa}^{2} p^{5} - 1184352.52813072 L_{s} L_{pa} L_{pr} M_{sa}^{2} p^{3} + 4 L_{s} L_{pa} L_{pr} R_{a} R_{s} p^{3} - 2 L_{s} L_{pa} M_{ra}^{2} R_{s} p^{4} + 3.0 L_{s} L_{pa} M_{ra} M_{sa} M_{sr} p^{5} + 1184352.52813072 L_{s} L_{pa} M_{ra} M_{sa} M_{sr} p^{3} - 3.0 L_{s} L_{pa} M_{sa}^{2} R_{r} p^{4} - 1184352.52813072 L_{s} L_{pa} M_{sa}^{2} R_{r} p^{2} - 2.3283064365387 \\cdot 10^{-10} L_{s} L_{pa} M_{sa}^{2} R_{s} p^{2} - 3.0 L_{s} L_{pa} M_{sr}^{2} R_{a} p^{4} - 1184352.52813072 L_{s} L_{pa} M_{sr}^{2} R_{a} p^{2} + 4 L_{s} L_{pa} R_{a} R_{r} R_{s} p^{2} - 3.0 L_{s} L_{pr} M_{sa}^{2} R_{a} p^{4} - 1184352.52813072 L_{s} L_{pr} M_{sa}^{2} R_{a} p^{2} + 2 L_{s} L_{pr} R_{a}^{2} R_{s} p^{2} + 1.5 L_{s} M_{ra}^{2} M_{sa}^{2} p^{5} + 592176.264065361 L_{s} M_{ra}^{2} M_{sa}^{2} p^{3} - 2 L_{s} M_{ra}^{2} R_{a} R_{s} p^{3} + 3.0 L_{s} M_{ra} M_{sa} M_{sr} R_{a} p^{4} + 1184352.52813072 L_{s} M_{ra} M_{sa} M_{sr} R_{a} p^{2} - 2.3283064365387 \\cdot 10^{-10} L_{s} M_{sa}^{4} p^{3} - 2.3283064365387 \\cdot 10^{-10} L_{s} M_{sa}^{2} M_{sr}^{2} p^{3} - 3.0 L_{s} M_{sa}^{2} R_{a} R_{r} p^{3} - 1184352.52813072 L_{s} M_{sa}^{2} R_{a} R_{r} p - 2.3283064365387 \\cdot 10^{-10} L_{s} M_{sa}^{2} R_{a} R_{s} p - 1.5 L_{s} M_{sr}^{2} R_{a}^{2} p^{3} - 592176.264065361 L_{s} M_{sr}^{2} R_{a}^{2} p + 2 L_{s} R_{a}^{2} R_{r} R_{s} p + L_{pa}^{2} L_{pr} R_{s}^{2} p^{3} - 1.5 L_{pa}^{2} M_{sr}^{2} R_{s} p^{4} + L_{pa}^{2} R_{r} R_{s}^{2} p^{2} - 3.0 L_{pa} L_{pr} M_{sa}^{2} R_{s} p^{4} + 2 L_{pa} L_{pr} R_{a} R_{s}^{2} p^{2} - L_{pa} M_{ra}^{2} R_{s}^{2} p^{3} + 3.0 L_{pa} M_{ra} M_{sa} M_{sr} R_{s} p^{4} + 2.25 L_{pa} M_{sa}^{2} M_{sr}^{2} p^{5} + 888264.396098042 L_{pa} M_{sa}^{2} M_{sr}^{2} p^{3} - 3.0 L_{pa} M_{sa}^{2} R_{r} R_{s} p^{3} - 3.0 L_{pa} M_{sr}^{2} R_{a} R_{s} p^{3} + 2 L_{pa} R_{a} R_{r} R_{s}^{2} p + 2.25 L_{pr} M_{sa}^{4} p^{5} + 888264.396098042 L_{pr} M_{sa}^{4} p^{3} - 3.0 L_{pr} M_{sa}^{2} R_{a} R_{s} p^{3} + L_{pr} R_{a}^{2} R_{s}^{2} p + 1.5 M_{ra}^{2} M_{sa}^{2} R_{s} p^{4} - M_{ra}^{2} R_{a} R_{s}^{2} p^{2} - 4.5 M_{ra} M_{sa}^{3} M_{sr} p^{5} - 1776528.79219608 M_{ra} M_{sa}^{3} M_{sr} p^{3} + 3.0 M_{ra} M_{sa} M_{sr} R_{a} R_{s} p^{3} + 2.25 M_{sa}^{4} R_{r} p^{4} + 888264.396098042 M_{sa}^{4} R_{r} p^{2} + 2.25 M_{sa}^{2} M_{sr}^{2} R_{a} p^{4} + 888264.396098042 M_{sa}^{2} M_{sr}^{2} R_{a} p^{2} - 3.0 M_{sa}^{2} R_{a} R_{r} R_{s} p^{2} - 1.5 M_{sr}^{2} R_{a}^{2} R_{s} p^{2} + R_{a}^{2} R_{r} R_{s}^{2}}$"
      ],
      "text/plain": [
       "(-L_s*L_{pa}*L_{pr}*M_{sa}*p**4 - 394784.176043574*L_s*L_{pa}*L_{pr}*M_{sa}*p**2 + L_s*L_{pa}*M_{ra}*M_{sr}*p**4 + 394784.176043574*L_s*L_{pa}*M_{ra}*M_{sr}*p**2 - L_s*L_{pa}*M_{sa}*R_r*p**3 - 394784.176043574*L_s*L_{pa}*M_{sa}*R_r*p - L_s*L_{pr}*M_{sa}*R_a*p**3 - 394784.176043574*L_s*L_{pr}*M_{sa}*R_a*p + L_s*M_{ra}*M_{sr}*R_a*p**3 + 394784.176043574*L_s*M_{ra}*M_{sr}*R_a*p - L_s*M_{sa}*R_a*R_r*p**2 - 394784.176043574*L_s*M_{sa}*R_a*R_r - L_{pa}*L_{pr}*M_{sa}*R_s*p**3 + L_{pa}*M_{ra}*M_{sr}*R_s*p**3 - L_{pa}*M_{sa}*R_r*R_s*p**2 + 1.5*L_{pr}*M_{sa}**3*p**4 + 592176.264065361*L_{pr}*M_{sa}**3*p**2 - L_{pr}*M_{sa}*R_a*R_s*p**2 - 1.5*M_{ra}*M_{sa}**2*M_{sr}*p**4 - 592176.264065361*M_{ra}*M_{sa}**2*M_{sr}*p**2 + M_{ra}*M_{sr}*R_a*R_s*p**2 + 1.5*M_{sa}**3*R_r*p**3 + 592176.264065361*M_{sa}**3*R_r*p - M_{sa}*R_a*R_r*R_s*p)/(2.3283064365387e-10*L_s**4*R_s*p**2 - 1.16415321826935e-10*L_s**3*M_{sa}**2*p**3 + 2.3283064365387e-10*L_s**3*R_s**2*p + L_s**2*L_{pa}**2*L_{pr}*p**5 + 394784.176043574*L_s**2*L_{pa}**2*L_{pr}*p**3 + L_s**2*L_{pa}**2*R_r*p**4 + 394784.176043574*L_s**2*L_{pa}**2*R_r*p**2 + 2*L_s**2*L_{pa}*L_{pr}*R_a*p**4 + 789568.352087149*L_s**2*L_{pa}*L_{pr}*R_a*p**2 - L_s**2*L_{pa}*M_{ra}**2*p**5 - 394784.176043574*L_s**2*L_{pa}*M_{ra}**2*p**3 - 1.16415321826935e-10*L_s**2*L_{pa}*M_{sa}**2*p**3 + 2*L_s**2*L_{pa}*R_a*R_r*p**3 + 789568.352087149*L_s**2*L_{pa}*R_a*R_r*p - 2.3283064365387e-10*L_s**2*L_{pr}*M_{sa}**2*p**3 + L_s**2*L_{pr}*R_a**2*p**3 + 394784.176043574*L_s**2*L_{pr}*R_a**2*p - L_s**2*M_{ra}**2*R_a*p**4 - 394784.176043574*L_s**2*M_{ra}**2*R_a*p**2 - 1.16415321826935e-10*L_s**2*M_{sa}**2*R_a*p**2 - 2.3283064365387e-10*L_s**2*M_{sa}**2*R_r*p**2 - 2.3283064365387e-10*L_s**2*M_{sa}**2*R_s*p**2 + L_s**2*R_a**2*R_r*p**2 + 394784.176043574*L_s**2*R_a**2*R_r + 2*L_s*L_{pa}**2*L_{pr}*R_s*p**4 - 1.5*L_s*L_{pa}**2*M_{sr}**2*p**5 - 592176.264065361*L_s*L_{pa}**2*M_{sr}**2*p**3 + 2*L_s*L_{pa}**2*R_r*R_s*p**3 - 3.0*L_s*L_{pa}*L_{pr}*M_{sa}**2*p**5 - 1184352.52813072*L_s*L_{pa}*L_{pr}*M_{sa}**2*p**3 + 4*L_s*L_{pa}*L_{pr}*R_a*R_s*p**3 - 2*L_s*L_{pa}*M_{ra}**2*R_s*p**4 + 3.0*L_s*L_{pa}*M_{ra}*M_{sa}*M_{sr}*p**5 + 1184352.52813072*L_s*L_{pa}*M_{ra}*M_{sa}*M_{sr}*p**3 - 3.0*L_s*L_{pa}*M_{sa}**2*R_r*p**4 - 1184352.52813072*L_s*L_{pa}*M_{sa}**2*R_r*p**2 - 2.3283064365387e-10*L_s*L_{pa}*M_{sa}**2*R_s*p**2 - 3.0*L_s*L_{pa}*M_{sr}**2*R_a*p**4 - 1184352.52813072*L_s*L_{pa}*M_{sr}**2*R_a*p**2 + 4*L_s*L_{pa}*R_a*R_r*R_s*p**2 - 3.0*L_s*L_{pr}*M_{sa}**2*R_a*p**4 - 1184352.52813072*L_s*L_{pr}*M_{sa}**2*R_a*p**2 + 2*L_s*L_{pr}*R_a**2*R_s*p**2 + 1.5*L_s*M_{ra}**2*M_{sa}**2*p**5 + 592176.264065361*L_s*M_{ra}**2*M_{sa}**2*p**3 - 2*L_s*M_{ra}**2*R_a*R_s*p**3 + 3.0*L_s*M_{ra}*M_{sa}*M_{sr}*R_a*p**4 + 1184352.52813072*L_s*M_{ra}*M_{sa}*M_{sr}*R_a*p**2 - 2.3283064365387e-10*L_s*M_{sa}**4*p**3 - 2.3283064365387e-10*L_s*M_{sa}**2*M_{sr}**2*p**3 - 3.0*L_s*M_{sa}**2*R_a*R_r*p**3 - 1184352.52813072*L_s*M_{sa}**2*R_a*R_r*p - 2.3283064365387e-10*L_s*M_{sa}**2*R_a*R_s*p - 1.5*L_s*M_{sr}**2*R_a**2*p**3 - 592176.264065361*L_s*M_{sr}**2*R_a**2*p + 2*L_s*R_a**2*R_r*R_s*p + L_{pa}**2*L_{pr}*R_s**2*p**3 - 1.5*L_{pa}**2*M_{sr}**2*R_s*p**4 + L_{pa}**2*R_r*R_s**2*p**2 - 3.0*L_{pa}*L_{pr}*M_{sa}**2*R_s*p**4 + 2*L_{pa}*L_{pr}*R_a*R_s**2*p**2 - L_{pa}*M_{ra}**2*R_s**2*p**3 + 3.0*L_{pa}*M_{ra}*M_{sa}*M_{sr}*R_s*p**4 + 2.25*L_{pa}*M_{sa}**2*M_{sr}**2*p**5 + 888264.396098042*L_{pa}*M_{sa}**2*M_{sr}**2*p**3 - 3.0*L_{pa}*M_{sa}**2*R_r*R_s*p**3 - 3.0*L_{pa}*M_{sr}**2*R_a*R_s*p**3 + 2*L_{pa}*R_a*R_r*R_s**2*p + 2.25*L_{pr}*M_{sa}**4*p**5 + 888264.396098042*L_{pr}*M_{sa}**4*p**3 - 3.0*L_{pr}*M_{sa}**2*R_a*R_s*p**3 + L_{pr}*R_a**2*R_s**2*p + 1.5*M_{ra}**2*M_{sa}**2*R_s*p**4 - M_{ra}**2*R_a*R_s**2*p**2 - 4.5*M_{ra}*M_{sa}**3*M_{sr}*p**5 - 1776528.79219608*M_{ra}*M_{sa}**3*M_{sr}*p**3 + 3.0*M_{ra}*M_{sa}*M_{sr}*R_a*R_s*p**3 + 2.25*M_{sa}**4*R_r*p**4 + 888264.396098042*M_{sa}**4*R_r*p**2 + 2.25*M_{sa}**2*M_{sr}**2*R_a*p**4 + 888264.396098042*M_{sa}**2*M_{sr}**2*R_a*p**2 - 3.0*M_{sa}**2*R_a*R_r*R_s*p**2 - 1.5*M_{sr}**2*R_a**2*R_s*p**2 + R_a**2*R_r*R_s**2)"
      ]
     },
     "metadata": {},
     "output_type": "display_data"
    },
    {
     "data": {
      "text/latex": [
       "$\\displaystyle \\frac{- 628.318530717959 L_{pa} L_{pr} M_{sa} R_{s} p^{2} + 628.318530717959 L_{pa} M_{ra} M_{sr} R_{s} p^{2} - 628.318530717959 L_{pa} M_{sa} R_{r} R_{s} p - 628.318530717959 L_{pr} M_{sa} R_{a} R_{s} p + 628.318530717959 M_{ra} M_{sr} R_{a} R_{s} p - 628.318530717959 M_{sa} R_{a} R_{r} R_{s}}{2.3283064365387 \\cdot 10^{-10} L_{s}^{4} R_{s} p^{2} - 1.16415321826935 \\cdot 10^{-10} L_{s}^{3} M_{sa}^{2} p^{3} + 2.3283064365387 \\cdot 10^{-10} L_{s}^{3} R_{s}^{2} p + L_{s}^{2} L_{pa}^{2} L_{pr} p^{5} + 394784.176043574 L_{s}^{2} L_{pa}^{2} L_{pr} p^{3} + L_{s}^{2} L_{pa}^{2} R_{r} p^{4} + 394784.176043574 L_{s}^{2} L_{pa}^{2} R_{r} p^{2} + 2 L_{s}^{2} L_{pa} L_{pr} R_{a} p^{4} + 789568.352087149 L_{s}^{2} L_{pa} L_{pr} R_{a} p^{2} - L_{s}^{2} L_{pa} M_{ra}^{2} p^{5} - 394784.176043574 L_{s}^{2} L_{pa} M_{ra}^{2} p^{3} - 1.16415321826935 \\cdot 10^{-10} L_{s}^{2} L_{pa} M_{sa}^{2} p^{3} + 2 L_{s}^{2} L_{pa} R_{a} R_{r} p^{3} + 789568.352087149 L_{s}^{2} L_{pa} R_{a} R_{r} p - 2.3283064365387 \\cdot 10^{-10} L_{s}^{2} L_{pr} M_{sa}^{2} p^{3} + L_{s}^{2} L_{pr} R_{a}^{2} p^{3} + 394784.176043574 L_{s}^{2} L_{pr} R_{a}^{2} p - L_{s}^{2} M_{ra}^{2} R_{a} p^{4} - 394784.176043574 L_{s}^{2} M_{ra}^{2} R_{a} p^{2} - 1.16415321826935 \\cdot 10^{-10} L_{s}^{2} M_{sa}^{2} R_{a} p^{2} - 2.3283064365387 \\cdot 10^{-10} L_{s}^{2} M_{sa}^{2} R_{r} p^{2} - 2.3283064365387 \\cdot 10^{-10} L_{s}^{2} M_{sa}^{2} R_{s} p^{2} + L_{s}^{2} R_{a}^{2} R_{r} p^{2} + 394784.176043574 L_{s}^{2} R_{a}^{2} R_{r} + 2 L_{s} L_{pa}^{2} L_{pr} R_{s} p^{4} - 1.5 L_{s} L_{pa}^{2} M_{sr}^{2} p^{5} - 592176.264065361 L_{s} L_{pa}^{2} M_{sr}^{2} p^{3} + 2 L_{s} L_{pa}^{2} R_{r} R_{s} p^{3} - 3.0 L_{s} L_{pa} L_{pr} M_{sa}^{2} p^{5} - 1184352.52813072 L_{s} L_{pa} L_{pr} M_{sa}^{2} p^{3} + 4 L_{s} L_{pa} L_{pr} R_{a} R_{s} p^{3} - 2 L_{s} L_{pa} M_{ra}^{2} R_{s} p^{4} + 3.0 L_{s} L_{pa} M_{ra} M_{sa} M_{sr} p^{5} + 1184352.52813072 L_{s} L_{pa} M_{ra} M_{sa} M_{sr} p^{3} - 3.0 L_{s} L_{pa} M_{sa}^{2} R_{r} p^{4} - 1184352.52813072 L_{s} L_{pa} M_{sa}^{2} R_{r} p^{2} - 2.3283064365387 \\cdot 10^{-10} L_{s} L_{pa} M_{sa}^{2} R_{s} p^{2} - 3.0 L_{s} L_{pa} M_{sr}^{2} R_{a} p^{4} - 1184352.52813072 L_{s} L_{pa} M_{sr}^{2} R_{a} p^{2} + 4 L_{s} L_{pa} R_{a} R_{r} R_{s} p^{2} - 3.0 L_{s} L_{pr} M_{sa}^{2} R_{a} p^{4} - 1184352.52813072 L_{s} L_{pr} M_{sa}^{2} R_{a} p^{2} + 2 L_{s} L_{pr} R_{a}^{2} R_{s} p^{2} + 1.5 L_{s} M_{ra}^{2} M_{sa}^{2} p^{5} + 592176.264065361 L_{s} M_{ra}^{2} M_{sa}^{2} p^{3} - 2 L_{s} M_{ra}^{2} R_{a} R_{s} p^{3} + 3.0 L_{s} M_{ra} M_{sa} M_{sr} R_{a} p^{4} + 1184352.52813072 L_{s} M_{ra} M_{sa} M_{sr} R_{a} p^{2} - 2.3283064365387 \\cdot 10^{-10} L_{s} M_{sa}^{4} p^{3} - 2.3283064365387 \\cdot 10^{-10} L_{s} M_{sa}^{2} M_{sr}^{2} p^{3} - 3.0 L_{s} M_{sa}^{2} R_{a} R_{r} p^{3} - 1184352.52813072 L_{s} M_{sa}^{2} R_{a} R_{r} p - 2.3283064365387 \\cdot 10^{-10} L_{s} M_{sa}^{2} R_{a} R_{s} p - 1.5 L_{s} M_{sr}^{2} R_{a}^{2} p^{3} - 592176.264065361 L_{s} M_{sr}^{2} R_{a}^{2} p + 2 L_{s} R_{a}^{2} R_{r} R_{s} p + L_{pa}^{2} L_{pr} R_{s}^{2} p^{3} - 1.5 L_{pa}^{2} M_{sr}^{2} R_{s} p^{4} + L_{pa}^{2} R_{r} R_{s}^{2} p^{2} - 3.0 L_{pa} L_{pr} M_{sa}^{2} R_{s} p^{4} + 2 L_{pa} L_{pr} R_{a} R_{s}^{2} p^{2} - L_{pa} M_{ra}^{2} R_{s}^{2} p^{3} + 3.0 L_{pa} M_{ra} M_{sa} M_{sr} R_{s} p^{4} + 2.25 L_{pa} M_{sa}^{2} M_{sr}^{2} p^{5} + 888264.396098042 L_{pa} M_{sa}^{2} M_{sr}^{2} p^{3} - 3.0 L_{pa} M_{sa}^{2} R_{r} R_{s} p^{3} - 3.0 L_{pa} M_{sr}^{2} R_{a} R_{s} p^{3} + 2 L_{pa} R_{a} R_{r} R_{s}^{2} p + 2.25 L_{pr} M_{sa}^{4} p^{5} + 888264.396098042 L_{pr} M_{sa}^{4} p^{3} - 3.0 L_{pr} M_{sa}^{2} R_{a} R_{s} p^{3} + L_{pr} R_{a}^{2} R_{s}^{2} p + 1.5 M_{ra}^{2} M_{sa}^{2} R_{s} p^{4} - M_{ra}^{2} R_{a} R_{s}^{2} p^{2} - 4.5 M_{ra} M_{sa}^{3} M_{sr} p^{5} - 1776528.79219608 M_{ra} M_{sa}^{3} M_{sr} p^{3} + 3.0 M_{ra} M_{sa} M_{sr} R_{a} R_{s} p^{3} + 2.25 M_{sa}^{4} R_{r} p^{4} + 888264.396098042 M_{sa}^{4} R_{r} p^{2} + 2.25 M_{sa}^{2} M_{sr}^{2} R_{a} p^{4} + 888264.396098042 M_{sa}^{2} M_{sr}^{2} R_{a} p^{2} - 3.0 M_{sa}^{2} R_{a} R_{r} R_{s} p^{2} - 1.5 M_{sr}^{2} R_{a}^{2} R_{s} p^{2} + R_{a}^{2} R_{r} R_{s}^{2}}$"
      ],
      "text/plain": [
       "(-628.318530717959*L_{pa}*L_{pr}*M_{sa}*R_s*p**2 + 628.318530717959*L_{pa}*M_{ra}*M_{sr}*R_s*p**2 - 628.318530717959*L_{pa}*M_{sa}*R_r*R_s*p - 628.318530717959*L_{pr}*M_{sa}*R_a*R_s*p + 628.318530717959*M_{ra}*M_{sr}*R_a*R_s*p - 628.318530717959*M_{sa}*R_a*R_r*R_s)/(2.3283064365387e-10*L_s**4*R_s*p**2 - 1.16415321826935e-10*L_s**3*M_{sa}**2*p**3 + 2.3283064365387e-10*L_s**3*R_s**2*p + L_s**2*L_{pa}**2*L_{pr}*p**5 + 394784.176043574*L_s**2*L_{pa}**2*L_{pr}*p**3 + L_s**2*L_{pa}**2*R_r*p**4 + 394784.176043574*L_s**2*L_{pa}**2*R_r*p**2 + 2*L_s**2*L_{pa}*L_{pr}*R_a*p**4 + 789568.352087149*L_s**2*L_{pa}*L_{pr}*R_a*p**2 - L_s**2*L_{pa}*M_{ra}**2*p**5 - 394784.176043574*L_s**2*L_{pa}*M_{ra}**2*p**3 - 1.16415321826935e-10*L_s**2*L_{pa}*M_{sa}**2*p**3 + 2*L_s**2*L_{pa}*R_a*R_r*p**3 + 789568.352087149*L_s**2*L_{pa}*R_a*R_r*p - 2.3283064365387e-10*L_s**2*L_{pr}*M_{sa}**2*p**3 + L_s**2*L_{pr}*R_a**2*p**3 + 394784.176043574*L_s**2*L_{pr}*R_a**2*p - L_s**2*M_{ra}**2*R_a*p**4 - 394784.176043574*L_s**2*M_{ra}**2*R_a*p**2 - 1.16415321826935e-10*L_s**2*M_{sa}**2*R_a*p**2 - 2.3283064365387e-10*L_s**2*M_{sa}**2*R_r*p**2 - 2.3283064365387e-10*L_s**2*M_{sa}**2*R_s*p**2 + L_s**2*R_a**2*R_r*p**2 + 394784.176043574*L_s**2*R_a**2*R_r + 2*L_s*L_{pa}**2*L_{pr}*R_s*p**4 - 1.5*L_s*L_{pa}**2*M_{sr}**2*p**5 - 592176.264065361*L_s*L_{pa}**2*M_{sr}**2*p**3 + 2*L_s*L_{pa}**2*R_r*R_s*p**3 - 3.0*L_s*L_{pa}*L_{pr}*M_{sa}**2*p**5 - 1184352.52813072*L_s*L_{pa}*L_{pr}*M_{sa}**2*p**3 + 4*L_s*L_{pa}*L_{pr}*R_a*R_s*p**3 - 2*L_s*L_{pa}*M_{ra}**2*R_s*p**4 + 3.0*L_s*L_{pa}*M_{ra}*M_{sa}*M_{sr}*p**5 + 1184352.52813072*L_s*L_{pa}*M_{ra}*M_{sa}*M_{sr}*p**3 - 3.0*L_s*L_{pa}*M_{sa}**2*R_r*p**4 - 1184352.52813072*L_s*L_{pa}*M_{sa}**2*R_r*p**2 - 2.3283064365387e-10*L_s*L_{pa}*M_{sa}**2*R_s*p**2 - 3.0*L_s*L_{pa}*M_{sr}**2*R_a*p**4 - 1184352.52813072*L_s*L_{pa}*M_{sr}**2*R_a*p**2 + 4*L_s*L_{pa}*R_a*R_r*R_s*p**2 - 3.0*L_s*L_{pr}*M_{sa}**2*R_a*p**4 - 1184352.52813072*L_s*L_{pr}*M_{sa}**2*R_a*p**2 + 2*L_s*L_{pr}*R_a**2*R_s*p**2 + 1.5*L_s*M_{ra}**2*M_{sa}**2*p**5 + 592176.264065361*L_s*M_{ra}**2*M_{sa}**2*p**3 - 2*L_s*M_{ra}**2*R_a*R_s*p**3 + 3.0*L_s*M_{ra}*M_{sa}*M_{sr}*R_a*p**4 + 1184352.52813072*L_s*M_{ra}*M_{sa}*M_{sr}*R_a*p**2 - 2.3283064365387e-10*L_s*M_{sa}**4*p**3 - 2.3283064365387e-10*L_s*M_{sa}**2*M_{sr}**2*p**3 - 3.0*L_s*M_{sa}**2*R_a*R_r*p**3 - 1184352.52813072*L_s*M_{sa}**2*R_a*R_r*p - 2.3283064365387e-10*L_s*M_{sa}**2*R_a*R_s*p - 1.5*L_s*M_{sr}**2*R_a**2*p**3 - 592176.264065361*L_s*M_{sr}**2*R_a**2*p + 2*L_s*R_a**2*R_r*R_s*p + L_{pa}**2*L_{pr}*R_s**2*p**3 - 1.5*L_{pa}**2*M_{sr}**2*R_s*p**4 + L_{pa}**2*R_r*R_s**2*p**2 - 3.0*L_{pa}*L_{pr}*M_{sa}**2*R_s*p**4 + 2*L_{pa}*L_{pr}*R_a*R_s**2*p**2 - L_{pa}*M_{ra}**2*R_s**2*p**3 + 3.0*L_{pa}*M_{ra}*M_{sa}*M_{sr}*R_s*p**4 + 2.25*L_{pa}*M_{sa}**2*M_{sr}**2*p**5 + 888264.396098042*L_{pa}*M_{sa}**2*M_{sr}**2*p**3 - 3.0*L_{pa}*M_{sa}**2*R_r*R_s*p**3 - 3.0*L_{pa}*M_{sr}**2*R_a*R_s*p**3 + 2*L_{pa}*R_a*R_r*R_s**2*p + 2.25*L_{pr}*M_{sa}**4*p**5 + 888264.396098042*L_{pr}*M_{sa}**4*p**3 - 3.0*L_{pr}*M_{sa}**2*R_a*R_s*p**3 + L_{pr}*R_a**2*R_s**2*p + 1.5*M_{ra}**2*M_{sa}**2*R_s*p**4 - M_{ra}**2*R_a*R_s**2*p**2 - 4.5*M_{ra}*M_{sa}**3*M_{sr}*p**5 - 1776528.79219608*M_{ra}*M_{sa}**3*M_{sr}*p**3 + 3.0*M_{ra}*M_{sa}*M_{sr}*R_a*R_s*p**3 + 2.25*M_{sa}**4*R_r*p**4 + 888264.396098042*M_{sa}**4*R_r*p**2 + 2.25*M_{sa}**2*M_{sr}**2*R_a*p**4 + 888264.396098042*M_{sa}**2*M_{sr}**2*R_a*p**2 - 3.0*M_{sa}**2*R_a*R_r*R_s*p**2 - 1.5*M_{sr}**2*R_a**2*R_s*p**2 + R_a**2*R_r*R_s**2)"
      ]
     },
     "metadata": {},
     "output_type": "display_data"
    },
    {
     "data": {
      "text/latex": [
       "$\\displaystyle \\frac{- L_{s} L_{pa} L_{pr} M_{sa} p^{4} - 394784.176043574 L_{s} L_{pa} L_{pr} M_{sa} p^{2} - L_{s} L_{pa} M_{sa} R_{r} p^{3} - 394784.176043574 L_{s} L_{pa} M_{sa} R_{r} p - L_{s} L_{pr} M_{sa} R_{a} p^{3} - 394784.176043574 L_{s} L_{pr} M_{sa} R_{a} p + L_{s} M_{ra}^{2} M_{sa} p^{4} + 394784.176043574 L_{s} M_{ra}^{2} M_{sa} p^{2} - L_{s} M_{sa} R_{a} R_{r} p^{2} - 394784.176043574 L_{s} M_{sa} R_{a} R_{r} - L_{pa} L_{pr} M_{sa} R_{s} p^{3} + 1.5 L_{pa} M_{sa} M_{sr}^{2} p^{4} + 592176.264065361 L_{pa} M_{sa} M_{sr}^{2} p^{2} - L_{pa} M_{sa} R_{r} R_{s} p^{2} + 1.5 L_{pr} M_{sa}^{3} p^{4} + 592176.264065361 L_{pr} M_{sa}^{3} p^{2} - L_{pr} M_{sa} R_{a} R_{s} p^{2} + M_{ra}^{2} M_{sa} R_{s} p^{3} - 3.0 M_{ra} M_{sa}^{2} M_{sr} p^{4} - 1184352.52813072 M_{ra} M_{sa}^{2} M_{sr} p^{2} + 1.5 M_{sa}^{3} R_{r} p^{3} + 592176.264065361 M_{sa}^{3} R_{r} p + 1.5 M_{sa} M_{sr}^{2} R_{a} p^{3} + 592176.264065361 M_{sa} M_{sr}^{2} R_{a} p - M_{sa} R_{a} R_{r} R_{s} p}{2.3283064365387 \\cdot 10^{-10} L_{s}^{4} R_{s} p^{2} - 1.16415321826935 \\cdot 10^{-10} L_{s}^{3} M_{sa}^{2} p^{3} + 2.3283064365387 \\cdot 10^{-10} L_{s}^{3} R_{s}^{2} p + L_{s}^{2} L_{pa}^{2} L_{pr} p^{5} + 394784.176043574 L_{s}^{2} L_{pa}^{2} L_{pr} p^{3} + L_{s}^{2} L_{pa}^{2} R_{r} p^{4} + 394784.176043574 L_{s}^{2} L_{pa}^{2} R_{r} p^{2} + 2 L_{s}^{2} L_{pa} L_{pr} R_{a} p^{4} + 789568.352087149 L_{s}^{2} L_{pa} L_{pr} R_{a} p^{2} - L_{s}^{2} L_{pa} M_{ra}^{2} p^{5} - 394784.176043574 L_{s}^{2} L_{pa} M_{ra}^{2} p^{3} - 1.16415321826935 \\cdot 10^{-10} L_{s}^{2} L_{pa} M_{sa}^{2} p^{3} + 2 L_{s}^{2} L_{pa} R_{a} R_{r} p^{3} + 789568.352087149 L_{s}^{2} L_{pa} R_{a} R_{r} p - 2.3283064365387 \\cdot 10^{-10} L_{s}^{2} L_{pr} M_{sa}^{2} p^{3} + L_{s}^{2} L_{pr} R_{a}^{2} p^{3} + 394784.176043574 L_{s}^{2} L_{pr} R_{a}^{2} p - L_{s}^{2} M_{ra}^{2} R_{a} p^{4} - 394784.176043574 L_{s}^{2} M_{ra}^{2} R_{a} p^{2} - 1.16415321826935 \\cdot 10^{-10} L_{s}^{2} M_{sa}^{2} R_{a} p^{2} - 2.3283064365387 \\cdot 10^{-10} L_{s}^{2} M_{sa}^{2} R_{r} p^{2} - 2.3283064365387 \\cdot 10^{-10} L_{s}^{2} M_{sa}^{2} R_{s} p^{2} + L_{s}^{2} R_{a}^{2} R_{r} p^{2} + 394784.176043574 L_{s}^{2} R_{a}^{2} R_{r} + 2 L_{s} L_{pa}^{2} L_{pr} R_{s} p^{4} - 1.5 L_{s} L_{pa}^{2} M_{sr}^{2} p^{5} - 592176.264065361 L_{s} L_{pa}^{2} M_{sr}^{2} p^{3} + 2 L_{s} L_{pa}^{2} R_{r} R_{s} p^{3} - 3.0 L_{s} L_{pa} L_{pr} M_{sa}^{2} p^{5} - 1184352.52813072 L_{s} L_{pa} L_{pr} M_{sa}^{2} p^{3} + 4 L_{s} L_{pa} L_{pr} R_{a} R_{s} p^{3} - 2 L_{s} L_{pa} M_{ra}^{2} R_{s} p^{4} + 3.0 L_{s} L_{pa} M_{ra} M_{sa} M_{sr} p^{5} + 1184352.52813072 L_{s} L_{pa} M_{ra} M_{sa} M_{sr} p^{3} - 3.0 L_{s} L_{pa} M_{sa}^{2} R_{r} p^{4} - 1184352.52813072 L_{s} L_{pa} M_{sa}^{2} R_{r} p^{2} - 2.3283064365387 \\cdot 10^{-10} L_{s} L_{pa} M_{sa}^{2} R_{s} p^{2} - 3.0 L_{s} L_{pa} M_{sr}^{2} R_{a} p^{4} - 1184352.52813072 L_{s} L_{pa} M_{sr}^{2} R_{a} p^{2} + 4 L_{s} L_{pa} R_{a} R_{r} R_{s} p^{2} - 3.0 L_{s} L_{pr} M_{sa}^{2} R_{a} p^{4} - 1184352.52813072 L_{s} L_{pr} M_{sa}^{2} R_{a} p^{2} + 2 L_{s} L_{pr} R_{a}^{2} R_{s} p^{2} + 1.5 L_{s} M_{ra}^{2} M_{sa}^{2} p^{5} + 592176.264065361 L_{s} M_{ra}^{2} M_{sa}^{2} p^{3} - 2 L_{s} M_{ra}^{2} R_{a} R_{s} p^{3} + 3.0 L_{s} M_{ra} M_{sa} M_{sr} R_{a} p^{4} + 1184352.52813072 L_{s} M_{ra} M_{sa} M_{sr} R_{a} p^{2} - 2.3283064365387 \\cdot 10^{-10} L_{s} M_{sa}^{4} p^{3} - 2.3283064365387 \\cdot 10^{-10} L_{s} M_{sa}^{2} M_{sr}^{2} p^{3} - 3.0 L_{s} M_{sa}^{2} R_{a} R_{r} p^{3} - 1184352.52813072 L_{s} M_{sa}^{2} R_{a} R_{r} p - 2.3283064365387 \\cdot 10^{-10} L_{s} M_{sa}^{2} R_{a} R_{s} p - 1.5 L_{s} M_{sr}^{2} R_{a}^{2} p^{3} - 592176.264065361 L_{s} M_{sr}^{2} R_{a}^{2} p + 2 L_{s} R_{a}^{2} R_{r} R_{s} p + L_{pa}^{2} L_{pr} R_{s}^{2} p^{3} - 1.5 L_{pa}^{2} M_{sr}^{2} R_{s} p^{4} + L_{pa}^{2} R_{r} R_{s}^{2} p^{2} - 3.0 L_{pa} L_{pr} M_{sa}^{2} R_{s} p^{4} + 2 L_{pa} L_{pr} R_{a} R_{s}^{2} p^{2} - L_{pa} M_{ra}^{2} R_{s}^{2} p^{3} + 3.0 L_{pa} M_{ra} M_{sa} M_{sr} R_{s} p^{4} + 2.25 L_{pa} M_{sa}^{2} M_{sr}^{2} p^{5} + 888264.396098042 L_{pa} M_{sa}^{2} M_{sr}^{2} p^{3} - 3.0 L_{pa} M_{sa}^{2} R_{r} R_{s} p^{3} - 3.0 L_{pa} M_{sr}^{2} R_{a} R_{s} p^{3} + 2 L_{pa} R_{a} R_{r} R_{s}^{2} p + 2.25 L_{pr} M_{sa}^{4} p^{5} + 888264.396098042 L_{pr} M_{sa}^{4} p^{3} - 3.0 L_{pr} M_{sa}^{2} R_{a} R_{s} p^{3} + L_{pr} R_{a}^{2} R_{s}^{2} p + 1.5 M_{ra}^{2} M_{sa}^{2} R_{s} p^{4} - M_{ra}^{2} R_{a} R_{s}^{2} p^{2} - 4.5 M_{ra} M_{sa}^{3} M_{sr} p^{5} - 1776528.79219608 M_{ra} M_{sa}^{3} M_{sr} p^{3} + 3.0 M_{ra} M_{sa} M_{sr} R_{a} R_{s} p^{3} + 2.25 M_{sa}^{4} R_{r} p^{4} + 888264.396098042 M_{sa}^{4} R_{r} p^{2} + 2.25 M_{sa}^{2} M_{sr}^{2} R_{a} p^{4} + 888264.396098042 M_{sa}^{2} M_{sr}^{2} R_{a} p^{2} - 3.0 M_{sa}^{2} R_{a} R_{r} R_{s} p^{2} - 1.5 M_{sr}^{2} R_{a}^{2} R_{s} p^{2} + R_{a}^{2} R_{r} R_{s}^{2}}$"
      ],
      "text/plain": [
       "(-L_s*L_{pa}*L_{pr}*M_{sa}*p**4 - 394784.176043574*L_s*L_{pa}*L_{pr}*M_{sa}*p**2 - L_s*L_{pa}*M_{sa}*R_r*p**3 - 394784.176043574*L_s*L_{pa}*M_{sa}*R_r*p - L_s*L_{pr}*M_{sa}*R_a*p**3 - 394784.176043574*L_s*L_{pr}*M_{sa}*R_a*p + L_s*M_{ra}**2*M_{sa}*p**4 + 394784.176043574*L_s*M_{ra}**2*M_{sa}*p**2 - L_s*M_{sa}*R_a*R_r*p**2 - 394784.176043574*L_s*M_{sa}*R_a*R_r - L_{pa}*L_{pr}*M_{sa}*R_s*p**3 + 1.5*L_{pa}*M_{sa}*M_{sr}**2*p**4 + 592176.264065361*L_{pa}*M_{sa}*M_{sr}**2*p**2 - L_{pa}*M_{sa}*R_r*R_s*p**2 + 1.5*L_{pr}*M_{sa}**3*p**4 + 592176.264065361*L_{pr}*M_{sa}**3*p**2 - L_{pr}*M_{sa}*R_a*R_s*p**2 + M_{ra}**2*M_{sa}*R_s*p**3 - 3.0*M_{ra}*M_{sa}**2*M_{sr}*p**4 - 1184352.52813072*M_{ra}*M_{sa}**2*M_{sr}*p**2 + 1.5*M_{sa}**3*R_r*p**3 + 592176.264065361*M_{sa}**3*R_r*p + 1.5*M_{sa}*M_{sr}**2*R_a*p**3 + 592176.264065361*M_{sa}*M_{sr}**2*R_a*p - M_{sa}*R_a*R_r*R_s*p)/(2.3283064365387e-10*L_s**4*R_s*p**2 - 1.16415321826935e-10*L_s**3*M_{sa}**2*p**3 + 2.3283064365387e-10*L_s**3*R_s**2*p + L_s**2*L_{pa}**2*L_{pr}*p**5 + 394784.176043574*L_s**2*L_{pa}**2*L_{pr}*p**3 + L_s**2*L_{pa}**2*R_r*p**4 + 394784.176043574*L_s**2*L_{pa}**2*R_r*p**2 + 2*L_s**2*L_{pa}*L_{pr}*R_a*p**4 + 789568.352087149*L_s**2*L_{pa}*L_{pr}*R_a*p**2 - L_s**2*L_{pa}*M_{ra}**2*p**5 - 394784.176043574*L_s**2*L_{pa}*M_{ra}**2*p**3 - 1.16415321826935e-10*L_s**2*L_{pa}*M_{sa}**2*p**3 + 2*L_s**2*L_{pa}*R_a*R_r*p**3 + 789568.352087149*L_s**2*L_{pa}*R_a*R_r*p - 2.3283064365387e-10*L_s**2*L_{pr}*M_{sa}**2*p**3 + L_s**2*L_{pr}*R_a**2*p**3 + 394784.176043574*L_s**2*L_{pr}*R_a**2*p - L_s**2*M_{ra}**2*R_a*p**4 - 394784.176043574*L_s**2*M_{ra}**2*R_a*p**2 - 1.16415321826935e-10*L_s**2*M_{sa}**2*R_a*p**2 - 2.3283064365387e-10*L_s**2*M_{sa}**2*R_r*p**2 - 2.3283064365387e-10*L_s**2*M_{sa}**2*R_s*p**2 + L_s**2*R_a**2*R_r*p**2 + 394784.176043574*L_s**2*R_a**2*R_r + 2*L_s*L_{pa}**2*L_{pr}*R_s*p**4 - 1.5*L_s*L_{pa}**2*M_{sr}**2*p**5 - 592176.264065361*L_s*L_{pa}**2*M_{sr}**2*p**3 + 2*L_s*L_{pa}**2*R_r*R_s*p**3 - 3.0*L_s*L_{pa}*L_{pr}*M_{sa}**2*p**5 - 1184352.52813072*L_s*L_{pa}*L_{pr}*M_{sa}**2*p**3 + 4*L_s*L_{pa}*L_{pr}*R_a*R_s*p**3 - 2*L_s*L_{pa}*M_{ra}**2*R_s*p**4 + 3.0*L_s*L_{pa}*M_{ra}*M_{sa}*M_{sr}*p**5 + 1184352.52813072*L_s*L_{pa}*M_{ra}*M_{sa}*M_{sr}*p**3 - 3.0*L_s*L_{pa}*M_{sa}**2*R_r*p**4 - 1184352.52813072*L_s*L_{pa}*M_{sa}**2*R_r*p**2 - 2.3283064365387e-10*L_s*L_{pa}*M_{sa}**2*R_s*p**2 - 3.0*L_s*L_{pa}*M_{sr}**2*R_a*p**4 - 1184352.52813072*L_s*L_{pa}*M_{sr}**2*R_a*p**2 + 4*L_s*L_{pa}*R_a*R_r*R_s*p**2 - 3.0*L_s*L_{pr}*M_{sa}**2*R_a*p**4 - 1184352.52813072*L_s*L_{pr}*M_{sa}**2*R_a*p**2 + 2*L_s*L_{pr}*R_a**2*R_s*p**2 + 1.5*L_s*M_{ra}**2*M_{sa}**2*p**5 + 592176.264065361*L_s*M_{ra}**2*M_{sa}**2*p**3 - 2*L_s*M_{ra}**2*R_a*R_s*p**3 + 3.0*L_s*M_{ra}*M_{sa}*M_{sr}*R_a*p**4 + 1184352.52813072*L_s*M_{ra}*M_{sa}*M_{sr}*R_a*p**2 - 2.3283064365387e-10*L_s*M_{sa}**4*p**3 - 2.3283064365387e-10*L_s*M_{sa}**2*M_{sr}**2*p**3 - 3.0*L_s*M_{sa}**2*R_a*R_r*p**3 - 1184352.52813072*L_s*M_{sa}**2*R_a*R_r*p - 2.3283064365387e-10*L_s*M_{sa}**2*R_a*R_s*p - 1.5*L_s*M_{sr}**2*R_a**2*p**3 - 592176.264065361*L_s*M_{sr}**2*R_a**2*p + 2*L_s*R_a**2*R_r*R_s*p + L_{pa}**2*L_{pr}*R_s**2*p**3 - 1.5*L_{pa}**2*M_{sr}**2*R_s*p**4 + L_{pa}**2*R_r*R_s**2*p**2 - 3.0*L_{pa}*L_{pr}*M_{sa}**2*R_s*p**4 + 2*L_{pa}*L_{pr}*R_a*R_s**2*p**2 - L_{pa}*M_{ra}**2*R_s**2*p**3 + 3.0*L_{pa}*M_{ra}*M_{sa}*M_{sr}*R_s*p**4 + 2.25*L_{pa}*M_{sa}**2*M_{sr}**2*p**5 + 888264.396098042*L_{pa}*M_{sa}**2*M_{sr}**2*p**3 - 3.0*L_{pa}*M_{sa}**2*R_r*R_s*p**3 - 3.0*L_{pa}*M_{sr}**2*R_a*R_s*p**3 + 2*L_{pa}*R_a*R_r*R_s**2*p + 2.25*L_{pr}*M_{sa}**4*p**5 + 888264.396098042*L_{pr}*M_{sa}**4*p**3 - 3.0*L_{pr}*M_{sa}**2*R_a*R_s*p**3 + L_{pr}*R_a**2*R_s**2*p + 1.5*M_{ra}**2*M_{sa}**2*R_s*p**4 - M_{ra}**2*R_a*R_s**2*p**2 - 4.5*M_{ra}*M_{sa}**3*M_{sr}*p**5 - 1776528.79219608*M_{ra}*M_{sa}**3*M_{sr}*p**3 + 3.0*M_{ra}*M_{sa}*M_{sr}*R_a*R_s*p**3 + 2.25*M_{sa}**4*R_r*p**4 + 888264.396098042*M_{sa}**4*R_r*p**2 + 2.25*M_{sa}**2*M_{sr}**2*R_a*p**4 + 888264.396098042*M_{sa}**2*M_{sr}**2*R_a*p**2 - 3.0*M_{sa}**2*R_a*R_r*R_s*p**2 - 1.5*M_{sr}**2*R_a**2*R_s*p**2 + R_a**2*R_r*R_s**2)"
      ]
     },
     "metadata": {},
     "output_type": "display_data"
    }
   ],
   "source": [
    "detM = M_p.det(method = 'berkowitz').expand()\n",
    "print(f\"Déterminant de M(p) pour p=0: \")\n",
    "display(detM)\n",
    "\n",
    "# Calcul de la matrice des cofacteurs pour p=0\n",
    " \n",
    "# Calcul de l'inverse de M(p)\n",
    "M_inv_p0=np.zeros_like(M_p)\n",
    "for i in range(5):\n",
    "    for j in range(5):\n",
    "        M_inv_p0[i,j] = M_p.cofactor(i, j, method='berkowitz').expand()/detM \n",
    "\n",
    "# Extraction des fonctions de transfert\n",
    "H_Sdd_p0 = M_inv_p0[0, 0]\n",
    "H_Sdq_p0 = M_inv_p0[0, 1]\n",
    "H_Sqd_p0 = M_inv_p0[1, 0]\n",
    "H_Sqq_p0 = M_inv_p0[1, 1]\n",
    "H_Rd_p0 = M_inv_p0[2, 0]\n",
    "H_Rq_p0 = M_inv_p0[2, 1]\n",
    "H_Add_p0 = M_inv_p0[3, 0]\n",
    "H_Adq_p0 = M_inv_p0[3, 1]\n",
    "H_Aqd_p0 = M_inv_p0[4, 0]\n",
    "H_Aqq_p0 = M_inv_p0[4, 1]\n",
    "\n",
    "print(\"Fonctions de transfert:\")\n",
    "\n",
    "display(H_Sdd_p0)\n",
    "display(H_Sdq_p0)\n",
    "display(H_Sqd_p0)\n",
    "display(H_Sqq_p0)\n",
    "display(H_Rd_p0)\n",
    "display(H_Rq_p0)\n",
    "display(H_Add_p0)\n",
    "display(H_Adq_p0)\n",
    "display(H_Aqq_p0)\n",
    "\n",
    "\n",
    "\n",
    "\n"
   ]
  },
  {
   "cell_type": "code",
   "execution_count": 7,
   "metadata": {},
   "outputs": [
    {
     "data": {
      "text/latex": [
       "$\\displaystyle 2.3283064365387 \\cdot 10^{-10} L_{s}^{4} R_{s} p^{2} - 1.16415321826935 \\cdot 10^{-10} L_{s}^{3} M_{sa}^{2} p^{3} + 2.3283064365387 \\cdot 10^{-10} L_{s}^{3} R_{s}^{2} p + L_{s}^{2} L_{pa}^{2} L_{pr} p^{5} + 394784.176043574 L_{s}^{2} L_{pa}^{2} L_{pr} p^{3} + L_{s}^{2} L_{pa}^{2} R_{r} p^{4} + 394784.176043574 L_{s}^{2} L_{pa}^{2} R_{r} p^{2} + 2 L_{s}^{2} L_{pa} L_{pr} R_{a} p^{4} + 789568.352087149 L_{s}^{2} L_{pa} L_{pr} R_{a} p^{2} - L_{s}^{2} L_{pa} M_{ra}^{2} p^{5} - 394784.176043574 L_{s}^{2} L_{pa} M_{ra}^{2} p^{3} - 1.16415321826935 \\cdot 10^{-10} L_{s}^{2} L_{pa} M_{sa}^{2} p^{3} + 2 L_{s}^{2} L_{pa} R_{a} R_{r} p^{3} + 789568.352087149 L_{s}^{2} L_{pa} R_{a} R_{r} p - 2.3283064365387 \\cdot 10^{-10} L_{s}^{2} L_{pr} M_{sa}^{2} p^{3} + L_{s}^{2} L_{pr} R_{a}^{2} p^{3} + 394784.176043574 L_{s}^{2} L_{pr} R_{a}^{2} p - L_{s}^{2} M_{ra}^{2} R_{a} p^{4} - 394784.176043574 L_{s}^{2} M_{ra}^{2} R_{a} p^{2} - 1.16415321826935 \\cdot 10^{-10} L_{s}^{2} M_{sa}^{2} R_{a} p^{2} - 2.3283064365387 \\cdot 10^{-10} L_{s}^{2} M_{sa}^{2} R_{r} p^{2} - 2.3283064365387 \\cdot 10^{-10} L_{s}^{2} M_{sa}^{2} R_{s} p^{2} + L_{s}^{2} R_{a}^{2} R_{r} p^{2} + 394784.176043574 L_{s}^{2} R_{a}^{2} R_{r} + 2 L_{s} L_{pa}^{2} L_{pr} R_{s} p^{4} - 1.5 L_{s} L_{pa}^{2} M_{sr}^{2} p^{5} - 592176.264065361 L_{s} L_{pa}^{2} M_{sr}^{2} p^{3} + 2 L_{s} L_{pa}^{2} R_{r} R_{s} p^{3} - 3.0 L_{s} L_{pa} L_{pr} M_{sa}^{2} p^{5} - 1184352.52813072 L_{s} L_{pa} L_{pr} M_{sa}^{2} p^{3} + 4 L_{s} L_{pa} L_{pr} R_{a} R_{s} p^{3} - 2 L_{s} L_{pa} M_{ra}^{2} R_{s} p^{4} + 3.0 L_{s} L_{pa} M_{ra} M_{sa} M_{sr} p^{5} + 1184352.52813072 L_{s} L_{pa} M_{ra} M_{sa} M_{sr} p^{3} - 3.0 L_{s} L_{pa} M_{sa}^{2} R_{r} p^{4} - 1184352.52813072 L_{s} L_{pa} M_{sa}^{2} R_{r} p^{2} - 2.3283064365387 \\cdot 10^{-10} L_{s} L_{pa} M_{sa}^{2} R_{s} p^{2} - 3.0 L_{s} L_{pa} M_{sr}^{2} R_{a} p^{4} - 1184352.52813072 L_{s} L_{pa} M_{sr}^{2} R_{a} p^{2} + 4 L_{s} L_{pa} R_{a} R_{r} R_{s} p^{2} - 3.0 L_{s} L_{pr} M_{sa}^{2} R_{a} p^{4} - 1184352.52813072 L_{s} L_{pr} M_{sa}^{2} R_{a} p^{2} + 2 L_{s} L_{pr} R_{a}^{2} R_{s} p^{2} + 1.5 L_{s} M_{ra}^{2} M_{sa}^{2} p^{5} + 592176.264065361 L_{s} M_{ra}^{2} M_{sa}^{2} p^{3} - 2 L_{s} M_{ra}^{2} R_{a} R_{s} p^{3} + 3.0 L_{s} M_{ra} M_{sa} M_{sr} R_{a} p^{4} + 1184352.52813072 L_{s} M_{ra} M_{sa} M_{sr} R_{a} p^{2} - 2.3283064365387 \\cdot 10^{-10} L_{s} M_{sa}^{4} p^{3} - 2.3283064365387 \\cdot 10^{-10} L_{s} M_{sa}^{2} M_{sr}^{2} p^{3} - 3.0 L_{s} M_{sa}^{2} R_{a} R_{r} p^{3} - 1184352.52813072 L_{s} M_{sa}^{2} R_{a} R_{r} p - 2.3283064365387 \\cdot 10^{-10} L_{s} M_{sa}^{2} R_{a} R_{s} p - 1.5 L_{s} M_{sr}^{2} R_{a}^{2} p^{3} - 592176.264065361 L_{s} M_{sr}^{2} R_{a}^{2} p + 2 L_{s} R_{a}^{2} R_{r} R_{s} p + L_{pa}^{2} L_{pr} R_{s}^{2} p^{3} - 1.5 L_{pa}^{2} M_{sr}^{2} R_{s} p^{4} + L_{pa}^{2} R_{r} R_{s}^{2} p^{2} - 3.0 L_{pa} L_{pr} M_{sa}^{2} R_{s} p^{4} + 2 L_{pa} L_{pr} R_{a} R_{s}^{2} p^{2} - L_{pa} M_{ra}^{2} R_{s}^{2} p^{3} + 3.0 L_{pa} M_{ra} M_{sa} M_{sr} R_{s} p^{4} + 2.25 L_{pa} M_{sa}^{2} M_{sr}^{2} p^{5} + 888264.396098042 L_{pa} M_{sa}^{2} M_{sr}^{2} p^{3} - 3.0 L_{pa} M_{sa}^{2} R_{r} R_{s} p^{3} - 3.0 L_{pa} M_{sr}^{2} R_{a} R_{s} p^{3} + 2 L_{pa} R_{a} R_{r} R_{s}^{2} p + 2.25 L_{pr} M_{sa}^{4} p^{5} + 888264.396098042 L_{pr} M_{sa}^{4} p^{3} - 3.0 L_{pr} M_{sa}^{2} R_{a} R_{s} p^{3} + L_{pr} R_{a}^{2} R_{s}^{2} p + 1.5 M_{ra}^{2} M_{sa}^{2} R_{s} p^{4} - M_{ra}^{2} R_{a} R_{s}^{2} p^{2} - 4.5 M_{ra} M_{sa}^{3} M_{sr} p^{5} - 1776528.79219608 M_{ra} M_{sa}^{3} M_{sr} p^{3} + 3.0 M_{ra} M_{sa} M_{sr} R_{a} R_{s} p^{3} + 2.25 M_{sa}^{4} R_{r} p^{4} + 888264.396098042 M_{sa}^{4} R_{r} p^{2} + 2.25 M_{sa}^{2} M_{sr}^{2} R_{a} p^{4} + 888264.396098042 M_{sa}^{2} M_{sr}^{2} R_{a} p^{2} - 3.0 M_{sa}^{2} R_{a} R_{r} R_{s} p^{2} - 1.5 M_{sr}^{2} R_{a}^{2} R_{s} p^{2} + R_{a}^{2} R_{r} R_{s}^{2}$"
      ],
      "text/plain": [
       "2.3283064365387e-10*L_s**4*R_s*p**2 - 1.16415321826935e-10*L_s**3*M_{sa}**2*p**3 + 2.3283064365387e-10*L_s**3*R_s**2*p + L_s**2*L_{pa}**2*L_{pr}*p**5 + 394784.176043574*L_s**2*L_{pa}**2*L_{pr}*p**3 + L_s**2*L_{pa}**2*R_r*p**4 + 394784.176043574*L_s**2*L_{pa}**2*R_r*p**2 + 2*L_s**2*L_{pa}*L_{pr}*R_a*p**4 + 789568.352087149*L_s**2*L_{pa}*L_{pr}*R_a*p**2 - L_s**2*L_{pa}*M_{ra}**2*p**5 - 394784.176043574*L_s**2*L_{pa}*M_{ra}**2*p**3 - 1.16415321826935e-10*L_s**2*L_{pa}*M_{sa}**2*p**3 + 2*L_s**2*L_{pa}*R_a*R_r*p**3 + 789568.352087149*L_s**2*L_{pa}*R_a*R_r*p - 2.3283064365387e-10*L_s**2*L_{pr}*M_{sa}**2*p**3 + L_s**2*L_{pr}*R_a**2*p**3 + 394784.176043574*L_s**2*L_{pr}*R_a**2*p - L_s**2*M_{ra}**2*R_a*p**4 - 394784.176043574*L_s**2*M_{ra}**2*R_a*p**2 - 1.16415321826935e-10*L_s**2*M_{sa}**2*R_a*p**2 - 2.3283064365387e-10*L_s**2*M_{sa}**2*R_r*p**2 - 2.3283064365387e-10*L_s**2*M_{sa}**2*R_s*p**2 + L_s**2*R_a**2*R_r*p**2 + 394784.176043574*L_s**2*R_a**2*R_r + 2*L_s*L_{pa}**2*L_{pr}*R_s*p**4 - 1.5*L_s*L_{pa}**2*M_{sr}**2*p**5 - 592176.264065361*L_s*L_{pa}**2*M_{sr}**2*p**3 + 2*L_s*L_{pa}**2*R_r*R_s*p**3 - 3.0*L_s*L_{pa}*L_{pr}*M_{sa}**2*p**5 - 1184352.52813072*L_s*L_{pa}*L_{pr}*M_{sa}**2*p**3 + 4*L_s*L_{pa}*L_{pr}*R_a*R_s*p**3 - 2*L_s*L_{pa}*M_{ra}**2*R_s*p**4 + 3.0*L_s*L_{pa}*M_{ra}*M_{sa}*M_{sr}*p**5 + 1184352.52813072*L_s*L_{pa}*M_{ra}*M_{sa}*M_{sr}*p**3 - 3.0*L_s*L_{pa}*M_{sa}**2*R_r*p**4 - 1184352.52813072*L_s*L_{pa}*M_{sa}**2*R_r*p**2 - 2.3283064365387e-10*L_s*L_{pa}*M_{sa}**2*R_s*p**2 - 3.0*L_s*L_{pa}*M_{sr}**2*R_a*p**4 - 1184352.52813072*L_s*L_{pa}*M_{sr}**2*R_a*p**2 + 4*L_s*L_{pa}*R_a*R_r*R_s*p**2 - 3.0*L_s*L_{pr}*M_{sa}**2*R_a*p**4 - 1184352.52813072*L_s*L_{pr}*M_{sa}**2*R_a*p**2 + 2*L_s*L_{pr}*R_a**2*R_s*p**2 + 1.5*L_s*M_{ra}**2*M_{sa}**2*p**5 + 592176.264065361*L_s*M_{ra}**2*M_{sa}**2*p**3 - 2*L_s*M_{ra}**2*R_a*R_s*p**3 + 3.0*L_s*M_{ra}*M_{sa}*M_{sr}*R_a*p**4 + 1184352.52813072*L_s*M_{ra}*M_{sa}*M_{sr}*R_a*p**2 - 2.3283064365387e-10*L_s*M_{sa}**4*p**3 - 2.3283064365387e-10*L_s*M_{sa}**2*M_{sr}**2*p**3 - 3.0*L_s*M_{sa}**2*R_a*R_r*p**3 - 1184352.52813072*L_s*M_{sa}**2*R_a*R_r*p - 2.3283064365387e-10*L_s*M_{sa}**2*R_a*R_s*p - 1.5*L_s*M_{sr}**2*R_a**2*p**3 - 592176.264065361*L_s*M_{sr}**2*R_a**2*p + 2*L_s*R_a**2*R_r*R_s*p + L_{pa}**2*L_{pr}*R_s**2*p**3 - 1.5*L_{pa}**2*M_{sr}**2*R_s*p**4 + L_{pa}**2*R_r*R_s**2*p**2 - 3.0*L_{pa}*L_{pr}*M_{sa}**2*R_s*p**4 + 2*L_{pa}*L_{pr}*R_a*R_s**2*p**2 - L_{pa}*M_{ra}**2*R_s**2*p**3 + 3.0*L_{pa}*M_{ra}*M_{sa}*M_{sr}*R_s*p**4 + 2.25*L_{pa}*M_{sa}**2*M_{sr}**2*p**5 + 888264.396098042*L_{pa}*M_{sa}**2*M_{sr}**2*p**3 - 3.0*L_{pa}*M_{sa}**2*R_r*R_s*p**3 - 3.0*L_{pa}*M_{sr}**2*R_a*R_s*p**3 + 2*L_{pa}*R_a*R_r*R_s**2*p + 2.25*L_{pr}*M_{sa}**4*p**5 + 888264.396098042*L_{pr}*M_{sa}**4*p**3 - 3.0*L_{pr}*M_{sa}**2*R_a*R_s*p**3 + L_{pr}*R_a**2*R_s**2*p + 1.5*M_{ra}**2*M_{sa}**2*R_s*p**4 - M_{ra}**2*R_a*R_s**2*p**2 - 4.5*M_{ra}*M_{sa}**3*M_{sr}*p**5 - 1776528.79219608*M_{ra}*M_{sa}**3*M_{sr}*p**3 + 3.0*M_{ra}*M_{sa}*M_{sr}*R_a*R_s*p**3 + 2.25*M_{sa}**4*R_r*p**4 + 888264.396098042*M_{sa}**4*R_r*p**2 + 2.25*M_{sa}**2*M_{sr}**2*R_a*p**4 + 888264.396098042*M_{sa}**2*M_{sr}**2*R_a*p**2 - 3.0*M_{sa}**2*R_a*R_r*R_s*p**2 - 1.5*M_{sr}**2*R_a**2*R_s*p**2 + R_a**2*R_r*R_s**2"
      ]
     },
     "execution_count": 7,
     "metadata": {},
     "output_type": "execute_result"
    }
   ],
   "source": [
    "detM"
   ]
  },
  {
   "cell_type": "markdown",
   "metadata": {},
   "source": [
    "3. Coefficients du polynôme dénominateur (du plus haut degré au plus bas):"
   ]
  },
  {
   "cell_type": "code",
   "execution_count": 8,
   "metadata": {},
   "outputs": [
    {
     "data": {
      "text/latex": [
       "$\\displaystyle 2.3283064365387 \\cdot 10^{-10} L_{s}^{4} R_{s} p^{2} - 1.16415321826935 \\cdot 10^{-10} L_{s}^{3} M_{sa}^{2} p^{3} + 2.3283064365387 \\cdot 10^{-10} L_{s}^{3} R_{s}^{2} p + L_{s}^{2} L_{pa}^{2} L_{pr} p^{5} + 394784.176043574 L_{s}^{2} L_{pa}^{2} L_{pr} p^{3} + L_{s}^{2} L_{pa}^{2} R_{r} p^{4} + 394784.176043574 L_{s}^{2} L_{pa}^{2} R_{r} p^{2} + 2 L_{s}^{2} L_{pa} L_{pr} R_{a} p^{4} + 789568.352087149 L_{s}^{2} L_{pa} L_{pr} R_{a} p^{2} - L_{s}^{2} L_{pa} M_{ra}^{2} p^{5} - 394784.176043574 L_{s}^{2} L_{pa} M_{ra}^{2} p^{3} - 1.16415321826935 \\cdot 10^{-10} L_{s}^{2} L_{pa} M_{sa}^{2} p^{3} + 2 L_{s}^{2} L_{pa} R_{a} R_{r} p^{3} + 789568.352087149 L_{s}^{2} L_{pa} R_{a} R_{r} p - 2.3283064365387 \\cdot 10^{-10} L_{s}^{2} L_{pr} M_{sa}^{2} p^{3} + L_{s}^{2} L_{pr} R_{a}^{2} p^{3} + 394784.176043574 L_{s}^{2} L_{pr} R_{a}^{2} p - L_{s}^{2} M_{ra}^{2} R_{a} p^{4} - 394784.176043574 L_{s}^{2} M_{ra}^{2} R_{a} p^{2} - 1.16415321826935 \\cdot 10^{-10} L_{s}^{2} M_{sa}^{2} R_{a} p^{2} - 2.3283064365387 \\cdot 10^{-10} L_{s}^{2} M_{sa}^{2} R_{r} p^{2} - 2.3283064365387 \\cdot 10^{-10} L_{s}^{2} M_{sa}^{2} R_{s} p^{2} + L_{s}^{2} R_{a}^{2} R_{r} p^{2} + 394784.176043574 L_{s}^{2} R_{a}^{2} R_{r} + 2 L_{s} L_{pa}^{2} L_{pr} R_{s} p^{4} - 1.5 L_{s} L_{pa}^{2} M_{sr}^{2} p^{5} - 592176.264065361 L_{s} L_{pa}^{2} M_{sr}^{2} p^{3} + 2 L_{s} L_{pa}^{2} R_{r} R_{s} p^{3} - 3.0 L_{s} L_{pa} L_{pr} M_{sa}^{2} p^{5} - 1184352.52813072 L_{s} L_{pa} L_{pr} M_{sa}^{2} p^{3} + 4 L_{s} L_{pa} L_{pr} R_{a} R_{s} p^{3} - 2 L_{s} L_{pa} M_{ra}^{2} R_{s} p^{4} + 3.0 L_{s} L_{pa} M_{ra} M_{sa} M_{sr} p^{5} + 1184352.52813072 L_{s} L_{pa} M_{ra} M_{sa} M_{sr} p^{3} - 3.0 L_{s} L_{pa} M_{sa}^{2} R_{r} p^{4} - 1184352.52813072 L_{s} L_{pa} M_{sa}^{2} R_{r} p^{2} - 2.3283064365387 \\cdot 10^{-10} L_{s} L_{pa} M_{sa}^{2} R_{s} p^{2} - 3.0 L_{s} L_{pa} M_{sr}^{2} R_{a} p^{4} - 1184352.52813072 L_{s} L_{pa} M_{sr}^{2} R_{a} p^{2} + 4 L_{s} L_{pa} R_{a} R_{r} R_{s} p^{2} - 3.0 L_{s} L_{pr} M_{sa}^{2} R_{a} p^{4} - 1184352.52813072 L_{s} L_{pr} M_{sa}^{2} R_{a} p^{2} + 2 L_{s} L_{pr} R_{a}^{2} R_{s} p^{2} + 1.5 L_{s} M_{ra}^{2} M_{sa}^{2} p^{5} + 592176.264065361 L_{s} M_{ra}^{2} M_{sa}^{2} p^{3} - 2 L_{s} M_{ra}^{2} R_{a} R_{s} p^{3} + 3.0 L_{s} M_{ra} M_{sa} M_{sr} R_{a} p^{4} + 1184352.52813072 L_{s} M_{ra} M_{sa} M_{sr} R_{a} p^{2} - 2.3283064365387 \\cdot 10^{-10} L_{s} M_{sa}^{4} p^{3} - 2.3283064365387 \\cdot 10^{-10} L_{s} M_{sa}^{2} M_{sr}^{2} p^{3} - 3.0 L_{s} M_{sa}^{2} R_{a} R_{r} p^{3} - 1184352.52813072 L_{s} M_{sa}^{2} R_{a} R_{r} p - 2.3283064365387 \\cdot 10^{-10} L_{s} M_{sa}^{2} R_{a} R_{s} p - 1.5 L_{s} M_{sr}^{2} R_{a}^{2} p^{3} - 592176.264065361 L_{s} M_{sr}^{2} R_{a}^{2} p + 2 L_{s} R_{a}^{2} R_{r} R_{s} p + L_{pa}^{2} L_{pr} R_{s}^{2} p^{3} - 1.5 L_{pa}^{2} M_{sr}^{2} R_{s} p^{4} + L_{pa}^{2} R_{r} R_{s}^{2} p^{2} - 3.0 L_{pa} L_{pr} M_{sa}^{2} R_{s} p^{4} + 2 L_{pa} L_{pr} R_{a} R_{s}^{2} p^{2} - L_{pa} M_{ra}^{2} R_{s}^{2} p^{3} + 3.0 L_{pa} M_{ra} M_{sa} M_{sr} R_{s} p^{4} + 2.25 L_{pa} M_{sa}^{2} M_{sr}^{2} p^{5} + 888264.396098042 L_{pa} M_{sa}^{2} M_{sr}^{2} p^{3} - 3.0 L_{pa} M_{sa}^{2} R_{r} R_{s} p^{3} - 3.0 L_{pa} M_{sr}^{2} R_{a} R_{s} p^{3} + 2 L_{pa} R_{a} R_{r} R_{s}^{2} p + 2.25 L_{pr} M_{sa}^{4} p^{5} + 888264.396098042 L_{pr} M_{sa}^{4} p^{3} - 3.0 L_{pr} M_{sa}^{2} R_{a} R_{s} p^{3} + L_{pr} R_{a}^{2} R_{s}^{2} p + 1.5 M_{ra}^{2} M_{sa}^{2} R_{s} p^{4} - M_{ra}^{2} R_{a} R_{s}^{2} p^{2} - 4.5 M_{ra} M_{sa}^{3} M_{sr} p^{5} - 1776528.79219608 M_{ra} M_{sa}^{3} M_{sr} p^{3} + 3.0 M_{ra} M_{sa} M_{sr} R_{a} R_{s} p^{3} + 2.25 M_{sa}^{4} R_{r} p^{4} + 888264.396098042 M_{sa}^{4} R_{r} p^{2} + 2.25 M_{sa}^{2} M_{sr}^{2} R_{a} p^{4} + 888264.396098042 M_{sa}^{2} M_{sr}^{2} R_{a} p^{2} - 3.0 M_{sa}^{2} R_{a} R_{r} R_{s} p^{2} - 1.5 M_{sr}^{2} R_{a}^{2} R_{s} p^{2} + R_{a}^{2} R_{r} R_{s}^{2}$"
      ],
      "text/plain": [
       "2.3283064365387e-10*L_s**4*R_s*p**2 - 1.16415321826935e-10*L_s**3*M_{sa}**2*p**3 + 2.3283064365387e-10*L_s**3*R_s**2*p + L_s**2*L_{pa}**2*L_{pr}*p**5 + 394784.176043574*L_s**2*L_{pa}**2*L_{pr}*p**3 + L_s**2*L_{pa}**2*R_r*p**4 + 394784.176043574*L_s**2*L_{pa}**2*R_r*p**2 + 2*L_s**2*L_{pa}*L_{pr}*R_a*p**4 + 789568.352087149*L_s**2*L_{pa}*L_{pr}*R_a*p**2 - L_s**2*L_{pa}*M_{ra}**2*p**5 - 394784.176043574*L_s**2*L_{pa}*M_{ra}**2*p**3 - 1.16415321826935e-10*L_s**2*L_{pa}*M_{sa}**2*p**3 + 2*L_s**2*L_{pa}*R_a*R_r*p**3 + 789568.352087149*L_s**2*L_{pa}*R_a*R_r*p - 2.3283064365387e-10*L_s**2*L_{pr}*M_{sa}**2*p**3 + L_s**2*L_{pr}*R_a**2*p**3 + 394784.176043574*L_s**2*L_{pr}*R_a**2*p - L_s**2*M_{ra}**2*R_a*p**4 - 394784.176043574*L_s**2*M_{ra}**2*R_a*p**2 - 1.16415321826935e-10*L_s**2*M_{sa}**2*R_a*p**2 - 2.3283064365387e-10*L_s**2*M_{sa}**2*R_r*p**2 - 2.3283064365387e-10*L_s**2*M_{sa}**2*R_s*p**2 + L_s**2*R_a**2*R_r*p**2 + 394784.176043574*L_s**2*R_a**2*R_r + 2*L_s*L_{pa}**2*L_{pr}*R_s*p**4 - 1.5*L_s*L_{pa}**2*M_{sr}**2*p**5 - 592176.264065361*L_s*L_{pa}**2*M_{sr}**2*p**3 + 2*L_s*L_{pa}**2*R_r*R_s*p**3 - 3.0*L_s*L_{pa}*L_{pr}*M_{sa}**2*p**5 - 1184352.52813072*L_s*L_{pa}*L_{pr}*M_{sa}**2*p**3 + 4*L_s*L_{pa}*L_{pr}*R_a*R_s*p**3 - 2*L_s*L_{pa}*M_{ra}**2*R_s*p**4 + 3.0*L_s*L_{pa}*M_{ra}*M_{sa}*M_{sr}*p**5 + 1184352.52813072*L_s*L_{pa}*M_{ra}*M_{sa}*M_{sr}*p**3 - 3.0*L_s*L_{pa}*M_{sa}**2*R_r*p**4 - 1184352.52813072*L_s*L_{pa}*M_{sa}**2*R_r*p**2 - 2.3283064365387e-10*L_s*L_{pa}*M_{sa}**2*R_s*p**2 - 3.0*L_s*L_{pa}*M_{sr}**2*R_a*p**4 - 1184352.52813072*L_s*L_{pa}*M_{sr}**2*R_a*p**2 + 4*L_s*L_{pa}*R_a*R_r*R_s*p**2 - 3.0*L_s*L_{pr}*M_{sa}**2*R_a*p**4 - 1184352.52813072*L_s*L_{pr}*M_{sa}**2*R_a*p**2 + 2*L_s*L_{pr}*R_a**2*R_s*p**2 + 1.5*L_s*M_{ra}**2*M_{sa}**2*p**5 + 592176.264065361*L_s*M_{ra}**2*M_{sa}**2*p**3 - 2*L_s*M_{ra}**2*R_a*R_s*p**3 + 3.0*L_s*M_{ra}*M_{sa}*M_{sr}*R_a*p**4 + 1184352.52813072*L_s*M_{ra}*M_{sa}*M_{sr}*R_a*p**2 - 2.3283064365387e-10*L_s*M_{sa}**4*p**3 - 2.3283064365387e-10*L_s*M_{sa}**2*M_{sr}**2*p**3 - 3.0*L_s*M_{sa}**2*R_a*R_r*p**3 - 1184352.52813072*L_s*M_{sa}**2*R_a*R_r*p - 2.3283064365387e-10*L_s*M_{sa}**2*R_a*R_s*p - 1.5*L_s*M_{sr}**2*R_a**2*p**3 - 592176.264065361*L_s*M_{sr}**2*R_a**2*p + 2*L_s*R_a**2*R_r*R_s*p + L_{pa}**2*L_{pr}*R_s**2*p**3 - 1.5*L_{pa}**2*M_{sr}**2*R_s*p**4 + L_{pa}**2*R_r*R_s**2*p**2 - 3.0*L_{pa}*L_{pr}*M_{sa}**2*R_s*p**4 + 2*L_{pa}*L_{pr}*R_a*R_s**2*p**2 - L_{pa}*M_{ra}**2*R_s**2*p**3 + 3.0*L_{pa}*M_{ra}*M_{sa}*M_{sr}*R_s*p**4 + 2.25*L_{pa}*M_{sa}**2*M_{sr}**2*p**5 + 888264.396098042*L_{pa}*M_{sa}**2*M_{sr}**2*p**3 - 3.0*L_{pa}*M_{sa}**2*R_r*R_s*p**3 - 3.0*L_{pa}*M_{sr}**2*R_a*R_s*p**3 + 2*L_{pa}*R_a*R_r*R_s**2*p + 2.25*L_{pr}*M_{sa}**4*p**5 + 888264.396098042*L_{pr}*M_{sa}**4*p**3 - 3.0*L_{pr}*M_{sa}**2*R_a*R_s*p**3 + L_{pr}*R_a**2*R_s**2*p + 1.5*M_{ra}**2*M_{sa}**2*R_s*p**4 - M_{ra}**2*R_a*R_s**2*p**2 - 4.5*M_{ra}*M_{sa}**3*M_{sr}*p**5 - 1776528.79219608*M_{ra}*M_{sa}**3*M_{sr}*p**3 + 3.0*M_{ra}*M_{sa}*M_{sr}*R_a*R_s*p**3 + 2.25*M_{sa}**4*R_r*p**4 + 888264.396098042*M_{sa}**4*R_r*p**2 + 2.25*M_{sa}**2*M_{sr}**2*R_a*p**4 + 888264.396098042*M_{sa}**2*M_{sr}**2*R_a*p**2 - 3.0*M_{sa}**2*R_a*R_r*R_s*p**2 - 1.5*M_{sr}**2*R_a**2*R_s*p**2 + R_a**2*R_r*R_s**2"
      ]
     },
     "metadata": {},
     "output_type": "display_data"
    },
    {
     "name": "stdout",
     "output_type": "stream",
     "text": [
      "5.94050000000537e-11*p**5 + 4.7519094999997e-7*p**4 + 0.000711041753977127*p**3 + 0.253934022337216*p**2 + 240.516149930749*p + 6294.12987370913\n",
      "\n",
      "Pôles du système:\n",
      "[-6148.05812551402, -1726.80511854320, -26.8754872169205, -48.7177903223674 - 607.428533092957*I, -48.7177903223674 + 607.428533092957*I]\n"
     ]
    },
    {
     "ename": "AttributeError",
     "evalue": "'Float' object has no attribute 'imag'",
     "output_type": "error",
     "traceback": [
      "\u001b[1;31m---------------------------------------------------------------------------\u001b[0m",
      "\u001b[1;31mAttributeError\u001b[0m                            Traceback (most recent call last)",
      "\u001b[1;32m~\\AppData\\Local\\Temp/ipykernel_3776/365245453.py\u001b[0m in \u001b[0;36m<module>\u001b[1;34m\u001b[0m\n\u001b[0;32m     26\u001b[0m \u001b[0mtime_constants\u001b[0m \u001b[1;33m=\u001b[0m \u001b[1;33m[\u001b[0m\u001b[1;33m]\u001b[0m\u001b[1;33m\u001b[0m\u001b[1;33m\u001b[0m\u001b[0m\n\u001b[0;32m     27\u001b[0m \u001b[1;32mfor\u001b[0m \u001b[0mpole\u001b[0m \u001b[1;32min\u001b[0m \u001b[0mpoles\u001b[0m\u001b[1;33m:\u001b[0m\u001b[1;33m\u001b[0m\u001b[1;33m\u001b[0m\u001b[0m\n\u001b[1;32m---> 28\u001b[1;33m     \u001b[1;32mif\u001b[0m \u001b[0mabs\u001b[0m\u001b[1;33m(\u001b[0m\u001b[0mpole\u001b[0m\u001b[1;33m.\u001b[0m\u001b[0mimag\u001b[0m\u001b[1;33m)\u001b[0m \u001b[1;33m<\u001b[0m \u001b[1;36m1e-10\u001b[0m\u001b[1;33m:\u001b[0m  \u001b[1;31m# Pôle réel\u001b[0m\u001b[1;33m\u001b[0m\u001b[1;33m\u001b[0m\u001b[0m\n\u001b[0m\u001b[0;32m     29\u001b[0m         \u001b[0mtau\u001b[0m \u001b[1;33m=\u001b[0m \u001b[1;33m-\u001b[0m\u001b[1;36m1\u001b[0m\u001b[1;33m/\u001b[0m\u001b[0mpole\u001b[0m\u001b[1;33m.\u001b[0m\u001b[0mreal\u001b[0m\u001b[1;33m\u001b[0m\u001b[1;33m\u001b[0m\u001b[0m\n\u001b[0;32m     30\u001b[0m         \u001b[0mtime_constants\u001b[0m\u001b[1;33m.\u001b[0m\u001b[0mappend\u001b[0m\u001b[1;33m(\u001b[0m\u001b[0mtau\u001b[0m\u001b[1;33m)\u001b[0m\u001b[1;33m\u001b[0m\u001b[1;33m\u001b[0m\u001b[0m\n",
      "\u001b[1;31mAttributeError\u001b[0m: 'Float' object has no attribute 'imag'"
     ]
    }
   ],
   "source": [
    "\n",
    "# Extraction des coefficients du polynôme dénominateur\n",
    "den_poly = detM\n",
    "display(detM)\n",
    "\n",
    "den_poly = den_poly.subs({\n",
    "    Rs: Rs_val, \n",
    "    Ls: Ls_val, \n",
    "    Rr: Rr_val, \n",
    "    Lpr: Lpr_val, \n",
    "    Ra: Ra_val, \n",
    "    Lpa: Lpa_val, \n",
    "    Mra: Mra_val, \n",
    "    Msr: Msr_val, \n",
    "    Msa: Msa_val\n",
    "})\n",
    "print(den_poly)\n",
    "poles=sp.solve(den_poly,p)\n",
    "\n",
    "\n",
    "\n",
    "print(\"\\nPôles du système:\")\n",
    "print(poles)\n",
    "\n",
    "# Analyse des propriétés de la réponse indicielle\n",
    "# Calcul des constantes de temps pour les pôles réels\n",
    "time_constants = []\n",
    "for pole in poles:\n",
    "    if abs(pole.imag) < 1e-10:  # Pôle réel\n",
    "        tau = -1/pole.real\n",
    "        time_constants.append(tau)\n",
    "        print(f\"Constante de temps τ = {tau:.6f} s (pôle réel)\")\n",
    "    else:  # Pôle complexe\n",
    "        zeta = -pole.real / np.sqrt(pole.real**2 + pole.imag**2)\n",
    "        omega_n = np.sqrt(pole.real**2 + pole.imag**2)\n",
    "        print(f\"Amortissement ζ = {zeta:.6f}, Pulsation propre ωn = {omega_n:.6f} rad/s (pôle complexe)\")\n",
    "\n",
    "# Détermination du temps d'observation et de la période d'échantillonnage\n",
    "if time_constants:\n",
    "    tau_max = max(time_constants)\n",
    "    tau_min = min(time_constants)\n",
    "    T_OBS = 5 * tau_max\n",
    "    T_e = tau_min / 20\n",
    "else:\n",
    "    # Si pas de pôles réels, utiliser les pôles complexes\n",
    "    zeta_min = min([-pole.real / np.sqrt(pole.real**2 + pole.imag**2) for pole in poles if abs(pole.imag) > 1e-10])\n",
    "    omega_n_min = min([np.sqrt(pole.real**2 + pole.imag**2) for pole in poles if abs(pole.imag) > 1e-10])\n",
    "    T_OBS = 5 / (zeta_min * omega_n_min)\n",
    "    T_e = 0.1 / omega_n_min\n",
    "\n",
    "print(f\"\\nTemps d'observation recommandé: T_OBS = {T_OBS:.6f} s\")\n",
    "print(f\"Période d'échantillonnage recommandée: T_e = {T_e:.6f} s\\n\")"
   ]
  },
  {
   "cell_type": "code",
   "execution_count": null,
   "metadata": {},
   "outputs": [],
   "source": []
  }
 ],
 "metadata": {
  "kernelspec": {
   "display_name": "Python 3 (ipykernel)",
   "language": "python",
   "name": "python3"
  },
  "language_info": {
   "codemirror_mode": {
    "name": "ipython",
    "version": 3
   },
   "file_extension": ".py",
   "mimetype": "text/x-python",
   "name": "python",
   "nbconvert_exporter": "python",
   "pygments_lexer": "ipython3",
   "version": "3.11.2"
  }
 },
 "nbformat": 4,
 "nbformat_minor": 4
}
